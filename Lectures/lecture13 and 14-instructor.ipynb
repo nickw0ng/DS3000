{
 "cells": [
  {
   "cell_type": "markdown",
   "id": "6b8030a9",
   "metadata": {},
   "source": [
    "# DS3000 Lecture 13 and 14\n",
    "\n",
    "### Admin: \n",
    "- Homework 7 posted on Thursday and due on Sunday\n",
    "- Quiz 2 for the weekend\n",
    "\n",
    "### Content:\n",
    "- Classification and Regression\n",
    "- Meaningful Distances and cross validation\n",
    "- KNN \n",
    "- New module we need to use 'sklearn'"
   ]
  },
  {
   "cell_type": "code",
   "execution_count": 31,
   "id": "f3fd9835-2e29-46ad-9f65-cfba447949cf",
   "metadata": {},
   "outputs": [],
   "source": [
    "#pip install scikit-learn\n",
    "import sklearn"
   ]
  },
  {
   "cell_type": "markdown",
   "id": "2b972450-5701-4f49-ac7f-52d56a2baab5",
   "metadata": {},
   "source": [
    "## Organizing a data analysis project\n",
    "\n",
    "What do we need to know about a data\n",
    "\n",
    "- Introduction\n",
    "  - Background (research question, why it is important or interesting)\n",
    "  - Previous study\n",
    "- Data\n",
    "  - Source (where, do you collect it or scrap it aor find it) and format (csv or database or text)\n",
    "  - Data size and features (numerical or categorical)\n",
    "  - What is your target\n",
    "  - EDA (make some data visualizations and interpret/guess the potential relationship between target and features)\n",
    "- Model\n",
    "    - Metrics\n",
    "    - Model results\n",
    "- Discussion\n",
    "    - interpret the results\n",
    "    - potential future works"
   ]
  },
  {
   "cell_type": "markdown",
   "id": "69713261",
   "metadata": {},
   "source": [
    "## ML overview\n",
    "|                          | Input Features per sample | Output Features per sample | Supervised | Penguin Example                                                                       |\n",
    "|:------------------------:|:-------------------------:|:--------------------------:|:----------:|---------------------------------------------------------------------------------------|\n",
    "|           Classification | 1+ numerical features     | one categorical feature    | True       | Given `body_weight_g`, `flipper_length_mm` estimate `species`                         |\n",
    "|               Regression | 1+ numerical features     | one continuous feature     | True       | Given `body_weight_g`, `bill_depth_mm` estimate `flipper_length_mm`                   |\n",
    "|               Clustering | 1+ numerical features     | one categorical feature    | False      | Identify k groups of penguins which have similar `body_weight_g`, `flipper_length_mm` |\n",
    "| Dimensionality Reduction | N numerical features      | < N numerical features     | False      | Find 2d vector which best represents all 4 of penguin's body/flipper/beak features    |"
   ]
  },
  {
   "cell_type": "markdown",
   "id": "449bdac8-0145-47ae-b71e-aa0b2660ee2a",
   "metadata": {},
   "source": [
    "## Classification\n",
    "\n",
    "- How can I decide whether two observations are in the same group? - Similarity?\n",
    "- Apply some models/algorithm\n",
    "- How to evaluate my classificaiton? "
   ]
  },
  {
   "cell_type": "markdown",
   "id": "3a4f062e-dafb-46b0-928c-5df0e1384c28",
   "metadata": {},
   "source": [
    "### Distances between samples\n",
    "Many ML tools require that these vectors have meaningful distances between them.  \n",
    "- A pair of samples with a large distance between them are considered different\n",
    "- A pair of samples with a small distance between them are considered similar\n",
    "\n",
    "Computing (the $\\ell_2$, or Euclidean) distance between two vectors $x = \\begin{bmatrix} x_1 \\\\ x_2 \\end{bmatrix}$ and $x' = \\begin{bmatrix} x_1' \\\\ x_2' \\end{bmatrix}$:\n",
    "\n",
    "$$||x - x'||_2 = \\sqrt{\\sum_i (x_i - x_i')^2}$$\n",
    "\n",
    "In words, to compute the distance between two vectors:\n",
    "- we square the differences of each element\n",
    "- add these values together\n",
    "- compute the square root of this sum\n",
    "\n",
    "How similar is penguin0 to penguin1?"
   ]
  },
  {
   "cell_type": "code",
   "execution_count": 33,
   "id": "1e6c25f1-95cb-4fe9-9ade-5670fc966840",
   "metadata": {},
   "outputs": [
    {
     "data": {
      "text/plain": [
       "species                 Adelie\n",
       "island               Torgersen\n",
       "bill_length_mm            39.1\n",
       "bill_depth_mm             18.7\n",
       "flipper_length_mm        181.0\n",
       "body_mass_g             3750.0\n",
       "sex                       Male\n",
       "Name: 0, dtype: object"
      ]
     },
     "execution_count": 33,
     "metadata": {},
     "output_type": "execute_result"
    }
   ],
   "source": [
    "import seaborn as sns\n",
    "\n",
    "df_penguins = sns.load_dataset('penguins')\n",
    "penguin0 = df_penguins.iloc[0,:]\n",
    "penguin0"
   ]
  },
  {
   "cell_type": "code",
   "execution_count": 34,
   "id": "18cded22-6917-4cdc-b89c-bd1688799417",
   "metadata": {},
   "outputs": [
    {
     "data": {
      "text/plain": [
       "species                 Adelie\n",
       "island               Torgersen\n",
       "bill_length_mm            39.5\n",
       "bill_depth_mm             17.4\n",
       "flipper_length_mm        186.0\n",
       "body_mass_g             3800.0\n",
       "sex                     Female\n",
       "Name: 1, dtype: object"
      ]
     },
     "execution_count": 34,
     "metadata": {},
     "output_type": "execute_result"
    }
   ],
   "source": [
    "penguin1 = df_penguins.iloc[1,:]\n",
    "penguin1"
   ]
  },
  {
   "cell_type": "code",
   "execution_count": 35,
   "id": "507ea34e-4a2e-4165-88b3-472b11d92c40",
   "metadata": {},
   "outputs": [
    {
     "data": {
      "text/plain": [
       "50.26778292306117"
      ]
     },
     "execution_count": 35,
     "metadata": {},
     "output_type": "execute_result"
    }
   ],
   "source": [
    "((39.1-39.5)**2 + (18.7-17.4)**2 + (181 - 186)**2 + (3750 - 3800)**2)**0.5"
   ]
  },
  {
   "cell_type": "markdown",
   "id": "ee79c391-6943-401a-a9b0-6021422b7e89",
   "metadata": {},
   "source": [
    "In and of itself, this distance isn't too insightful ... the penguins are 50 ?unit? apart?  The value becomes more useful when compared to other distances.  Is penguin 1 more similar to penguin 0 or penguin 2?"
   ]
  },
  {
   "cell_type": "code",
   "execution_count": 42,
   "id": "8b529ced-0c9c-441a-9c8c-fb697bf00491",
   "metadata": {},
   "outputs": [
    {
     "name": "stdout",
     "output_type": "stream",
     "text": [
      "distance between penguin0 and penguin 1 :50.268\n",
      "distance between penguin1 and penguin 2: 550.075\n"
     ]
    }
   ],
   "source": [
    "import numpy as np \n",
    "import pandas as pd\n",
    "\n",
    "df_penguins_num = df_penguins.iloc[:, 2:6]\n",
    "df_penguins_num\n",
    "\n",
    "vec_penguin0 = np.array(df_penguins_num.iloc[0, :])\n",
    "vec_penguin1 = np.array(df_penguins_num.iloc[1, :])\n",
    "vec_penguin2 = np.array(df_penguins_num.iloc[2, :])\n",
    "\n",
    "l2_distance_0and1 = np.linalg.norm(vec_penguin0 - vec_penguin1)\n",
    "l2_distance_1and2 = np.linalg.norm(vec_penguin1 - vec_penguin2)\n",
    "\n",
    "print(f'distance between penguin0 and penguin 1 :{l2_distance_0and1:.3f}')\n",
    "print(f'distance between penguin1 and penguin 2: {l2_distance_1and2:.3f}')"
   ]
  },
  {
   "cell_type": "markdown",
   "id": "33694246-6bb2-466a-8bf7-c6976198fa9a",
   "metadata": {},
   "source": [
    "Yes, I do see 50 << 550. Can I make my conclusion penguin1 is more similar to penguin0 compare to penguin 2?"
   ]
  },
  {
   "cell_type": "code",
   "execution_count": 43,
   "id": "f56337c8-cea6-450d-9e16-f8d706ad4ad1",
   "metadata": {},
   "outputs": [
    {
     "data": {
      "text/plain": [
       "array([ -0.4,   1.3,  -5. , -50. ])"
      ]
     },
     "execution_count": 43,
     "metadata": {},
     "output_type": "execute_result"
    }
   ],
   "source": [
    "vec_penguin0 - vec_penguin1"
   ]
  },
  {
   "cell_type": "code",
   "execution_count": 44,
   "id": "b7568c6a-aa77-4fe4-853f-8c299b89b24b",
   "metadata": {},
   "outputs": [
    {
     "data": {
      "text/plain": [
       "array([ -0.8,  -0.6,  -9. , 550. ])"
      ]
     },
     "execution_count": 44,
     "metadata": {},
     "output_type": "execute_result"
    }
   ],
   "source": [
    "vec_penguin1 - vec_penguin2"
   ]
  },
  {
   "cell_type": "markdown",
   "id": "ae9fd01f-fd08-4749-81e6-8e1bcb1d6c6a",
   "metadata": {},
   "source": [
    "## Big Idea 1: Distances assume that a change of 1 unit (in any feature) is equally significant\n",
    "\n",
    "What if we measured the body mass of the penguin in a different unit?"
   ]
  },
  {
   "cell_type": "code",
   "execution_count": 46,
   "id": "e44d9941-9dac-4bb4-af15-7fad90274ff6",
   "metadata": {},
   "outputs": [
    {
     "data": {
      "text/html": [
       "<div>\n",
       "<style scoped>\n",
       "    .dataframe tbody tr th:only-of-type {\n",
       "        vertical-align: middle;\n",
       "    }\n",
       "\n",
       "    .dataframe tbody tr th {\n",
       "        vertical-align: top;\n",
       "    }\n",
       "\n",
       "    .dataframe thead th {\n",
       "        text-align: right;\n",
       "    }\n",
       "</style>\n",
       "<table border=\"1\" class=\"dataframe\">\n",
       "  <thead>\n",
       "    <tr style=\"text-align: right;\">\n",
       "      <th></th>\n",
       "      <th>bill_length_mm</th>\n",
       "      <th>bill_depth_mm</th>\n",
       "      <th>flipper_length_mm</th>\n",
       "      <th>body_mass_kg</th>\n",
       "    </tr>\n",
       "  </thead>\n",
       "  <tbody>\n",
       "    <tr>\n",
       "      <th>0</th>\n",
       "      <td>39.1</td>\n",
       "      <td>18.7</td>\n",
       "      <td>181.0</td>\n",
       "      <td>3.75</td>\n",
       "    </tr>\n",
       "    <tr>\n",
       "      <th>1</th>\n",
       "      <td>39.5</td>\n",
       "      <td>17.4</td>\n",
       "      <td>186.0</td>\n",
       "      <td>3.80</td>\n",
       "    </tr>\n",
       "    <tr>\n",
       "      <th>2</th>\n",
       "      <td>40.3</td>\n",
       "      <td>18.0</td>\n",
       "      <td>195.0</td>\n",
       "      <td>3.25</td>\n",
       "    </tr>\n",
       "    <tr>\n",
       "      <th>3</th>\n",
       "      <td>NaN</td>\n",
       "      <td>NaN</td>\n",
       "      <td>NaN</td>\n",
       "      <td>NaN</td>\n",
       "    </tr>\n",
       "    <tr>\n",
       "      <th>4</th>\n",
       "      <td>36.7</td>\n",
       "      <td>19.3</td>\n",
       "      <td>193.0</td>\n",
       "      <td>3.45</td>\n",
       "    </tr>\n",
       "  </tbody>\n",
       "</table>\n",
       "</div>"
      ],
      "text/plain": [
       "   bill_length_mm  bill_depth_mm  flipper_length_mm  body_mass_kg\n",
       "0            39.1           18.7              181.0          3.75\n",
       "1            39.5           17.4              186.0          3.80\n",
       "2            40.3           18.0              195.0          3.25\n",
       "3             NaN            NaN                NaN           NaN\n",
       "4            36.7           19.3              193.0          3.45"
      ]
     },
     "execution_count": 46,
     "metadata": {},
     "output_type": "execute_result"
    }
   ],
   "source": [
    "# replace body_mass_g with body_mass_kg\n",
    "df_penguins_num['body_mass_kg'] = df_penguins_num['body_mass_g']/1000\n",
    "del df_penguins_num['body_mass_g']\n",
    "\n",
    "df_penguins_num.head()"
   ]
  },
  {
   "cell_type": "code",
   "execution_count": 47,
   "id": "0550394c-309e-4739-8935-5cba8b0cf2c1",
   "metadata": {},
   "outputs": [
    {
     "name": "stdout",
     "output_type": "stream",
     "text": [
      "distance between penguin0 and penguin 1 :5.182\n",
      "distance between penguin1 and penguin 2: 9.072\n"
     ]
    }
   ],
   "source": [
    "vec_penguin0 = np.array(df_penguins_num.iloc[0, :])\n",
    "vec_penguin1 = np.array(df_penguins_num.iloc[1, :])\n",
    "vec_penguin2 = np.array(df_penguins_num.iloc[2, :])\n",
    "\n",
    "l2_distance_0and1 = np.linalg.norm(vec_penguin0 - vec_penguin1)\n",
    "l2_distance_1and2 = np.linalg.norm(vec_penguin1 - vec_penguin2)\n",
    "\n",
    "print(f'distance between penguin0 and penguin 1 :{l2_distance_0and1:.3f}')\n",
    "print(f'distance between penguin1 and penguin 2: {l2_distance_1and2:.3f}')"
   ]
  },
  {
   "cell_type": "markdown",
   "id": "9fdd7a02-a965-4531-8458-eb002519e615",
   "metadata": {},
   "source": [
    "- **Distances assume that a change of 1 unit (in any feature) is equally significant**\n",
    "- **Distances implicitly weight how important each feature is relative to others according to its variance**\n",
    "    - a feature with a higher variance is responsible for more of the distances\n",
    "    \n",
    "To wrap all the different features into a single distance we must say *something* about how important one feature is compared to another.  "
   ]
  },
  {
   "cell_type": "code",
   "execution_count": 48,
   "id": "a17840ec-337c-4c77-b232-5f1bb6bae933",
   "metadata": {},
   "outputs": [
    {
     "data": {
      "text/plain": [
       "bill_length_mm        5.459584\n",
       "bill_depth_mm         1.974793\n",
       "flipper_length_mm    14.061714\n",
       "body_mass_kg          0.801955\n",
       "dtype: float64"
      ]
     },
     "execution_count": 48,
     "metadata": {},
     "output_type": "execute_result"
    }
   ],
   "source": [
    "df_penguins_num.std()"
   ]
  },
  {
   "cell_type": "markdown",
   "id": "64390960-90ae-4a03-9b48-47afdd03c189",
   "metadata": {},
   "source": [
    "### Scale Normalization:\n",
    "How to scale your features so that they're equally important in our distance metric:\n",
    "\n",
    "- standard scaling: for each value, minus the average and then divided by the std\n",
    "- min-max scaling: for each value, minus the min and then divided by the max"
   ]
  },
  {
   "cell_type": "code",
   "execution_count": 51,
   "id": "ffdccf9a-a683-4b5f-a9c3-e477b4c7725e",
   "metadata": {},
   "outputs": [
    {
     "data": {
      "text/html": [
       "<div>\n",
       "<style scoped>\n",
       "    .dataframe tbody tr th:only-of-type {\n",
       "        vertical-align: middle;\n",
       "    }\n",
       "\n",
       "    .dataframe tbody tr th {\n",
       "        vertical-align: top;\n",
       "    }\n",
       "\n",
       "    .dataframe thead th {\n",
       "        text-align: right;\n",
       "    }\n",
       "</style>\n",
       "<table border=\"1\" class=\"dataframe\">\n",
       "  <thead>\n",
       "    <tr style=\"text-align: right;\">\n",
       "      <th></th>\n",
       "      <th>bill_length_mm_scaled</th>\n",
       "      <th>bill_depth_mm_scaled</th>\n",
       "      <th>flipper_length_mm_scaled</th>\n",
       "      <th>body_mass_kg_scaled</th>\n",
       "    </tr>\n",
       "  </thead>\n",
       "  <tbody>\n",
       "    <tr>\n",
       "      <th>0</th>\n",
       "      <td>7.161718</td>\n",
       "      <td>9.469346</td>\n",
       "      <td>12.871831</td>\n",
       "      <td>4.676076</td>\n",
       "    </tr>\n",
       "    <tr>\n",
       "      <th>1</th>\n",
       "      <td>7.234984</td>\n",
       "      <td>8.811049</td>\n",
       "      <td>13.227406</td>\n",
       "      <td>4.738423</td>\n",
       "    </tr>\n",
       "    <tr>\n",
       "      <th>2</th>\n",
       "      <td>7.381515</td>\n",
       "      <td>9.114879</td>\n",
       "      <td>13.867442</td>\n",
       "      <td>4.052599</td>\n",
       "    </tr>\n",
       "    <tr>\n",
       "      <th>3</th>\n",
       "      <td>NaN</td>\n",
       "      <td>NaN</td>\n",
       "      <td>NaN</td>\n",
       "      <td>NaN</td>\n",
       "    </tr>\n",
       "    <tr>\n",
       "      <th>4</th>\n",
       "      <td>6.722124</td>\n",
       "      <td>9.773175</td>\n",
       "      <td>13.725212</td>\n",
       "      <td>4.301990</td>\n",
       "    </tr>\n",
       "  </tbody>\n",
       "</table>\n",
       "</div>"
      ],
      "text/plain": [
       "   bill_length_mm_scaled  bill_depth_mm_scaled  flipper_length_mm_scaled  \\\n",
       "0               7.161718              9.469346                 12.871831   \n",
       "1               7.234984              8.811049                 13.227406   \n",
       "2               7.381515              9.114879                 13.867442   \n",
       "3                    NaN                   NaN                       NaN   \n",
       "4               6.722124              9.773175                 13.725212   \n",
       "\n",
       "   body_mass_kg_scaled  \n",
       "0             4.676076  \n",
       "1             4.738423  \n",
       "2             4.052599  \n",
       "3                  NaN  \n",
       "4             4.301990  "
      ]
     },
     "execution_count": 51,
     "metadata": {},
     "output_type": "execute_result"
    }
   ],
   "source": [
    "df_penguins_num_scaled = pd.DataFrame()\n",
    "\n",
    "for feat in df_penguins_num.columns:\n",
    "    df_penguins_num_scaled[f'{feat}_scaled'] = df_penguins_num[feat] / df_penguins_num[feat].std()\n",
    "\n",
    "df_penguins_num_scaled.head()"
   ]
  },
  {
   "cell_type": "code",
   "execution_count": 53,
   "id": "1f77ca85-76f8-455c-977b-c680911b8e84",
   "metadata": {},
   "outputs": [
    {
     "data": {
      "text/plain": [
       "bill_length_mm_scaled       1.0\n",
       "bill_depth_mm_scaled        1.0\n",
       "flipper_length_mm_scaled    1.0\n",
       "body_mass_kg_scaled         1.0\n",
       "dtype: float64"
      ]
     },
     "execution_count": 53,
     "metadata": {},
     "output_type": "execute_result"
    }
   ],
   "source": [
    "df_penguins_num_scaled.std()"
   ]
  },
  {
   "cell_type": "code",
   "execution_count": 55,
   "id": "13eb7601-b4f5-47de-a8f8-a8b8ed7f73c3",
   "metadata": {},
   "outputs": [
    {
     "data": {
      "text/html": [
       "<div>\n",
       "<style scoped>\n",
       "    .dataframe tbody tr th:only-of-type {\n",
       "        vertical-align: middle;\n",
       "    }\n",
       "\n",
       "    .dataframe tbody tr th {\n",
       "        vertical-align: top;\n",
       "    }\n",
       "\n",
       "    .dataframe thead th {\n",
       "        text-align: right;\n",
       "    }\n",
       "</style>\n",
       "<table border=\"1\" class=\"dataframe\">\n",
       "  <thead>\n",
       "    <tr style=\"text-align: right;\">\n",
       "      <th></th>\n",
       "      <th>bill_length_scaled</th>\n",
       "      <th>bill_depth_scaled</th>\n",
       "      <th>flipper_length_scaled</th>\n",
       "      <th>body_mass_scaled</th>\n",
       "    </tr>\n",
       "  </thead>\n",
       "  <tbody>\n",
       "    <tr>\n",
       "      <th>0</th>\n",
       "      <td>7.161718</td>\n",
       "      <td>9.469346</td>\n",
       "      <td>12.871831</td>\n",
       "      <td>4.676076</td>\n",
       "    </tr>\n",
       "    <tr>\n",
       "      <th>1</th>\n",
       "      <td>7.234984</td>\n",
       "      <td>8.811049</td>\n",
       "      <td>13.227406</td>\n",
       "      <td>4.738423</td>\n",
       "    </tr>\n",
       "    <tr>\n",
       "      <th>2</th>\n",
       "      <td>7.381515</td>\n",
       "      <td>9.114879</td>\n",
       "      <td>13.867442</td>\n",
       "      <td>4.052599</td>\n",
       "    </tr>\n",
       "    <tr>\n",
       "      <th>3</th>\n",
       "      <td>NaN</td>\n",
       "      <td>NaN</td>\n",
       "      <td>NaN</td>\n",
       "      <td>NaN</td>\n",
       "    </tr>\n",
       "    <tr>\n",
       "      <th>4</th>\n",
       "      <td>6.722124</td>\n",
       "      <td>9.773175</td>\n",
       "      <td>13.725212</td>\n",
       "      <td>4.301990</td>\n",
       "    </tr>\n",
       "    <tr>\n",
       "      <th>...</th>\n",
       "      <td>...</td>\n",
       "      <td>...</td>\n",
       "      <td>...</td>\n",
       "      <td>...</td>\n",
       "    </tr>\n",
       "    <tr>\n",
       "      <th>339</th>\n",
       "      <td>NaN</td>\n",
       "      <td>NaN</td>\n",
       "      <td>NaN</td>\n",
       "      <td>NaN</td>\n",
       "    </tr>\n",
       "    <tr>\n",
       "      <th>340</th>\n",
       "      <td>8.572082</td>\n",
       "      <td>7.241265</td>\n",
       "      <td>15.289744</td>\n",
       "      <td>6.047724</td>\n",
       "    </tr>\n",
       "    <tr>\n",
       "      <th>341</th>\n",
       "      <td>9.231473</td>\n",
       "      <td>7.950200</td>\n",
       "      <td>15.787549</td>\n",
       "      <td>7.169983</td>\n",
       "    </tr>\n",
       "    <tr>\n",
       "      <th>342</th>\n",
       "      <td>8.279019</td>\n",
       "      <td>7.494456</td>\n",
       "      <td>15.076399</td>\n",
       "      <td>6.484158</td>\n",
       "    </tr>\n",
       "    <tr>\n",
       "      <th>343</th>\n",
       "      <td>9.139891</td>\n",
       "      <td>8.152753</td>\n",
       "      <td>15.147514</td>\n",
       "      <td>6.733549</td>\n",
       "    </tr>\n",
       "  </tbody>\n",
       "</table>\n",
       "<p>344 rows × 4 columns</p>\n",
       "</div>"
      ],
      "text/plain": [
       "     bill_length_scaled  bill_depth_scaled  flipper_length_scaled  \\\n",
       "0              7.161718           9.469346              12.871831   \n",
       "1              7.234984           8.811049              13.227406   \n",
       "2              7.381515           9.114879              13.867442   \n",
       "3                   NaN                NaN                    NaN   \n",
       "4              6.722124           9.773175              13.725212   \n",
       "..                  ...                ...                    ...   \n",
       "339                 NaN                NaN                    NaN   \n",
       "340            8.572082           7.241265              15.289744   \n",
       "341            9.231473           7.950200              15.787549   \n",
       "342            8.279019           7.494456              15.076399   \n",
       "343            9.139891           8.152753              15.147514   \n",
       "\n",
       "     body_mass_scaled  \n",
       "0            4.676076  \n",
       "1            4.738423  \n",
       "2            4.052599  \n",
       "3                 NaN  \n",
       "4            4.301990  \n",
       "..                ...  \n",
       "339               NaN  \n",
       "340          6.047724  \n",
       "341          7.169983  \n",
       "342          6.484158  \n",
       "343          6.733549  \n",
       "\n",
       "[344 rows x 4 columns]"
      ]
     },
     "execution_count": 55,
     "metadata": {},
     "output_type": "execute_result"
    }
   ],
   "source": [
    "df_penguins_num_scaled.columns = ['bill_length_scaled', 'bill_depth_scaled',\n",
    "                                'flipper_length_scaled', 'body_mass_scaled']\n",
    "df_penguins_num_scaled"
   ]
  },
  {
   "cell_type": "markdown",
   "id": "7b49a717-c79c-4be3-9551-812368084d51",
   "metadata": {},
   "source": [
    "Or, a black box version, the more commonly used one: "
   ]
  },
  {
   "cell_type": "code",
   "execution_count": 59,
   "id": "42a1dc55-75c7-4aba-b0bd-5a226c4c0cc5",
   "metadata": {},
   "outputs": [
    {
     "data": {
      "text/html": [
       "<div>\n",
       "<style scoped>\n",
       "    .dataframe tbody tr th:only-of-type {\n",
       "        vertical-align: middle;\n",
       "    }\n",
       "\n",
       "    .dataframe tbody tr th {\n",
       "        vertical-align: top;\n",
       "    }\n",
       "\n",
       "    .dataframe thead th {\n",
       "        text-align: right;\n",
       "    }\n",
       "</style>\n",
       "<table border=\"1\" class=\"dataframe\">\n",
       "  <thead>\n",
       "    <tr style=\"text-align: right;\">\n",
       "      <th></th>\n",
       "      <th>bill_length_scaled</th>\n",
       "      <th>bill_depth_scaled</th>\n",
       "      <th>flipper_length_scaled</th>\n",
       "      <th>body_mass_scaled</th>\n",
       "    </tr>\n",
       "  </thead>\n",
       "  <tbody>\n",
       "    <tr>\n",
       "      <th>0</th>\n",
       "      <td>-0.884499</td>\n",
       "      <td>0.785449</td>\n",
       "      <td>-1.418347</td>\n",
       "      <td>-0.564142</td>\n",
       "    </tr>\n",
       "    <tr>\n",
       "      <th>1</th>\n",
       "      <td>-0.811126</td>\n",
       "      <td>0.126188</td>\n",
       "      <td>-1.062250</td>\n",
       "      <td>-0.501703</td>\n",
       "    </tr>\n",
       "    <tr>\n",
       "      <th>2</th>\n",
       "      <td>-0.664380</td>\n",
       "      <td>0.430462</td>\n",
       "      <td>-0.421277</td>\n",
       "      <td>-1.188532</td>\n",
       "    </tr>\n",
       "    <tr>\n",
       "      <th>3</th>\n",
       "      <td>NaN</td>\n",
       "      <td>NaN</td>\n",
       "      <td>NaN</td>\n",
       "      <td>NaN</td>\n",
       "    </tr>\n",
       "    <tr>\n",
       "      <th>4</th>\n",
       "      <td>-1.324737</td>\n",
       "      <td>1.089724</td>\n",
       "      <td>-0.563715</td>\n",
       "      <td>-0.938776</td>\n",
       "    </tr>\n",
       "  </tbody>\n",
       "</table>\n",
       "</div>"
      ],
      "text/plain": [
       "   bill_length_scaled  bill_depth_scaled  flipper_length_scaled  \\\n",
       "0           -0.884499           0.785449              -1.418347   \n",
       "1           -0.811126           0.126188              -1.062250   \n",
       "2           -0.664380           0.430462              -0.421277   \n",
       "3                 NaN                NaN                    NaN   \n",
       "4           -1.324737           1.089724              -0.563715   \n",
       "\n",
       "   body_mass_scaled  \n",
       "0         -0.564142  \n",
       "1         -0.501703  \n",
       "2         -1.188532  \n",
       "3               NaN  \n",
       "4         -0.938776  "
      ]
     },
     "execution_count": 59,
     "metadata": {},
     "output_type": "execute_result"
    }
   ],
   "source": [
    "from sklearn.preprocessing import StandardScaler\n",
    "\n",
    "scaler = StandardScaler()\n",
    "df_penguins_num_scaled = scaler.fit_transform(df_penguins_num)\n",
    "\n",
    "df_penguins_num_scaled = pd.DataFrame(df_penguins_num_scaled)\n",
    "\n",
    "df_penguins_num_scaled.columns = ['bill_length_scaled', 'bill_depth_scaled',\n",
    "                                'flipper_length_scaled', 'body_mass_scaled']\n",
    "df_penguins_num_scaled.head()"
   ]
  },
  {
   "cell_type": "code",
   "execution_count": 60,
   "id": "85a3a927-4b58-441c-aba5-f2add37d6ad2",
   "metadata": {},
   "outputs": [
    {
     "data": {
      "text/plain": [
       "bill_length_scaled       1.001465\n",
       "bill_depth_scaled        1.001465\n",
       "flipper_length_scaled    1.001465\n",
       "body_mass_scaled         1.001465\n",
       "dtype: float64"
      ]
     },
     "execution_count": 60,
     "metadata": {},
     "output_type": "execute_result"
    }
   ],
   "source": [
    "df_penguins_num_scaled.std()"
   ]
  },
  {
   "cell_type": "markdown",
   "id": "a8046775-b18f-4c85-95ff-a8e89ac1ae38",
   "metadata": {},
   "source": [
    "### Exercise 1\n",
    "\n",
    "Quantitatively, which pair of the following apartments is most similar?\n",
    "\n",
    "|       | sq ft | bedrooms | bathrooms | toilets |\n",
    "|-------|------:|---------:|----------:|---------|\n",
    "| apt 0 |   850 |        2 |         1 | 1       |\n",
    "| apt 1 |  1000 |        2 |         2 | 2       |\n",
    "| apt 2 |  1300 |        3 |         2 | 2       |\n",
    "\n",
    "- Define and clearly explain how you quantify whether two apartments are similar or different\n",
    "- Build a dataframe and explicilty compute each pair's distance\n",
    "- Be warned, this example has a quirk we haven't yet seen in class.  You can resolve it yourself with some careful thinking, do what makes sense to you!"
   ]
  },
  {
   "cell_type": "code",
   "execution_count": 61,
   "id": "67e9ac1f-18b6-4ec0-a421-49090360b51d",
   "metadata": {},
   "outputs": [
    {
     "data": {
      "text/html": [
       "<div>\n",
       "<style scoped>\n",
       "    .dataframe tbody tr th:only-of-type {\n",
       "        vertical-align: middle;\n",
       "    }\n",
       "\n",
       "    .dataframe tbody tr th {\n",
       "        vertical-align: top;\n",
       "    }\n",
       "\n",
       "    .dataframe thead th {\n",
       "        text-align: right;\n",
       "    }\n",
       "</style>\n",
       "<table border=\"1\" class=\"dataframe\">\n",
       "  <thead>\n",
       "    <tr style=\"text-align: right;\">\n",
       "      <th></th>\n",
       "      <th>sq ft</th>\n",
       "      <th>bedrooms</th>\n",
       "      <th>bathrooms</th>\n",
       "      <th>toilets</th>\n",
       "    </tr>\n",
       "  </thead>\n",
       "  <tbody>\n",
       "    <tr>\n",
       "      <th>0</th>\n",
       "      <td>850</td>\n",
       "      <td>2</td>\n",
       "      <td>1</td>\n",
       "      <td>1</td>\n",
       "    </tr>\n",
       "    <tr>\n",
       "      <th>1</th>\n",
       "      <td>1000</td>\n",
       "      <td>2</td>\n",
       "      <td>2</td>\n",
       "      <td>2</td>\n",
       "    </tr>\n",
       "    <tr>\n",
       "      <th>2</th>\n",
       "      <td>1300</td>\n",
       "      <td>3</td>\n",
       "      <td>2</td>\n",
       "      <td>2</td>\n",
       "    </tr>\n",
       "  </tbody>\n",
       "</table>\n",
       "</div>"
      ],
      "text/plain": [
       "   sq ft  bedrooms  bathrooms  toilets\n",
       "0    850         2          1        1\n",
       "1   1000         2          2        2\n",
       "2   1300         3          2        2"
      ]
     },
     "execution_count": 61,
     "metadata": {},
     "output_type": "execute_result"
    }
   ],
   "source": [
    "# solution\n",
    "import pandas as pd\n",
    "\n",
    "df_apt = pd.DataFrame({'sq ft': [850, 1000, 1300],\n",
    "                       'bedrooms': [2, 2, 3],\n",
    "                       'bathrooms': [1, 2, 2],\n",
    "                       'toilets': [1, 2, 2]})\n",
    "df_apt"
   ]
  },
  {
   "cell_type": "code",
   "execution_count": 62,
   "id": "1947bf14-e3ce-4c73-abd9-63cb2f3b0a4e",
   "metadata": {},
   "outputs": [
    {
     "data": {
      "text/plain": [
       "sq ft        229.128785\n",
       "bedrooms       0.577350\n",
       "bathrooms      0.577350\n",
       "toilets        0.577350\n",
       "dtype: float64"
      ]
     },
     "execution_count": 62,
     "metadata": {},
     "output_type": "execute_result"
    }
   ],
   "source": [
    "df_apt.std()"
   ]
  },
  {
   "cell_type": "code",
   "execution_count": 63,
   "id": "fe57e56b-b41c-46ed-b220-86512481982c",
   "metadata": {},
   "outputs": [
    {
     "data": {
      "text/plain": [
       "sq ft        1.0\n",
       "bedrooms     1.0\n",
       "bathrooms    1.0\n",
       "toilets      1.0\n",
       "dtype: float64"
      ]
     },
     "execution_count": 63,
     "metadata": {},
     "output_type": "execute_result"
    }
   ],
   "source": [
    "for feat in df_apt.columns:\n",
    "    df_apt[feat] = df_apt[feat]/df_apt[feat].std()\n",
    "\n",
    "df_apt.std()"
   ]
  },
  {
   "cell_type": "code",
   "execution_count": 64,
   "id": "dad71e1e-35bd-4187-b2b6-6ab03614a946",
   "metadata": {},
   "outputs": [],
   "source": [
    "del df_apt['toilets']"
   ]
  },
  {
   "cell_type": "code",
   "execution_count": 67,
   "id": "518ad4ee-f14c-4f42-8ecd-ec6883432052",
   "metadata": {},
   "outputs": [
    {
     "name": "stdout",
     "output_type": "stream",
     "text": [
      "the distance between apt 0 and apt 1 is 1.8516401995451033\n",
      "the distance between apt 0 and apt 2 is 3.1396087108337016\n",
      "the distance between apt 1 and apt 2 is 2.171240593367237\n"
     ]
    }
   ],
   "source": [
    "dist01 = np.linalg.norm(np.array(df_apt.iloc[0,:] - df_apt.iloc[1,:]))\n",
    "dist02 = np.linalg.norm(np.array(df_apt.iloc[0,:] - df_apt.iloc[2,:]))\n",
    "dist12 = np.linalg.norm(np.array(df_apt.iloc[1,:] - df_apt.iloc[2,:]))\n",
    "\n",
    "print(f'the distance between apt 0 and apt 1 is {dist01}')\n",
    "print(f'the distance between apt 0 and apt 2 is {dist02}')\n",
    "print(f'the distance between apt 1 and apt 2 is {dist12}')"
   ]
  },
  {
   "cell_type": "markdown",
   "id": "cb7a27cd-cbf0-4f4e-9ba1-b8075ef2becc",
   "metadata": {},
   "source": [
    "## One hot encoding and \"Dummy\" variables\n",
    "### (Representing categorical variables in the sample vector as numbers)\n",
    "\n",
    "**One hot encoding:** replace each categorical column with a set of columns per each unique category.  These new columns (called dummy variables) have value 1 where the original row belonged to the corresponding category."
   ]
  },
  {
   "cell_type": "code",
   "execution_count": 68,
   "id": "af0b3f31-1ae4-4460-8246-3f3071c246a4",
   "metadata": {
    "scrolled": true
   },
   "outputs": [
    {
     "data": {
      "text/html": [
       "<div>\n",
       "<style scoped>\n",
       "    .dataframe tbody tr th:only-of-type {\n",
       "        vertical-align: middle;\n",
       "    }\n",
       "\n",
       "    .dataframe tbody tr th {\n",
       "        vertical-align: top;\n",
       "    }\n",
       "\n",
       "    .dataframe thead th {\n",
       "        text-align: right;\n",
       "    }\n",
       "</style>\n",
       "<table border=\"1\" class=\"dataframe\">\n",
       "  <thead>\n",
       "    <tr style=\"text-align: right;\">\n",
       "      <th></th>\n",
       "      <th>species</th>\n",
       "      <th>island</th>\n",
       "      <th>bill_length_mm</th>\n",
       "      <th>bill_depth_mm</th>\n",
       "      <th>flipper_length_mm</th>\n",
       "      <th>body_mass_g</th>\n",
       "      <th>sex</th>\n",
       "    </tr>\n",
       "  </thead>\n",
       "  <tbody>\n",
       "    <tr>\n",
       "      <th>65</th>\n",
       "      <td>Adelie</td>\n",
       "      <td>Biscoe</td>\n",
       "      <td>41.6</td>\n",
       "      <td>18.0</td>\n",
       "      <td>192.0</td>\n",
       "      <td>3950.0</td>\n",
       "      <td>Male</td>\n",
       "    </tr>\n",
       "    <tr>\n",
       "      <th>276</th>\n",
       "      <td>Gentoo</td>\n",
       "      <td>Biscoe</td>\n",
       "      <td>43.8</td>\n",
       "      <td>13.9</td>\n",
       "      <td>208.0</td>\n",
       "      <td>4300.0</td>\n",
       "      <td>Female</td>\n",
       "    </tr>\n",
       "    <tr>\n",
       "      <th>186</th>\n",
       "      <td>Chinstrap</td>\n",
       "      <td>Dream</td>\n",
       "      <td>49.7</td>\n",
       "      <td>18.6</td>\n",
       "      <td>195.0</td>\n",
       "      <td>3600.0</td>\n",
       "      <td>Male</td>\n",
       "    </tr>\n",
       "    <tr>\n",
       "      <th>198</th>\n",
       "      <td>Chinstrap</td>\n",
       "      <td>Dream</td>\n",
       "      <td>50.1</td>\n",
       "      <td>17.9</td>\n",
       "      <td>190.0</td>\n",
       "      <td>3400.0</td>\n",
       "      <td>Female</td>\n",
       "    </tr>\n",
       "    <tr>\n",
       "      <th>293</th>\n",
       "      <td>Gentoo</td>\n",
       "      <td>Biscoe</td>\n",
       "      <td>46.5</td>\n",
       "      <td>14.8</td>\n",
       "      <td>217.0</td>\n",
       "      <td>5200.0</td>\n",
       "      <td>Female</td>\n",
       "    </tr>\n",
       "  </tbody>\n",
       "</table>\n",
       "</div>"
      ],
      "text/plain": [
       "       species  island  bill_length_mm  bill_depth_mm  flipper_length_mm  \\\n",
       "65      Adelie  Biscoe            41.6           18.0              192.0   \n",
       "276     Gentoo  Biscoe            43.8           13.9              208.0   \n",
       "186  Chinstrap   Dream            49.7           18.6              195.0   \n",
       "198  Chinstrap   Dream            50.1           17.9              190.0   \n",
       "293     Gentoo  Biscoe            46.5           14.8              217.0   \n",
       "\n",
       "     body_mass_g     sex  \n",
       "65        3950.0    Male  \n",
       "276       4300.0  Female  \n",
       "186       3600.0    Male  \n",
       "198       3400.0  Female  \n",
       "293       5200.0  Female  "
      ]
     },
     "execution_count": 68,
     "metadata": {},
     "output_type": "execute_result"
    }
   ],
   "source": [
    "df_penguin = sns.load_dataset('penguins')\n",
    "\n",
    "# discard penguins with missing features\n",
    "df_penguin.dropna(axis=0, inplace=True)\n",
    "\n",
    "# shuffle order of rows\n",
    "df_penguin = df_penguin.sample(frac=1, random_state=1)\n",
    "\n",
    "# grab only the first few rows\n",
    "df_penguin = df_penguin.head()\n",
    "\n",
    "df_penguin"
   ]
  },
  {
   "cell_type": "code",
   "execution_count": 70,
   "id": "cdde9730-d608-4027-8fa2-8f4d7c06dfaf",
   "metadata": {},
   "outputs": [
    {
     "data": {
      "text/html": [
       "<div>\n",
       "<style scoped>\n",
       "    .dataframe tbody tr th:only-of-type {\n",
       "        vertical-align: middle;\n",
       "    }\n",
       "\n",
       "    .dataframe tbody tr th {\n",
       "        vertical-align: top;\n",
       "    }\n",
       "\n",
       "    .dataframe thead th {\n",
       "        text-align: right;\n",
       "    }\n",
       "</style>\n",
       "<table border=\"1\" class=\"dataframe\">\n",
       "  <thead>\n",
       "    <tr style=\"text-align: right;\">\n",
       "      <th></th>\n",
       "      <th>bill_length_mm</th>\n",
       "      <th>bill_depth_mm</th>\n",
       "      <th>flipper_length_mm</th>\n",
       "      <th>body_mass_g</th>\n",
       "      <th>species_Adelie</th>\n",
       "      <th>species_Chinstrap</th>\n",
       "      <th>species_Gentoo</th>\n",
       "      <th>island_Biscoe</th>\n",
       "      <th>island_Dream</th>\n",
       "      <th>sex_Female</th>\n",
       "      <th>sex_Male</th>\n",
       "    </tr>\n",
       "  </thead>\n",
       "  <tbody>\n",
       "    <tr>\n",
       "      <th>65</th>\n",
       "      <td>41.6</td>\n",
       "      <td>18.0</td>\n",
       "      <td>192.0</td>\n",
       "      <td>3950.0</td>\n",
       "      <td>True</td>\n",
       "      <td>False</td>\n",
       "      <td>False</td>\n",
       "      <td>True</td>\n",
       "      <td>False</td>\n",
       "      <td>False</td>\n",
       "      <td>True</td>\n",
       "    </tr>\n",
       "    <tr>\n",
       "      <th>276</th>\n",
       "      <td>43.8</td>\n",
       "      <td>13.9</td>\n",
       "      <td>208.0</td>\n",
       "      <td>4300.0</td>\n",
       "      <td>False</td>\n",
       "      <td>False</td>\n",
       "      <td>True</td>\n",
       "      <td>True</td>\n",
       "      <td>False</td>\n",
       "      <td>True</td>\n",
       "      <td>False</td>\n",
       "    </tr>\n",
       "    <tr>\n",
       "      <th>186</th>\n",
       "      <td>49.7</td>\n",
       "      <td>18.6</td>\n",
       "      <td>195.0</td>\n",
       "      <td>3600.0</td>\n",
       "      <td>False</td>\n",
       "      <td>True</td>\n",
       "      <td>False</td>\n",
       "      <td>False</td>\n",
       "      <td>True</td>\n",
       "      <td>False</td>\n",
       "      <td>True</td>\n",
       "    </tr>\n",
       "    <tr>\n",
       "      <th>198</th>\n",
       "      <td>50.1</td>\n",
       "      <td>17.9</td>\n",
       "      <td>190.0</td>\n",
       "      <td>3400.0</td>\n",
       "      <td>False</td>\n",
       "      <td>True</td>\n",
       "      <td>False</td>\n",
       "      <td>False</td>\n",
       "      <td>True</td>\n",
       "      <td>True</td>\n",
       "      <td>False</td>\n",
       "    </tr>\n",
       "    <tr>\n",
       "      <th>293</th>\n",
       "      <td>46.5</td>\n",
       "      <td>14.8</td>\n",
       "      <td>217.0</td>\n",
       "      <td>5200.0</td>\n",
       "      <td>False</td>\n",
       "      <td>False</td>\n",
       "      <td>True</td>\n",
       "      <td>True</td>\n",
       "      <td>False</td>\n",
       "      <td>True</td>\n",
       "      <td>False</td>\n",
       "    </tr>\n",
       "  </tbody>\n",
       "</table>\n",
       "</div>"
      ],
      "text/plain": [
       "     bill_length_mm  bill_depth_mm  flipper_length_mm  body_mass_g  \\\n",
       "65             41.6           18.0              192.0       3950.0   \n",
       "276            43.8           13.9              208.0       4300.0   \n",
       "186            49.7           18.6              195.0       3600.0   \n",
       "198            50.1           17.9              190.0       3400.0   \n",
       "293            46.5           14.8              217.0       5200.0   \n",
       "\n",
       "     species_Adelie  species_Chinstrap  species_Gentoo  island_Biscoe  \\\n",
       "65             True              False           False           True   \n",
       "276           False              False            True           True   \n",
       "186           False               True           False          False   \n",
       "198           False               True           False          False   \n",
       "293           False              False            True           True   \n",
       "\n",
       "     island_Dream  sex_Female  sex_Male  \n",
       "65          False       False      True  \n",
       "276         False        True     False  \n",
       "186          True       False      True  \n",
       "198          True        True     False  \n",
       "293         False        True     False  "
      ]
     },
     "execution_count": 70,
     "metadata": {},
     "output_type": "execute_result"
    }
   ],
   "source": [
    "pd.get_dummies(df_penguin, columns = ['species', 'island', 'sex'])"
   ]
  },
  {
   "cell_type": "code",
   "execution_count": null,
   "id": "f5897b98-e7ed-4b25-a4e6-49bc515fcdd8",
   "metadata": {},
   "outputs": [],
   "source": []
  },
  {
   "cell_type": "markdown",
   "id": "3f45e058",
   "metadata": {},
   "source": [
    "## K-Nearest Neighbors Classifier\n",
    "\n",
    "#### Goal:\n",
    "Make a function which estimates `species` from `bill_depth_mm` and `bill_length_mm`.\n",
    "\n",
    "#### Problem Statement (any classifier):\n",
    "\n",
    "For an initial set of training penguins we observe:\n",
    "- `bill_depth_mm`\n",
    "- `bill_length_mm`\n",
    "- `species` \n",
    "\n",
    "Given some new penguin, Gerald, who is not in the training set on which we observe:\n",
    "- `bill_depth_mm`\n",
    "- `bill_length_mm`\n",
    "\n",
    "#### K-Nearest Neighbors (k-NN) Approach:\n",
    "We identify the penguins which are the $k$ Nearest Neighbors (those whose bill depth/length have the smallest distances) of Gerald.  We estimate Gerald's species as the most common species of these $k$ Nearest Neighbors."
   ]
  },
  {
   "cell_type": "code",
   "execution_count": 71,
   "id": "196d1d56",
   "metadata": {},
   "outputs": [
    {
     "data": {
      "text/html": [
       "<div>\n",
       "<style scoped>\n",
       "    .dataframe tbody tr th:only-of-type {\n",
       "        vertical-align: middle;\n",
       "    }\n",
       "\n",
       "    .dataframe tbody tr th {\n",
       "        vertical-align: top;\n",
       "    }\n",
       "\n",
       "    .dataframe thead th {\n",
       "        text-align: right;\n",
       "    }\n",
       "</style>\n",
       "<table border=\"1\" class=\"dataframe\">\n",
       "  <thead>\n",
       "    <tr style=\"text-align: right;\">\n",
       "      <th></th>\n",
       "      <th>species</th>\n",
       "      <th>island</th>\n",
       "      <th>bill_length_mm</th>\n",
       "      <th>bill_depth_mm</th>\n",
       "      <th>flipper_length_mm</th>\n",
       "      <th>body_mass_g</th>\n",
       "      <th>sex</th>\n",
       "    </tr>\n",
       "  </thead>\n",
       "  <tbody>\n",
       "    <tr>\n",
       "      <th>0</th>\n",
       "      <td>Adelie</td>\n",
       "      <td>Torgersen</td>\n",
       "      <td>39.1</td>\n",
       "      <td>18.7</td>\n",
       "      <td>181.0</td>\n",
       "      <td>3750.0</td>\n",
       "      <td>Male</td>\n",
       "    </tr>\n",
       "    <tr>\n",
       "      <th>1</th>\n",
       "      <td>Adelie</td>\n",
       "      <td>Torgersen</td>\n",
       "      <td>39.5</td>\n",
       "      <td>17.4</td>\n",
       "      <td>186.0</td>\n",
       "      <td>3800.0</td>\n",
       "      <td>Female</td>\n",
       "    </tr>\n",
       "    <tr>\n",
       "      <th>2</th>\n",
       "      <td>Adelie</td>\n",
       "      <td>Torgersen</td>\n",
       "      <td>40.3</td>\n",
       "      <td>18.0</td>\n",
       "      <td>195.0</td>\n",
       "      <td>3250.0</td>\n",
       "      <td>Female</td>\n",
       "    </tr>\n",
       "    <tr>\n",
       "      <th>4</th>\n",
       "      <td>Adelie</td>\n",
       "      <td>Torgersen</td>\n",
       "      <td>36.7</td>\n",
       "      <td>19.3</td>\n",
       "      <td>193.0</td>\n",
       "      <td>3450.0</td>\n",
       "      <td>Female</td>\n",
       "    </tr>\n",
       "    <tr>\n",
       "      <th>5</th>\n",
       "      <td>Adelie</td>\n",
       "      <td>Torgersen</td>\n",
       "      <td>39.3</td>\n",
       "      <td>20.6</td>\n",
       "      <td>190.0</td>\n",
       "      <td>3650.0</td>\n",
       "      <td>Male</td>\n",
       "    </tr>\n",
       "  </tbody>\n",
       "</table>\n",
       "</div>"
      ],
      "text/plain": [
       "  species     island  bill_length_mm  bill_depth_mm  flipper_length_mm  \\\n",
       "0  Adelie  Torgersen            39.1           18.7              181.0   \n",
       "1  Adelie  Torgersen            39.5           17.4              186.0   \n",
       "2  Adelie  Torgersen            40.3           18.0              195.0   \n",
       "4  Adelie  Torgersen            36.7           19.3              193.0   \n",
       "5  Adelie  Torgersen            39.3           20.6              190.0   \n",
       "\n",
       "   body_mass_g     sex  \n",
       "0       3750.0    Male  \n",
       "1       3800.0  Female  \n",
       "2       3250.0  Female  \n",
       "4       3450.0  Female  \n",
       "5       3650.0    Male  "
      ]
     },
     "execution_count": 71,
     "metadata": {},
     "output_type": "execute_result"
    }
   ],
   "source": [
    "import seaborn as sns\n",
    "\n",
    "df_penguin = sns.load_dataset('penguins')\n",
    "df_penguin.dropna(axis=0, inplace=True)\n",
    "df_penguin.head()"
   ]
  },
  {
   "cell_type": "code",
   "execution_count": 72,
   "id": "e522e2b3",
   "metadata": {},
   "outputs": [
    {
     "data": {
      "application/vnd.plotly.v1+json": {
       "config": {
        "plotlyServerURL": "https://plot.ly"
       },
       "data": [
        {
         "hovertemplate": "species=Adelie<br>bill_depth_mm=%{x}<br>bill_length_mm=%{y}<extra></extra>",
         "legendgroup": "Adelie",
         "marker": {
          "color": "#636efa",
          "symbol": "circle"
         },
         "mode": "markers",
         "name": "Adelie",
         "orientation": "v",
         "showlegend": true,
         "type": "scatter",
         "x": [
          18.7,
          17.4,
          18,
          19.3,
          20.6,
          17.8,
          19.6,
          17.6,
          21.2,
          21.1,
          17.8,
          19,
          20.7,
          18.4,
          21.5,
          18.3,
          18.7,
          19.2,
          18.1,
          17.2,
          18.9,
          18.6,
          17.9,
          18.6,
          18.9,
          16.7,
          18.1,
          17.8,
          18.9,
          17,
          21.1,
          20,
          18.5,
          19.3,
          19.1,
          18,
          18.4,
          18.5,
          19.7,
          16.9,
          18.8,
          19,
          17.9,
          21.2,
          17.7,
          18.9,
          17.9,
          19.5,
          18.1,
          18.6,
          17.5,
          18.8,
          16.6,
          19.1,
          16.9,
          21.1,
          17,
          18.2,
          17.1,
          18,
          16.2,
          19.1,
          16.6,
          19.4,
          19,
          18.4,
          17.2,
          18.9,
          17.5,
          18.5,
          16.8,
          19.4,
          16.1,
          19.1,
          17.2,
          17.6,
          18.8,
          19.4,
          17.8,
          20.3,
          19.5,
          18.6,
          19.2,
          18.8,
          18,
          18.1,
          17.1,
          18.1,
          17.3,
          18.9,
          18.6,
          18.5,
          16.1,
          18.5,
          17.9,
          20,
          16,
          20,
          18.6,
          18.9,
          17.2,
          20,
          17,
          19,
          16.5,
          20.3,
          17.7,
          19.5,
          20.7,
          18.3,
          17,
          20.5,
          17,
          18.6,
          17.2,
          19.8,
          17,
          18.5,
          15.9,
          19,
          17.6,
          18.3,
          17.1,
          18,
          17.9,
          19.2,
          18.5,
          18.5,
          17.6,
          17.5,
          17.5,
          20.1,
          16.5,
          17.9,
          17.1,
          17.2,
          15.5,
          17,
          16.8,
          18.7,
          18.6,
          18.4,
          17.8,
          18.1,
          17.1,
          18.5
         ],
         "xaxis": "x",
         "y": [
          39.1,
          39.5,
          40.3,
          36.7,
          39.3,
          38.9,
          39.2,
          41.1,
          38.6,
          34.6,
          36.6,
          38.7,
          42.5,
          34.4,
          46,
          37.8,
          37.7,
          35.9,
          38.2,
          38.8,
          35.3,
          40.6,
          40.5,
          37.9,
          40.5,
          39.5,
          37.2,
          39.5,
          40.9,
          36.4,
          39.2,
          38.8,
          42.2,
          37.6,
          39.8,
          36.5,
          40.8,
          36,
          44.1,
          37,
          39.6,
          41.1,
          36,
          42.3,
          39.6,
          40.1,
          35,
          42,
          34.5,
          41.4,
          39,
          40.6,
          36.5,
          37.6,
          35.7,
          41.3,
          37.6,
          41.1,
          36.4,
          41.6,
          35.5,
          41.1,
          35.9,
          41.8,
          33.5,
          39.7,
          39.6,
          45.8,
          35.5,
          42.8,
          40.9,
          37.2,
          36.2,
          42.1,
          34.6,
          42.9,
          36.7,
          35.1,
          37.3,
          41.3,
          36.3,
          36.9,
          38.3,
          38.9,
          35.7,
          41.1,
          34,
          39.6,
          36.2,
          40.8,
          38.1,
          40.3,
          33.1,
          43.2,
          35,
          41,
          37.7,
          37.8,
          37.9,
          39.7,
          38.6,
          38.2,
          38.1,
          43.2,
          38.1,
          45.6,
          39.7,
          42.2,
          39.6,
          42.7,
          38.6,
          37.3,
          35.7,
          41.1,
          36.2,
          37.7,
          40.2,
          41.4,
          35.2,
          40.6,
          38.8,
          41.5,
          39,
          44.1,
          38.5,
          43.1,
          36.8,
          37.5,
          38.1,
          41.1,
          35.6,
          40.2,
          37,
          39.7,
          40.2,
          40.6,
          32.1,
          40.7,
          37.3,
          39,
          39.2,
          36.6,
          36,
          37.8,
          36,
          41.5
         ],
         "yaxis": "y"
        },
        {
         "hovertemplate": "species=Chinstrap<br>bill_depth_mm=%{x}<br>bill_length_mm=%{y}<extra></extra>",
         "legendgroup": "Chinstrap",
         "marker": {
          "color": "#EF553B",
          "symbol": "circle"
         },
         "mode": "markers",
         "name": "Chinstrap",
         "orientation": "v",
         "showlegend": true,
         "type": "scatter",
         "x": [
          17.9,
          19.5,
          19.2,
          18.7,
          19.8,
          17.8,
          18.2,
          18.2,
          18.9,
          19.9,
          17.8,
          20.3,
          17.3,
          18.1,
          17.1,
          19.6,
          20,
          17.8,
          18.6,
          18.2,
          17.3,
          17.5,
          16.6,
          19.4,
          17.9,
          19,
          18.4,
          19,
          17.8,
          20,
          16.6,
          20.8,
          16.7,
          18.8,
          18.6,
          16.8,
          18.3,
          20.7,
          16.6,
          19.9,
          19.5,
          17.5,
          19.1,
          17,
          17.9,
          18.5,
          17.9,
          19.6,
          18.7,
          17.3,
          16.4,
          19,
          17.3,
          19.7,
          17.3,
          18.8,
          16.6,
          19.9,
          18.8,
          19.4,
          19.5,
          16.5,
          17,
          19.8,
          18.1,
          18.2,
          19,
          18.7
         ],
         "xaxis": "x",
         "y": [
          46.5,
          50,
          51.3,
          45.4,
          52.7,
          45.2,
          46.1,
          51.3,
          46,
          51.3,
          46.6,
          51.7,
          47,
          52,
          45.9,
          50.5,
          50.3,
          58,
          46.4,
          49.2,
          42.4,
          48.5,
          43.2,
          50.6,
          46.7,
          52,
          50.5,
          49.5,
          46.4,
          52.8,
          40.9,
          54.2,
          42.5,
          51,
          49.7,
          47.5,
          47.6,
          52,
          46.9,
          53.5,
          49,
          46.2,
          50.9,
          45.5,
          50.9,
          50.8,
          50.1,
          49,
          51.5,
          49.8,
          48.1,
          51.4,
          45.7,
          50.7,
          42.5,
          52.2,
          45.2,
          49.3,
          50.2,
          45.6,
          51.9,
          46.8,
          45.7,
          55.8,
          43.5,
          49.6,
          50.8,
          50.2
         ],
         "yaxis": "y"
        },
        {
         "hovertemplate": "species=Gentoo<br>bill_depth_mm=%{x}<br>bill_length_mm=%{y}<extra></extra>",
         "legendgroup": "Gentoo",
         "marker": {
          "color": "#00cc96",
          "symbol": "circle"
         },
         "mode": "markers",
         "name": "Gentoo",
         "orientation": "v",
         "showlegend": true,
         "type": "scatter",
         "x": [
          13.2,
          16.3,
          14.1,
          15.2,
          14.5,
          13.5,
          14.6,
          15.3,
          13.4,
          15.4,
          13.7,
          16.1,
          13.7,
          14.6,
          14.6,
          15.7,
          13.5,
          15.2,
          14.5,
          15.1,
          14.3,
          14.5,
          14.5,
          15.8,
          13.1,
          15.1,
          15,
          14.3,
          15.3,
          15.3,
          14.2,
          14.5,
          17,
          14.8,
          16.3,
          13.7,
          17.3,
          13.6,
          15.7,
          13.7,
          16,
          13.7,
          15,
          15.9,
          13.9,
          13.9,
          15.9,
          13.3,
          15.8,
          14.2,
          14.1,
          14.4,
          15,
          14.4,
          15.4,
          13.9,
          15,
          14.5,
          15.3,
          13.8,
          14.9,
          13.9,
          15.7,
          14.2,
          16.8,
          16.2,
          14.2,
          15,
          15,
          15.6,
          15.6,
          14.8,
          15,
          16,
          14.2,
          16.3,
          13.8,
          16.4,
          14.5,
          15.6,
          14.6,
          15.9,
          13.8,
          17.3,
          14.4,
          14.2,
          14,
          17,
          15,
          17.1,
          14.5,
          16.1,
          14.7,
          15.7,
          15.8,
          14.6,
          14.4,
          16.5,
          15,
          17,
          15.5,
          15,
          16.1,
          14.7,
          15.8,
          14,
          15.1,
          15.2,
          15.9,
          15.2,
          16.3,
          14.1,
          16,
          16.2,
          13.7,
          14.3,
          15.7,
          14.8,
          16.1
         ],
         "xaxis": "x",
         "y": [
          46.1,
          50,
          48.7,
          50,
          47.6,
          46.5,
          45.4,
          46.7,
          43.3,
          46.8,
          40.9,
          49,
          45.5,
          48.4,
          45.8,
          49.3,
          42,
          49.2,
          46.2,
          48.7,
          50.2,
          45.1,
          46.5,
          46.3,
          42.9,
          46.1,
          47.8,
          48.2,
          50,
          47.3,
          42.8,
          45.1,
          59.6,
          49.1,
          48.4,
          42.6,
          44.4,
          44,
          48.7,
          42.7,
          49.6,
          45.3,
          49.6,
          50.5,
          43.6,
          45.5,
          50.5,
          44.9,
          45.2,
          46.6,
          48.5,
          45.1,
          50.1,
          46.5,
          45,
          43.8,
          45.5,
          43.2,
          50.4,
          45.3,
          46.2,
          45.7,
          54.3,
          45.8,
          49.8,
          49.5,
          43.5,
          50.7,
          47.7,
          46.4,
          48.2,
          46.5,
          46.4,
          48.6,
          47.5,
          51.1,
          45.2,
          45.2,
          49.1,
          52.5,
          47.4,
          50,
          44.9,
          50.8,
          43.4,
          51.3,
          47.5,
          52.1,
          47.5,
          52.2,
          45.5,
          49.5,
          44.5,
          50.8,
          49.4,
          46.9,
          48.4,
          51.1,
          48.5,
          55.9,
          47.2,
          49.1,
          46.8,
          41.7,
          53.4,
          43.3,
          48.1,
          50.5,
          49.8,
          43.5,
          51.5,
          46.2,
          55.1,
          48.8,
          47.2,
          46.8,
          50.4,
          45.2,
          49.9
         ],
         "yaxis": "y"
        },
        {
         "hovertemplate": "species=Unknown? (Gerald)<br>bill_depth_mm=%{x}<br>bill_length_mm=%{y}<extra></extra>",
         "legendgroup": "Unknown? (Gerald)",
         "marker": {
          "color": "#ab63fa",
          "symbol": "circle"
         },
         "mode": "markers",
         "name": "Unknown? (Gerald)",
         "orientation": "v",
         "showlegend": true,
         "type": "scatter",
         "x": [
          17.42
         ],
         "xaxis": "x",
         "y": [
          42.5
         ],
         "yaxis": "y"
        }
       ],
       "layout": {
        "autosize": true,
        "legend": {
         "title": {
          "text": "species"
         },
         "tracegroupgap": 0
        },
        "margin": {
         "t": 60
        },
        "template": {
         "data": {
          "bar": [
           {
            "error_x": {
             "color": "#2a3f5f"
            },
            "error_y": {
             "color": "#2a3f5f"
            },
            "marker": {
             "line": {
              "color": "#E5ECF6",
              "width": 0.5
             },
             "pattern": {
              "fillmode": "overlay",
              "size": 10,
              "solidity": 0.2
             }
            },
            "type": "bar"
           }
          ],
          "barpolar": [
           {
            "marker": {
             "line": {
              "color": "#E5ECF6",
              "width": 0.5
             },
             "pattern": {
              "fillmode": "overlay",
              "size": 10,
              "solidity": 0.2
             }
            },
            "type": "barpolar"
           }
          ],
          "carpet": [
           {
            "aaxis": {
             "endlinecolor": "#2a3f5f",
             "gridcolor": "white",
             "linecolor": "white",
             "minorgridcolor": "white",
             "startlinecolor": "#2a3f5f"
            },
            "baxis": {
             "endlinecolor": "#2a3f5f",
             "gridcolor": "white",
             "linecolor": "white",
             "minorgridcolor": "white",
             "startlinecolor": "#2a3f5f"
            },
            "type": "carpet"
           }
          ],
          "choropleth": [
           {
            "colorbar": {
             "outlinewidth": 0,
             "ticks": ""
            },
            "type": "choropleth"
           }
          ],
          "contour": [
           {
            "colorbar": {
             "outlinewidth": 0,
             "ticks": ""
            },
            "colorscale": [
             [
              0,
              "#0d0887"
             ],
             [
              0.1111111111111111,
              "#46039f"
             ],
             [
              0.2222222222222222,
              "#7201a8"
             ],
             [
              0.3333333333333333,
              "#9c179e"
             ],
             [
              0.4444444444444444,
              "#bd3786"
             ],
             [
              0.5555555555555556,
              "#d8576b"
             ],
             [
              0.6666666666666666,
              "#ed7953"
             ],
             [
              0.7777777777777778,
              "#fb9f3a"
             ],
             [
              0.8888888888888888,
              "#fdca26"
             ],
             [
              1,
              "#f0f921"
             ]
            ],
            "type": "contour"
           }
          ],
          "contourcarpet": [
           {
            "colorbar": {
             "outlinewidth": 0,
             "ticks": ""
            },
            "type": "contourcarpet"
           }
          ],
          "heatmap": [
           {
            "colorbar": {
             "outlinewidth": 0,
             "ticks": ""
            },
            "colorscale": [
             [
              0,
              "#0d0887"
             ],
             [
              0.1111111111111111,
              "#46039f"
             ],
             [
              0.2222222222222222,
              "#7201a8"
             ],
             [
              0.3333333333333333,
              "#9c179e"
             ],
             [
              0.4444444444444444,
              "#bd3786"
             ],
             [
              0.5555555555555556,
              "#d8576b"
             ],
             [
              0.6666666666666666,
              "#ed7953"
             ],
             [
              0.7777777777777778,
              "#fb9f3a"
             ],
             [
              0.8888888888888888,
              "#fdca26"
             ],
             [
              1,
              "#f0f921"
             ]
            ],
            "type": "heatmap"
           }
          ],
          "heatmapgl": [
           {
            "colorbar": {
             "outlinewidth": 0,
             "ticks": ""
            },
            "colorscale": [
             [
              0,
              "#0d0887"
             ],
             [
              0.1111111111111111,
              "#46039f"
             ],
             [
              0.2222222222222222,
              "#7201a8"
             ],
             [
              0.3333333333333333,
              "#9c179e"
             ],
             [
              0.4444444444444444,
              "#bd3786"
             ],
             [
              0.5555555555555556,
              "#d8576b"
             ],
             [
              0.6666666666666666,
              "#ed7953"
             ],
             [
              0.7777777777777778,
              "#fb9f3a"
             ],
             [
              0.8888888888888888,
              "#fdca26"
             ],
             [
              1,
              "#f0f921"
             ]
            ],
            "type": "heatmapgl"
           }
          ],
          "histogram": [
           {
            "marker": {
             "pattern": {
              "fillmode": "overlay",
              "size": 10,
              "solidity": 0.2
             }
            },
            "type": "histogram"
           }
          ],
          "histogram2d": [
           {
            "colorbar": {
             "outlinewidth": 0,
             "ticks": ""
            },
            "colorscale": [
             [
              0,
              "#0d0887"
             ],
             [
              0.1111111111111111,
              "#46039f"
             ],
             [
              0.2222222222222222,
              "#7201a8"
             ],
             [
              0.3333333333333333,
              "#9c179e"
             ],
             [
              0.4444444444444444,
              "#bd3786"
             ],
             [
              0.5555555555555556,
              "#d8576b"
             ],
             [
              0.6666666666666666,
              "#ed7953"
             ],
             [
              0.7777777777777778,
              "#fb9f3a"
             ],
             [
              0.8888888888888888,
              "#fdca26"
             ],
             [
              1,
              "#f0f921"
             ]
            ],
            "type": "histogram2d"
           }
          ],
          "histogram2dcontour": [
           {
            "colorbar": {
             "outlinewidth": 0,
             "ticks": ""
            },
            "colorscale": [
             [
              0,
              "#0d0887"
             ],
             [
              0.1111111111111111,
              "#46039f"
             ],
             [
              0.2222222222222222,
              "#7201a8"
             ],
             [
              0.3333333333333333,
              "#9c179e"
             ],
             [
              0.4444444444444444,
              "#bd3786"
             ],
             [
              0.5555555555555556,
              "#d8576b"
             ],
             [
              0.6666666666666666,
              "#ed7953"
             ],
             [
              0.7777777777777778,
              "#fb9f3a"
             ],
             [
              0.8888888888888888,
              "#fdca26"
             ],
             [
              1,
              "#f0f921"
             ]
            ],
            "type": "histogram2dcontour"
           }
          ],
          "mesh3d": [
           {
            "colorbar": {
             "outlinewidth": 0,
             "ticks": ""
            },
            "type": "mesh3d"
           }
          ],
          "parcoords": [
           {
            "line": {
             "colorbar": {
              "outlinewidth": 0,
              "ticks": ""
             }
            },
            "type": "parcoords"
           }
          ],
          "pie": [
           {
            "automargin": true,
            "type": "pie"
           }
          ],
          "scatter": [
           {
            "fillpattern": {
             "fillmode": "overlay",
             "size": 10,
             "solidity": 0.2
            },
            "type": "scatter"
           }
          ],
          "scatter3d": [
           {
            "line": {
             "colorbar": {
              "outlinewidth": 0,
              "ticks": ""
             }
            },
            "marker": {
             "colorbar": {
              "outlinewidth": 0,
              "ticks": ""
             }
            },
            "type": "scatter3d"
           }
          ],
          "scattercarpet": [
           {
            "marker": {
             "colorbar": {
              "outlinewidth": 0,
              "ticks": ""
             }
            },
            "type": "scattercarpet"
           }
          ],
          "scattergeo": [
           {
            "marker": {
             "colorbar": {
              "outlinewidth": 0,
              "ticks": ""
             }
            },
            "type": "scattergeo"
           }
          ],
          "scattergl": [
           {
            "marker": {
             "colorbar": {
              "outlinewidth": 0,
              "ticks": ""
             }
            },
            "type": "scattergl"
           }
          ],
          "scattermapbox": [
           {
            "marker": {
             "colorbar": {
              "outlinewidth": 0,
              "ticks": ""
             }
            },
            "type": "scattermapbox"
           }
          ],
          "scatterpolar": [
           {
            "marker": {
             "colorbar": {
              "outlinewidth": 0,
              "ticks": ""
             }
            },
            "type": "scatterpolar"
           }
          ],
          "scatterpolargl": [
           {
            "marker": {
             "colorbar": {
              "outlinewidth": 0,
              "ticks": ""
             }
            },
            "type": "scatterpolargl"
           }
          ],
          "scatterternary": [
           {
            "marker": {
             "colorbar": {
              "outlinewidth": 0,
              "ticks": ""
             }
            },
            "type": "scatterternary"
           }
          ],
          "surface": [
           {
            "colorbar": {
             "outlinewidth": 0,
             "ticks": ""
            },
            "colorscale": [
             [
              0,
              "#0d0887"
             ],
             [
              0.1111111111111111,
              "#46039f"
             ],
             [
              0.2222222222222222,
              "#7201a8"
             ],
             [
              0.3333333333333333,
              "#9c179e"
             ],
             [
              0.4444444444444444,
              "#bd3786"
             ],
             [
              0.5555555555555556,
              "#d8576b"
             ],
             [
              0.6666666666666666,
              "#ed7953"
             ],
             [
              0.7777777777777778,
              "#fb9f3a"
             ],
             [
              0.8888888888888888,
              "#fdca26"
             ],
             [
              1,
              "#f0f921"
             ]
            ],
            "type": "surface"
           }
          ],
          "table": [
           {
            "cells": {
             "fill": {
              "color": "#EBF0F8"
             },
             "line": {
              "color": "white"
             }
            },
            "header": {
             "fill": {
              "color": "#C8D4E3"
             },
             "line": {
              "color": "white"
             }
            },
            "type": "table"
           }
          ]
         },
         "layout": {
          "annotationdefaults": {
           "arrowcolor": "#2a3f5f",
           "arrowhead": 0,
           "arrowwidth": 1
          },
          "autotypenumbers": "strict",
          "coloraxis": {
           "colorbar": {
            "outlinewidth": 0,
            "ticks": ""
           }
          },
          "colorscale": {
           "diverging": [
            [
             0,
             "#8e0152"
            ],
            [
             0.1,
             "#c51b7d"
            ],
            [
             0.2,
             "#de77ae"
            ],
            [
             0.3,
             "#f1b6da"
            ],
            [
             0.4,
             "#fde0ef"
            ],
            [
             0.5,
             "#f7f7f7"
            ],
            [
             0.6,
             "#e6f5d0"
            ],
            [
             0.7,
             "#b8e186"
            ],
            [
             0.8,
             "#7fbc41"
            ],
            [
             0.9,
             "#4d9221"
            ],
            [
             1,
             "#276419"
            ]
           ],
           "sequential": [
            [
             0,
             "#0d0887"
            ],
            [
             0.1111111111111111,
             "#46039f"
            ],
            [
             0.2222222222222222,
             "#7201a8"
            ],
            [
             0.3333333333333333,
             "#9c179e"
            ],
            [
             0.4444444444444444,
             "#bd3786"
            ],
            [
             0.5555555555555556,
             "#d8576b"
            ],
            [
             0.6666666666666666,
             "#ed7953"
            ],
            [
             0.7777777777777778,
             "#fb9f3a"
            ],
            [
             0.8888888888888888,
             "#fdca26"
            ],
            [
             1,
             "#f0f921"
            ]
           ],
           "sequentialminus": [
            [
             0,
             "#0d0887"
            ],
            [
             0.1111111111111111,
             "#46039f"
            ],
            [
             0.2222222222222222,
             "#7201a8"
            ],
            [
             0.3333333333333333,
             "#9c179e"
            ],
            [
             0.4444444444444444,
             "#bd3786"
            ],
            [
             0.5555555555555556,
             "#d8576b"
            ],
            [
             0.6666666666666666,
             "#ed7953"
            ],
            [
             0.7777777777777778,
             "#fb9f3a"
            ],
            [
             0.8888888888888888,
             "#fdca26"
            ],
            [
             1,
             "#f0f921"
            ]
           ]
          },
          "colorway": [
           "#636efa",
           "#EF553B",
           "#00cc96",
           "#ab63fa",
           "#FFA15A",
           "#19d3f3",
           "#FF6692",
           "#B6E880",
           "#FF97FF",
           "#FECB52"
          ],
          "font": {
           "color": "#2a3f5f"
          },
          "geo": {
           "bgcolor": "white",
           "lakecolor": "white",
           "landcolor": "#E5ECF6",
           "showlakes": true,
           "showland": true,
           "subunitcolor": "white"
          },
          "hoverlabel": {
           "align": "left"
          },
          "hovermode": "closest",
          "mapbox": {
           "style": "light"
          },
          "paper_bgcolor": "white",
          "plot_bgcolor": "#E5ECF6",
          "polar": {
           "angularaxis": {
            "gridcolor": "white",
            "linecolor": "white",
            "ticks": ""
           },
           "bgcolor": "#E5ECF6",
           "radialaxis": {
            "gridcolor": "white",
            "linecolor": "white",
            "ticks": ""
           }
          },
          "scene": {
           "xaxis": {
            "backgroundcolor": "#E5ECF6",
            "gridcolor": "white",
            "gridwidth": 2,
            "linecolor": "white",
            "showbackground": true,
            "ticks": "",
            "zerolinecolor": "white"
           },
           "yaxis": {
            "backgroundcolor": "#E5ECF6",
            "gridcolor": "white",
            "gridwidth": 2,
            "linecolor": "white",
            "showbackground": true,
            "ticks": "",
            "zerolinecolor": "white"
           },
           "zaxis": {
            "backgroundcolor": "#E5ECF6",
            "gridcolor": "white",
            "gridwidth": 2,
            "linecolor": "white",
            "showbackground": true,
            "ticks": "",
            "zerolinecolor": "white"
           }
          },
          "shapedefaults": {
           "line": {
            "color": "#2a3f5f"
           }
          },
          "ternary": {
           "aaxis": {
            "gridcolor": "white",
            "linecolor": "white",
            "ticks": ""
           },
           "baxis": {
            "gridcolor": "white",
            "linecolor": "white",
            "ticks": ""
           },
           "bgcolor": "#E5ECF6",
           "caxis": {
            "gridcolor": "white",
            "linecolor": "white",
            "ticks": ""
           }
          },
          "title": {
           "x": 0.05
          },
          "xaxis": {
           "automargin": true,
           "gridcolor": "white",
           "linecolor": "white",
           "ticks": "",
           "title": {
            "standoff": 15
           },
           "zerolinecolor": "white",
           "zerolinewidth": 2
          },
          "yaxis": {
           "automargin": true,
           "gridcolor": "white",
           "linecolor": "white",
           "ticks": "",
           "title": {
            "standoff": 15
           },
           "zerolinecolor": "white",
           "zerolinewidth": 2
          }
         }
        },
        "xaxis": {
         "anchor": "y",
         "autorange": true,
         "domain": [
          0,
          1
         ],
         "range": [
          12.546463142218913,
          22.053536857781086
         ],
         "title": {
          "text": "bill_depth_mm"
         },
         "type": "linear"
        },
        "yaxis": {
         "anchor": "x",
         "autorange": true,
         "domain": [
          0,
          1
         ],
         "range": [
          29.970734908136485,
          61.72926509186352
         ],
         "title": {
          "text": "bill_length_mm"
         },
         "type": "linear"
        }
       }
      },
      "image/png": "[encoded data removed]",
      "text/html": [
       "<div>                            <div id=\"76ca0910-a40c-4467-9296-ce3bd11b1a5a\" class=\"plotly-graph-div\" style=\"height:525px; width:100%;\"></div>            <script type=\"text/javascript\">                require([\"plotly\"], function(Plotly) {                    window.PLOTLYENV=window.PLOTLYENV || {};                                    if (document.getElementById(\"76ca0910-a40c-4467-9296-ce3bd11b1a5a\")) {                    Plotly.newPlot(                        \"76ca0910-a40c-4467-9296-ce3bd11b1a5a\",                        [{\"hovertemplate\":\"species=Adelie<br>bill_depth_mm=%{x}<br>bill_length_mm=%{y}<extra></extra>\",\"legendgroup\":\"Adelie\",\"marker\":{\"color\":\"#636efa\",\"symbol\":\"circle\"},\"mode\":\"markers\",\"name\":\"Adelie\",\"orientation\":\"v\",\"showlegend\":true,\"x\":[18.7,17.4,18.0,19.3,20.6,17.8,19.6,17.6,21.2,21.1,17.8,19.0,20.7,18.4,21.5,18.3,18.7,19.2,18.1,17.2,18.9,18.6,17.9,18.6,18.9,16.7,18.1,17.8,18.9,17.0,21.1,20.0,18.5,19.3,19.1,18.0,18.4,18.5,19.7,16.9,18.8,19.0,17.9,21.2,17.7,18.9,17.9,19.5,18.1,18.6,17.5,18.8,16.6,19.1,16.9,21.1,17.0,18.2,17.1,18.0,16.2,19.1,16.6,19.4,19.0,18.4,17.2,18.9,17.5,18.5,16.8,19.4,16.1,19.1,17.2,17.6,18.8,19.4,17.8,20.3,19.5,18.6,19.2,18.8,18.0,18.1,17.1,18.1,17.3,18.9,18.6,18.5,16.1,18.5,17.9,20.0,16.0,20.0,18.6,18.9,17.2,20.0,17.0,19.0,16.5,20.3,17.7,19.5,20.7,18.3,17.0,20.5,17.0,18.6,17.2,19.8,17.0,18.5,15.9,19.0,17.6,18.3,17.1,18.0,17.9,19.2,18.5,18.5,17.6,17.5,17.5,20.1,16.5,17.9,17.1,17.2,15.5,17.0,16.8,18.7,18.6,18.4,17.8,18.1,17.1,18.5],\"xaxis\":\"x\",\"y\":[39.1,39.5,40.3,36.7,39.3,38.9,39.2,41.1,38.6,34.6,36.6,38.7,42.5,34.4,46.0,37.8,37.7,35.9,38.2,38.8,35.3,40.6,40.5,37.9,40.5,39.5,37.2,39.5,40.9,36.4,39.2,38.8,42.2,37.6,39.8,36.5,40.8,36.0,44.1,37.0,39.6,41.1,36.0,42.3,39.6,40.1,35.0,42.0,34.5,41.4,39.0,40.6,36.5,37.6,35.7,41.3,37.6,41.1,36.4,41.6,35.5,41.1,35.9,41.8,33.5,39.7,39.6,45.8,35.5,42.8,40.9,37.2,36.2,42.1,34.6,42.9,36.7,35.1,37.3,41.3,36.3,36.9,38.3,38.9,35.7,41.1,34.0,39.6,36.2,40.8,38.1,40.3,33.1,43.2,35.0,41.0,37.7,37.8,37.9,39.7,38.6,38.2,38.1,43.2,38.1,45.6,39.7,42.2,39.6,42.7,38.6,37.3,35.7,41.1,36.2,37.7,40.2,41.4,35.2,40.6,38.8,41.5,39.0,44.1,38.5,43.1,36.8,37.5,38.1,41.1,35.6,40.2,37.0,39.7,40.2,40.6,32.1,40.7,37.3,39.0,39.2,36.6,36.0,37.8,36.0,41.5],\"yaxis\":\"y\",\"type\":\"scatter\"},{\"hovertemplate\":\"species=Chinstrap<br>bill_depth_mm=%{x}<br>bill_length_mm=%{y}<extra></extra>\",\"legendgroup\":\"Chinstrap\",\"marker\":{\"color\":\"#EF553B\",\"symbol\":\"circle\"},\"mode\":\"markers\",\"name\":\"Chinstrap\",\"orientation\":\"v\",\"showlegend\":true,\"x\":[17.9,19.5,19.2,18.7,19.8,17.8,18.2,18.2,18.9,19.9,17.8,20.3,17.3,18.1,17.1,19.6,20.0,17.8,18.6,18.2,17.3,17.5,16.6,19.4,17.9,19.0,18.4,19.0,17.8,20.0,16.6,20.8,16.7,18.8,18.6,16.8,18.3,20.7,16.6,19.9,19.5,17.5,19.1,17.0,17.9,18.5,17.9,19.6,18.7,17.3,16.4,19.0,17.3,19.7,17.3,18.8,16.6,19.9,18.8,19.4,19.5,16.5,17.0,19.8,18.1,18.2,19.0,18.7],\"xaxis\":\"x\",\"y\":[46.5,50.0,51.3,45.4,52.7,45.2,46.1,51.3,46.0,51.3,46.6,51.7,47.0,52.0,45.9,50.5,50.3,58.0,46.4,49.2,42.4,48.5,43.2,50.6,46.7,52.0,50.5,49.5,46.4,52.8,40.9,54.2,42.5,51.0,49.7,47.5,47.6,52.0,46.9,53.5,49.0,46.2,50.9,45.5,50.9,50.8,50.1,49.0,51.5,49.8,48.1,51.4,45.7,50.7,42.5,52.2,45.2,49.3,50.2,45.6,51.9,46.8,45.7,55.8,43.5,49.6,50.8,50.2],\"yaxis\":\"y\",\"type\":\"scatter\"},{\"hovertemplate\":\"species=Gentoo<br>bill_depth_mm=%{x}<br>bill_length_mm=%{y}<extra></extra>\",\"legendgroup\":\"Gentoo\",\"marker\":{\"color\":\"#00cc96\",\"symbol\":\"circle\"},\"mode\":\"markers\",\"name\":\"Gentoo\",\"orientation\":\"v\",\"showlegend\":true,\"x\":[13.2,16.3,14.1,15.2,14.5,13.5,14.6,15.3,13.4,15.4,13.7,16.1,13.7,14.6,14.6,15.7,13.5,15.2,14.5,15.1,14.3,14.5,14.5,15.8,13.1,15.1,15.0,14.3,15.3,15.3,14.2,14.5,17.0,14.8,16.3,13.7,17.3,13.6,15.7,13.7,16.0,13.7,15.0,15.9,13.9,13.9,15.9,13.3,15.8,14.2,14.1,14.4,15.0,14.4,15.4,13.9,15.0,14.5,15.3,13.8,14.9,13.9,15.7,14.2,16.8,16.2,14.2,15.0,15.0,15.6,15.6,14.8,15.0,16.0,14.2,16.3,13.8,16.4,14.5,15.6,14.6,15.9,13.8,17.3,14.4,14.2,14.0,17.0,15.0,17.1,14.5,16.1,14.7,15.7,15.8,14.6,14.4,16.5,15.0,17.0,15.5,15.0,16.1,14.7,15.8,14.0,15.1,15.2,15.9,15.2,16.3,14.1,16.0,16.2,13.7,14.3,15.7,14.8,16.1],\"xaxis\":\"x\",\"y\":[46.1,50.0,48.7,50.0,47.6,46.5,45.4,46.7,43.3,46.8,40.9,49.0,45.5,48.4,45.8,49.3,42.0,49.2,46.2,48.7,50.2,45.1,46.5,46.3,42.9,46.1,47.8,48.2,50.0,47.3,42.8,45.1,59.6,49.1,48.4,42.6,44.4,44.0,48.7,42.7,49.6,45.3,49.6,50.5,43.6,45.5,50.5,44.9,45.2,46.6,48.5,45.1,50.1,46.5,45.0,43.8,45.5,43.2,50.4,45.3,46.2,45.7,54.3,45.8,49.8,49.5,43.5,50.7,47.7,46.4,48.2,46.5,46.4,48.6,47.5,51.1,45.2,45.2,49.1,52.5,47.4,50.0,44.9,50.8,43.4,51.3,47.5,52.1,47.5,52.2,45.5,49.5,44.5,50.8,49.4,46.9,48.4,51.1,48.5,55.9,47.2,49.1,46.8,41.7,53.4,43.3,48.1,50.5,49.8,43.5,51.5,46.2,55.1,48.8,47.2,46.8,50.4,45.2,49.9],\"yaxis\":\"y\",\"type\":\"scatter\"},{\"hovertemplate\":\"species=Unknown? (Gerald)<br>bill_depth_mm=%{x}<br>bill_length_mm=%{y}<extra></extra>\",\"legendgroup\":\"Unknown? (Gerald)\",\"marker\":{\"color\":\"#ab63fa\",\"symbol\":\"circle\"},\"mode\":\"markers\",\"name\":\"Unknown? (Gerald)\",\"orientation\":\"v\",\"showlegend\":true,\"x\":[17.42],\"xaxis\":\"x\",\"y\":[42.5],\"yaxis\":\"y\",\"type\":\"scatter\"}],                        {\"template\":{\"data\":{\"histogram2dcontour\":[{\"type\":\"histogram2dcontour\",\"colorbar\":{\"outlinewidth\":0,\"ticks\":\"\"},\"colorscale\":[[0.0,\"#0d0887\"],[0.1111111111111111,\"#46039f\"],[0.2222222222222222,\"#7201a8\"],[0.3333333333333333,\"#9c179e\"],[0.4444444444444444,\"#bd3786\"],[0.5555555555555556,\"#d8576b\"],[0.6666666666666666,\"#ed7953\"],[0.7777777777777778,\"#fb9f3a\"],[0.8888888888888888,\"#fdca26\"],[1.0,\"#f0f921\"]]}],\"choropleth\":[{\"type\":\"choropleth\",\"colorbar\":{\"outlinewidth\":0,\"ticks\":\"\"}}],\"histogram2d\":[{\"type\":\"histogram2d\",\"colorbar\":{\"outlinewidth\":0,\"ticks\":\"\"},\"colorscale\":[[0.0,\"#0d0887\"],[0.1111111111111111,\"#46039f\"],[0.2222222222222222,\"#7201a8\"],[0.3333333333333333,\"#9c179e\"],[0.4444444444444444,\"#bd3786\"],[0.5555555555555556,\"#d8576b\"],[0.6666666666666666,\"#ed7953\"],[0.7777777777777778,\"#fb9f3a\"],[0.8888888888888888,\"#fdca26\"],[1.0,\"#f0f921\"]]}],\"heatmap\":[{\"type\":\"heatmap\",\"colorbar\":{\"outlinewidth\":0,\"ticks\":\"\"},\"colorscale\":[[0.0,\"#0d0887\"],[0.1111111111111111,\"#46039f\"],[0.2222222222222222,\"#7201a8\"],[0.3333333333333333,\"#9c179e\"],[0.4444444444444444,\"#bd3786\"],[0.5555555555555556,\"#d8576b\"],[0.6666666666666666,\"#ed7953\"],[0.7777777777777778,\"#fb9f3a\"],[0.8888888888888888,\"#fdca26\"],[1.0,\"#f0f921\"]]}],\"heatmapgl\":[{\"type\":\"heatmapgl\",\"colorbar\":{\"outlinewidth\":0,\"ticks\":\"\"},\"colorscale\":[[0.0,\"#0d0887\"],[0.1111111111111111,\"#46039f\"],[0.2222222222222222,\"#7201a8\"],[0.3333333333333333,\"#9c179e\"],[0.4444444444444444,\"#bd3786\"],[0.5555555555555556,\"#d8576b\"],[0.6666666666666666,\"#ed7953\"],[0.7777777777777778,\"#fb9f3a\"],[0.8888888888888888,\"#fdca26\"],[1.0,\"#f0f921\"]]}],\"contourcarpet\":[{\"type\":\"contourcarpet\",\"colorbar\":{\"outlinewidth\":0,\"ticks\":\"\"}}],\"contour\":[{\"type\":\"contour\",\"colorbar\":{\"outlinewidth\":0,\"ticks\":\"\"},\"colorscale\":[[0.0,\"#0d0887\"],[0.1111111111111111,\"#46039f\"],[0.2222222222222222,\"#7201a8\"],[0.3333333333333333,\"#9c179e\"],[0.4444444444444444,\"#bd3786\"],[0.5555555555555556,\"#d8576b\"],[0.6666666666666666,\"#ed7953\"],[0.7777777777777778,\"#fb9f3a\"],[0.8888888888888888,\"#fdca26\"],[1.0,\"#f0f921\"]]}],\"surface\":[{\"type\":\"surface\",\"colorbar\":{\"outlinewidth\":0,\"ticks\":\"\"},\"colorscale\":[[0.0,\"#0d0887\"],[0.1111111111111111,\"#46039f\"],[0.2222222222222222,\"#7201a8\"],[0.3333333333333333,\"#9c179e\"],[0.4444444444444444,\"#bd3786\"],[0.5555555555555556,\"#d8576b\"],[0.6666666666666666,\"#ed7953\"],[0.7777777777777778,\"#fb9f3a\"],[0.8888888888888888,\"#fdca26\"],[1.0,\"#f0f921\"]]}],\"mesh3d\":[{\"type\":\"mesh3d\",\"colorbar\":{\"outlinewidth\":0,\"ticks\":\"\"}}],\"scatter\":[{\"fillpattern\":{\"fillmode\":\"overlay\",\"size\":10,\"solidity\":0.2},\"type\":\"scatter\"}],\"parcoords\":[{\"type\":\"parcoords\",\"line\":{\"colorbar\":{\"outlinewidth\":0,\"ticks\":\"\"}}}],\"scatterpolargl\":[{\"type\":\"scatterpolargl\",\"marker\":{\"colorbar\":{\"outlinewidth\":0,\"ticks\":\"\"}}}],\"bar\":[{\"error_x\":{\"color\":\"#2a3f5f\"},\"error_y\":{\"color\":\"#2a3f5f\"},\"marker\":{\"line\":{\"color\":\"#E5ECF6\",\"width\":0.5},\"pattern\":{\"fillmode\":\"overlay\",\"size\":10,\"solidity\":0.2}},\"type\":\"bar\"}],\"scattergeo\":[{\"type\":\"scattergeo\",\"marker\":{\"colorbar\":{\"outlinewidth\":0,\"ticks\":\"\"}}}],\"scatterpolar\":[{\"type\":\"scatterpolar\",\"marker\":{\"colorbar\":{\"outlinewidth\":0,\"ticks\":\"\"}}}],\"histogram\":[{\"marker\":{\"pattern\":{\"fillmode\":\"overlay\",\"size\":10,\"solidity\":0.2}},\"type\":\"histogram\"}],\"scattergl\":[{\"type\":\"scattergl\",\"marker\":{\"colorbar\":{\"outlinewidth\":0,\"ticks\":\"\"}}}],\"scatter3d\":[{\"type\":\"scatter3d\",\"line\":{\"colorbar\":{\"outlinewidth\":0,\"ticks\":\"\"}},\"marker\":{\"colorbar\":{\"outlinewidth\":0,\"ticks\":\"\"}}}],\"scattermapbox\":[{\"type\":\"scattermapbox\",\"marker\":{\"colorbar\":{\"outlinewidth\":0,\"ticks\":\"\"}}}],\"scatterternary\":[{\"type\":\"scatterternary\",\"marker\":{\"colorbar\":{\"outlinewidth\":0,\"ticks\":\"\"}}}],\"scattercarpet\":[{\"type\":\"scattercarpet\",\"marker\":{\"colorbar\":{\"outlinewidth\":0,\"ticks\":\"\"}}}],\"carpet\":[{\"aaxis\":{\"endlinecolor\":\"#2a3f5f\",\"gridcolor\":\"white\",\"linecolor\":\"white\",\"minorgridcolor\":\"white\",\"startlinecolor\":\"#2a3f5f\"},\"baxis\":{\"endlinecolor\":\"#2a3f5f\",\"gridcolor\":\"white\",\"linecolor\":\"white\",\"minorgridcolor\":\"white\",\"startlinecolor\":\"#2a3f5f\"},\"type\":\"carpet\"}],\"table\":[{\"cells\":{\"fill\":{\"color\":\"#EBF0F8\"},\"line\":{\"color\":\"white\"}},\"header\":{\"fill\":{\"color\":\"#C8D4E3\"},\"line\":{\"color\":\"white\"}},\"type\":\"table\"}],\"barpolar\":[{\"marker\":{\"line\":{\"color\":\"#E5ECF6\",\"width\":0.5},\"pattern\":{\"fillmode\":\"overlay\",\"size\":10,\"solidity\":0.2}},\"type\":\"barpolar\"}],\"pie\":[{\"automargin\":true,\"type\":\"pie\"}]},\"layout\":{\"autotypenumbers\":\"strict\",\"colorway\":[\"#636efa\",\"#EF553B\",\"#00cc96\",\"#ab63fa\",\"#FFA15A\",\"#19d3f3\",\"#FF6692\",\"#B6E880\",\"#FF97FF\",\"#FECB52\"],\"font\":{\"color\":\"#2a3f5f\"},\"hovermode\":\"closest\",\"hoverlabel\":{\"align\":\"left\"},\"paper_bgcolor\":\"white\",\"plot_bgcolor\":\"#E5ECF6\",\"polar\":{\"bgcolor\":\"#E5ECF6\",\"angularaxis\":{\"gridcolor\":\"white\",\"linecolor\":\"white\",\"ticks\":\"\"},\"radialaxis\":{\"gridcolor\":\"white\",\"linecolor\":\"white\",\"ticks\":\"\"}},\"ternary\":{\"bgcolor\":\"#E5ECF6\",\"aaxis\":{\"gridcolor\":\"white\",\"linecolor\":\"white\",\"ticks\":\"\"},\"baxis\":{\"gridcolor\":\"white\",\"linecolor\":\"white\",\"ticks\":\"\"},\"caxis\":{\"gridcolor\":\"white\",\"linecolor\":\"white\",\"ticks\":\"\"}},\"coloraxis\":{\"colorbar\":{\"outlinewidth\":0,\"ticks\":\"\"}},\"colorscale\":{\"sequential\":[[0.0,\"#0d0887\"],[0.1111111111111111,\"#46039f\"],[0.2222222222222222,\"#7201a8\"],[0.3333333333333333,\"#9c179e\"],[0.4444444444444444,\"#bd3786\"],[0.5555555555555556,\"#d8576b\"],[0.6666666666666666,\"#ed7953\"],[0.7777777777777778,\"#fb9f3a\"],[0.8888888888888888,\"#fdca26\"],[1.0,\"#f0f921\"]],\"sequentialminus\":[[0.0,\"#0d0887\"],[0.1111111111111111,\"#46039f\"],[0.2222222222222222,\"#7201a8\"],[0.3333333333333333,\"#9c179e\"],[0.4444444444444444,\"#bd3786\"],[0.5555555555555556,\"#d8576b\"],[0.6666666666666666,\"#ed7953\"],[0.7777777777777778,\"#fb9f3a\"],[0.8888888888888888,\"#fdca26\"],[1.0,\"#f0f921\"]],\"diverging\":[[0,\"#8e0152\"],[0.1,\"#c51b7d\"],[0.2,\"#de77ae\"],[0.3,\"#f1b6da\"],[0.4,\"#fde0ef\"],[0.5,\"#f7f7f7\"],[0.6,\"#e6f5d0\"],[0.7,\"#b8e186\"],[0.8,\"#7fbc41\"],[0.9,\"#4d9221\"],[1,\"#276419\"]]},\"xaxis\":{\"gridcolor\":\"white\",\"linecolor\":\"white\",\"ticks\":\"\",\"title\":{\"standoff\":15},\"zerolinecolor\":\"white\",\"automargin\":true,\"zerolinewidth\":2},\"yaxis\":{\"gridcolor\":\"white\",\"linecolor\":\"white\",\"ticks\":\"\",\"title\":{\"standoff\":15},\"zerolinecolor\":\"white\",\"automargin\":true,\"zerolinewidth\":2},\"scene\":{\"xaxis\":{\"backgroundcolor\":\"#E5ECF6\",\"gridcolor\":\"white\",\"linecolor\":\"white\",\"showbackground\":true,\"ticks\":\"\",\"zerolinecolor\":\"white\",\"gridwidth\":2},\"yaxis\":{\"backgroundcolor\":\"#E5ECF6\",\"gridcolor\":\"white\",\"linecolor\":\"white\",\"showbackground\":true,\"ticks\":\"\",\"zerolinecolor\":\"white\",\"gridwidth\":2},\"zaxis\":{\"backgroundcolor\":\"#E5ECF6\",\"gridcolor\":\"white\",\"linecolor\":\"white\",\"showbackground\":true,\"ticks\":\"\",\"zerolinecolor\":\"white\",\"gridwidth\":2}},\"shapedefaults\":{\"line\":{\"color\":\"#2a3f5f\"}},\"annotationdefaults\":{\"arrowcolor\":\"#2a3f5f\",\"arrowhead\":0,\"arrowwidth\":1},\"geo\":{\"bgcolor\":\"white\",\"landcolor\":\"#E5ECF6\",\"subunitcolor\":\"white\",\"showland\":true,\"showlakes\":true,\"lakecolor\":\"white\"},\"title\":{\"x\":0.05},\"mapbox\":{\"style\":\"light\"}}},\"xaxis\":{\"anchor\":\"y\",\"domain\":[0.0,1.0],\"title\":{\"text\":\"bill_depth_mm\"}},\"yaxis\":{\"anchor\":\"x\",\"domain\":[0.0,1.0],\"title\":{\"text\":\"bill_length_mm\"}},\"legend\":{\"title\":{\"text\":\"species\"},\"tracegroupgap\":0},\"margin\":{\"t\":60}},                        {\"responsive\": true}                    ).then(function(){\n",
       "                            \n",
       "var gd = document.getElementById('76ca0910-a40c-4467-9296-ce3bd11b1a5a');\n",
       "var x = new MutationObserver(function (mutations, observer) {{\n",
       "        var display = window.getComputedStyle(gd).display;\n",
       "        if (!display || display === 'none') {{\n",
       "            console.log([gd, 'removed!']);\n",
       "            Plotly.purge(gd);\n",
       "            observer.disconnect();\n",
       "        }}\n",
       "}});\n",
       "\n",
       "// Listen for the removal of the full notebook cells\n",
       "var notebookContainer = gd.closest('#notebook-container');\n",
       "if (notebookContainer) {{\n",
       "    x.observe(notebookContainer, {childList: true});\n",
       "}}\n",
       "\n",
       "// Listen for the clearing of the current output cell\n",
       "var outputEl = gd.closest('.output');\n",
       "if (outputEl) {{\n",
       "    x.observe(outputEl, {childList: true});\n",
       "}}\n",
       "\n",
       "                        })                };                });            </script>        </div>"
      ]
     },
     "metadata": {},
     "output_type": "display_data"
    }
   ],
   "source": [
    "import matplotlib.pyplot as plt\n",
    "import plotly.express as px\n",
    "import pandas as pd\n",
    "\n",
    "feat0 = 'bill_depth_mm'\n",
    "feat1 = 'bill_length_mm'\n",
    "\n",
    "sns.set(font_scale=1.2)\n",
    "\n",
    "# add Gerald to the dataframe\n",
    "Gerald = {'species': 'Unknown? (Gerald)', \n",
    "          'bill_depth_mm': 17.42, \n",
    "          'bill_length_mm': 42.5}\n",
    "df_penguin_gerald = pd.concat([df_penguin, pd.Series(Gerald).to_frame().T])\n",
    "\n",
    "px.scatter(data_frame=df_penguin_gerald, x=feat0, y=feat1, color='species')"
   ]
  },
  {
   "cell_type": "markdown",
   "id": "5a301ee8",
   "metadata": {},
   "source": [
    "If K = 3, Gerald's K Nearest Neighbors are:\n",
    "- Chinstrap\n",
    "- Chinstrap\n",
    "- Adelie\n",
    "\n",
    "So we'd estimate Gerald is of species Chinstrap (most common Nearest Neighbor species)\n",
    "\n",
    "If K = 5, Gerald's K Nearest Neighbors are:\n",
    "- Chinstrap\n",
    "- chinstrap\n",
    "- Adelie\n",
    "- Adelie\n",
    "- Adelie\n",
    "\n",
    "So we'd estimate Gerald is of species Adelie (most common Nearest Neighbor species)\n",
    "\n",
    "If K=4, Gerald's K Nearest Neighbors are:\n",
    "- Chinstrap\n",
    "- chinstrap\n",
    "- Adelie\n",
    "- Adelie\n",
    "\n",
    "So we could either:\n",
    "- avoid outputting an estimate\n",
    "- discard furthest neighbor among k Nearest Neighbors\n",
    "    - estimate \"recursively\" using K-1 Nearest Neighbors"
   ]
  },
  {
   "cell_type": "markdown",
   "id": "0a859094",
   "metadata": {},
   "source": [
    "## K-Nearest Neighbors Demo\n",
    "\n",
    "http://vision.stanford.edu/teaching/cs231n-demos/knn/"
   ]
  },
  {
   "cell_type": "markdown",
   "id": "3eb22c11",
   "metadata": {},
   "source": [
    "## K-NN Classifier: prepping input sci-kit learn\n",
    "\n",
    "Scikit Learn operates on arrays.  We must construct two arrays:\n",
    "- x\n",
    "    - input feature matrix (the features we use to define distances)\n",
    "        - each row is a sample (e.g. penguin)\n",
    "        - each column is a numeric feature (e.g. bill depth/length)\n",
    "- y\n",
    "    - target variable vector\n",
    "        - vector length = number of samples (e.g. penguins)\n",
    "        - value is categorical feature (e.g. species)\n",
    "            - can use array of strings (we do here) ... ok for this application but in general: prefer list of strings"
   ]
  },
  {
   "cell_type": "code",
   "execution_count": 73,
   "id": "c2e6caea",
   "metadata": {},
   "outputs": [
    {
     "data": {
      "text/plain": [
       "array([[39.1, 18.7],\n",
       "       [39.5, 17.4],\n",
       "       [40.3, 18. ],\n",
       "       [36.7, 19.3],\n",
       "       [39.3, 20.6]])"
      ]
     },
     "execution_count": 73,
     "metadata": {},
     "output_type": "execute_result"
    }
   ],
   "source": [
    "import numpy as np\n",
    "\n",
    "x_feat_list = ['bill_length_mm', 'bill_depth_mm']\n",
    "x = df_penguin.loc[:, x_feat_list].values\n",
    "\n",
    "x[:5,:]"
   ]
  },
  {
   "cell_type": "code",
   "execution_count": 74,
   "id": "21c7bfa8",
   "metadata": {},
   "outputs": [
    {
     "data": {
      "text/html": [
       "<div>\n",
       "<style scoped>\n",
       "    .dataframe tbody tr th:only-of-type {\n",
       "        vertical-align: middle;\n",
       "    }\n",
       "\n",
       "    .dataframe tbody tr th {\n",
       "        vertical-align: top;\n",
       "    }\n",
       "\n",
       "    .dataframe thead th {\n",
       "        text-align: right;\n",
       "    }\n",
       "</style>\n",
       "<table border=\"1\" class=\"dataframe\">\n",
       "  <thead>\n",
       "    <tr style=\"text-align: right;\">\n",
       "      <th></th>\n",
       "      <th>bill_length_mm</th>\n",
       "      <th>bill_depth_mm</th>\n",
       "    </tr>\n",
       "  </thead>\n",
       "  <tbody>\n",
       "    <tr>\n",
       "      <th>0</th>\n",
       "      <td>39.1</td>\n",
       "      <td>18.7</td>\n",
       "    </tr>\n",
       "    <tr>\n",
       "      <th>1</th>\n",
       "      <td>39.5</td>\n",
       "      <td>17.4</td>\n",
       "    </tr>\n",
       "    <tr>\n",
       "      <th>2</th>\n",
       "      <td>40.3</td>\n",
       "      <td>18.0</td>\n",
       "    </tr>\n",
       "    <tr>\n",
       "      <th>4</th>\n",
       "      <td>36.7</td>\n",
       "      <td>19.3</td>\n",
       "    </tr>\n",
       "    <tr>\n",
       "      <th>5</th>\n",
       "      <td>39.3</td>\n",
       "      <td>20.6</td>\n",
       "    </tr>\n",
       "    <tr>\n",
       "      <th>...</th>\n",
       "      <td>...</td>\n",
       "      <td>...</td>\n",
       "    </tr>\n",
       "    <tr>\n",
       "      <th>338</th>\n",
       "      <td>47.2</td>\n",
       "      <td>13.7</td>\n",
       "    </tr>\n",
       "    <tr>\n",
       "      <th>340</th>\n",
       "      <td>46.8</td>\n",
       "      <td>14.3</td>\n",
       "    </tr>\n",
       "    <tr>\n",
       "      <th>341</th>\n",
       "      <td>50.4</td>\n",
       "      <td>15.7</td>\n",
       "    </tr>\n",
       "    <tr>\n",
       "      <th>342</th>\n",
       "      <td>45.2</td>\n",
       "      <td>14.8</td>\n",
       "    </tr>\n",
       "    <tr>\n",
       "      <th>343</th>\n",
       "      <td>49.9</td>\n",
       "      <td>16.1</td>\n",
       "    </tr>\n",
       "  </tbody>\n",
       "</table>\n",
       "<p>333 rows × 2 columns</p>\n",
       "</div>"
      ],
      "text/plain": [
       "     bill_length_mm  bill_depth_mm\n",
       "0              39.1           18.7\n",
       "1              39.5           17.4\n",
       "2              40.3           18.0\n",
       "4              36.7           19.3\n",
       "5              39.3           20.6\n",
       "..              ...            ...\n",
       "338            47.2           13.7\n",
       "340            46.8           14.3\n",
       "341            50.4           15.7\n",
       "342            45.2           14.8\n",
       "343            49.9           16.1\n",
       "\n",
       "[333 rows x 2 columns]"
      ]
     },
     "execution_count": 74,
     "metadata": {},
     "output_type": "execute_result"
    }
   ],
   "source": [
    "df_penguin.loc[:, x_feat_list]"
   ]
  },
  {
   "cell_type": "code",
   "execution_count": 75,
   "id": "71fe3ce9",
   "metadata": {},
   "outputs": [
    {
     "data": {
      "text/plain": [
       "array(['Adelie', 'Adelie', 'Adelie', 'Adelie', 'Adelie'], dtype=object)"
      ]
     },
     "execution_count": 75,
     "metadata": {},
     "output_type": "execute_result"
    }
   ],
   "source": [
    "y_true = df_penguin.loc[:, 'species'].values\n",
    "y_true[:5]"
   ]
  },
  {
   "cell_type": "markdown",
   "id": "9843bb33",
   "metadata": {},
   "source": [
    "## K-NN Classifier: sci-kit learn & confusion matrix"
   ]
  },
  {
   "cell_type": "code",
   "execution_count": 77,
   "id": "049d7af8",
   "metadata": {},
   "outputs": [],
   "source": [
    "from sklearn.neighbors import KNeighborsClassifier\n",
    "\n",
    "k = 3\n",
    "x_feat_list = ['bill_length_mm', 'bill_depth_mm']\n",
    "x = df_penguin.loc[:, x_feat_list].values\n",
    "y_true = df_penguin.loc[:, 'species'].values\n",
    "\n",
    "# define the function/model\n",
    "knn_classifier = KNeighborsClassifier(n_neighbors = k)\n",
    "\n",
    "# fit the model\n",
    "knn_classifier.fit(x, y_true)\n",
    "\n",
    "# predict with the model\n",
    "y_pred = knn_classifier.predict(x)"
   ]
  },
  {
   "cell_type": "code",
   "execution_count": 79,
   "id": "55ca2d67",
   "metadata": {},
   "outputs": [
    {
     "data": {
      "text/plain": [
       "[('Adelie', 'Adelie'),\n",
       " ('Adelie', 'Adelie'),\n",
       " ('Adelie', 'Adelie'),\n",
       " ('Adelie', 'Adelie'),\n",
       " ('Adelie', 'Adelie')]"
      ]
     },
     "execution_count": 79,
     "metadata": {},
     "output_type": "execute_result"
    }
   ],
   "source": [
    "true_pred_list = list(zip(y_true, y_pred))\n",
    "true_pred_list[:5]"
   ]
  },
  {
   "cell_type": "code",
   "execution_count": 80,
   "id": "a7d3781f",
   "metadata": {},
   "outputs": [
    {
     "data": {
      "text/plain": [
       "Counter({('Adelie', 'Adelie'): 144,\n",
       "         ('Gentoo', 'Gentoo'): 117,\n",
       "         ('Chinstrap', 'Chinstrap'): 64,\n",
       "         ('Adelie', 'Chinstrap'): 2,\n",
       "         ('Chinstrap', 'Gentoo'): 2,\n",
       "         ('Chinstrap', 'Adelie'): 2,\n",
       "         ('Gentoo', 'Adelie'): 1,\n",
       "         ('Gentoo', 'Chinstrap'): 1})"
      ]
     },
     "execution_count": 80,
     "metadata": {},
     "output_type": "execute_result"
    }
   ],
   "source": [
    "from collections import Counter\n",
    "Counter(true_pred_list)"
   ]
  },
  {
   "cell_type": "code",
   "execution_count": 81,
   "id": "9bd91470",
   "metadata": {},
   "outputs": [
    {
     "data": {
      "text/plain": [
       "array([[144,   2,   0],\n",
       "       [  2,  64,   2],\n",
       "       [  1,   1, 117]], dtype=int64)"
      ]
     },
     "execution_count": 81,
     "metadata": {},
     "output_type": "execute_result"
    }
   ],
   "source": [
    "from sklearn.metrics import confusion_matrix, ConfusionMatrixDisplay\n",
    "\n",
    "conf_mat = confusion_matrix(y_true = y_true, y_pred = y_pred)\n",
    "conf_mat"
   ]
  },
  {
   "cell_type": "code",
   "execution_count": 83,
   "id": "67892516",
   "metadata": {},
   "outputs": [
    {
     "data": {
      "image/png": "[encoded data removed]",
      "text/plain": [
       "<Figure size 640x480 with 2 Axes>"
      ]
     },
     "metadata": {},
     "output_type": "display_data"
    }
   ],
   "source": [
    "conf_mat_disp = ConfusionMatrixDisplay(conf_mat, display_labels = np.unique(y_true))\n",
    "conf_mat_disp.plot()\n",
    "plt.grid(False)"
   ]
  },
  {
   "cell_type": "markdown",
   "id": "f62a2395",
   "metadata": {},
   "source": [
    "# How to check the accuracy of predictions?\n",
    "\n",
    "There are several ways, but one is to look at the proportion of each label that are correctly predicted, and also check to see what the most common mistaken label is:"
   ]
  },
  {
   "cell_type": "code",
   "execution_count": null,
   "id": "cbe0591b",
   "metadata": {},
   "outputs": [],
   "source": []
  },
  {
   "cell_type": "markdown",
   "id": "d9618eb8",
   "metadata": {},
   "source": [
    "### Exercise 2\n",
    "\n",
    "Build a K-NN classifier which estimates the `maintype` of Grass, Water, and Fire Pokemon given their `height`, `weight` and `damage` features.\n",
    "- Discard any Pokemon who are not one of the three types\n",
    "- Don't forget to do the scale normalization\n",
    "- Show the output of your classification as a confusion matrix plot, as shown above\n",
    "- Calculate the accuracy of the predictions for your classifier"
   ]
  },
  {
   "cell_type": "code",
   "execution_count": 15,
   "id": "93dce252",
   "metadata": {},
   "outputs": [
    {
     "data": {
      "text/html": [
       "<div>\n",
       "<style scoped>\n",
       "    .dataframe tbody tr th:only-of-type {\n",
       "        vertical-align: middle;\n",
       "    }\n",
       "\n",
       "    .dataframe tbody tr th {\n",
       "        vertical-align: top;\n",
       "    }\n",
       "\n",
       "    .dataframe thead th {\n",
       "        text-align: right;\n",
       "    }\n",
       "</style>\n",
       "<table border=\"1\" class=\"dataframe\">\n",
       "  <thead>\n",
       "    <tr style=\"text-align: right;\">\n",
       "      <th></th>\n",
       "      <th>pokemon</th>\n",
       "      <th>maintype</th>\n",
       "      <th>secondarytype</th>\n",
       "      <th>height</th>\n",
       "      <th>weight</th>\n",
       "      <th>damage</th>\n",
       "      <th>basespeed</th>\n",
       "      <th>attack</th>\n",
       "      <th>defense</th>\n",
       "    </tr>\n",
       "    <tr>\n",
       "      <th>pokedex</th>\n",
       "      <th></th>\n",
       "      <th></th>\n",
       "      <th></th>\n",
       "      <th></th>\n",
       "      <th></th>\n",
       "      <th></th>\n",
       "      <th></th>\n",
       "      <th></th>\n",
       "      <th></th>\n",
       "    </tr>\n",
       "  </thead>\n",
       "  <tbody>\n",
       "    <tr>\n",
       "      <th>1</th>\n",
       "      <td>Bulbasaur</td>\n",
       "      <td>Grass</td>\n",
       "      <td>Poison</td>\n",
       "      <td>24</td>\n",
       "      <td>25.2</td>\n",
       "      <td>45</td>\n",
       "      <td>45</td>\n",
       "      <td>49</td>\n",
       "      <td>49</td>\n",
       "    </tr>\n",
       "    <tr>\n",
       "      <th>2</th>\n",
       "      <td>Ivysaur</td>\n",
       "      <td>Grass</td>\n",
       "      <td>Poison</td>\n",
       "      <td>39</td>\n",
       "      <td>28.7</td>\n",
       "      <td>60</td>\n",
       "      <td>60</td>\n",
       "      <td>62</td>\n",
       "      <td>63</td>\n",
       "    </tr>\n",
       "    <tr>\n",
       "      <th>3</th>\n",
       "      <td>Venusaur</td>\n",
       "      <td>Grass</td>\n",
       "      <td>Poison</td>\n",
       "      <td>79</td>\n",
       "      <td>220.5</td>\n",
       "      <td>80</td>\n",
       "      <td>80</td>\n",
       "      <td>82</td>\n",
       "      <td>83</td>\n",
       "    </tr>\n",
       "    <tr>\n",
       "      <th>4</th>\n",
       "      <td>Charmander</td>\n",
       "      <td>Fire</td>\n",
       "      <td>NaN</td>\n",
       "      <td>24</td>\n",
       "      <td>18.7</td>\n",
       "      <td>39</td>\n",
       "      <td>65</td>\n",
       "      <td>52</td>\n",
       "      <td>43</td>\n",
       "    </tr>\n",
       "    <tr>\n",
       "      <th>5</th>\n",
       "      <td>Charmeleon</td>\n",
       "      <td>Fire</td>\n",
       "      <td>NaN</td>\n",
       "      <td>43</td>\n",
       "      <td>41.9</td>\n",
       "      <td>58</td>\n",
       "      <td>80</td>\n",
       "      <td>64</td>\n",
       "      <td>58</td>\n",
       "    </tr>\n",
       "  </tbody>\n",
       "</table>\n",
       "</div>"
      ],
      "text/plain": [
       "            pokemon maintype secondarytype  height  weight  damage  basespeed  \\\n",
       "pokedex                                                                         \n",
       "1         Bulbasaur    Grass        Poison      24    25.2      45         45   \n",
       "2           Ivysaur    Grass        Poison      39    28.7      60         60   \n",
       "3          Venusaur    Grass        Poison      79   220.5      80         80   \n",
       "4        Charmander     Fire           NaN      24    18.7      39         65   \n",
       "5        Charmeleon     Fire           NaN      43    41.9      58         80   \n",
       "\n",
       "         attack  defense  \n",
       "pokedex                   \n",
       "1            49       49  \n",
       "2            62       63  \n",
       "3            82       83  \n",
       "4            52       43  \n",
       "5            64       58  "
      ]
     },
     "execution_count": 15,
     "metadata": {},
     "output_type": "execute_result"
    }
   ],
   "source": [
    "import warnings\n",
    "warnings.simplefilter(action='ignore', category=FutureWarning)\n",
    "import pandas as pd\n",
    "import matplotlib.pyplot as plt\n",
    "\n",
    "sns.set(font_scale=1.2)\n",
    "\n",
    "def make_lower(x):\n",
    "    return str(x).lower()\n",
    "\n",
    "df_poke = pd.read_csv('pokedata.csv')\n",
    "df_poke = df_poke.rename(make_lower, axis = 1)\n",
    "df_poke = df_poke.set_index('pokedex')\n",
    "\n",
    "df_poke.head()"
   ]
  },
  {
   "cell_type": "code",
   "execution_count": null,
   "id": "87f8201f",
   "metadata": {},
   "outputs": [],
   "source": []
  },
  {
   "cell_type": "code",
   "execution_count": null,
   "id": "4ee387d0",
   "metadata": {},
   "outputs": [],
   "source": []
  },
  {
   "cell_type": "code",
   "execution_count": null,
   "id": "2da145ec",
   "metadata": {},
   "outputs": [],
   "source": []
  },
  {
   "cell_type": "code",
   "execution_count": null,
   "id": "d3d1eab0",
   "metadata": {},
   "outputs": [],
   "source": []
  },
  {
   "cell_type": "code",
   "execution_count": null,
   "id": "1fcad591",
   "metadata": {},
   "outputs": [],
   "source": []
  },
  {
   "cell_type": "markdown",
   "id": "2367182a",
   "metadata": {},
   "source": [
    "## Measuring Classification Performance\n",
    "\n",
    "- cross validation\n",
    "- performance measures\n",
    "\n",
    "### Part 1 Cross Validation"
   ]
  },
  {
   "cell_type": "markdown",
   "id": "faa453a3",
   "metadata": {},
   "source": [
    "Let's see what happens when we use $k =1$ to estimate a penguins `species` by observing its `bill_depth_mm` and `bill_length_mm`:"
   ]
  },
  {
   "cell_type": "code",
   "execution_count": 17,
   "id": "3c8e0eb8",
   "metadata": {},
   "outputs": [],
   "source": [
    "import pandas as pd\n",
    "import seaborn as sns\n",
    "from sklearn.neighbors import KNeighborsClassifier\n",
    "from sklearn.metrics import confusion_matrix, ConfusionMatrixDisplay\n",
    "import numpy as np\n",
    "import matplotlib.pyplot as plt\n",
    "\n",
    "df_penguin = sns.load_dataset('penguins')\n",
    "df_penguin.dropna(how='any', inplace=True)"
   ]
  },
  {
   "cell_type": "code",
   "execution_count": 18,
   "id": "a8df6f8d",
   "metadata": {},
   "outputs": [],
   "source": [
    "k = 1\n",
    "x_feat_list = ['bill_depth_mm', 'bill_length_mm']\n",
    "y_feat = 'species'\n",
    "\n",
    "x = df_penguin.loc[:, x_feat_list].values\n",
    "y_true = df_penguin.loc[:, y_feat].values\n",
    "\n",
    "# initialize a knn_classifier\n",
    "knn_classifier = KNeighborsClassifier(n_neighbors=k)\n",
    "\n",
    "# fit happens \"inplace\", we modify the internal state of knn_classifier to remember all the training samples\n",
    "knn_classifier.fit(x, y_true)\n",
    "\n",
    "# estimate each penguin's species\n",
    "y_pred = knn_classifier.predict(x)"
   ]
  },
  {
   "cell_type": "code",
   "execution_count": 19,
   "id": "43916ab1",
   "metadata": {},
   "outputs": [
    {
     "data": {
      "image/png": "[encoded data removed]",
      "text/plain": [
       "<Figure size 700x700 with 2 Axes>"
      ]
     },
     "metadata": {},
     "output_type": "display_data"
    }
   ],
   "source": [
    "conf_mat = confusion_matrix(y_true=y_true, y_pred=y_pred)\n",
    "conf_mat_disp = ConfusionMatrixDisplay(conf_mat, display_labels=np.unique(y_true))\n",
    "\n",
    "sns.set(font_scale=2)\n",
    "conf_mat_disp.plot()\n",
    "plt.suptitle('K=1 NN Classifier\\nSeems a little too accurate ...')\n",
    "plt.gcf().set_size_inches(7, 7)\n",
    "plt.grid(False)"
   ]
  },
  {
   "cell_type": "markdown",
   "id": "7e849883",
   "metadata": {},
   "source": [
    "What happened? Does this confusion matrix accurately represent the performance of the classifier on new penguins?  Why or why not?  How might you fix this issue?"
   ]
  },
  {
   "cell_type": "markdown",
   "id": "6590563e",
   "metadata": {},
   "source": [
    "## Cross Validation\n",
    "\n",
    "Remember, we want to know how well our classifier predicts the species of a Penguin it **hasn't** yet seen:\n",
    "- This `k=1` nearest neighbor classifier finds the penguin which is closest, training on all the penguins before classifying the very same penguins\n",
    "    - it does well because each penguin is its own nearest neighbor!\n",
    "- Remember Gerald the penguin?  That was a fair comparison because our \"classifier\" was not trained using Gerald's data\n",
    "   "
   ]
  },
  {
   "cell_type": "markdown",
   "id": "da3ac7d1",
   "metadata": {},
   "source": [
    "**To approximate the performance of a classifier on new samples, we must measure its performance on samples it hasn't been trained on**"
   ]
  },
  {
   "cell_type": "markdown",
   "id": "5fe4c955",
   "metadata": {},
   "source": [
    "### K-Fold Cross Validation (this is a different K)\n",
    "\n",
    "1. Partition the data into K distinct \"folds\"\n",
    "    - \"fold\" - a subset of the labelled data\n",
    "1. For each fold i\n",
    "    - train the model on all but the i-th fold\n",
    "    - test the model on the i-th fold\n",
    "    \n",
    "   \n",
    "<img src=\"https://i.ibb.co/rHz3GMH/Screenshot-2024-07-22-221112.png\" alt=\"Screenshot-2024-07-22-221112\" border=\"0\" width = 500px>\n",
    "\n",
    "Animated:\n",
    "\n",
    "http://assets.yihui.org/figures/animation/example/cv-ani/demo-a.mp4"
   ]
  },
  {
   "cell_type": "code",
   "execution_count": 20,
   "id": "4e3ac6df",
   "metadata": {},
   "outputs": [
    {
     "data": {
      "text/html": [
       "<div>\n",
       "<style scoped>\n",
       "    .dataframe tbody tr th:only-of-type {\n",
       "        vertical-align: middle;\n",
       "    }\n",
       "\n",
       "    .dataframe tbody tr th {\n",
       "        vertical-align: top;\n",
       "    }\n",
       "\n",
       "    .dataframe thead th {\n",
       "        text-align: right;\n",
       "    }\n",
       "</style>\n",
       "<table border=\"1\" class=\"dataframe\">\n",
       "  <thead>\n",
       "    <tr style=\"text-align: right;\">\n",
       "      <th></th>\n",
       "      <th>name</th>\n",
       "      <th>favorite number</th>\n",
       "      <th>letters in name</th>\n",
       "      <th>takes milk in coffee</th>\n",
       "    </tr>\n",
       "  </thead>\n",
       "  <tbody>\n",
       "    <tr>\n",
       "      <th>0</th>\n",
       "      <td>john</td>\n",
       "      <td>0</td>\n",
       "      <td>4</td>\n",
       "      <td>True</td>\n",
       "    </tr>\n",
       "    <tr>\n",
       "      <th>1</th>\n",
       "      <td>ringo</td>\n",
       "      <td>2</td>\n",
       "      <td>5</td>\n",
       "      <td>True</td>\n",
       "    </tr>\n",
       "    <tr>\n",
       "      <th>2</th>\n",
       "      <td>paul</td>\n",
       "      <td>104</td>\n",
       "      <td>4</td>\n",
       "      <td>False</td>\n",
       "    </tr>\n",
       "    <tr>\n",
       "      <th>3</th>\n",
       "      <td>george</td>\n",
       "      <td>-5</td>\n",
       "      <td>6</td>\n",
       "      <td>False</td>\n",
       "    </tr>\n",
       "  </tbody>\n",
       "</table>\n",
       "</div>"
      ],
      "text/plain": [
       "     name  favorite number  letters in name  takes milk in coffee\n",
       "0    john                0                4                  True\n",
       "1   ringo                2                5                  True\n",
       "2    paul              104                4                 False\n",
       "3  george               -5                6                 False"
      ]
     },
     "execution_count": 20,
     "metadata": {},
     "output_type": "execute_result"
    }
   ],
   "source": [
    "from sklearn.model_selection import KFold\n",
    "import pandas as pd\n",
    "\n",
    "df_beatles = pd.DataFrame({'name': ['john', 'ringo', 'paul', 'george'],\n",
    "                          'favorite number': [0, 2, 104, -5],\n",
    "                          'letters in name': [4, 5, 4, 6],\n",
    "                          'takes milk in coffee': [True, True, False, False]})\n",
    "df_beatles"
   ]
  },
  {
   "cell_type": "markdown",
   "id": "f280072d",
   "metadata": {},
   "source": [
    "Using the `favorite number` and `letters in name` to predict which of the beatles `takes milk in coffee`:"
   ]
  },
  {
   "cell_type": "code",
   "execution_count": null,
   "id": "5aa27ef5",
   "metadata": {},
   "outputs": [],
   "source": []
  },
  {
   "cell_type": "markdown",
   "id": "60c948a4",
   "metadata": {},
   "source": [
    "## Applying Cross Validation to our penguins species classification...\n",
    "### First, some useful tools:"
   ]
  },
  {
   "cell_type": "code",
   "execution_count": null,
   "id": "af22b61a",
   "metadata": {},
   "outputs": [],
   "source": []
  },
  {
   "cell_type": "code",
   "execution_count": null,
   "id": "d3eb3875",
   "metadata": {},
   "outputs": [],
   "source": []
  },
  {
   "cell_type": "code",
   "execution_count": null,
   "id": "b5fc17a7",
   "metadata": {},
   "outputs": [],
   "source": []
  },
  {
   "cell_type": "code",
   "execution_count": null,
   "id": "7865dd88",
   "metadata": {},
   "outputs": [],
   "source": []
  },
  {
   "cell_type": "code",
   "execution_count": null,
   "id": "362f9a79",
   "metadata": {},
   "outputs": [],
   "source": []
  },
  {
   "cell_type": "markdown",
   "id": "e2830159",
   "metadata": {},
   "source": [
    "Let's see how this works; K-Fold (with $K = 3$) Cross Validation of k-Nearest Neighbors (with $k = 1$) in our Penguin dataset:"
   ]
  },
  {
   "cell_type": "code",
   "execution_count": 24,
   "id": "8f487be0",
   "metadata": {},
   "outputs": [],
   "source": [
    "k = 1\n",
    "x_feat_list = ['bill_depth_mm', 'bill_length_mm']\n",
    "y_feat = 'species'\n",
    "\n",
    "x = df_penguin.loc[:, x_feat_list].values\n",
    "y_true = df_penguin.loc[:, y_feat].values\n",
    "\n",
    "# initialize a knn_classifier\n",
    "knn_classifier = KNeighborsClassifier(n_neighbors=k)"
   ]
  },
  {
   "cell_type": "code",
   "execution_count": 31,
   "id": "499307be",
   "metadata": {},
   "outputs": [
    {
     "data": {
      "image/png": "[encoded data removed]",
      "text/plain": [
       "<Figure size 600x600 with 2 Axes>"
      ]
     },
     "metadata": {},
     "output_type": "display_data"
    }
   ],
   "source": [
    "# build and plot confusion matrix\n",
    "conf_mat = confusion_matrix(y_true=y_true, y_pred=y_pred)\n",
    "conf_mat_disp = ConfusionMatrixDisplay(conf_mat, display_labels=np.unique(y_true))\n",
    "\n",
    "sns.set(font_scale=1.5)\n",
    "conf_mat_disp.plot()\n",
    "plt.suptitle('K=1 NN Classifier')\n",
    "plt.gcf().set_size_inches(6, 6)\n",
    "plt.grid(False)"
   ]
  },
  {
   "cell_type": "markdown",
   "id": "43c48dcd",
   "metadata": {},
   "source": [
    "## There's something funny about our confusion matrix ...\n",
    "\n",
    "Why are none of the Chinstrap predicted correctly...? lets count the `species` in each set of training data."
   ]
  },
  {
   "cell_type": "code",
   "execution_count": 25,
   "id": "3c85ecf9",
   "metadata": {},
   "outputs": [
    {
     "name": "stdout",
     "output_type": "stream",
     "text": [
      "Counter({'Gentoo': 119, 'Chinstrap': 68, 'Adelie': 35})\n",
      "Counter({'Adelie': 111, 'Gentoo': 111})\n",
      "Counter({'Adelie': 146, 'Chinstrap': 68, 'Gentoo': 8})\n"
     ]
    }
   ],
   "source": [
    "from copy import copy\n",
    "from collections import Counter\n",
    "\n",
    "k = 1\n",
    "x_feat_list = ['bill_depth_mm', 'bill_length_mm']\n",
    "y_feat = 'species'\n",
    "\n",
    "x = df_penguin.loc[:, x_feat_list].values\n",
    "y_true = df_penguin.loc[:, y_feat].values\n",
    "\n",
    "# initialize a knn_classifier\n",
    "knn_classifier = KNeighborsClassifier(n_neighbors=k)\n",
    "\n",
    "# construction of kfold object\n",
    "kfold = KFold(n_splits=3)\n",
    "\n",
    "# allocate an empty array to store predictions in\n",
    "y_pred = copy(y_true)\n",
    "\n",
    "for train_idx, test_idx in kfold.split(x, y_true):\n",
    "    # build arrays which correspond to x, y train /test\n",
    "    x_test = x[test_idx, :]\n",
    "    x_train = x[train_idx, :]\n",
    "    y_true_train = y_true[train_idx]\n",
    "    \n",
    "    print(Counter(y_true_train))\n",
    "    \n",
    "    # fit happens \"inplace\", we modify the internal state of knn_classifier to remember all the training samples\n",
    "    knn_classifier.fit(x_train, y_true_train)\n",
    "\n",
    "    # estimate each penguin's species\n",
    "    y_pred[test_idx] = knn_classifier.predict(x_test)"
   ]
  },
  {
   "cell_type": "markdown",
   "id": "1a0a01d4",
   "metadata": {},
   "source": [
    "Notice that we don't always get a proper mix of species in each training set ... the second training set doesn't even have any Chinstrap penguins!\n",
    "\n",
    "Why is this?"
   ]
  },
  {
   "cell_type": "code",
   "execution_count": null,
   "id": "5b9e2398",
   "metadata": {},
   "outputs": [],
   "source": []
  },
  {
   "cell_type": "markdown",
   "id": "40825e3a",
   "metadata": {},
   "source": [
    "## Ensuring that each training set represents all target groups:\n",
    "\n",
    "- we can pass the `shuffle=True` parameter to the constructor of `Kfold` so that data is shuffled before the training indexing\n",
    "\n",
    "- alternatively, we could use a `StratifiedKFold` object in place of a plain old `Kfold`:\n",
    "\n",
    "\n",
    "     \"This cross-validation object is a variation of KFold that returns stratified folds. The folds are made by \n",
    "     preserving the percentage of samples for each class.\"  \n",
    "     \n",
    "taken from [sklearn doc](https://scikit-learn.org/stable/modules/generated/sklearn.model_selection.StratifiedKFold.html#sklearn.model_selection.StratifiedKFold)"
   ]
  },
  {
   "cell_type": "markdown",
   "id": "9b8f18a7",
   "metadata": {},
   "source": [
    "using `shuffle=True` on a `KFold`"
   ]
  },
  {
   "cell_type": "code",
   "execution_count": 28,
   "id": "cd86f8be",
   "metadata": {},
   "outputs": [],
   "source": [
    "from copy import copy\n",
    "from collections import Counter\n",
    "\n",
    "k = 1\n",
    "x_feat_list = ['bill_depth_mm', 'bill_length_mm']\n",
    "y_feat = 'species'\n",
    "\n",
    "x = df_penguin.loc[:, x_feat_list].values\n",
    "y_true = df_penguin.loc[:, y_feat].values\n",
    "\n",
    "# initialize a knn_classifier\n",
    "knn_classifier = KNeighborsClassifier(n_neighbors=k)\n",
    "\n"
   ]
  },
  {
   "cell_type": "markdown",
   "id": "a0947cad",
   "metadata": {},
   "source": [
    "using `StratifiedKFold`"
   ]
  },
  {
   "cell_type": "code",
   "execution_count": 27,
   "id": "98e778dd",
   "metadata": {},
   "outputs": [],
   "source": [
    "from copy import copy\n",
    "from collections import Counter\n",
    "\n",
    "k = 1\n",
    "x_feat_list = ['bill_depth_mm', 'bill_length_mm']\n",
    "y_feat = 'species'\n",
    "\n",
    "x = df_penguin.loc[:, x_feat_list].values\n",
    "y_true = df_penguin.loc[:, y_feat].values\n",
    "\n",
    "# initialize a knn_classifier\n",
    "knn_classifier = KNeighborsClassifier(n_neighbors=k)\n"
   ]
  },
  {
   "cell_type": "code",
   "execution_count": null,
   "id": "f18cfcdf",
   "metadata": {},
   "outputs": [],
   "source": []
  },
  {
   "cell_type": "markdown",
   "id": "229a0a8f",
   "metadata": {},
   "source": [
    "`StratifiedKFold` is probably preferred, since it gets us as close as possible to an even splitting of target groups, but there is usually not much difference."
   ]
  },
  {
   "cell_type": "markdown",
   "id": "0e660bf9",
   "metadata": {},
   "source": [
    "## Note this quirk:\n",
    "the resulting `y_pred` contains predictions for all the samples ...\n",
    "\n",
    "... but samples in different folds were estimated by classifiers trained on different data\n",
    "\n",
    "### So which of these trained classifiers should we use as our \"final\" classifier?\n",
    "\n",
    "None of them, better to re-train on the whole dataset."
   ]
  },
  {
   "cell_type": "markdown",
   "id": "6263b5a6",
   "metadata": {},
   "source": [
    "### The point of cross validation:\n",
    "\n",
    "- Have a better understanding of the performance of the K-NN classifier by pretending some of the data you have is new.\n",
    "\n",
    "### The point of training the entire dataset:\n",
    "\n",
    "- Make a K-NN classifier that you can fit to truly new data."
   ]
  },
  {
   "cell_type": "code",
   "execution_count": null,
   "id": "f7b1eaeb",
   "metadata": {},
   "outputs": [],
   "source": []
  },
  {
   "cell_type": "code",
   "execution_count": null,
   "id": "958f3ea2",
   "metadata": {},
   "outputs": [],
   "source": []
  },
  {
   "cell_type": "code",
   "execution_count": null,
   "id": "d5592620",
   "metadata": {},
   "outputs": [],
   "source": []
  },
  {
   "cell_type": "markdown",
   "id": "2d7531ca",
   "metadata": {},
   "source": [
    "### Exercise 3\n",
    "\n",
    "Build a 4-fold cross validated K-NN classifier which estimates the `maintype` of Grass, Water, and Fire Pokemon given their `height`, `weight` and `damage` features. Use nearest neighbors $k=3$.\n",
    "- Discard any Pokemon who are not one of the three types\n",
    "- Don't forget to do the scale normalization\n",
    "- Enact the 5-fold cross validation\n",
    "- Show the output of your classification as a confusion matrix plot, as shown above\n",
    "- Calculate the overall accuracy **haven't done this yet**"
   ]
  },
  {
   "cell_type": "code",
   "execution_count": 40,
   "id": "0d7c4ddb",
   "metadata": {},
   "outputs": [
    {
     "data": {
      "text/html": [
       "<div>\n",
       "<style scoped>\n",
       "    .dataframe tbody tr th:only-of-type {\n",
       "        vertical-align: middle;\n",
       "    }\n",
       "\n",
       "    .dataframe tbody tr th {\n",
       "        vertical-align: top;\n",
       "    }\n",
       "\n",
       "    .dataframe thead th {\n",
       "        text-align: right;\n",
       "    }\n",
       "</style>\n",
       "<table border=\"1\" class=\"dataframe\">\n",
       "  <thead>\n",
       "    <tr style=\"text-align: right;\">\n",
       "      <th></th>\n",
       "      <th>pokemon</th>\n",
       "      <th>maintype</th>\n",
       "      <th>secondarytype</th>\n",
       "      <th>height</th>\n",
       "      <th>weight</th>\n",
       "      <th>damage</th>\n",
       "      <th>basespeed</th>\n",
       "      <th>attack</th>\n",
       "      <th>defense</th>\n",
       "    </tr>\n",
       "    <tr>\n",
       "      <th>pokedex</th>\n",
       "      <th></th>\n",
       "      <th></th>\n",
       "      <th></th>\n",
       "      <th></th>\n",
       "      <th></th>\n",
       "      <th></th>\n",
       "      <th></th>\n",
       "      <th></th>\n",
       "      <th></th>\n",
       "    </tr>\n",
       "  </thead>\n",
       "  <tbody>\n",
       "    <tr>\n",
       "      <th>1</th>\n",
       "      <td>Bulbasaur</td>\n",
       "      <td>Grass</td>\n",
       "      <td>Poison</td>\n",
       "      <td>24</td>\n",
       "      <td>25.2</td>\n",
       "      <td>45</td>\n",
       "      <td>45</td>\n",
       "      <td>49</td>\n",
       "      <td>49</td>\n",
       "    </tr>\n",
       "    <tr>\n",
       "      <th>2</th>\n",
       "      <td>Ivysaur</td>\n",
       "      <td>Grass</td>\n",
       "      <td>Poison</td>\n",
       "      <td>39</td>\n",
       "      <td>28.7</td>\n",
       "      <td>60</td>\n",
       "      <td>60</td>\n",
       "      <td>62</td>\n",
       "      <td>63</td>\n",
       "    </tr>\n",
       "    <tr>\n",
       "      <th>3</th>\n",
       "      <td>Venusaur</td>\n",
       "      <td>Grass</td>\n",
       "      <td>Poison</td>\n",
       "      <td>79</td>\n",
       "      <td>220.5</td>\n",
       "      <td>80</td>\n",
       "      <td>80</td>\n",
       "      <td>82</td>\n",
       "      <td>83</td>\n",
       "    </tr>\n",
       "    <tr>\n",
       "      <th>4</th>\n",
       "      <td>Charmander</td>\n",
       "      <td>Fire</td>\n",
       "      <td>NaN</td>\n",
       "      <td>24</td>\n",
       "      <td>18.7</td>\n",
       "      <td>39</td>\n",
       "      <td>65</td>\n",
       "      <td>52</td>\n",
       "      <td>43</td>\n",
       "    </tr>\n",
       "    <tr>\n",
       "      <th>5</th>\n",
       "      <td>Charmeleon</td>\n",
       "      <td>Fire</td>\n",
       "      <td>NaN</td>\n",
       "      <td>43</td>\n",
       "      <td>41.9</td>\n",
       "      <td>58</td>\n",
       "      <td>80</td>\n",
       "      <td>64</td>\n",
       "      <td>58</td>\n",
       "    </tr>\n",
       "  </tbody>\n",
       "</table>\n",
       "</div>"
      ],
      "text/plain": [
       "            pokemon maintype secondarytype  height  weight  damage  basespeed  \\\n",
       "pokedex                                                                         \n",
       "1         Bulbasaur    Grass        Poison      24    25.2      45         45   \n",
       "2           Ivysaur    Grass        Poison      39    28.7      60         60   \n",
       "3          Venusaur    Grass        Poison      79   220.5      80         80   \n",
       "4        Charmander     Fire           NaN      24    18.7      39         65   \n",
       "5        Charmeleon     Fire           NaN      43    41.9      58         80   \n",
       "\n",
       "         attack  defense  \n",
       "pokedex                   \n",
       "1            49       49  \n",
       "2            62       63  \n",
       "3            82       83  \n",
       "4            52       43  \n",
       "5            64       58  "
      ]
     },
     "execution_count": 40,
     "metadata": {},
     "output_type": "execute_result"
    }
   ],
   "source": [
    "# read in Pokemon data again\n",
    "import warnings\n",
    "warnings.simplefilter(action='ignore', category=FutureWarning)\n",
    "import pandas as pd\n",
    "import seaborn as sns\n",
    "import matplotlib.pyplot as plt\n",
    "import numpy as np\n",
    "\n",
    "sns.set(font_scale=1.2)\n",
    "\n",
    "def make_lower(x):\n",
    "    return str(x).lower()\n",
    "\n",
    "df_poke = pd.read_csv('pokedata.csv')\n",
    "df_poke = df_poke.rename(make_lower, axis = 1)\n",
    "df_poke = df_poke.set_index('pokedex')\n",
    "df_poke.head()"
   ]
  },
  {
   "cell_type": "code",
   "execution_count": 29,
   "id": "b3683b8b",
   "metadata": {},
   "outputs": [],
   "source": [
    "from sklearn.neighbors import KNeighborsClassifier\n",
    "import pandas as pd"
   ]
  },
  {
   "cell_type": "markdown",
   "id": "7a62c9fc",
   "metadata": {},
   "source": [
    "## Overall Accuracy Score"
   ]
  },
  {
   "cell_type": "code",
   "execution_count": null,
   "id": "f4ec2b31",
   "metadata": {},
   "outputs": [],
   "source": []
  },
  {
   "cell_type": "markdown",
   "id": "1fbb8e10",
   "metadata": {},
   "source": [
    "## \"This Classifier is 90% accurate\"\n",
    "\n",
    "... is that a good thing?\n",
    "\n",
    "Lets take a look at a few 90% accurate classifications and see for ourselves:"
   ]
  },
  {
   "cell_type": "markdown",
   "id": "2aad4479",
   "metadata": {},
   "source": [
    " ## This classifier is 90% accurate: example 1\n",
    " <img src=\"https://i.ibb.co/z6VTVXV/accuracy-is-vague1.png\" alt=\"title\" >"
   ]
  },
  {
   "cell_type": "markdown",
   "id": "dc9cc6dd-8d4c-4cb6-b858-54af401afb20",
   "metadata": {},
   "source": []
  },
  {
   "cell_type": "markdown",
   "id": "4c68074f",
   "metadata": {},
   "source": [
    " ## This classifier is 90% accurate: example 2\n",
    "<img src=\"https://i.ibb.co/hD6QRKc/Screenshot-2024-07-22-225127.png\" alt=\"Screenshot-2024-07-22-225127\" border=\"0\" width = 600px>"
   ]
  },
  {
   "cell_type": "markdown",
   "id": "4d59ffe5-4aa7-4ddb-939e-dfd418bd9451",
   "metadata": {},
   "source": []
  },
  {
   "cell_type": "markdown",
   "id": "a7a1b76c",
   "metadata": {},
   "source": [
    " ## This classifier is 90% accurate: example 3\n",
    " <img src=\"https://i.ibb.co/dMwVtKD/accuracy-is-vague3.png\" alt=\"title\" >"
   ]
  },
  {
   "cell_type": "markdown",
   "id": "8b9482b1-8294-4c11-8eb7-026bd34567f9",
   "metadata": {},
   "source": []
  },
  {
   "cell_type": "markdown",
   "id": "4e10da9f",
   "metadata": {},
   "source": [
    " ## This classifier is 90% accurate: example 4\n",
    " <img src=\"https://i.ibb.co/qD8B48v/accuracy-is-vague4.png\" alt=\"title\" >"
   ]
  },
  {
   "cell_type": "markdown",
   "id": "1f0bdc0e-37e9-4115-a081-824726d717a1",
   "metadata": {},
   "source": []
  },
  {
   "cell_type": "markdown",
   "id": "7e3d0ecf",
   "metadata": {},
   "source": [
    " ## This classifier is 90% accurate: example 5\n",
    " <img src=\"https://i.ibb.co/W336XhF/accuracy-is-vague5.png\" alt=\"title\" >\n"
   ]
  },
  {
   "cell_type": "markdown",
   "id": "4ffee472",
   "metadata": {},
   "source": [
    "## What about our confusion matrices?\n",
    "\n",
    "<img src='https://i.ibb.co/YkNcR9P/conf-mat-penguin-knn.png' width=500px>\n",
    "\n",
    "**Confusion Matrices, being a whole array of numbers, are not easily compared for sorting.**\n",
    "\n",
    "(We'll focus on these scalar summary stats of accuracy today)**"
   ]
  },
  {
   "cell_type": "markdown",
   "id": "2d93ae37",
   "metadata": {},
   "source": [
    "# Inconsistent Naming Conventions Ahead:\n",
    "\n",
    "https://en.wikipedia.org/wiki/Sensitivity_and_specificity\n",
    "\n",
    "Everyone uses these ideas and each field seems to have their own terms of interest.\n",
    "\n",
    "I'm sorry, its [a tough problem to fix](https://xkcd.com/927/) :)"
   ]
  },
  {
   "cell_type": "markdown",
   "id": "8ab98d84",
   "metadata": {},
   "source": [
    "## Binary classification: Names\n",
    "\n",
    "Lets examine the binary classification problem, where we're trying to determine if a sample if of class 0 or class 1.\n",
    "\n",
    "|                | Predict: Class 0 | Predict: Class1 |\n",
    "|----------------|-------------------|------------------|\n",
    "| Truth: Class 0 | True Negative (TN)     | False Positive (FP)   |\n",
    "| Truth: Class 1 | False Negative (FN)    | True Positive (TP)    |"
   ]
  },
  {
   "cell_type": "markdown",
   "id": "910e8733",
   "metadata": {},
   "source": [
    "## Binary classification: Illness detection example\n",
    "\n",
    "Example: Illness Detection\n",
    "- Class 0: Healthy\n",
    "- Class 1: Illness\n",
    "\n",
    "(we reserve class 1 as the class of \"x\" in all \"x\" Detection problems)\n",
    "\n",
    "|                    | Predict: Healthy (0)          | Predict: Illness (1)      |\n",
    "|--------------------|-------------------------------|---------------------------|\n",
    "| Truth: Healthy (0) |  |  |\n",
    "| Truth: Illness (1) |    |     |"
   ]
  },
  {
   "cell_type": "markdown",
   "id": "9de0977b",
   "metadata": {},
   "source": [
    "## How to describe binary classifier performance\n",
    "\n",
    "- Accuracy\n",
    "    - percentage of samples that the prediction is correct\n",
    "    - illness detection example:\n",
    "        - If 100 people take this test, how often will our test be correct?\n",
    "$$ \\rm{Accuracy} = \\frac{\\rm{TP} + \\rm{TN}}{\\rm{TP} + \\rm{TN} + \\rm{FP} + \\rm{FN}} $$\n",
    "\n",
    "- Sensitivity/Recall\n",
    "    - percentage of class 1 samples which are predicted as class 1\n",
    "    - illness detection example:\n",
    "        - If 100 ill people take this test, how many will we detect as ill?\n",
    "$$ \\rm{Sensitivity} = \\frac{\\rm{TP}}{\\rm{TP} + \\rm{FN}} $$\n",
    "\n",
    "- Specificity\n",
    "    - percentage of samples predicted as class 1 which are truly class 1\n",
    "    - illness detection example:\n",
    "        - If the test says 100 people are ill, how many of these are really ill?\n",
    "        \n",
    "$$ \\rm{Specificity} = \\frac{\\rm{TP}}{\\rm{TP} + \\rm{FP}} $$"
   ]
  },
  {
   "cell_type": "code",
   "execution_count": 43,
   "id": "65cc85ac",
   "metadata": {},
   "outputs": [],
   "source": [
    "from sklearn.metrics import confusion_matrix\n",
    "\n",
    "def get_acc_sens_spec(y_true, y_pred, verbose=True):\n",
    "    \"\"\" computes sensitivity & specificity (assumed binary inputs)\n",
    "\n",
    "    Args:\n",
    "        y_true (np.array): binary ground truth per trial\n",
    "        y_pred (np.array): binary prediction per trial\n",
    "\n",
    "    Returns:\n",
    "        acc (float): accuracy\n",
    "        sens (float): sensitivity\n",
    "        spec (float): specificity\n",
    "    \"\"\"\n",
    "    pass"
   ]
  },
  {
   "cell_type": "markdown",
   "id": "26998b0a",
   "metadata": {},
   "source": [
    "## Example:\n",
    "\n",
    "Let's build a K-NN classifier for whether a student has done their `co-op` based on their `prog_exp`, `age`, and `start_sal`, then examine it's accuracy, sensitivity and specificity."
   ]
  },
  {
   "cell_type": "code",
   "execution_count": 30,
   "id": "42be3993",
   "metadata": {},
   "outputs": [
    {
     "data": {
      "text/html": [
       "<div>\n",
       "<style scoped>\n",
       "    .dataframe tbody tr th:only-of-type {\n",
       "        vertical-align: middle;\n",
       "    }\n",
       "\n",
       "    .dataframe tbody tr th {\n",
       "        vertical-align: top;\n",
       "    }\n",
       "\n",
       "    .dataframe thead th {\n",
       "        text-align: right;\n",
       "    }\n",
       "</style>\n",
       "<table border=\"1\" class=\"dataframe\">\n",
       "  <thead>\n",
       "    <tr style=\"text-align: right;\">\n",
       "      <th></th>\n",
       "      <th>class</th>\n",
       "      <th>co-op</th>\n",
       "      <th>prog_exp</th>\n",
       "      <th>age</th>\n",
       "      <th>start_sal</th>\n",
       "      <th>datetimestamp</th>\n",
       "      <th>python</th>\n",
       "      <th>java</th>\n",
       "      <th>r</th>\n",
       "      <th>c/c++</th>\n",
       "      <th>other(s)</th>\n",
       "    </tr>\n",
       "    <tr>\n",
       "      <th>student_id</th>\n",
       "      <th></th>\n",
       "      <th></th>\n",
       "      <th></th>\n",
       "      <th></th>\n",
       "      <th></th>\n",
       "      <th></th>\n",
       "      <th></th>\n",
       "      <th></th>\n",
       "      <th></th>\n",
       "      <th></th>\n",
       "      <th></th>\n",
       "    </tr>\n",
       "  </thead>\n",
       "  <tbody>\n",
       "    <tr>\n",
       "      <th>740492</th>\n",
       "      <td>Sophomore</td>\n",
       "      <td>False</td>\n",
       "      <td>9</td>\n",
       "      <td>234.0</td>\n",
       "      <td>60.0</td>\n",
       "      <td>2022-09-09 15:37:00</td>\n",
       "      <td>True</td>\n",
       "      <td>False</td>\n",
       "      <td>False</td>\n",
       "      <td>False</td>\n",
       "      <td>True</td>\n",
       "    </tr>\n",
       "    <tr>\n",
       "      <th>20d026</th>\n",
       "      <td>Sophomore</td>\n",
       "      <td>False</td>\n",
       "      <td>7</td>\n",
       "      <td>233.0</td>\n",
       "      <td>100.0</td>\n",
       "      <td>2022-09-09 16:01:00</td>\n",
       "      <td>True</td>\n",
       "      <td>False</td>\n",
       "      <td>False</td>\n",
       "      <td>False</td>\n",
       "      <td>False</td>\n",
       "    </tr>\n",
       "    <tr>\n",
       "      <th>e7fc49</th>\n",
       "      <td>Junior</td>\n",
       "      <td>True</td>\n",
       "      <td>7</td>\n",
       "      <td>252.0</td>\n",
       "      <td>70.0</td>\n",
       "      <td>2022-09-09 14:19:00</td>\n",
       "      <td>True</td>\n",
       "      <td>True</td>\n",
       "      <td>False</td>\n",
       "      <td>True</td>\n",
       "      <td>False</td>\n",
       "    </tr>\n",
       "    <tr>\n",
       "      <th>a49897</th>\n",
       "      <td>Junior</td>\n",
       "      <td>False</td>\n",
       "      <td>7</td>\n",
       "      <td>243.0</td>\n",
       "      <td>50.0</td>\n",
       "      <td>2022-09-09 16:07:00</td>\n",
       "      <td>True</td>\n",
       "      <td>True</td>\n",
       "      <td>False</td>\n",
       "      <td>False</td>\n",
       "      <td>False</td>\n",
       "    </tr>\n",
       "    <tr>\n",
       "      <th>425374</th>\n",
       "      <td>Sophomore</td>\n",
       "      <td>False</td>\n",
       "      <td>5</td>\n",
       "      <td>231.0</td>\n",
       "      <td>90.0</td>\n",
       "      <td>2022-09-09 16:06:00</td>\n",
       "      <td>True</td>\n",
       "      <td>False</td>\n",
       "      <td>True</td>\n",
       "      <td>False</td>\n",
       "      <td>False</td>\n",
       "    </tr>\n",
       "  </tbody>\n",
       "</table>\n",
       "</div>"
      ],
      "text/plain": [
       "                class  co-op  prog_exp    age  start_sal        datetimestamp  \\\n",
       "student_id                                                                      \n",
       "740492      Sophomore  False         9  234.0       60.0  2022-09-09 15:37:00   \n",
       "20d026      Sophomore  False         7  233.0      100.0  2022-09-09 16:01:00   \n",
       "e7fc49         Junior   True         7  252.0       70.0  2022-09-09 14:19:00   \n",
       "a49897         Junior  False         7  243.0       50.0  2022-09-09 16:07:00   \n",
       "425374      Sophomore  False         5  231.0       90.0  2022-09-09 16:06:00   \n",
       "\n",
       "            python   java      r  c/c++  other(s)  \n",
       "student_id                                         \n",
       "740492        True  False  False  False      True  \n",
       "20d026        True  False  False  False     False  \n",
       "e7fc49        True   True  False   True     False  \n",
       "a49897        True   True  False  False     False  \n",
       "425374        True  False   True  False     False  "
      ]
     },
     "execution_count": 30,
     "metadata": {},
     "output_type": "execute_result"
    }
   ],
   "source": [
    "# read in the final, clean data set\n",
    "df_gtky = pd.read_csv('final_gtky.csv', index_col='student_id')\n",
    "df_gtky.dropna(how='any', inplace=True)\n",
    "df_gtky.head()"
   ]
  },
  {
   "cell_type": "code",
   "execution_count": null,
   "id": "341c3bba",
   "metadata": {},
   "outputs": [],
   "source": []
  },
  {
   "cell_type": "code",
   "execution_count": null,
   "id": "a5698398",
   "metadata": {},
   "outputs": [],
   "source": []
  },
  {
   "cell_type": "code",
   "execution_count": null,
   "id": "35d37923",
   "metadata": {},
   "outputs": [],
   "source": []
  }
 ],
 "metadata": {
  "kernelspec": {
   "display_name": "Python 3 (ipykernel)",
   "language": "python",
   "name": "python3"
  },
  "language_info": {
   "codemirror_mode": {
    "name": "ipython",
    "version": 3
   },
   "file_extension": ".py",
   "mimetype": "text/x-python",
   "name": "python",
   "nbconvert_exporter": "python",
   "pygments_lexer": "ipython3",
   "version": "3.11.7"
  }
 },
 "nbformat": 4,
 "nbformat_minor": 5
}
