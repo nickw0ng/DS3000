{
 "cells": [
  {
   "cell_type": "markdown",
   "id": "a19e7d26",
   "metadata": {
    "slideshow": {
     "slide_type": "slide"
    }
   },
   "source": [
    "# DS3000 Lesson 1\n",
    "\n",
    "#### Logistics: \n",
    "- Homework 1 releases after the class\n",
    "- No class on July 4th but instructor will still hold the office hour\n",
    "- Remember to sign up for Piazza\n",
    "- Check the group assignment later today\n",
    "\n",
    "We will dive more in-depth with some of the topics from the lightning review, plus talk about a few new things. When we are going through a topic we've already introduced, I may skip a slide here and there and leave it as practice for you out of class time, but we can always review a slide as needed. This lesson continues with: \n",
    "\n",
    "- Operators (Arithmetic & Logical)\n",
    "- Python types (list, tuple, string, dictionary)\n",
    "- Flow Control (If-statments)\n",
    "\n",
    "\n",
    "*(last lesson was Lesson 0 ... python indexes starting at 0)\n",
    "\n",
    "++ denotes a nuance not necessary for DS3000, but helpful to point out as we (re)welcome everyone to python!"
   ]
  },
  {
   "cell_type": "markdown",
   "id": "efeafb73",
   "metadata": {
    "slideshow": {
     "slide_type": "slide"
    }
   },
   "source": [
    "# Python variable names\n",
    "\n",
    "- can have letters, digits and underscores but may not begin with a digit\n",
    "- python is case sensitive (though, by convention, variables are all lower case.  use underscores to seperate words)\n",
    "- See the supplemental materials for the naming guideline. \n"
   ]
  },
  {
   "cell_type": "code",
   "execution_count": null,
   "id": "37cf3918",
   "metadata": {},
   "outputs": [
    {
     "ename": "",
     "evalue": "",
     "output_type": "error",
     "traceback": [
      "\u001b[1;31mRunning cells with 'Python 3.12.4' requires the ipykernel package.\n",
      "\u001b[1;31mRun the following command to install 'ipykernel' into the Python environment. \n",
      "\u001b[1;31mCommand: '\"c:/Program Files/Python312/python.exe\" -m pip install ipykernel -U --user --force-reinstall'"
     ]
    }
   ],
   "source": [
    "some_string = \"a\"\n",
    "some_string"
   ]
  },
  {
   "cell_type": "markdown",
   "id": "c1773ad6",
   "metadata": {
    "slideshow": {
     "slide_type": "slide"
    }
   },
   "source": [
    "## Arithmetic Operators\n",
    "| Python operation | Arithmetic operator | Python expression\n",
    "| :-------- | :-------- | :-------- \n",
    "| Addition | `+`  | `f + 7` \n",
    "| Subtraction | `–` | `p - c` \n",
    "| Multiplication | `*` | `b * m` \n",
    "| Exponentiation | `**` |  `x ** y` \n",
    "| True division | `/` | `x / y` \n",
    "| Floor division | `//` | `x // y` \n",
    "| Remainder (modulo) | `%` | `r % s` \n",
    "\n",
    "* [All operators and their precedence](https://docs.python.org/3/reference/expressions.html#operator-precedence)"
   ]
  },
  {
   "cell_type": "code",
   "execution_count": null,
   "id": "c85464fd",
   "metadata": {},
   "outputs": [],
   "source": []
  },
  {
   "cell_type": "markdown",
   "id": "e371e80c",
   "metadata": {
    "slideshow": {
     "slide_type": "slide"
    }
   },
   "source": [
    "## Logical Operators\n",
    "\n",
    "Algebraic operator | Python operator | Sample condition | Meaning \n",
    ":---- | :---- | :---- | :----\n",
    "&gt;  | `>` | `x > y` | `x` is greater than `y`\n",
    "&lt;  | `<` | `x < y` | `x` is less than `y`\n",
    "&ge; | `>=` | `x >= y` | `x` is greater than or equal to `y`\n",
    "&le; | `<=` | `x <= y` | `x` is less than or equal to `y`\n",
    "= | `==` | `x == y` | `x` is equal to `y`\n",
    "&ne; | `!=` | `x != y` | `x` is not equal to `y`"
   ]
  },
  {
   "cell_type": "code",
   "execution_count": null,
   "id": "f073a57b",
   "metadata": {},
   "outputs": [],
   "source": []
  },
  {
   "cell_type": "code",
   "execution_count": null,
   "id": "9a69f1de",
   "metadata": {},
   "outputs": [],
   "source": []
  },
  {
   "cell_type": "code",
   "execution_count": null,
   "id": "0fc5af70",
   "metadata": {},
   "outputs": [],
   "source": []
  },
  {
   "cell_type": "code",
   "execution_count": 1,
   "id": "8bb5e804",
   "metadata": {},
   "outputs": [],
   "source": [
    "# \"is\" can be used for comparison, but not all the comparison\n"
   ]
  },
  {
   "cell_type": "code",
   "execution_count": null,
   "id": "3a259edb",
   "metadata": {},
   "outputs": [],
   "source": []
  },
  {
   "cell_type": "markdown",
   "id": "db6c8a88",
   "metadata": {
    "slideshow": {
     "slide_type": "slide"
    }
   },
   "source": [
    "## Type Casting (converting between variable types)"
   ]
  },
  {
   "cell_type": "code",
   "execution_count": null,
   "id": "11e76fa9",
   "metadata": {},
   "outputs": [],
   "source": []
  },
  {
   "cell_type": "code",
   "execution_count": null,
   "id": "aa774428",
   "metadata": {},
   "outputs": [],
   "source": []
  },
  {
   "cell_type": "code",
   "execution_count": null,
   "id": "49453022",
   "metadata": {},
   "outputs": [],
   "source": []
  },
  {
   "cell_type": "markdown",
   "id": "f536f16d",
   "metadata": {
    "slideshow": {
     "slide_type": "slide"
    }
   },
   "source": [
    "## Control Flow w/ Logical Operators (if blocks)"
   ]
  },
  {
   "cell_type": "code",
   "execution_count": 2,
   "id": "89305a20",
   "metadata": {},
   "outputs": [
    {
     "name": "stdout",
     "output_type": "stream",
     "text": [
      "You got an A-\n"
     ]
    }
   ],
   "source": [
    "grade = 88\n",
    "\n",
    "if grade >= 90:\n",
    "    print (\"You got an A\")\n",
    "elif grade >= 87:\n",
    "    print (\"You got an A-\")\n",
    "else:\n",
    "    print('some other grade')\n",
    "\n"
   ]
  },
  {
   "cell_type": "markdown",
   "id": "1cc0dba2",
   "metadata": {
    "slideshow": {
     "slide_type": "slide"
    }
   },
   "source": [
    "## Boolean operators (and, or, not)"
   ]
  },
  {
   "cell_type": "code",
   "execution_count": null,
   "id": "c97512b7",
   "metadata": {},
   "outputs": [],
   "source": []
  },
  {
   "cell_type": "markdown",
   "id": "1e53d90d",
   "metadata": {
    "slideshow": {
     "slide_type": "slide"
    }
   },
   "source": [
    "# `input()`"
   ]
  },
  {
   "cell_type": "code",
   "execution_count": 2,
   "id": "84e2efa6",
   "metadata": {},
   "outputs": [
    {
     "name": "stdout",
     "output_type": "stream",
     "text": [
      "The user number is 5\n"
     ]
    }
   ],
   "source": [
    "## getting input from user\n",
    "\n",
    "number = int(input('input a number '))\n",
    "print('The user number is', number)\n"
   ]
  },
  {
   "cell_type": "markdown",
   "id": "84909819-8111-45e3-972b-ec1fccc31c42",
   "metadata": {},
   "source": [
    "### Exercise 1\n",
    "\n",
    "Write a Python program that asks the user for their age and checks if they are eligible to vote, drive, and rent a car. The program should:\n",
    "\n",
    "1. Prompt the user to enter their age.\n",
    "2. Check if the input is a valid number.\n",
    "3. Use if statements and Boolean operators to determine:\n",
    "    - If the user is eligible to vote (age >= 18).\n",
    "    - If the user is eligible to drive (age >= 16).\n",
    "    - If the user is eligible to rent a car (age >= 25).\n",
    "4. Print appropriate messages based on the user's age."
   ]
  },
  {
   "cell_type": "code",
   "execution_count": null,
   "id": "9e3189f4-3026-469e-aa4b-7de872cea6ff",
   "metadata": {},
   "outputs": [],
   "source": []
  },
  {
   "cell_type": "markdown",
   "id": "7cfff974",
   "metadata": {
    "slideshow": {
     "slide_type": "slide"
    }
   },
   "source": [
    "## Lists\n",
    "A python **list** is:\n",
    "- an ordered sequence of objects\n",
    "- **mutable** (mutable objects can be modified, immutable objects (like tuples) may not)\n",
    "- implemented as a [dynamic array](https://en.wikipedia.org/wiki/Linked_list#Linked_lists_vs._dynamic_arrays)\n",
    "\n",
    "see [python doc](https://docs.python.org/3/tutorial/datastructures.html) for more detail\n",
    "\n",
    "### Initializing a list, adding, inserting and appending elements"
   ]
  },
  {
   "cell_type": "code",
   "execution_count": 23,
   "id": "122aef9b",
   "metadata": {},
   "outputs": [
    {
     "data": {
      "text/plain": [
       "'hello'"
      ]
     },
     "execution_count": 23,
     "metadata": {},
     "output_type": "execute_result"
    }
   ],
   "source": [
    "some_list = [1,2,'hello','hello']\n",
    "some_list[2]"
   ]
  },
  {
   "cell_type": "code",
   "execution_count": 7,
   "id": "671a4000",
   "metadata": {},
   "outputs": [
    {
     "data": {
      "text/plain": [
       "2"
      ]
     },
     "execution_count": 7,
     "metadata": {},
     "output_type": "execute_result"
    }
   ],
   "source": [
    "some_list.index('hello')"
   ]
  },
  {
   "cell_type": "code",
   "execution_count": 8,
   "id": "b03a3e07",
   "metadata": {},
   "outputs": [
    {
     "data": {
      "text/plain": [
       "False"
      ]
     },
     "execution_count": 8,
     "metadata": {},
     "output_type": "execute_result"
    }
   ],
   "source": [
    "'hello world' in some_list"
   ]
  },
  {
   "cell_type": "code",
   "execution_count": 24,
   "id": "cc89d63b",
   "metadata": {},
   "outputs": [
    {
     "data": {
      "text/plain": [
       "[1, 2, 'hello', 'hello', 'nick']"
      ]
     },
     "execution_count": 24,
     "metadata": {},
     "output_type": "execute_result"
    }
   ],
   "source": [
    "some_list.append('nick')\n",
    "some_list"
   ]
  },
  {
   "cell_type": "code",
   "execution_count": 25,
   "id": "bfa079d6",
   "metadata": {},
   "outputs": [
    {
     "data": {
      "text/plain": [
       "[1, 'test', 2, 'hello', 'hello', 'nick']"
      ]
     },
     "execution_count": 25,
     "metadata": {},
     "output_type": "execute_result"
    }
   ],
   "source": [
    "some_list.insert(1, 'test')\n",
    "some_list"
   ]
  },
  {
   "cell_type": "code",
   "execution_count": null,
   "id": "a1f81e58",
   "metadata": {},
   "outputs": [],
   "source": []
  },
  {
   "cell_type": "markdown",
   "id": "6171b09f",
   "metadata": {
    "slideshow": {
     "slide_type": "slide"
    }
   },
   "source": [
    "## Slicing a list (part 1)\n",
    "A slice refers to a \"contiguous\" run of items in a list.  Slicing returns these elements from the list.\n",
    "\n",
    "![](https://i.ibb.co/JK1VHpy/list1.png)"
   ]
  },
  {
   "cell_type": "code",
   "execution_count": 50,
   "id": "3a84f6f4",
   "metadata": {},
   "outputs": [
    {
     "data": {
      "text/plain": [
       "[-45, 6, 0, 72, 1543]"
      ]
     },
     "execution_count": 50,
     "metadata": {},
     "output_type": "execute_result"
    }
   ],
   "source": [
    "# lets build the example above\n",
    "c = [-45, 6, 0, 72, 1543]\n",
    "c"
   ]
  },
  {
   "cell_type": "code",
   "execution_count": null,
   "id": "5f446ff2",
   "metadata": {},
   "outputs": [],
   "source": []
  },
  {
   "cell_type": "code",
   "execution_count": null,
   "id": "5e047171",
   "metadata": {},
   "outputs": [],
   "source": []
  },
  {
   "cell_type": "code",
   "execution_count": null,
   "id": "06dee335",
   "metadata": {},
   "outputs": [],
   "source": []
  },
  {
   "cell_type": "markdown",
   "id": "55c8f566",
   "metadata": {
    "slideshow": {
     "slide_type": "slide"
    }
   },
   "source": [
    "## Slicing a list (part 2)"
   ]
  },
  {
   "cell_type": "markdown",
   "id": "b1189659",
   "metadata": {
    "slideshow": {
     "slide_type": "-"
    }
   },
   "source": [
    "Negative indices are helpful if we want to start counting from the \"end\" of a list:\n",
    "\n",
    "![](https://i.ibb.co/RGF8sPW/list2.png)"
   ]
  },
  {
   "cell_type": "code",
   "execution_count": 55,
   "id": "79962040",
   "metadata": {},
   "outputs": [],
   "source": [
    "c = [-45, 6, 0, 72, 1543]"
   ]
  },
  {
   "cell_type": "code",
   "execution_count": null,
   "id": "126d4a9b",
   "metadata": {},
   "outputs": [],
   "source": []
  },
  {
   "cell_type": "code",
   "execution_count": null,
   "id": "0582602d",
   "metadata": {},
   "outputs": [],
   "source": []
  },
  {
   "cell_type": "markdown",
   "id": "8274c8ff",
   "metadata": {},
   "source": [
    "We might be interested in skipping through the list by some constant index (skipping by 2 gets every other index, for example)"
   ]
  },
  {
   "cell_type": "code",
   "execution_count": 27,
   "id": "b2fb0b3c",
   "metadata": {},
   "outputs": [
    {
     "data": {
      "text/plain": [
       "[-45, 0, 1543]"
      ]
     },
     "execution_count": 27,
     "metadata": {},
     "output_type": "execute_result"
    }
   ],
   "source": [
    "c = [-45, 6, 0, 72, 1543]\n",
    "c[0:5:2]"
   ]
  },
  {
   "cell_type": "code",
   "execution_count": 28,
   "id": "74a8ddf6",
   "metadata": {},
   "outputs": [
    {
     "data": {
      "text/plain": [
       "[6, 72]"
      ]
     },
     "execution_count": 28,
     "metadata": {},
     "output_type": "execute_result"
    }
   ],
   "source": [
    "c[1::2]"
   ]
  },
  {
   "cell_type": "code",
   "execution_count": 29,
   "id": "d02f91de",
   "metadata": {},
   "outputs": [
    {
     "data": {
      "text/plain": [
       "[1543, 72, 0, 6]"
      ]
     },
     "execution_count": 29,
     "metadata": {},
     "output_type": "execute_result"
    }
   ],
   "source": [
    "c[5:0:-1]"
   ]
  },
  {
   "cell_type": "code",
   "execution_count": 30,
   "id": "bdeeb9a5",
   "metadata": {},
   "outputs": [
    {
     "data": {
      "text/plain": [
       "[1543, 72, 0, 6, -45]"
      ]
     },
     "execution_count": 30,
     "metadata": {},
     "output_type": "execute_result"
    }
   ],
   "source": [
    "c[::-1]"
   ]
  },
  {
   "cell_type": "code",
   "execution_count": null,
   "id": "bd0912ff",
   "metadata": {},
   "outputs": [],
   "source": []
  },
  {
   "cell_type": "markdown",
   "id": "4e6198d5-32d7-4251-8691-775b5f526445",
   "metadata": {},
   "source": [
    "### Exercise 2: \n",
    "\n",
    "Write a Python program that performs various operations on a list of student names. The program should:\n",
    "\n",
    "1. Add a new student name 'Frank' to the list.\n",
    "2. Remove a student name 'Bob' from the list.\n",
    "3. Find and print the index of 'David'.\n",
    "4. Print the list of student names in alphabetical order.\n",
    "5. Print the total number of students."
   ]
  },
  {
   "cell_type": "code",
   "execution_count": 35,
   "id": "04b98f61-25b6-4d78-97cb-c2f39e6f09f0",
   "metadata": {},
   "outputs": [
    {
     "name": "stdout",
     "output_type": "stream",
     "text": [
      "David is in index:  3\n",
      "['Alice', 'Charlie', 'David', 'Eve', 'Frank']\n"
     ]
    },
    {
     "data": {
      "text/plain": [
       "5"
      ]
     },
     "execution_count": 35,
     "metadata": {},
     "output_type": "execute_result"
    }
   ],
   "source": [
    "student = ['Charlie', 'Alice', 'Eve', \"Bob\", 'David']\n",
    "\n",
    "if 'Frank' not in student:\n",
    "    student.append('Frank')\n",
    "if 'Bob' in student:\n",
    "    student.remove('Bob')\n",
    "if 'David' in student:\n",
    "    index = student.index('David')\n",
    "    print('David is in index: ', index)\n",
    "student.sort\n",
    "sorted_student = sorted(student)\n",
    "print(sorted_student)\n",
    "len(student)\n",
    "    "
   ]
  },
  {
   "cell_type": "markdown",
   "id": "9114c9c9",
   "metadata": {
    "slideshow": {
     "slide_type": "slide"
    }
   },
   "source": [
    "### \"Arithmetic\" on lists:\n",
    "- \"multiplication\" by int: repeat list some number of times\n",
    "- \"addition\" with another list: join two lists together"
   ]
  },
  {
   "cell_type": "code",
   "execution_count": 36,
   "id": "812b08ce",
   "metadata": {},
   "outputs": [
    {
     "data": {
      "text/plain": [
       "['e', 'c', 'h', 'o', ' ']"
      ]
     },
     "execution_count": 36,
     "metadata": {},
     "output_type": "execute_result"
    }
   ],
   "source": [
    "my_list = list('echo ')\n",
    "my_list"
   ]
  },
  {
   "cell_type": "code",
   "execution_count": 37,
   "id": "341cb0a5",
   "metadata": {},
   "outputs": [
    {
     "data": {
      "text/plain": [
       "['e', 'c', 'h', 'o', ' ', 'e', 'c', 'h', 'o', ' ', 'e', 'c', 'h', 'o', ' ']"
      ]
     },
     "execution_count": 37,
     "metadata": {},
     "output_type": "execute_result"
    }
   ],
   "source": [
    "my_list * 3"
   ]
  },
  {
   "cell_type": "code",
   "execution_count": 40,
   "id": "aff1911e",
   "metadata": {},
   "outputs": [
    {
     "data": {
      "text/plain": [
       "['e', 'c', 'h', 'o', ' ', 'a', 'b', 'c']"
      ]
     },
     "execution_count": 40,
     "metadata": {},
     "output_type": "execute_result"
    }
   ],
   "source": [
    "another = list('abc')\n",
    "my_list + another"
   ]
  },
  {
   "cell_type": "markdown",
   "id": "3b8bb228",
   "metadata": {},
   "source": [
    "Generally, python often defines the behavior of operators on objects without the typical numerical meaning."
   ]
  },
  {
   "cell_type": "markdown",
   "id": "b58c76d7",
   "metadata": {},
   "source": [
    "(++) When building your own object, you may overload arithmetic, logical and comparison operations so that it has an intuitive meaning in your application.\n",
    "\n",
    "For example, consider an object which contains statistics on a brain region:\n",
    "\n",
    "``` python\n",
    "brain_region0 + brain_region1\n",
    "```\n",
    "may return a region whose volume is the union of both region, and contains statistics derived from its constituent regions."
   ]
  },
  {
   "cell_type": "markdown",
   "id": "a0799afa",
   "metadata": {
    "slideshow": {
     "slide_type": "slide"
    }
   },
   "source": [
    "### Helpful list functions (min, max, len, sorted)"
   ]
  },
  {
   "cell_type": "code",
   "execution_count": 42,
   "id": "d5a104fb",
   "metadata": {},
   "outputs": [
    {
     "data": {
      "text/plain": [
       "-100"
      ]
     },
     "execution_count": 42,
     "metadata": {},
     "output_type": "execute_result"
    }
   ],
   "source": [
    "list_of_ints = [2, 11, -10, 4, -100]\n",
    "min(list_of_ints)"
   ]
  },
  {
   "cell_type": "code",
   "execution_count": 43,
   "id": "5074c094",
   "metadata": {},
   "outputs": [
    {
     "data": {
      "text/plain": [
       "11"
      ]
     },
     "execution_count": 43,
     "metadata": {},
     "output_type": "execute_result"
    }
   ],
   "source": [
    "max(list_of_ints)"
   ]
  },
  {
   "cell_type": "code",
   "execution_count": 44,
   "id": "c3329947",
   "metadata": {},
   "outputs": [
    {
     "data": {
      "text/plain": [
       "5"
      ]
     },
     "execution_count": 44,
     "metadata": {},
     "output_type": "execute_result"
    }
   ],
   "source": [
    "len(list_of_ints)"
   ]
  },
  {
   "cell_type": "code",
   "execution_count": 46,
   "id": "a13d4529",
   "metadata": {},
   "outputs": [
    {
     "data": {
      "text/plain": [
       "[11, 4, 2, -10, -100]"
      ]
     },
     "execution_count": 46,
     "metadata": {},
     "output_type": "execute_result"
    }
   ],
   "source": [
    "sorted(list_of_ints, reverse= True)"
   ]
  },
  {
   "cell_type": "code",
   "execution_count": null,
   "id": "3961b517",
   "metadata": {},
   "outputs": [],
   "source": []
  },
  {
   "cell_type": "markdown",
   "id": "7f7ec8ff",
   "metadata": {},
   "source": [
    "You can also sort in [reverse](https://docs.python.org/3/library/functions.html#sorted) (decreasing order) by using the `reverse` parameter"
   ]
  },
  {
   "cell_type": "code",
   "execution_count": null,
   "id": "bfba9bee",
   "metadata": {},
   "outputs": [],
   "source": []
  },
  {
   "cell_type": "code",
   "execution_count": null,
   "id": "447c23a5",
   "metadata": {},
   "outputs": [],
   "source": []
  },
  {
   "cell_type": "markdown",
   "id": "28c448e7",
   "metadata": {
    "slideshow": {
     "slide_type": "slide"
    }
   },
   "source": [
    "## Tuples\n",
    "A tuple is\n",
    "- an ordered, immutable list of objects"
   ]
  },
  {
   "cell_type": "code",
   "execution_count": null,
   "id": "ec6c9642",
   "metadata": {},
   "outputs": [],
   "source": [
    "a_tuple = ('a', 1,'asdf')"
   ]
  },
  {
   "cell_type": "code",
   "execution_count": 48,
   "id": "72e748e9",
   "metadata": {},
   "outputs": [
    {
     "data": {
      "text/plain": [
       "('a', 1, 'asdf')"
      ]
     },
     "execution_count": 48,
     "metadata": {},
     "output_type": "execute_result"
    }
   ],
   "source": [
    "a_tuple = 'a', 1,'asdf'\n",
    "a_tuple"
   ]
  },
  {
   "cell_type": "code",
   "execution_count": 50,
   "id": "f2d2d826",
   "metadata": {},
   "outputs": [
    {
     "data": {
      "text/plain": [
       "('a', 1)"
      ]
     },
     "execution_count": 50,
     "metadata": {},
     "output_type": "execute_result"
    }
   ],
   "source": [
    "a_tuple[:2]"
   ]
  },
  {
   "cell_type": "code",
   "execution_count": null,
   "id": "d055929c",
   "metadata": {},
   "outputs": [],
   "source": []
  },
  {
   "cell_type": "code",
   "execution_count": null,
   "id": "af538268",
   "metadata": {
    "scrolled": true
   },
   "outputs": [],
   "source": []
  },
  {
   "cell_type": "markdown",
   "id": "01ebaf62",
   "metadata": {
    "slideshow": {
     "slide_type": "slide"
    }
   },
   "source": [
    "### Tuple unpacking"
   ]
  },
  {
   "cell_type": "code",
   "execution_count": 52,
   "id": "457e5f65",
   "metadata": {},
   "outputs": [
    {
     "data": {
      "text/plain": [
       "'a'"
      ]
     },
     "execution_count": 52,
     "metadata": {},
     "output_type": "execute_result"
    }
   ],
   "source": [
    "letter_tuple = \"a\", \"b\", \"c\", \"d\"\n",
    "letter_tuple\n",
    "\n",
    "member0, member1, member2, member3 = letter_tuple\n",
    "member0\n"
   ]
  },
  {
   "cell_type": "markdown",
   "id": "127271cd",
   "metadata": {
    "slideshow": {
     "slide_type": "slide"
    }
   },
   "source": [
    "## Dictionary\n",
    "python dictionary\n",
    "- unordered collection which stores key-value pairs \n",
    "- mutable\n",
    "\n",
    "a real-life dictionary matches words to definitions, the words are keys and the definitions are values.  Note that a real-life dictionary is sorted for our convenience, python dictionaries are not!"
   ]
  },
  {
   "cell_type": "code",
   "execution_count": 53,
   "id": "8cc965c6",
   "metadata": {},
   "outputs": [
    {
     "data": {
      "text/plain": [
       "2"
      ]
     },
     "execution_count": 53,
     "metadata": {},
     "output_type": "execute_result"
    }
   ],
   "source": [
    "fav_number_dictionary = {'Xiaoyi': 8, 'Anne': 73, 'Nick': 2}\n",
    "fav_number_dictionary['Nick']"
   ]
  },
  {
   "cell_type": "code",
   "execution_count": 54,
   "id": "448996a8",
   "metadata": {},
   "outputs": [
    {
     "data": {
      "text/plain": [
       "{'Xiaoyi': 8, 'Anne': 73, 'Nick': 2, 'Zeke': 99}"
      ]
     },
     "execution_count": 54,
     "metadata": {},
     "output_type": "execute_result"
    }
   ],
   "source": [
    "fav_number_dictionary['Zeke'] = 99\n",
    "fav_number_dictionary"
   ]
  },
  {
   "cell_type": "code",
   "execution_count": 55,
   "id": "676e3fba",
   "metadata": {},
   "outputs": [
    {
     "data": {
      "text/plain": [
       "dict_keys(['Xiaoyi', 'Anne', 'Nick', 'Zeke'])"
      ]
     },
     "execution_count": 55,
     "metadata": {},
     "output_type": "execute_result"
    }
   ],
   "source": [
    "fav_number_dictionary.keys()"
   ]
  },
  {
   "cell_type": "code",
   "execution_count": 56,
   "id": "89957c29",
   "metadata": {},
   "outputs": [
    {
     "data": {
      "text/plain": [
       "dict_values([8, 73, 2, 99])"
      ]
     },
     "execution_count": 56,
     "metadata": {},
     "output_type": "execute_result"
    }
   ],
   "source": [
    "fav_number_dictionary.values()"
   ]
  },
  {
   "cell_type": "code",
   "execution_count": 57,
   "id": "dd1659c5",
   "metadata": {},
   "outputs": [
    {
     "data": {
      "text/plain": [
       "dict_items([('Xiaoyi', 8), ('Anne', 73), ('Nick', 2), ('Zeke', 99)])"
      ]
     },
     "execution_count": 57,
     "metadata": {},
     "output_type": "execute_result"
    }
   ],
   "source": [
    "fav_number_dictionary.items()"
   ]
  },
  {
   "cell_type": "code",
   "execution_count": 61,
   "id": "b3137823",
   "metadata": {},
   "outputs": [
    {
     "data": {
      "text/plain": [
       "{'Xiaoyi': 8, 'Anne': 73, 'Nick': 2, 'Zeke': 99, 'Eric': 17, 'Arthur': 42}"
      ]
     },
     "execution_count": 61,
     "metadata": {},
     "output_type": "execute_result"
    }
   ],
   "source": [
    "another_dictionary = {\"Eric\":17, \"Arthur\": 42}\n",
    "fav_number_dictionary.update(another_dictionary)\n",
    "fav_number_dictionary"
   ]
  },
  {
   "cell_type": "code",
   "execution_count": 62,
   "id": "59fc1093",
   "metadata": {},
   "outputs": [
    {
     "data": {
      "text/plain": [
       "{'Anne': 73, 'Nick': 2, 'Zeke': 99, 'Eric': 17, 'Arthur': 42}"
      ]
     },
     "execution_count": 62,
     "metadata": {},
     "output_type": "execute_result"
    }
   ],
   "source": [
    "del fav_number_dictionary['Xiaoyi']\n",
    "fav_number_dictionary"
   ]
  },
  {
   "cell_type": "code",
   "execution_count": null,
   "id": "1bdd4bb8",
   "metadata": {},
   "outputs": [],
   "source": []
  },
  {
   "cell_type": "code",
   "execution_count": null,
   "id": "5c52e10f-b488-4843-a1a5-0f1e65bab5b9",
   "metadata": {},
   "outputs": [],
   "source": []
  },
  {
   "cell_type": "markdown",
   "id": "d647916a-c69d-4920-a0ec-ede8c09e4c6e",
   "metadata": {},
   "source": [
    "### Exercise 3\n",
    "\n",
    "Talk to your neighbors and ask for their major. Note, people can have more than one major. Write a Python program that manages a dictionary of students and their majors. The program should:\n",
    "\n",
    "1. Add a new course for a specific student.\n",
    "2. Remove a course from a specific student's list of courses.\n",
    "3. Print all courses for a specific student.\n",
    "4. Print the total number of courses each student is enrolled in."
   ]
  },
  {
   "cell_type": "code",
   "execution_count": 69,
   "id": "5caea3d7",
   "metadata": {},
   "outputs": [
    {
     "name": "stdout",
     "output_type": "stream",
     "text": [
      "['Computer Scince', 'Math', 'French']\n",
      "{'Nick': 3, 'John': 2, 'Emily': 14}\n"
     ]
    }
   ],
   "source": [
    "student_majors = {\n",
    "    'Nick': ['Computer Scince', 'Math'],\n",
    "    'John': ['Data Science', 'Economics'],\n",
    "    'Emily': 'Health Science'}\n",
    "\n",
    "# number 1\n",
    "def add_majors(student,major):\n",
    "    if student in student_majors:\n",
    "        student_majors[student].append(major)\n",
    "        print(student_majors[student])\n",
    "    else:\n",
    "        print(student, 'is not in the dictionary')\n",
    "    \n",
    "add_majors('Nick', 'French')\n",
    "\n",
    "def major_number():\n",
    "    total_majors = {student: len(majors) for student, majors in student_majors.items()}\n",
    "    print(total_majors)\n",
    "\n",
    "major_number()\n",
    "\n",
    "\n"
   ]
  }
 ],
 "metadata": {
  "celltoolbar": "Slideshow",
  "kernelspec": {
   "display_name": "Python 3 (ipykernel)",
   "language": "python",
   "name": "python3"
  },
  "language_info": {
   "codemirror_mode": {
    "name": "ipython",
    "version": 3
   },
   "file_extension": ".py",
   "mimetype": "text/x-python",
   "name": "python",
   "nbconvert_exporter": "python",
   "pygments_lexer": "ipython3",
   "version": "3.12.4"
  }
 },
 "nbformat": 4,
 "nbformat_minor": 5
}
