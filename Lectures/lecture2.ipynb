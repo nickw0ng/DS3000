{
 "cells": [
  {
   "cell_type": "markdown",
   "id": "39e41d4a",
   "metadata": {
    "slideshow": {
     "slide_type": "slide"
    }
   },
   "source": [
    "# DS3000 Lesson 2\n",
    "\n",
    "#### Logistics: \n",
    "- Homework 1 is due on July 7th\n",
    "- Make sure to check your group assignment\n",
    "\n",
    "#### Content:\n",
    "- Iteration\n",
    "- Function\n",
    "- Assert\n",
    "- Import\n",
    "- Counting with dictionaries\n",
    "    - Should be able to completely do HW 1 after this lesson\n"
   ]
  },
  {
   "cell_type": "markdown",
   "id": "474af87c",
   "metadata": {
    "slideshow": {
     "slide_type": "slide"
    }
   },
   "source": [
    "# `+= 1`"
   ]
  },
  {
   "cell_type": "code",
   "execution_count": null,
   "id": "9daf9083",
   "metadata": {},
   "outputs": [],
   "source": []
  },
  {
   "cell_type": "code",
   "execution_count": null,
   "id": "21fd3b90",
   "metadata": {},
   "outputs": [],
   "source": []
  },
  {
   "cell_type": "markdown",
   "id": "c0904aa6",
   "metadata": {
    "slideshow": {
     "slide_type": "slide"
    }
   },
   "source": [
    "## Range"
   ]
  },
  {
   "cell_type": "code",
   "execution_count": 1,
   "id": "4d7e495e",
   "metadata": {},
   "outputs": [
    {
     "data": {
      "text/plain": [
       "range(0, 10)"
      ]
     },
     "execution_count": 1,
     "metadata": {},
     "output_type": "execute_result"
    }
   ],
   "source": [
    "range(10)"
   ]
  },
  {
   "cell_type": "code",
   "execution_count": 2,
   "id": "a5cfb63b",
   "metadata": {},
   "outputs": [
    {
     "data": {
      "text/plain": [
       "[0, 1, 2, 3, 4, 5, 6, 7, 8, 9]"
      ]
     },
     "execution_count": 2,
     "metadata": {},
     "output_type": "execute_result"
    }
   ],
   "source": [
    "list(range(10))"
   ]
  },
  {
   "cell_type": "code",
   "execution_count": 3,
   "id": "f27ac2ef",
   "metadata": {},
   "outputs": [
    {
     "data": {
      "text/plain": [
       "[1, 3, 5, 7, 9]"
      ]
     },
     "execution_count": 3,
     "metadata": {},
     "output_type": "execute_result"
    }
   ],
   "source": [
    "list(range(1, 10, 2))"
   ]
  },
  {
   "cell_type": "code",
   "execution_count": 5,
   "id": "eaf96f03",
   "metadata": {},
   "outputs": [
    {
     "data": {
      "text/plain": [
       "[1, 3, 5, 7, 9]"
      ]
     },
     "execution_count": 5,
     "metadata": {},
     "output_type": "execute_result"
    }
   ],
   "source": [
    "list(range(1,10))[0:10:2]"
   ]
  },
  {
   "cell_type": "markdown",
   "id": "0b17a24f",
   "metadata": {
    "slideshow": {
     "slide_type": "slide"
    }
   },
   "source": [
    "## Iteration: For Loops\n",
    "For loops run the same block of code multiple times, allowing us to avoid copy-pasting code.\n"
   ]
  },
  {
   "cell_type": "code",
   "execution_count": 9,
   "id": "9f408f12",
   "metadata": {},
   "outputs": [
    {
     "name": "stdout",
     "output_type": "stream",
     "text": [
      "0\n",
      "1\n",
      "4\n",
      "9\n",
      "16\n"
     ]
    }
   ],
   "source": [
    "# verbose code which prints square of first n integers\n",
    "print(0**2)\n",
    "print(1**2)\n",
    "print(2**2)\n",
    "print(3**2)\n",
    "print(4**2)"
   ]
  },
  {
   "cell_type": "code",
   "execution_count": 6,
   "id": "1911df3a",
   "metadata": {},
   "outputs": [
    {
     "name": "stdout",
     "output_type": "stream",
     "text": [
      "The current index is 0\n",
      "The square number is 0\n",
      "The current index is 1\n",
      "The square number is 1\n",
      "The current index is 2\n",
      "The square number is 4\n",
      "The current index is 3\n",
      "The square number is 9\n",
      "The current index is 4\n",
      "The square number is 16\n",
      "The current index is 5\n",
      "The square number is 25\n",
      "The current index is 6\n",
      "The square number is 36\n",
      "The current index is 7\n",
      "The square number is 49\n",
      "The current index is 8\n",
      "The square number is 64\n",
      "The current index is 9\n",
      "The square number is 81\n"
     ]
    }
   ],
   "source": [
    "for idx in range(10):\n",
    "    print('The current index is', idx)\n",
    "    print('The square number is', idx**2)"
   ]
  },
  {
   "cell_type": "markdown",
   "id": "3f68a934",
   "metadata": {
    "slideshow": {
     "slide_type": "slide"
    }
   },
   "source": [
    "### iterating through a list (or a tuple):\n",
    "We often want to operate on all the items in some collection of items (list, tuple, strings):"
   ]
  },
  {
   "cell_type": "code",
   "execution_count": 7,
   "id": "91ac9847",
   "metadata": {},
   "outputs": [
    {
     "data": {
      "text/plain": [
       "[16, 64, 4, 36]"
      ]
     },
     "execution_count": 7,
     "metadata": {},
     "output_type": "execute_result"
    }
   ],
   "source": [
    "# iterate through the list and square everything, saving to a new list\n",
    "# the numbers we want to square\n",
    "some_list = [4,8,-2,6]\n",
    "\n",
    "another_list = list()\n",
    "\n",
    "for idx in some_list:\n",
    "    another_list.append(idx**2)\n",
    "    \n",
    "another_list"
   ]
  },
  {
   "cell_type": "code",
   "execution_count": null,
   "id": "a9b16185",
   "metadata": {},
   "outputs": [],
   "source": []
  },
  {
   "cell_type": "code",
   "execution_count": 1,
   "id": "6a2229ac",
   "metadata": {},
   "outputs": [],
   "source": [
    "# iterate through letters\n"
   ]
  },
  {
   "cell_type": "code",
   "execution_count": 2,
   "id": "e5b9cb32",
   "metadata": {},
   "outputs": [],
   "source": [
    "# Exercise：write a nested loop such that given a list of string, \n",
    "# for each string, print 5 versions such that each version is to replace one of\n",
    "# the vowels into \"?\"\n",
    "\n",
    "strings = ['the quick brown fox jumps over the lazy dog', \n",
    "                  'sixty zippers were quickly picked from the woven jute bag']"
   ]
  },
  {
   "cell_type": "markdown",
   "id": "0b0c3e37",
   "metadata": {},
   "source": [
    "(++) need both the index and item?  Try [enumerate](https://docs.python.org/3.8/library/functions.html#enumerate)"
   ]
  },
  {
   "cell_type": "code",
   "execution_count": null,
   "id": "5c822422",
   "metadata": {},
   "outputs": [],
   "source": []
  },
  {
   "cell_type": "code",
   "execution_count": null,
   "id": "d847fd24",
   "metadata": {},
   "outputs": [],
   "source": []
  },
  {
   "cell_type": "markdown",
   "id": "c76cc69c",
   "metadata": {
    "slideshow": {
     "slide_type": "slide"
    }
   },
   "source": [
    "## iterating through a dict\n",
    "- keys\n",
    "- values\n",
    "- items (and tuple unpacking)"
   ]
  },
  {
   "cell_type": "code",
   "execution_count": 13,
   "id": "e012c106",
   "metadata": {},
   "outputs": [
    {
     "name": "stdout",
     "output_type": "stream",
     "text": [
      "Eric\n",
      "Xiaoyi\n",
      "Alice\n"
     ]
    }
   ],
   "source": [
    "some_dict = {'Eric': 17, 'Xiaoyi': 8, 'Alice':1}\n",
    "for key in some_dict.keys():\n",
    "    print(key)\n",
    "    \n"
   ]
  },
  {
   "cell_type": "code",
   "execution_count": 12,
   "id": "dc7768a4",
   "metadata": {},
   "outputs": [
    {
     "name": "stdout",
     "output_type": "stream",
     "text": [
      "17\n",
      "8\n",
      "1\n"
     ]
    }
   ],
   "source": [
    "for value in some_dict.values():\n",
    "    print(value)\n",
    "    "
   ]
  },
  {
   "cell_type": "code",
   "execution_count": 14,
   "id": "6be153dc",
   "metadata": {},
   "outputs": [
    {
     "name": "stdout",
     "output_type": "stream",
     "text": [
      "Eric 17\n",
      "Xiaoyi 8\n",
      "Alice 1\n"
     ]
    }
   ],
   "source": [
    "for key, value in some_dict.items():\n",
    "    print(key, value)"
   ]
  },
  {
   "cell_type": "markdown",
   "id": "db2fc422",
   "metadata": {
    "slideshow": {
     "slide_type": "slide"
    }
   },
   "source": [
    "## Functions in a bit more detail + practice time\n",
    "\n",
    "* defining and calling functions\n",
    "* functions with multiple inputs\n",
    "* functions with multiple outputs (tuple unpacking to the rescue!)\n",
    "* assertion"
   ]
  },
  {
   "cell_type": "code",
   "execution_count": 26,
   "id": "afe8ee45",
   "metadata": {},
   "outputs": [
    {
     "data": {
      "text/plain": [
       "9"
      ]
     },
     "execution_count": 26,
     "metadata": {},
     "output_type": "execute_result"
    }
   ],
   "source": [
    "def square(number):\n",
    "    \"\"\" squares a number\n",
    "    \n",
    "    Args:\n",
    "        number (float): input number\n",
    "        \n",
    "    Returns:\n",
    "        sq (float): square of input\n",
    "    \"\"\"\n",
    "    sq = number ** 2\n",
    "    return sq\n",
    "\n",
    "square(3)"
   ]
  },
  {
   "cell_type": "markdown",
   "id": "355bf36b",
   "metadata": {},
   "source": [
    "* Definition begins with the (**`def` keyword**, followed by the function name, a set of parentheses and a colon (`:`). \n",
    ">```python\n",
    "def square(number):\n",
    "```\n",
    "* By convention function names should begin with a lowercase letter and in multiword names underscores should separate each word. \n",
    "* Required parentheses contain the function’s **parameter list**, if any.\n",
    "* The indented lines after the colon (`:`) are the function’s **block**\n",
    "    * Consists of a docstring followed by the statements that perform the function’s task.\n",
    "> ```python\n",
    "> \"\"\" squares a number\n",
    "> \n",
    "> Args:\n",
    ">     number (float): input number\n",
    "> \n",
    "> Returns:\n",
    ">     sq (float): square of input\n",
    "> \"\"\"\n",
    "> ```"
   ]
  },
  {
   "cell_type": "markdown",
   "id": "d4acc42b",
   "metadata": {},
   "source": [
    "### Multiple Inputs to Fnc\n",
    "- passing by order\n",
    "- passing by keyword\n",
    "- default inputs\n",
    "- passing by order & keyword"
   ]
  },
  {
   "cell_type": "code",
   "execution_count": 16,
   "id": "b9af7635",
   "metadata": {},
   "outputs": [
    {
     "data": {
      "text/plain": [
       "64"
      ]
     },
     "execution_count": 16,
     "metadata": {},
     "output_type": "execute_result"
    }
   ],
   "source": [
    "def raise_to_power(a, b = 2):\n",
    "    \"\"\" compute a to the b power\n",
    "    \n",
    "    Args: \n",
    "        a(float): base\n",
    "        b(float): exponent\n",
    "        \n",
    "    Returns: \n",
    "        out(float): a to the b-th power\n",
    "    \n",
    "    \"\"\"\n",
    "    return a**b\n",
    "\n",
    "raise_to_power(4,3)"
   ]
  },
  {
   "cell_type": "code",
   "execution_count": 17,
   "id": "4abe9fed",
   "metadata": {},
   "outputs": [
    {
     "data": {
      "text/plain": [
       "64"
      ]
     },
     "execution_count": 17,
     "metadata": {},
     "output_type": "execute_result"
    }
   ],
   "source": []
  },
  {
   "cell_type": "code",
   "execution_count": null,
   "id": "a0a1445c",
   "metadata": {},
   "outputs": [],
   "source": []
  },
  {
   "cell_type": "code",
   "execution_count": null,
   "id": "b42663f4",
   "metadata": {},
   "outputs": [],
   "source": []
  },
  {
   "cell_type": "code",
   "execution_count": null,
   "id": "4c394c42",
   "metadata": {},
   "outputs": [],
   "source": []
  },
  {
   "cell_type": "code",
   "execution_count": null,
   "id": "89952eb5",
   "metadata": {},
   "outputs": [],
   "source": []
  },
  {
   "cell_type": "markdown",
   "id": "24c0a3d6",
   "metadata": {
    "slideshow": {
     "slide_type": "slide"
    }
   },
   "source": [
    "### Multiple Outputs From Fnc\n",
    "- tuple unpacking allows for multiple outputs"
   ]
  },
  {
   "cell_type": "code",
   "execution_count": null,
   "id": "869ae559",
   "metadata": {},
   "outputs": [],
   "source": []
  },
  {
   "cell_type": "code",
   "execution_count": null,
   "id": "0dba82a8",
   "metadata": {},
   "outputs": [],
   "source": []
  },
  {
   "cell_type": "code",
   "execution_count": 39,
   "id": "cd3f9fe5",
   "metadata": {},
   "outputs": [],
   "source": [
    "def get_multiple(x):\n",
    "    \"\"\" computes first few multiples of x\n",
    "    \n",
    "    Args:\n",
    "        x (float): input number\n",
    "        \n",
    "    Returns:\n",
    "        mult1 (float): x\n",
    "        mult2 (float): 2x\n",
    "        mult3 (float): 3x\n",
    "    \"\"\"\n",
    "    return "
   ]
  },
  {
   "cell_type": "code",
   "execution_count": null,
   "id": "14cffe9d",
   "metadata": {},
   "outputs": [],
   "source": []
  },
  {
   "cell_type": "code",
   "execution_count": null,
   "id": "64b20af6",
   "metadata": {},
   "outputs": [],
   "source": []
  },
  {
   "cell_type": "markdown",
   "id": "04d99722-c09a-4c34-9f58-568cbb674244",
   "metadata": {},
   "source": [
    "### Exercise 1\n",
    "\n",
    "Here is a list of employees and their age and salary. Define a function calculate_average_salary that takes a list of employee tuples and returns the average salary."
   ]
  },
  {
   "cell_type": "code",
   "execution_count": 4,
   "id": "8e00f8c8-8df1-49f6-a1be-ebc0c3186b98",
   "metadata": {},
   "outputs": [],
   "source": [
    "employees = [\n",
    "        (\"Alice\", 30, 70000),\n",
    "        (\"Bob\", 25, 50000),\n",
    "        (\"Charlie\", 35, 80000),\n",
    "        (\"David\", 40, 90000),\n",
    "        (\"Eve\", 28, 60000)\n",
    "]"
   ]
  },
  {
   "cell_type": "markdown",
   "id": "c28873cf",
   "metadata": {
    "slideshow": {
     "slide_type": "slide"
    }
   },
   "source": [
    "## Assert (function behavior)\n",
    "\n",
    "We may want to check that the inputs to a function are appropriate."
   ]
  },
  {
   "cell_type": "code",
   "execution_count": 19,
   "id": "ee7f564c",
   "metadata": {},
   "outputs": [],
   "source": [
    "def alpha_sort_list(list_in):\n",
    "    \"\"\" sorts a list, alphabetically (regardless of case)\n",
    "    \n",
    "    Args:\n",
    "        list_in (list): list of strings\n",
    "        \n",
    "    Return:\n",
    "        list_out (list): list of strings, alpha sorted\n",
    "    \"\"\"\n",
    "    \n",
    "    return sorted(list_in)"
   ]
  },
  {
   "cell_type": "markdown",
   "id": "6e4f98d1",
   "metadata": {},
   "source": [
    "Does the function above work?  Seems to work on first glance ... to be sure lets build a little set of test cases and ensure it works as expected.\n",
    "\n",
    "A test case is a set of inputs and outputs to a function with our intended behavior."
   ]
  },
  {
   "cell_type": "code",
   "execution_count": 23,
   "id": "22320c19",
   "metadata": {},
   "outputs": [],
   "source": [
    "assert alpha_sort_list(['Eliana', 'Callum', 'Bruno']) == ['Bruno', 'Callum', 'Eliana']\n",
    "#assert alpha_sort_list(['Eliana', 'callum', 'Bruno']) == ['Bruno', 'callum', 'Eliana']"
   ]
  },
  {
   "cell_type": "markdown",
   "id": "fae596e7",
   "metadata": {},
   "source": [
    "# LECTURE BREAK/PRACTICE\n",
    "\n",
    "The Standard Creepiness Rule states that you shouldn't date anyone younger than $\\frac{Your Age}{2} + 7$:\n",
    "\n",
    "![dating](https://imgs.xkcd.com/comics/dating_pools.png)\n",
    "\n",
    "Spend 5-10 minutes writing a function that takes as input a person's age, and outputs the sentence: `\"You can date people at least {result} years old.\"` Where `{result}` is the result of calculating the lower bound of the SRC.\n",
    "\n",
    "Then, define a variable `neighbor_age = int(input())` and pass it to your function after your neighbor enters their age.\n",
    "\n",
    "**note**: we are using `int(input())` because by default `input()` takes only strings and we are going to be passing our function an integer."
   ]
  },
  {
   "cell_type": "code",
   "execution_count": null,
   "id": "4cbaa098",
   "metadata": {},
   "outputs": [],
   "source": []
  },
  {
   "cell_type": "markdown",
   "id": "709080d9",
   "metadata": {
    "slideshow": {
     "slide_type": "slide"
    }
   },
   "source": [
    "## `import`-ing \n",
    "\n",
    "We can use software from [Python's standard library](https://docs.python.org/3/library/index.html) or anything on [pypi](https://pypi.org/) (e.g. pandas, numpy, scipy, matplotlib ....this is where folks share their python software) by `import`-ing it into our code. We already imported the math module earlier to be able to use $\\pi$.\n",
    "\n",
    "(If its on pypi you must install it via pip before use, everything in the standard library comes with Python itself).\n",
    "\n",
    "Lets build a random number generator:"
   ]
  },
  {
   "cell_type": "code",
   "execution_count": 4,
   "id": "d7e1ba8d",
   "metadata": {},
   "outputs": [
    {
     "data": {
      "text/plain": [
       "['a']"
      ]
     },
     "execution_count": 4,
     "metadata": {},
     "output_type": "execute_result"
    }
   ],
   "source": [
    "import random\n",
    "\n",
    "random.choices(['a', 'b', 'c'])"
   ]
  },
  {
   "cell_type": "code",
   "execution_count": null,
   "id": "b61f679f",
   "metadata": {},
   "outputs": [],
   "source": []
  },
  {
   "cell_type": "markdown",
   "id": "ffbb051f",
   "metadata": {},
   "source": [
    "Veteran programming instinct: wondering (and checking) \"Does this function also do this other behavior?\"\n",
    "\n",
    "Go to the [official documentation](https://docs.python.org/3/library/random.html) and skim it to see what else you can do with a function."
   ]
  },
  {
   "cell_type": "code",
   "execution_count": 27,
   "id": "f950afd8",
   "metadata": {},
   "outputs": [],
   "source": [
    "card_list = list()\n",
    "for suit in ['spades', 'hearts', 'clubs', 'diamonds']:\n",
    "    for card in ['A',2,3,4,5,6,7,8,9,10, 'J', 'Q', 'K']:\n",
    "        card_list.append(str(card) + ' of ' + suit)"
   ]
  },
  {
   "cell_type": "code",
   "execution_count": 28,
   "id": "e058b43f",
   "metadata": {},
   "outputs": [
    {
     "data": {
      "text/plain": [
       "['6 of spades']"
      ]
     },
     "execution_count": 28,
     "metadata": {},
     "output_type": "execute_result"
    }
   ],
   "source": [
    "random.choices(card_list)"
   ]
  },
  {
   "cell_type": "code",
   "execution_count": null,
   "id": "e39d81ed",
   "metadata": {},
   "outputs": [],
   "source": []
  },
  {
   "cell_type": "markdown",
   "id": "b420dd36",
   "metadata": {
    "slideshow": {
     "slide_type": "slide"
    }
   },
   "source": [
    "## Dictionaries as counters\n",
    "\n",
    "How many times does every character appear in the text:\n",
    "\n",
    "    It is a period of civil wars in the galaxy. A brave alliance of underground freedom fighters has challenged the tyranny and oppression of the awesome GALACTIC EMPIRE.\n",
    "\n",
    "    Striking from a fortress hidden among the billion stars of the galaxy, rebel spaceships have won their first victory in a battle with the powerful Imperial Starfleet. The EMPIRE fears that another defeat could bring a thousand more solar systems into the rebellion, and Imperial control over the galaxy would be lost forever.\n",
    "\n",
    "    To crush the rebellion once and for all, the EMPIRE is constructing a sinister new battle station. Powerful enough to destroy an entire planet, its completion spells certain doom for the champions of freedom."
   ]
  },
  {
   "cell_type": "code",
   "execution_count": 66,
   "id": "9b65ce59",
   "metadata": {},
   "outputs": [],
   "source": [
    "# credit Star Wars (115 words)\n",
    "opening_crawl = \"It is a period of civil wars in the galaxy. A brave alliance of underground freedom fighters has challenged the tyranny and oppression of the awesome GALACTIC EMPIRE. Striking from a fortress hidden among the billion stars of the galaxy, rebel spaceships have won their first victory in a battle with the powerful Imperial Starfleet. The EMPIRE fears that another defeat could bring a thousand more solar systems into the rebellion, and Imperial control over the galaxy would be lost forever. To crush the rebellion once and for all, the EMPIRE is constructing a sinister new battle station. Powerful enough to destroy an entire planet, its completion spells certain doom for the champions of freedom.\""
   ]
  },
  {
   "cell_type": "code",
   "execution_count": 11,
   "id": "a7c409a8",
   "metadata": {},
   "outputs": [
    {
     "data": {
      "text/plain": [
       "{'I': 7,\n",
       " 't': 48,\n",
       " ' ': 114,\n",
       " 'i': 35,\n",
       " 's': 33,\n",
       " 'a': 43,\n",
       " 'p': 12,\n",
       " 'e': 66,\n",
       " 'r': 43,\n",
       " 'o': 48,\n",
       " 'd': 17,\n",
       " 'f': 19,\n",
       " 'c': 14,\n",
       " 'v': 6,\n",
       " 'l': 33,\n",
       " 'w': 8,\n",
       " 'n': 37,\n",
       " 'h': 26,\n",
       " 'g': 11,\n",
       " 'x': 3,\n",
       " 'y': 8,\n",
       " '.': 6,\n",
       " 'A': 3,\n",
       " 'b': 9,\n",
       " 'u': 10,\n",
       " 'm': 12,\n",
       " 'G': 1,\n",
       " 'L': 1,\n",
       " 'C': 2,\n",
       " 'T': 3,\n",
       " 'E': 6,\n",
       " 'M': 3,\n",
       " 'P': 4,\n",
       " 'R': 3,\n",
       " 'S': 2,\n",
       " 'k': 1,\n",
       " ',': 4}"
      ]
     },
     "execution_count": 11,
     "metadata": {},
     "output_type": "execute_result"
    }
   ],
   "source": [
    "# Why won't the below work?\n",
    "\n",
    "# credit Star Wars (115 words)\n",
    "opening_crawl = \"It is a period of civil wars in the galaxy. A brave alliance of underground freedom fighters has challenged the tyranny and oppression of the awesome GALACTIC EMPIRE. Striking from a fortress hidden among the billion stars of the galaxy, rebel spaceships have won their first victory in a battle with the powerful Imperial Starfleet. The EMPIRE fears that another defeat could bring a thousand more solar systems into the rebellion, and Imperial control over the galaxy would be lost forever. To crush the rebellion once and for all, the EMPIRE is constructing a sinister new battle station. Powerful enough to destroy an entire planet, its completion spells certain doom for the champions of freedom.\"\n",
    "# char_count: keys are characters, values are how many times it appears\n",
    "char_count = dict()\n",
    "\n",
    "for letter in opening_crawl:\n",
    "    char_count[letter] = 0\n",
    "\n",
    "for letter in opening_crawl:\n",
    "    char_count[letter] = char_count[letter] + 1\n",
    "\n",
    "char_count"
   ]
  },
  {
   "cell_type": "code",
   "execution_count": 52,
   "id": "9d03a44e",
   "metadata": {},
   "outputs": [
    {
     "data": {
      "text/plain": [
       "defaultdict(<function __main__.<lambda>()>, {})"
      ]
     },
     "execution_count": 52,
     "metadata": {},
     "output_type": "execute_result"
    }
   ],
   "source": [
    "from collections import defaultdict\n",
    "\n",
    "dict = defaultdict(lambda: 'default!')\n",
    "dict"
   ]
  },
  {
   "cell_type": "code",
   "execution_count": 53,
   "id": "32d8fe8d",
   "metadata": {},
   "outputs": [
    {
     "data": {
      "text/plain": [
       "defaultdict(<function __main__.<lambda>()>,\n",
       "            {0: 'default!', 1: 'some other thing'})"
      ]
     },
     "execution_count": 53,
     "metadata": {},
     "output_type": "execute_result"
    }
   ],
   "source": [
    "dict[0]\n",
    "dict[1] = \"some other thing\"\n",
    "dict"
   ]
  },
  {
   "cell_type": "code",
   "execution_count": 16,
   "id": "39e21c04",
   "metadata": {},
   "outputs": [],
   "source": [
    "from collections import Counter\n"
   ]
  },
  {
   "cell_type": "code",
   "execution_count": null,
   "id": "37c9dc00",
   "metadata": {},
   "outputs": [],
   "source": []
  },
  {
   "cell_type": "code",
   "execution_count": null,
   "id": "c93610b2",
   "metadata": {},
   "outputs": [],
   "source": [
    " "
   ]
  },
  {
   "cell_type": "code",
   "execution_count": null,
   "id": "b14198b4",
   "metadata": {},
   "outputs": [],
   "source": []
  },
  {
   "cell_type": "code",
   "execution_count": 14,
   "id": "567c6712",
   "metadata": {},
   "outputs": [],
   "source": [
    "python_poem = \"\"\"The Zen of Python, by Tim Peters\n",
    "\n",
    "Beautiful is better than ugly.\n",
    "Explicit is better than implicit.\n",
    "Simple is better than complex.\n",
    "Complex is better than complicated.\n",
    "Flat is better than nested.\n",
    "Sparse is better than dense.\n",
    "Readability counts.\n",
    "Special cases aren't special enough to break the rules.\n",
    "Although practicality beats purity.\n",
    "Errors should never pass silently.\n",
    "Unless explicitly silenced.\n",
    "In the face of ambiguity, refuse the temptation to guess.\n",
    "There should be one-- and preferably only one --obvious way to do it.\n",
    "Although that way may not be obvious at first unless you're Dutch.\n",
    "Now is better than never.\n",
    "Although never is often better than *right* now.\n",
    "If the implementation is hard to explain, it's a bad idea.\n",
    "If the implementation is easy to explain, it may be a good idea.\n",
    "Namespaces are one honking great idea -- let's do more of those!\"\"\""
   ]
  },
  {
   "cell_type": "code",
   "execution_count": 17,
   "id": "ba1e3786",
   "metadata": {},
   "outputs": [
    {
     "data": {
      "text/plain": [
       "Counter({' ': 124,\n",
       "         'e': 90,\n",
       "         't': 76,\n",
       "         'i': 50,\n",
       "         'a': 50,\n",
       "         'o': 43,\n",
       "         's': 43,\n",
       "         'n': 40,\n",
       "         'l': 33,\n",
       "         'r': 32,\n",
       "         'h': 31,\n",
       "         'b': 20,\n",
       "         '\\n': 20,\n",
       "         'u': 20,\n",
       "         'p': 20,\n",
       "         '.': 18,\n",
       "         'y': 17,\n",
       "         'm': 16,\n",
       "         'c': 16,\n",
       "         'd': 16,\n",
       "         'f': 11,\n",
       "         'g': 11,\n",
       "         'x': 6,\n",
       "         '-': 6,\n",
       "         'v': 5,\n",
       "         ',': 4,\n",
       "         \"'\": 4,\n",
       "         'w': 4,\n",
       "         'T': 3,\n",
       "         'S': 3,\n",
       "         'A': 3,\n",
       "         'I': 3,\n",
       "         'P': 2,\n",
       "         'E': 2,\n",
       "         'k': 2,\n",
       "         'N': 2,\n",
       "         '*': 2,\n",
       "         'Z': 1,\n",
       "         'B': 1,\n",
       "         'C': 1,\n",
       "         'F': 1,\n",
       "         'R': 1,\n",
       "         'U': 1,\n",
       "         'D': 1,\n",
       "         '!': 1})"
      ]
     },
     "execution_count": 17,
     "metadata": {},
     "output_type": "execute_result"
    }
   ],
   "source": [
    "Counter(python_poem)"
   ]
  },
  {
   "cell_type": "markdown",
   "id": "d83a7f64-f9bb-441b-8abd-a41b35ff9236",
   "metadata": {},
   "source": [
    "### Exercise 3\n",
    "\n",
    "Write Python statements that generate a specified number of random integers between a given range and counts how many of those integers fall within a specified sub-range.\n",
    "\n",
    "Instructions:\n",
    "1. Use the random module to generate random integers.\n",
    "2. Define a function to generate the random integers and count the occurrences within the specified sub-range.\n",
    "3. Use a counter to keep track of how many integers fall within the sub-range.\n",
    "4. Print the generated random integers and the count of integers within the sub-range."
   ]
  },
  {
   "cell_type": "code",
   "execution_count": 49,
   "id": "3d4192d0-4778-4d7d-8b8b-5a83edc990e7",
   "metadata": {},
   "outputs": [
    {
     "name": "stdout",
     "output_type": "stream",
     "text": [
      "[9, 9, 5, 9, 1, 1, 6, 8, 8, 2]\n",
      "2\n"
     ]
    }
   ],
   "source": [
    "def generate_random_numbers(number, start, end, sub_start, sub_end):\n",
    "    \n",
    "    random_numbers = []\n",
    "    counter = 0\n",
    "    \n",
    "    for _ in range(number):\n",
    "        num = random.randint(start, end)\n",
    "        random_numbers.append(num)\n",
    "        if sub_start <= num <= sub_end:\n",
    "            counter += 1\n",
    "            \n",
    "    return random_numbers, counter\n",
    "\n",
    "random_numbers, counter = generate_random_numbers(10, 1, 10, 3, 6)\n",
    "print(random_numbers)\n",
    "print(counter)\n",
    "        \n",
    "    \n",
    "    "
   ]
  }
 ],
 "metadata": {
  "celltoolbar": "Edit Metadata",
  "kernelspec": {
   "display_name": "Python 3 (ipykernel)",
   "language": "python",
   "name": "python3"
  },
  "language_info": {
   "codemirror_mode": {
    "name": "ipython",
    "version": 3
   },
   "file_extension": ".py",
   "mimetype": "text/x-python",
   "name": "python",
   "nbconvert_exporter": "python",
   "pygments_lexer": "ipython3",
   "version": "3.11.9"
  }
 },
 "nbformat": 4,
 "nbformat_minor": 5
}
