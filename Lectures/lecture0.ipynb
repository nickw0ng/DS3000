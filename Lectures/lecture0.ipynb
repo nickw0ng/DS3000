{
 "cells": [
  {
   "cell_type": "markdown",
   "id": "306a9546",
   "metadata": {
    "slideshow": {
     "slide_type": "slide"
    }
   },
   "source": [
    "# DS 3000 lecture 0\n",
    "\n",
    "- Introduce myself\n",
    "- Motivating clear communication in DS\n",
    "- Admin/syllabus\n",
    "- Jupyter (Google Colab also acceptable)\n",
    "    - markdown\n",
    "    - code    \n",
    "    \n",
    "- Python lightening review (brush up on our skills & pick up a few new tricks)\n",
    "    - types (tuple, lists, dict, floats & ints, string)\n",
    "        - tuple unpacking\n",
    "        - list indexing\n",
    "        - string formatting & operations\n",
    "    - if statement & comparison operators\n",
    "    - iteration (for a while loops)\n",
    "        - iterating through dict\n",
    "    - functions\n",
    "        - default arguments\n",
    "        - multiple return values (or is it?) ... tuple unpacking"
   ]
  },
  {
   "cell_type": "markdown",
   "id": "980011db",
   "metadata": {
    "slideshow": {
     "slide_type": "slide"
    }
   },
   "source": [
    "# About me\n",
    "\n",
    "- BS in Statistics and Math at University of Wisconsin-Madison\n",
    "- Master and PhD in Statistics at Carnegie Mellon University\n",
    "- Tenure-track Assistant Professor at Creighton Univeristy\n",
    "- Thesis: Learning social networks from text data using covariate information\n",
    "- Teaching: DS3000 Foundations of Data Science; DS4200 Information presentation and data visualization\n",
    "- New faculty, still learning and happy to communicate!"
   ]
  },
  {
   "cell_type": "markdown",
   "id": "a9719af0",
   "metadata": {
    "slideshow": {
     "slide_type": "slide"
    }
   },
   "source": [
    "# Motivating Clear Communication in DS\n",
    "\n",
    "Let's give you a small example in the statistics. \n",
    "\n",
    "Suppose we are trying to compare the gender gap in DS study. In the end of the semester, I will calculate the average score for male and female respectively. It turns out that the average for male student is 84 and the average for female student is 86. Can I claim that the male students tend to perfrom worse that than female students in DS major? If not, what other questions I need to ask before I draw the conclusion? "
   ]
  },
  {
   "cell_type": "markdown",
   "id": "de40d44c",
   "metadata": {
    "slideshow": {
     "slide_type": "slide"
    }
   },
   "source": [
    "# Admin/Syllabus\n",
    "\n",
    "Take a look at the course Canvas page.\n",
    "\n",
    "- Please turn on the Canvas annoucement notification. \n",
    "- First homework will be assigned on July 2nd and due on 7th. \n",
    "- Homework will be graded by both effort and correctness.\n",
    "- The homework is graded through Gradescope and we will use Piazza to answer the questions. Make sure you signup for the Piazza. \n",
    "- The project is a group project. I will assigned the groups based on your pre-course survey. Please finish the pre-course survey by today midnight!"
   ]
  },
  {
   "cell_type": "markdown",
   "id": "bb2d5535",
   "metadata": {
    "slideshow": {
     "slide_type": "slide"
    }
   },
   "source": [
    "# Jupyter Notebooks\n",
    "\n",
    "Jupyter contains two cell (in these blue / green rectangles) types:\n",
    "- markdown\n",
    "    - markdown is a simple text/document formatting language\n",
    "- python cells\n",
    "    - a python interpreter is running in the background with all python variables / functions etc\n",
    "    \n",
    "By merging both, Jupyter provides a 'living' document which includes:\n",
    "- results of analysis\n",
    "- method of how analysis was done (the code)\n",
    "- the ability to easily modify a few things and poke around or modify an analysis\n"
   ]
  },
  {
   "cell_type": "markdown",
   "id": "de2e7347",
   "metadata": {
    "slideshow": {
     "slide_type": "slide"
    }
   },
   "source": [
    "    \n",
    "# Installing Python and Jupyter Notebook  \n",
    "  \n",
    "A detailed installation manual is included in the Canvas, `supplemental` folder. Please let TA know if you have encounter any problems during the installation.   \n",
    "  \n",
    "In the terminal type:\n",
    "\n",
    "`pip install notebook`\n",
    "\n",
    "Then to run Jupyter Notebook in the browser, type in the terminal:\n",
    "\n",
    "`jupyter notebook`\n",
    "\n",
    "**Note**: make sure the notebook file `.ipynb` is in the appropriate folder."
   ]
  },
  {
   "cell_type": "markdown",
   "id": "c4cbee90",
   "metadata": {
    "slideshow": {
     "slide_type": "slide"
    }
   },
   "source": [
    "# Navigating Jupyter\n",
    "\n",
    "- selecting a cell\n",
    "- changing cell type\n",
    "- running a cell\n",
    "    - for markdown cell: renders text\n",
    "    - for python cell: runs the code\n",
    "- add a cell\n",
    "- remove a cell\n"
   ]
  },
  {
   "cell_type": "markdown",
   "id": "063b0236",
   "metadata": {
    "slideshow": {
     "slide_type": "slide"
    }
   },
   "source": [
    "# Markdown Rundown\n",
    "\n",
    "Let's go through [this markdown guide](https://www.markdownguide.org/basic-syntax/)"
   ]
  },
  {
   "cell_type": "markdown",
   "id": "ae973308",
   "metadata": {
    "slideshow": {
     "slide_type": "slide"
    }
   },
   "source": [
    "## Headings"
   ]
  },
  {
   "cell_type": "markdown",
   "id": "7f48a820",
   "metadata": {
    "slideshow": {
     "slide_type": "slide"
    }
   },
   "source": [
    "## Lists"
   ]
  },
  {
   "cell_type": "markdown",
   "id": "4d3e3655",
   "metadata": {
    "slideshow": {
     "slide_type": "slide"
    }
   },
   "source": [
    "## Links\n",
    "you can link to website, like [this one](https://github.com/adam-p/markdown-here/wiki/Markdown-Cheatsheet) which contains a more complete markdown reference (and was used to generate this quick markdown guide, many examples taken from them)"
   ]
  },
  {
   "cell_type": "markdown",
   "id": "533543b6",
   "metadata": {
    "slideshow": {
     "slide_type": "slide"
    }
   },
   "source": [
    "## Images\n",
    "\n",
    "![alt text](http://dangerouslyirrelevant.org/wp-content/uploads/2016/03/2015-Gallup-Student-Poll-1-3.jpg \"Logo Title Text 1\")"
   ]
  },
  {
   "cell_type": "markdown",
   "id": "4c7e4dce",
   "metadata": {
    "slideshow": {
     "slide_type": "slide"
    }
   },
   "source": [
    "## Tables\n",
    "\n",
    "| Car Repair                         | Cost ($) | Prob | Salted Roads? |\n",
    "|------------------------------------|----------|------|---------------|\n",
    "| None                               | 0        | .9   | No            |\n",
    "| Oxygen sensor replacement          | 250      | .01  | No            |\n",
    "| Under car rust repair              | 1000     | .02  | Yes           |\n",
    "| Timing Belt Replacement            | 750      | .03  | No            |\n",
    "| Fuel cap replacement or tightening | 25       | .03  | No            |\n",
    "| rusted muffler repair              | 250      | .01  | Yes           |\n",
    "\n",
    "Tables can be tough to generate by hand, go ahead and use a [table generator](https://www.tablesgenerator.com/markdown_tables) online to save yourself some time."
   ]
  },
  {
   "cell_type": "markdown",
   "id": "157835b1",
   "metadata": {
    "slideshow": {
     "slide_type": "slide"
    }
   },
   "source": [
    "## Block quote \n",
    "\n",
    "## Python code for display (not for running)  \n"
   ]
  },
  {
   "cell_type": "markdown",
   "id": "2c684776",
   "metadata": {
    "jp-MarkdownHeadingCollapsed": true,
    "slideshow": {
     "slide_type": "slide"
    }
   },
   "source": [
    "## Latex Math\n"
   ]
  },
  {
   "cell_type": "markdown",
   "id": "62fac588",
   "metadata": {
    "slideshow": {
     "slide_type": "slide"
    }
   },
   "source": [
    "# Exercise 1 (Part of your Homework 1)\n",
    "\n",
    "Write an introduction. It can be your biography or anything you want to introduce. Be sure to use:\n",
    "- 2 different heading levels\n",
    "- a list\n",
    "- a link to some website\n",
    "- an image\n",
    "    - avoid pictures of yourself please\n",
    "    - link to something available online, see example above\n",
    "\n",
    "You're welcome to be funny, this is really an excuse to get warmed up with jupyter and markdown and meet each other. Feel free to share with each other once you finish. \n",
    "\n",
    "Please be mindful:\n",
    "- everything you share should make all classmates feel safe and welcome\n",
    "- your response should be positive, take the moment to make somebody else smile and feel good :)"
   ]
  },
  {
   "cell_type": "markdown",
   "id": "97d8460c-86b7-4cd6-93fb-dbbb07b96597",
   "metadata": {},
   "source": [
    "# Jupyter Output"
   ]
  },
  {
   "cell_type": "code",
   "execution_count": null,
   "id": "2aa8f97f-eaff-4667-9ac9-49dd5fd1522c",
   "metadata": {},
   "outputs": [],
   "source": []
  },
  {
   "cell_type": "code",
   "execution_count": null,
   "id": "2043d496-0d25-450f-baac-fa2e18373e77",
   "metadata": {},
   "outputs": [],
   "source": []
  },
  {
   "cell_type": "code",
   "execution_count": null,
   "id": "4847b6ee-a3cc-4ee4-96ab-d2242299fb32",
   "metadata": {},
   "outputs": [],
   "source": []
  },
  {
   "cell_type": "markdown",
   "id": "48139665",
   "metadata": {
    "slideshow": {
     "slide_type": "slide"
    }
   },
   "source": [
    "# The Jupyter-Python Gotcha\n",
    "\n",
    "The state of variables and functions may depend on previous cells which have been modified or deleted:\n",
    "\n",
    "This can be problematic as `.ipynb` are saved with the outputs of each cell!\n",
    "\n",
    "Mitigate the issue by:\n",
    "- observing the index (idx) in `In [idx]` and `Out [idx]`\n",
    "\n",
    "Best practice:\n",
    "\n",
    "- Give a fresh `Kernel>Restart & Run All`\n",
    "    - before sharing\n",
    "    - when debugging\n",
    "\n",
    "**Note**: this is required of all your submissions for this class\n"
   ]
  },
  {
   "cell_type": "markdown",
   "id": "f56cda82",
   "metadata": {
    "slideshow": {
     "slide_type": "slide"
    }
   },
   "source": [
    "# Python lightening review\n",
    "\n",
    "- brush up our skills \n",
    "- pick up a few new tricks\n",
    "\n",
    "This is not intended to be an introduction to these topics, but a quick refresher. Please let me know if you have troubles to follow all the topics here. \n",
    "\n",
    "Also note:\n",
    "- this review will be quicker paced than we go over new material\n",
    "- please interrupt me (raise your hand or just speak up!), questionsmake class much more fun and tailored to your needs"
   ]
  },
  {
   "cell_type": "markdown",
   "id": "93cd45bf",
   "metadata": {
    "slideshow": {
     "slide_type": "slide"
    }
   },
   "source": [
    "# Types\n",
    "\n",
    "- int/floats\n",
    "- tuple: an immutable sequence of objects\n",
    "- list: a mutable sequence of objects, can be sorting\n",
    "- dict: a mutable mapping between objects\n",
    "- string\n"
   ]
  },
  {
   "cell_type": "markdown",
   "id": "dd2384e8",
   "metadata": {
    "slideshow": {
     "slide_type": "slide"
    }
   },
   "source": [
    "## Tuples"
   ]
  },
  {
   "cell_type": "code",
   "execution_count": null,
   "id": "261336d9",
   "metadata": {
    "slideshow": {
     "slide_type": "slide"
    }
   },
   "outputs": [],
   "source": []
  },
  {
   "cell_type": "code",
   "execution_count": null,
   "id": "3b8448e7",
   "metadata": {
    "scrolled": true,
    "slideshow": {
     "slide_type": "slide"
    }
   },
   "outputs": [],
   "source": []
  },
  {
   "cell_type": "markdown",
   "id": "7bf7b4b2",
   "metadata": {
    "slideshow": {
     "slide_type": "slide"
    }
   },
   "source": [
    "## Lists"
   ]
  },
  {
   "cell_type": "code",
   "execution_count": null,
   "id": "a05e0d38",
   "metadata": {
    "slideshow": {
     "slide_type": "slide"
    }
   },
   "outputs": [],
   "source": []
  },
  {
   "cell_type": "code",
   "execution_count": null,
   "id": "82e5d27b",
   "metadata": {
    "slideshow": {
     "slide_type": "slide"
    }
   },
   "outputs": [],
   "source": []
  },
  {
   "cell_type": "code",
   "execution_count": null,
   "id": "54c6d164",
   "metadata": {
    "slideshow": {
     "slide_type": "slide"
    }
   },
   "outputs": [],
   "source": []
  },
  {
   "cell_type": "code",
   "execution_count": null,
   "id": "28dfd59d",
   "metadata": {
    "slideshow": {
     "slide_type": "slide"
    }
   },
   "outputs": [],
   "source": []
  },
  {
   "cell_type": "code",
   "execution_count": null,
   "id": "adad7c6d",
   "metadata": {
    "slideshow": {
     "slide_type": "slide"
    }
   },
   "outputs": [],
   "source": []
  },
  {
   "cell_type": "code",
   "execution_count": null,
   "id": "280c795c",
   "metadata": {},
   "outputs": [],
   "source": []
  },
  {
   "cell_type": "code",
   "execution_count": null,
   "id": "c17213ed",
   "metadata": {},
   "outputs": [],
   "source": []
  },
  {
   "cell_type": "markdown",
   "id": "8fbdb907",
   "metadata": {
    "slideshow": {
     "slide_type": "slide"
    }
   },
   "source": [
    "## Dictionaries\n",
    "\n",
    "A real life dictionary assigns a definition (value) to every word (key).\n",
    "\n",
    "Python dictionaries assign a (not necessarily unique) value to every key.  \n",
    "(and they're not sorted like real dictionaries!)"
   ]
  },
  {
   "cell_type": "code",
   "execution_count": null,
   "id": "f777d638",
   "metadata": {
    "slideshow": {
     "slide_type": "slide"
    }
   },
   "outputs": [],
   "source": []
  },
  {
   "cell_type": "code",
   "execution_count": null,
   "id": "2187c1c5",
   "metadata": {
    "slideshow": {
     "slide_type": "slide"
    }
   },
   "outputs": [],
   "source": []
  },
  {
   "cell_type": "code",
   "execution_count": null,
   "id": "c6de9988",
   "metadata": {
    "slideshow": {
     "slide_type": "slide"
    }
   },
   "outputs": [],
   "source": []
  },
  {
   "cell_type": "code",
   "execution_count": null,
   "id": "6ee194da",
   "metadata": {
    "slideshow": {
     "slide_type": "slide"
    }
   },
   "outputs": [],
   "source": []
  },
  {
   "cell_type": "markdown",
   "id": "91f436e3",
   "metadata": {
    "slideshow": {
     "slide_type": "slide"
    }
   },
   "source": [
    "# Strings\n",
    "\n",
    "Python has awesome [string manipulation methods](https://docs.python.org/3/library/stdtypes.html#string-methods), we'll highlight a few useful ones here.  Worth a few minutes to famliarize yourself with the link.\n",
    "\n",
    "(tip: handling file paths?  use [pathlib](https://docs.python.org/3/library/pathlib.html) instead of treating them as strings)"
   ]
  },
  {
   "cell_type": "code",
   "execution_count": null,
   "id": "c5d3502a",
   "metadata": {
    "slideshow": {
     "slide_type": "slide"
    }
   },
   "outputs": [],
   "source": []
  },
  {
   "cell_type": "code",
   "execution_count": null,
   "id": "c0df247d",
   "metadata": {
    "slideshow": {
     "slide_type": "slide"
    }
   },
   "outputs": [],
   "source": []
  },
  {
   "cell_type": "code",
   "execution_count": null,
   "id": "7b9632ea",
   "metadata": {
    "slideshow": {
     "slide_type": "slide"
    }
   },
   "outputs": [],
   "source": []
  },
  {
   "cell_type": "code",
   "execution_count": null,
   "id": "e6ff35b3",
   "metadata": {
    "slideshow": {
     "slide_type": "slide"
    }
   },
   "outputs": [],
   "source": []
  },
  {
   "cell_type": "code",
   "execution_count": null,
   "id": "229d9945",
   "metadata": {
    "slideshow": {
     "slide_type": "slide"
    }
   },
   "outputs": [],
   "source": [
    "url = 'https://www.some-website.com/this-section/this-subsection/file_<useful-thing>_gibberish-here-too.html'"
   ]
  },
  {
   "cell_type": "code",
   "execution_count": null,
   "id": "fb3e1e4e",
   "metadata": {
    "slideshow": {
     "slide_type": "slide"
    }
   },
   "outputs": [],
   "source": []
  },
  {
   "cell_type": "markdown",
   "id": "4aaadf35",
   "metadata": {
    "slideshow": {
     "slide_type": "slide"
    }
   },
   "source": [
    "# Control Flow (If statements)"
   ]
  },
  {
   "cell_type": "code",
   "execution_count": null,
   "id": "25673f31",
   "metadata": {
    "slideshow": {
     "slide_type": "slide"
    }
   },
   "outputs": [],
   "source": [
    "# write statements to decide whether a given number if larger than a boundaary\n",
    "x = 3\n",
    "boundary = 10"
   ]
  },
  {
   "cell_type": "markdown",
   "id": "0931647c",
   "metadata": {
    "slideshow": {
     "slide_type": "slide"
    }
   },
   "source": [
    "# Iteration (loops)"
   ]
  },
  {
   "cell_type": "code",
   "execution_count": null,
   "id": "be2876a3",
   "metadata": {
    "slideshow": {
     "slide_type": "slide"
    }
   },
   "outputs": [],
   "source": [
    "# print integer from 0 to 4\n"
   ]
  },
  {
   "cell_type": "code",
   "execution_count": null,
   "id": "1d29c834",
   "metadata": {
    "slideshow": {
     "slide_type": "slide"
    }
   },
   "outputs": [],
   "source": [
    "# describe what this code is doing\n",
    "for idx in range(5):\n",
    "    print(idx)\n",
    "    if idx > 2:\n",
    "        break"
   ]
  },
  {
   "cell_type": "code",
   "execution_count": null,
   "id": "86320ede",
   "metadata": {
    "slideshow": {
     "slide_type": "slide"
    }
   },
   "outputs": [],
   "source": [
    "# describe what this code is doing\n",
    "for idx in range(5):\n",
    "    if idx==2:\n",
    "        continue\n",
    "    print(idx)    "
   ]
  },
  {
   "cell_type": "code",
   "execution_count": null,
   "id": "deb1e466",
   "metadata": {
    "slideshow": {
     "slide_type": "slide"
    }
   },
   "outputs": [],
   "source": []
  },
  {
   "cell_type": "code",
   "execution_count": null,
   "id": "ae4a72a9",
   "metadata": {
    "slideshow": {
     "slide_type": "slide"
    }
   },
   "outputs": [],
   "source": []
  },
  {
   "cell_type": "code",
   "execution_count": null,
   "id": "9d74eeda",
   "metadata": {
    "slideshow": {
     "slide_type": "slide"
    }
   },
   "outputs": [],
   "source": []
  },
  {
   "cell_type": "code",
   "execution_count": null,
   "id": "424567be",
   "metadata": {
    "slideshow": {
     "slide_type": "slide"
    }
   },
   "outputs": [],
   "source": []
  },
  {
   "cell_type": "code",
   "execution_count": null,
   "id": "60f8c342",
   "metadata": {
    "slideshow": {
     "slide_type": "slide"
    }
   },
   "outputs": [],
   "source": []
  },
  {
   "cell_type": "markdown",
   "id": "8e75c94b",
   "metadata": {
    "slideshow": {
     "slide_type": "slide"
    }
   },
   "source": [
    "# Functions"
   ]
  },
  {
   "cell_type": "code",
   "execution_count": null,
   "id": "78b6aa02",
   "metadata": {
    "slideshow": {
     "slide_type": "slide"
    }
   },
   "outputs": [],
   "source": [
    "\n"
   ]
  },
  {
   "cell_type": "code",
   "execution_count": null,
   "id": "10f882cd",
   "metadata": {
    "slideshow": {
     "slide_type": "slide"
    }
   },
   "outputs": [],
   "source": []
  },
  {
   "cell_type": "code",
   "execution_count": null,
   "id": "7e60c63a",
   "metadata": {
    "slideshow": {
     "slide_type": "slide"
    }
   },
   "outputs": [],
   "source": [
    "# write a function to return to the power 3. \n"
   ]
  },
  {
   "cell_type": "code",
   "execution_count": null,
   "id": "ffd9a731",
   "metadata": {
    "slideshow": {
     "slide_type": "slide"
    }
   },
   "outputs": [],
   "source": []
  },
  {
   "cell_type": "code",
   "execution_count": null,
   "id": "eb7b0c0f",
   "metadata": {
    "slideshow": {
     "slide_type": "slide"
    }
   },
   "outputs": [],
   "source": []
  },
  {
   "cell_type": "code",
   "execution_count": null,
   "id": "84473898",
   "metadata": {
    "slideshow": {
     "slide_type": "slide"
    }
   },
   "outputs": [],
   "source": []
  },
  {
   "cell_type": "code",
   "execution_count": null,
   "id": "8d9df1cc",
   "metadata": {
    "slideshow": {
     "slide_type": "slide"
    }
   },
   "outputs": [],
   "source": []
  },
  {
   "cell_type": "code",
   "execution_count": null,
   "id": "1c245a66",
   "metadata": {
    "slideshow": {
     "slide_type": "slide"
    }
   },
   "outputs": [],
   "source": [
    "# You can also return multiple things\n",
    "def nonsense_fxn(some_list, some_int, some_float):\n",
    "    \"\"\" a nonsense function\n",
    "    \n",
    "    Args:\n",
    "        some_list (list): a list\n",
    "        some_int (int): integer\n",
    "        some_float (float): float\n",
    "        \n",
    "    Returns:\n",
    "        list_truncate (list): some_list, truncated to first some_int\n",
    "            items\n",
    "        float_scaled (float): some_float, multiplied by some_int\n",
    "    \"\"\"\n",
    "    # truncate list\n",
    "    list_truncate = some_list[:some_int]\n",
    "    \n",
    "    # scale float\n",
    "    float_scaled = some_float * some_int\n",
    "    \n",
    "    return list_truncate, float_scaled"
   ]
  },
  {
   "cell_type": "code",
   "execution_count": null,
   "id": "27583771",
   "metadata": {
    "slideshow": {
     "slide_type": "slide"
    }
   },
   "outputs": [],
   "source": []
  },
  {
   "cell_type": "markdown",
   "id": "474a1d4d-a98e-4b33-a4d9-54366f0566e0",
   "metadata": {},
   "source": [
    "### Exercise 2:\n",
    "\n",
    "Here is a list of number:\n",
    "    \n",
    "    numbers = [10, 15, 20, 25, 30, 35, 40, 45, 50]\n",
    "\n",
    "We want to: \n",
    "1. Print all the even numbers from the list.\n",
    "2. Print all the odd numbers from the list.\n",
    "3. Print the number of even numbers.\n",
    "4. Print the number of odd numbers.dd numbers: 5\n"
   ]
  },
  {
   "cell_type": "code",
   "execution_count": null,
   "id": "cdaea6b8-acf5-46f4-b894-c9323c2df793",
   "metadata": {},
   "outputs": [],
   "source": []
  },
  {
   "cell_type": "markdown",
   "id": "1c4bc5c6-53a9-494b-a7c8-c19307c2e0ae",
   "metadata": {},
   "source": [
    "### Exercise 3: \n",
    "\n",
    "Once you finish exercise 2, think about how to write it into a function so that it takes a list as the input and output all four things. "
   ]
  },
  {
   "cell_type": "code",
   "execution_count": null,
   "id": "7736000c-eebc-4290-bb57-7d7c20e0d4d7",
   "metadata": {},
   "outputs": [],
   "source": []
  }
 ],
 "metadata": {
  "celltoolbar": "Slideshow",
  "kernelspec": {
   "display_name": "Python 3 (ipykernel)",
   "language": "python",
   "name": "python3"
  },
  "language_info": {
   "codemirror_mode": {
    "name": "ipython",
    "version": 3
   },
   "file_extension": ".py",
   "mimetype": "text/x-python",
   "name": "python",
   "nbconvert_exporter": "python",
   "pygments_lexer": "ipython3",
   "version": "3.11.7"
  }
 },
 "nbformat": 4,
 "nbformat_minor": 5
}
