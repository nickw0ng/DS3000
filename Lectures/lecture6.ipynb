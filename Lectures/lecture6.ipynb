{
 "cells": [
  {
   "cell_type": "markdown",
   "metadata": {
    "slideshow": {
     "slide_type": "slide"
    }
   },
   "source": [
    "# DS3000 Lecture 6\n",
    "\n",
    "### Admin:\n",
    "- HW 2 due on Friday\n",
    "- HW 3 posted today and due on Sunday\n",
    "- Quiz 1 will be posted on Friday; will have 2 hours to complete by Sunday night (covers all material up to and including today)\n",
    "\n",
    "### Content:\n",
    "- New Skill\n",
    "    - representing trees as nested dictionaries\n",
    "- Obtaining data via an API\n",
    "    - OpenWeatherAPI\n",
    "        - More time discussion (timezones)\n",
    "    - Spotify API (If time)"
   ]
  },
  {
   "cell_type": "code",
   "execution_count": 2,
   "metadata": {},
   "outputs": [
    {
     "ename": "TypeError",
     "evalue": "zeros() missing required argument 'shape' (pos 0)",
     "output_type": "error",
     "traceback": [
      "\u001b[1;31m---------------------------------------------------------------------------\u001b[0m",
      "\u001b[1;31mTypeError\u001b[0m                                 Traceback (most recent call last)",
      "Cell \u001b[1;32mIn[2], line 3\u001b[0m\n\u001b[0;32m      1\u001b[0m \u001b[38;5;28;01mimport\u001b[39;00m \u001b[38;5;21;01mnumpy\u001b[39;00m\n\u001b[1;32m----> 3\u001b[0m \u001b[43mnumpy\u001b[49m\u001b[38;5;241;43m.\u001b[39;49m\u001b[43mzeros\u001b[49m\u001b[43m(\u001b[49m\u001b[43m)\u001b[49m\n",
      "\u001b[1;31mTypeError\u001b[0m: zeros() missing required argument 'shape' (pos 0)"
     ]
    }
   ],
   "source": [
    "import numpy\n",
    "\n",
    "numpy.zeros()"
   ]
  },
  {
   "cell_type": "markdown",
   "metadata": {
    "slideshow": {
     "slide_type": "slide"
    }
   },
   "source": [
    "## Installation\n",
    "\n",
    "- modules needed today \n",
    "    - `requests` and `spotipy`\n",
    "- the first can be installed directly from jupyter\n",
    "    - its a [magic](https://ipython.readthedocs.io/en/stable/interactive/magics.html#magic-pip) command\n",
    "\n",
    "\n",
    "    pip install requests"
   ]
  },
  {
   "cell_type": "code",
   "execution_count": 2,
   "metadata": {},
   "outputs": [],
   "source": [
    "#pip install requests"
   ]
  },
  {
   "cell_type": "markdown",
   "metadata": {
    "slideshow": {
     "slide_type": "slide"
    }
   },
   "source": [
    "## Representing Trees as Lists & Dictionaries\n",
    "- useful for representing a tree of data\n",
    "- (our API calls will return nested dictionaries)\n",
    "\n",
    "<img src=\"https://i.ibb.co/Pmxqpb3/tree-ex.png\" alt=\"Drawing\" style=\"width: 400px;\"/>"
   ]
  },
  {
   "cell_type": "code",
   "execution_count": null,
   "metadata": {},
   "outputs": [],
   "source": []
  },
  {
   "cell_type": "code",
   "execution_count": null,
   "metadata": {},
   "outputs": [],
   "source": []
  },
  {
   "cell_type": "markdown",
   "metadata": {},
   "source": [
    "<img src=\"https://i.ibb.co/4SSH4mm/tree-ex2.png\" alt=\"Drawing\" style=\"width: 600px;\"/>"
   ]
  },
  {
   "cell_type": "code",
   "execution_count": null,
   "metadata": {},
   "outputs": [],
   "source": []
  },
  {
   "cell_type": "code",
   "execution_count": null,
   "metadata": {},
   "outputs": [],
   "source": []
  },
  {
   "cell_type": "markdown",
   "metadata": {},
   "source": [
    "### Exercise 0: \n",
    "\n",
    "Express all of the following penguin group's height and weight as a list of dictionaries:\n",
    "<img src=\"https://i.ibb.co/XXzX4Wk/penguin-tree.png\" alt=\"Drawing\" style=\"width: 700px;\"/>"
   ]
  },
  {
   "cell_type": "code",
   "execution_count": null,
   "metadata": {},
   "outputs": [],
   "source": []
  },
  {
   "cell_type": "markdown",
   "metadata": {
    "slideshow": {
     "slide_type": "slide"
    }
   },
   "source": [
    "# API\n",
    "###  Definitions\n",
    "**API** Application Program Interface\n",
    " - a server which gives out data (often over the internet)\n",
    " - note: 'API', in general, refers to the barrier between two pieces of software:\n",
    "     - in this case, the server which hosts data & our own software which requests it\n",
    " \n",
    " \n",
    " **JSON** JavaScript Object Notation\n",
    "  - a method of storing objects as text\n",
    "  - much like the nested dictionaries ... JSON and similar formats are often trees\n",
    "\n",
    "## OpenWeather API\n",
    "What information does this offer?\n",
    "\n",
    "[https://openweathermap.org/api](https://openweathermap.org/api)\n",
    "\n",
    "How do I get ready to use it?\n",
    "- sign up for an account\n",
    "    - [https://home.openweathermap.org/users/sign_up](https://home.openweathermap.org/users/sign_up)\n",
    "- get an api key (my key was emailed to me with my confirmation of account)\n",
    "    - [https://home.openweathermap.org/api_keys](https://home.openweathermap.org/api_keys)\n",
    "        \n",
    "Think of APIs as a hybrid of a website and a function.  Its a website where your query is stored in the address:\n",
    "    \n",
    "    https://api.openweathermap.org/data/2.5/onecall?lat=42.3601&lon=-71.0589&appid=YOUR-API-KEY-HERE-THIS-WONT-WORK&units=imperial\n",
    "    \n",
    "The result is a JSON object, which we can quickly convert to our dictionary of dictionary tree format."
   ]
  },
  {
   "cell_type": "code",
   "execution_count": 2,
   "metadata": {},
   "outputs": [
    {
     "name": "stdout",
     "output_type": "stream",
     "text": [
      "https://api.openweathermap.org/data/2.5/forecast?lat=42.3601&lon=-71.0589&APPID=2afdede234eabfa52612efba55bcc8ac&units=imperial\n"
     ]
    }
   ],
   "source": [
    "# todo: swap this out\n",
    "api_key = '2afdede234eabfa52612efba55bcc8ac'\n",
    "\n",
    "# north = positive, south = negative\n",
    "lat = 42.3601\n",
    "# east = positive, west = negative\n",
    "lon = -71.0589\n",
    "\n",
    "#standard, metric and imperial\n",
    "units = 'imperial' \n",
    "\n",
    "#url = f'https://api.openweathermap.org/data/2.5/weather?lat={lat}&lon={lon}&APPID={api_key}'\n",
    "url = f'https://api.openweathermap.org/data/2.5/forecast?lat={lat}&lon={lon}&APPID={api_key}&units={units}'\n",
    "\n",
    "print(url)"
   ]
  },
  {
   "cell_type": "code",
   "execution_count": 3,
   "metadata": {
    "scrolled": true
   },
   "outputs": [],
   "source": [
    "import requests"
   ]
  },
  {
   "cell_type": "code",
   "execution_count": 4,
   "metadata": {},
   "outputs": [],
   "source": [
    "import json"
   ]
  },
  {
   "cell_type": "code",
   "execution_count": null,
   "metadata": {
    "scrolled": true
   },
   "outputs": [],
   "source": []
  },
  {
   "cell_type": "code",
   "execution_count": null,
   "metadata": {},
   "outputs": [],
   "source": []
  },
  {
   "cell_type": "markdown",
   "metadata": {},
   "source": [
    "## Cleaning up data\n"
   ]
  },
  {
   "cell_type": "code",
   "execution_count": 6,
   "metadata": {},
   "outputs": [],
   "source": [
    "from datetime import datetime\n",
    "import pandas as pd\n"
   ]
  },
  {
   "cell_type": "code",
   "execution_count": null,
   "metadata": {},
   "outputs": [],
   "source": []
  },
  {
   "cell_type": "markdown",
   "metadata": {
    "slideshow": {
     "slide_type": "slide"
    }
   },
   "source": [
    "## Exercise 1\n",
    "\n",
    "La Chaux-de-Fonds, Switzerland is located at:\n",
    "\n",
    "    47.101333° N, 6.825° E\n",
    "    \n",
    "1. Create a dataframe of the 5-day-3-hour of their weather as was done above\n",
    "2. (++) Make a function `get_forecast` which accepts:\n",
    "    - `lat`\n",
    "    - `lon`\n",
    "    - `api_key`\n",
    "    - `units` (default = 'imperial')\n",
    "    \n",
    "    and returns a dataframe of the next 48 hours of the location's weather."
   ]
  },
  {
   "cell_type": "code",
   "execution_count": 64,
   "metadata": {},
   "outputs": [],
   "source": [
    "import requests\n",
    "import json\n",
    "import pandas as pd\n",
    "from datetime import datetime\n",
    "\n",
    "def get_forecast(lat, lon, units='imperial', api_key=''):\n",
    "    \"\"\" creates a function that gets the hourly forecast (for the next two days) for a given lat and lon\n",
    "    \n",
    "    Args:\n",
    "        lat (float): latitude\n",
    "        lon (float): longitude\n",
    "        units (str): units\n",
    "        api_key (str): key for accessing API\n",
    "        \n",
    "    Returns:\n",
    "        df_hourly (data frame): data frame with rows corresponding to 3-hour window and columns various features\n",
    "    \n",
    "    \"\"\"\n",
    "  "
   ]
  },
  {
   "cell_type": "code",
   "execution_count": 7,
   "metadata": {},
   "outputs": [],
   "source": [
    "#get_forecast(47.101333, 6.825)"
   ]
  },
  {
   "cell_type": "markdown",
   "metadata": {},
   "source": [
    "# Storing your API key in a local file\n",
    "\n",
    "There exists a file `open_weather_access.py` in same directory as this jupyter notebook which contains:\n",
    "    \n",
    "    my_api_key = 'hello!'"
   ]
  },
  {
   "cell_type": "code",
   "execution_count": null,
   "metadata": {},
   "outputs": [],
   "source": []
  },
  {
   "cell_type": "markdown",
   "metadata": {},
   "source": [
    "# `datetime`, `date`, `time` and UTC refresher\n",
    "## Unix Time (UTC)\n",
    "- [UTC](https://en.wikipedia.org/wiki/Coordinated_Universal_Time) Coordinated Universal Time\n",
    "    - time zone at 0 deg longitude\n",
    "- [Unix Time](https://en.wikipedia.org/wiki/Unix_time) is the number of seconds which have passed since 00:00:00 UTC on 1 Jan 1970 (ignoring leap seconds)"
   ]
  },
  {
   "cell_type": "code",
   "execution_count": 8,
   "metadata": {},
   "outputs": [],
   "source": [
    "from datetime import date, time, datetime\n"
   ]
  },
  {
   "cell_type": "code",
   "execution_count": null,
   "metadata": {},
   "outputs": [],
   "source": []
  },
  {
   "cell_type": "code",
   "execution_count": null,
   "metadata": {},
   "outputs": [],
   "source": []
  },
  {
   "cell_type": "code",
   "execution_count": null,
   "metadata": {},
   "outputs": [],
   "source": []
  },
  {
   "cell_type": "markdown",
   "metadata": {},
   "source": [
    "## datetimes to and from strings\n",
    "Using [the strptime/strftime code](https://docs.python.org/3/library/datetime.html#strftime-strptime-behavior), we can convert between string and `datetime` representations:\n",
    "- building datetimes with tzinfo explicitly passed\n",
    "- strptime (from str to `datetime`)\n",
    "- strftime (from `datetime` to str)\n",
    "- use a date when swapping timezones switch (add space)"
   ]
  },
  {
   "cell_type": "code",
   "execution_count": null,
   "metadata": {},
   "outputs": [],
   "source": []
  },
  {
   "cell_type": "markdown",
   "metadata": {},
   "source": [
    "- %d: the day of the month as a zero-padded decimal number such as 28.\n",
    "- %a: a day's abbreviated name, such as Sun.\n",
    "- %A: a day's full name, such as Sunday.\n",
    "- %m: the month as a zero-padded decimal number, such as 01.\n",
    "- %b: month's abbreviated name, such as Jan.\n",
    "- %B: the month's full name, such as January.\n",
    "- %y: the year without century, such as 23.\n",
    "- %Y: the year with century, such as 2023.\n",
    "- %H: the hours of the day in a 24-hour format, such as 08.\n",
    "- %I: the hours of the day in a 12-hour format.\n",
    "- %p: AM or PM\n",
    "- %M: the minutes in an hour, such as 20.\n",
    "- %S: the seconds in a minute, such as 00."
   ]
  },
  {
   "cell_type": "code",
   "execution_count": null,
   "metadata": {},
   "outputs": [],
   "source": []
  },
  {
   "cell_type": "markdown",
   "metadata": {},
   "source": [
    "# Timezones\n",
    "\n",
    "[pytz](http://pytz.sourceforge.net/) will do all the heavy lifting for managing timezones for us\n",
    "\n",
    "(This is super helpful for hw3!)"
   ]
  },
  {
   "cell_type": "code",
   "execution_count": 9,
   "metadata": {},
   "outputs": [],
   "source": [
    "import pytz\n",
    "\n"
   ]
  },
  {
   "cell_type": "markdown",
   "metadata": {},
   "source": [
    "## Specifying a timezone info with datetime\n",
    "- use `.localize()` method of a pytz timezone object\n",
    "    - takes a `datetime` without any current timezone as input\n",
    "- don't pass the pytz timezone object to the `tzinfo` keyword of `datetime` objects ... \n",
    "    - errors with daylight's savings time\n",
    "    - these are \"silent\" errors, the code will work but things will be off by some amount of time"
   ]
  },
  {
   "cell_type": "code",
   "execution_count": null,
   "metadata": {},
   "outputs": [],
   "source": []
  },
  {
   "cell_type": "code",
   "execution_count": null,
   "metadata": {},
   "outputs": [],
   "source": []
  },
  {
   "cell_type": "code",
   "execution_count": null,
   "metadata": {},
   "outputs": [],
   "source": []
  },
  {
   "cell_type": "code",
   "execution_count": null,
   "metadata": {},
   "outputs": [],
   "source": []
  },
  {
   "cell_type": "code",
   "execution_count": 10,
   "metadata": {},
   "outputs": [],
   "source": [
    "#time_zone_gmt.localize(ball_drop2023_est)"
   ]
  },
  {
   "cell_type": "markdown",
   "metadata": {},
   "source": [
    "# Changing Time Zones\n",
    "\n",
    "To change the timezone of a datetime, use `datetime.astimezone()`:"
   ]
  },
  {
   "cell_type": "code",
   "execution_count": null,
   "metadata": {},
   "outputs": [],
   "source": []
  },
  {
   "cell_type": "code",
   "execution_count": null,
   "metadata": {},
   "outputs": [],
   "source": []
  },
  {
   "cell_type": "markdown",
   "metadata": {},
   "source": [
    "Best practice: only use `datetime.astimezone()` after you've explicitly set timezone of the datetime object first."
   ]
  },
  {
   "cell_type": "markdown",
   "metadata": {},
   "source": [
    "# A subtlety:\n",
    "\n",
    "`datetime.utcfromtimestamp()`\n",
    "   - converts unix time to datetime with UTC (though no timezone given in datetime)\n",
    "   - useful for timezone conversion\n",
    "   \n",
    "`datetime.fromtimestamp()`\n",
    "   - converts unix time to datetime in local timezone (though no timezone given in datetime)\n",
    "   - useful if we want everything in local timezone\n",
    "        - (we run into trouble once timezones come into play)"
   ]
  },
  {
   "cell_type": "markdown",
   "metadata": {},
   "source": [
    "## Exercise 2: \n",
    "1. Write a function `from_unix_to_datetime()` which:\n",
    "- accepts:\n",
    "    - unix_time (float): seconds since jan 1 1970 UTC\n",
    "    - timezone_to (str): timezone of output datetime object\n",
    "- returns:\n",
    "    - datetime_tz (datetime): datetime object in given timezone\n",
    "    \n",
    "Be sure to properly document your function.\n",
    "\n",
    "2.  Write a few `assert` test cases to validate your function.\n",
    "    - Rather than checking if values are proper yourself, it may be best to rely on [another source](https://www.epochconverter.com/)"
   ]
  },
  {
   "cell_type": "code",
   "execution_count": 8,
   "metadata": {},
   "outputs": [],
   "source": [
    "def from_unix_to_datetime(unix_time, timezone_to='US/Eastern'):\n",
    "    \"\"\" converts unix time to a datetime object\n",
    "    \n",
    "    Args:\n",
    "        unix_time (float): unix time (sec since jan 1 1970 UTC)\n",
    "        timezone_to (str): timezone of output datetime\n",
    "        \n",
    "    Returns:\n",
    "        datetime_tz (datetime): datetime object corresponding to \n",
    "            unix_time\n",
    "    \"\"\""
   ]
  },
  {
   "cell_type": "code",
   "execution_count": 9,
   "metadata": {},
   "outputs": [],
   "source": [
    "unix_time=1130385662\n",
    "timezone_to='US/Central'\n",
    "\n",
    "# compute (per my function)\n",
    "datetime_computed = from_unix_to_datetime(unix_time=unix_time, \n",
    "                                          timezone_to=timezone_to)\n",
    "\n",
    "# construct (per known answer from website)\n",
    "time_zone = pytz.timezone(timezone_to)\n",
    "datetime_expected = time_zone.localize(datetime(2005, 10, 26, 23, 1, 2))\n",
    "\n",
    "# check that they're equal\n",
    "assert datetime_expected == datetime_computed"
   ]
  },
  {
   "cell_type": "code",
   "execution_count": 10,
   "metadata": {},
   "outputs": [],
   "source": [
    "unix_time=1664820000\n",
    "timezone_to='GMT'\n",
    "\n",
    "# compute (per my function)\n",
    "datetime_computed = from_unix_to_datetime(unix_time=unix_time, \n",
    "                                          timezone_to=timezone_to)\n",
    "\n",
    "# construct (per known answer from website)\n",
    "time_zone = pytz.timezone(timezone_to)\n",
    "datetime_expected = time_zone.localize(datetime(2022, 10, 3, 18, 0, 0))\n",
    "\n",
    "# check that they're equal\n",
    "assert datetime_expected == datetime_computed"
   ]
  },
  {
   "cell_type": "markdown",
   "metadata": {},
   "source": [
    "## Spotify API (If time)\n",
    "\n",
    "The Spotify API is quite powerful and gives us access to any song/artist in its libraries, plus even more information that you might not have thought of. There is also a module that has been created to access the API within python. Open up a terminal (or do it in jupyter notebook; this is a magic module) and run:\n",
    "\n",
    "`pip install spotipy`"
   ]
  },
  {
   "cell_type": "code",
   "execution_count": 11,
   "metadata": {},
   "outputs": [
    {
     "name": "stdout",
     "output_type": "stream",
     "text": [
      "Collecting spotipy\n",
      "  Downloading spotipy-2.23.0-py3-none-any.whl (29 kB)\n",
      "Collecting redis>=3.5.3\n",
      "  Downloading redis-5.0.1-py3-none-any.whl (250 kB)\n",
      "     -------------------------------------- 250.3/250.3 kB 3.9 MB/s eta 0:00:00\n",
      "Requirement already satisfied: requests>=2.25.0 in c:\\users\\yangx\\anaconda3\\lib\\site-packages (from spotipy) (2.28.1)\n",
      "Requirement already satisfied: urllib3>=1.26.0 in c:\\users\\yangx\\anaconda3\\lib\\site-packages (from spotipy) (1.26.11)\n",
      "Requirement already satisfied: six>=1.15.0 in c:\\users\\yangx\\anaconda3\\lib\\site-packages (from spotipy) (1.16.0)\n",
      "Collecting async-timeout>=4.0.2\n",
      "  Downloading async_timeout-4.0.3-py3-none-any.whl (5.7 kB)\n",
      "Requirement already satisfied: charset-normalizer<3,>=2 in c:\\users\\yangx\\anaconda3\\lib\\site-packages (from requests>=2.25.0->spotipy) (2.0.4)\n",
      "Requirement already satisfied: certifi>=2017.4.17 in c:\\users\\yangx\\anaconda3\\lib\\site-packages (from requests>=2.25.0->spotipy) (2022.9.14)\n",
      "Requirement already satisfied: idna<4,>=2.5 in c:\\users\\yangx\\anaconda3\\lib\\site-packages (from requests>=2.25.0->spotipy) (3.3)\n",
      "Installing collected packages: async-timeout, redis, spotipy\n",
      "Successfully installed async-timeout-4.0.3 redis-5.0.1 spotipy-2.23.0\n",
      "Note: you may need to restart the kernel to use updated packages.\n"
     ]
    },
    {
     "name": "stderr",
     "output_type": "stream",
     "text": [
      "WARNING: Ignoring invalid distribution -ensorflow-intel (c:\\users\\yangx\\anaconda3\\lib\\site-packages)\n",
      "WARNING: Ignoring invalid distribution -ensorflow-intel (c:\\users\\yangx\\anaconda3\\lib\\site-packages)\n",
      "WARNING: Ignoring invalid distribution -ensorflow-intel (c:\\users\\yangx\\anaconda3\\lib\\site-packages)\n",
      "WARNING: Ignoring invalid distribution -ensorflow-intel (c:\\users\\yangx\\anaconda3\\lib\\site-packages)\n",
      "WARNING: Ignoring invalid distribution -ensorflow-intel (c:\\users\\yangx\\anaconda3\\lib\\site-packages)\n",
      "WARNING: Ignoring invalid distribution -ensorflow-intel (c:\\users\\yangx\\anaconda3\\lib\\site-packages)\n",
      "WARNING: Ignoring invalid distribution -ensorflow-intel (c:\\users\\yangx\\anaconda3\\lib\\site-packages)\n",
      "WARNING: Ignoring invalid distribution -ensorflow-intel (c:\\users\\yangx\\anaconda3\\lib\\site-packages)\n",
      "WARNING: Ignoring invalid distribution -ensorflow-intel (c:\\users\\yangx\\anaconda3\\lib\\site-packages)\n"
     ]
    }
   ],
   "source": [
    "#pip install spotipy"
   ]
  },
  {
   "cell_type": "code",
   "execution_count": 28,
   "metadata": {},
   "outputs": [],
   "source": [
    "import spotipy\n",
    "from spotipy.oauth2 import SpotifyClientCredentials"
   ]
  },
  {
   "cell_type": "markdown",
   "metadata": {},
   "source": [
    "Just like with OpenWeather, we need to make an account [here](https://developer.spotify.com/) (this is essentially the same as making a regular Spotify account) and then get an API key (Spotify requires two things, actually, a Client ID and a secret key). At the above website, go to:\n",
    "\n",
    "- Dashboard\n",
    "- Log into your Spotify account (make one if you don't have one)\n",
    "- Accept the terms of using the API\n",
    "- Create an app (you can call it anything, I called mine `DS3000_Spotify`)\n",
    "- Get a client ID (it is usually good practice to **not** share this) and a client secret (**never share this with anyone**: save it in a separate file like we did with our OpenWeather API key earlier)"
   ]
  },
  {
   "cell_type": "markdown",
   "metadata": {},
   "source": [
    "There exists a file `spotify.py` in same directory as this jupyter notebook which contains:\n",
    "    \n",
    "    Client_ID = 'professorsidspotify'\n",
    "    Client_secret = 'professorssecretspotify'"
   ]
  },
  {
   "cell_type": "code",
   "execution_count": 27,
   "metadata": {},
   "outputs": [],
   "source": [
    "from spotify import Client_ID, Client_secret"
   ]
  },
  {
   "cell_type": "code",
   "execution_count": 29,
   "metadata": {},
   "outputs": [],
   "source": [
    "# Authentication"
   ]
  },
  {
   "cell_type": "markdown",
   "metadata": {},
   "source": [
    "## Uniform Resource Identifiers (URI)\n",
    "\n",
    "An important component of using the Spotify API is the use of the uniform resource identifiers, pointing at each object in the API. We need a URI to perform any function with the API referring to an object in Spotify. The URI of any Spotify object is contained in its shareable link. For example, the link to the Global top songs playlist, when found from the Spotify desktop application, is:\n",
    "\n"
   ]
  },
  {
   "cell_type": "code",
   "execution_count": 30,
   "metadata": {},
   "outputs": [],
   "source": [
    "playlist_link = \"https://open.spotify.com/playlist/37i9dQZF1DXcBWIGoYBM5M\"\n",
    "playlist_URI = playlist_link.split(\"/\")[-1].split(\"?\")[0]\n",
    "track_uris = [x[\"track\"][\"uri\"] for x in\n",
    "              sp.playlist_tracks(playlist_URI)[\"items\"]]"
   ]
  },
  {
   "cell_type": "code",
   "execution_count": null,
   "metadata": {},
   "outputs": [],
   "source": []
  },
  {
   "cell_type": "code",
   "execution_count": 11,
   "metadata": {
    "scrolled": true
   },
   "outputs": [],
   "source": [
    "playlist_dict = {'track_uri': list(),\n",
    "                'track_name': list(),\n",
    "                'artist_uri': list(),\n",
    "                'artist_name': list(),\n",
    "                'artist_pop': list(),\n",
    "                'artist_genres': list(),\n",
    "                'album': list(),\n",
    "                'track_pop': list()}\n",
    "\n",
    "track_idx = 0\n",
    "\n"
   ]
  },
  {
   "cell_type": "code",
   "execution_count": null,
   "metadata": {},
   "outputs": [],
   "source": []
  },
  {
   "cell_type": "markdown",
   "metadata": {},
   "source": [
    "### Extracting Features from Tracks\n",
    "\n",
    "Now that we have a list of track URIs, we can extract features from these tracks. Spotify has a list of these features for each of its tracks, from analysis of the audio. We can access these with a single method of the spotify object `audio_features(uri)`. This gives us a list of mostly numerical features that we can use for analysis."
   ]
  },
  {
   "cell_type": "code",
   "execution_count": null,
   "metadata": {},
   "outputs": [],
   "source": []
  },
  {
   "cell_type": "code",
   "execution_count": 12,
   "metadata": {},
   "outputs": [],
   "source": [
    "from collections import defaultdict\n",
    "import pandas as pd\n",
    "\n"
   ]
  },
  {
   "cell_type": "code",
   "execution_count": null,
   "metadata": {},
   "outputs": [],
   "source": []
  },
  {
   "cell_type": "code",
   "execution_count": null,
   "metadata": {},
   "outputs": [],
   "source": []
  },
  {
   "cell_type": "code",
   "execution_count": 13,
   "metadata": {},
   "outputs": [],
   "source": [
    "# make a plot of energy vs. danceability with song title hover data\n"
   ]
  },
  {
   "cell_type": "code",
   "execution_count": null,
   "metadata": {},
   "outputs": [],
   "source": []
  }
 ],
 "metadata": {
  "celltoolbar": "Slideshow",
  "kernelspec": {
   "display_name": "Python 3 (ipykernel)",
   "language": "python",
   "name": "python3"
  },
  "language_info": {
   "codemirror_mode": {
    "name": "ipython",
    "version": 3
   },
   "file_extension": ".py",
   "mimetype": "text/x-python",
   "name": "python",
   "nbconvert_exporter": "python",
   "pygments_lexer": "ipython3",
   "version": "3.12.4"
  }
 },
 "nbformat": 4,
 "nbformat_minor": 4
}
