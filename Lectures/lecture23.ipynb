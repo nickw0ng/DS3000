{
 "cells": [
  {
   "cell_type": "markdown",
   "id": "721327cd",
   "metadata": {},
   "source": [
    "## Lecture 13 Map making and analysis in Python\n",
    "\n",
    "Map making in Python involves utilizing various libraries and tools to create visually appealing and informative maps for geospatial analysis and visualization. One of the key libraries used for this purpose is GeoPandas, which extends the capabilities of Pandas to support geospatial data. GeoPandas allows users to easily read, manipulate, analyze, and visualize geospatial datasets, such as shapefiles and GeoJSON files. With GeoPandas, users can perform operations like overlaying multiple layers, creating choropleth maps, and adding custom markers to maps. By leveraging the power of Matplotlib, Folium, and other visualization libraries, Python users can create interactive and static maps that effectively communicate spatial patterns, trends, and insights. Whether for academic research, urban planning, environmental monitoring, or business intelligence, map making in Python with GeoPandas offers a versatile and efficient solution for geospatial data analysis and visualization needs.\n",
    "\n",
    "In the lecture, we will cover\n",
    "- the format for geospatial data\n",
    "- reading and processing geospatial data\n",
    "- creating choropleth maps\n",
    "- cutomizing the color and legend\n",
    "- adding multiple layers to the maps\n",
    "- Include geo information for analysis"
   ]
  },
  {
   "cell_type": "code",
   "execution_count": 2,
   "id": "caa82323",
   "metadata": {},
   "outputs": [],
   "source": [
    "#pip install geopandas geodatasets mapclassify"
   ]
  },
  {
   "cell_type": "markdown",
   "id": "bcd452cb",
   "metadata": {},
   "source": [
    "### Geospatial data resource and format\n",
    "\n",
    "A .shp file, short for Shapefile, is a commonly used file format in geospatial data analysis and mapping. It stores vector data, including points, lines, and polygons, along with associated attributes. Shapefiles are widely supported by GIS (Geographic Information Systems) software and libraries, making them a popular choice for storing and sharing geospatial datasets. They consist of multiple files, including a main .shp file containing the geometric data, a .shx file containing the shape index, and a .dbf file containing attribute data. \n",
    "\n",
    "In this lecture, we will use the geospatial data from\n",
    "\n",
    "https://www.naturalearthdata.com/downloads/\n",
    "\n",
    "https://geodacenter.github.io/data-and-lab/\n",
    "\n",
    "#### Geoda\n",
    "\n",
    "GeoDa, short for Geographic Data Analysis, is a powerful open-source software tool designed for exploratory spatial data analysis (ESDA). "
   ]
  },
  {
   "cell_type": "code",
   "execution_count": 1,
   "id": "2b8c67e6",
   "metadata": {},
   "outputs": [
    {
     "name": "stderr",
     "output_type": "stream",
     "text": [
      "C:\\Users\\yangx\\anaconda3\\Lib\\site-packages\\paramiko\\transport.py:219: CryptographyDeprecationWarning: Blowfish has been deprecated and will be removed in a future release\n",
      "  \"class\": algorithms.Blowfish,\n"
     ]
    }
   ],
   "source": [
    "import geopandas as gpd\n",
    "import geodatasets"
   ]
  },
  {
   "cell_type": "code",
   "execution_count": null,
   "id": "81695cd7",
   "metadata": {},
   "outputs": [],
   "source": []
  },
  {
   "cell_type": "markdown",
   "id": "45062886",
   "metadata": {},
   "source": [
    "#### Create the geospatial data from columns"
   ]
  },
  {
   "cell_type": "code",
   "execution_count": 3,
   "id": "8efbe7b1",
   "metadata": {},
   "outputs": [],
   "source": [
    "from shapely.geometry import Point"
   ]
  },
  {
   "cell_type": "markdown",
   "id": "e8d5c88c",
   "metadata": {},
   "source": [
    "#### Merge the geospatial data with attributes"
   ]
  },
  {
   "cell_type": "code",
   "execution_count": 4,
   "id": "872b649b",
   "metadata": {},
   "outputs": [],
   "source": [
    "import pandas as pd"
   ]
  },
  {
   "cell_type": "code",
   "execution_count": null,
   "id": "19a2184b",
   "metadata": {},
   "outputs": [],
   "source": []
  },
  {
   "cell_type": "code",
   "execution_count": null,
   "id": "20f9e9d2",
   "metadata": {},
   "outputs": [],
   "source": []
  },
  {
   "cell_type": "code",
   "execution_count": null,
   "id": "fdb23c5b",
   "metadata": {},
   "outputs": [],
   "source": []
  },
  {
   "cell_type": "code",
   "execution_count": null,
   "id": "f8772062",
   "metadata": {},
   "outputs": [],
   "source": []
  },
  {
   "cell_type": "code",
   "execution_count": 5,
   "id": "3f5fe9f1",
   "metadata": {},
   "outputs": [],
   "source": [
    "# FIPS: Federal Information Processing System\n",
    "# https://www.bls.gov/respondents/mwr/electronic-data-interchange/appendix-d-usps-state-abbreviations-and-fips-codes.htm\n"
   ]
  },
  {
   "cell_type": "markdown",
   "id": "a8a70fe7",
   "metadata": {},
   "source": [
    "### processing geospatial data and making a map"
   ]
  },
  {
   "cell_type": "code",
   "execution_count": null,
   "id": "d158da3b",
   "metadata": {},
   "outputs": [],
   "source": []
  },
  {
   "cell_type": "code",
   "execution_count": null,
   "id": "511e4b79",
   "metadata": {},
   "outputs": [],
   "source": []
  },
  {
   "cell_type": "code",
   "execution_count": null,
   "id": "9939c397",
   "metadata": {},
   "outputs": [],
   "source": []
  },
  {
   "cell_type": "code",
   "execution_count": null,
   "id": "881b8466",
   "metadata": {},
   "outputs": [],
   "source": []
  },
  {
   "cell_type": "markdown",
   "id": "fa7cfd9f",
   "metadata": {},
   "source": [
    "#### Exercise 1\n",
    "\n",
    "- Plot the map for lower 48 US states (excluding Alaska and Hawaii). Only plot the boundary. \n",
    "- Extract the MA county information from the county data and only plot for the MA county. "
   ]
  },
  {
   "cell_type": "code",
   "execution_count": null,
   "id": "adb580d6",
   "metadata": {},
   "outputs": [],
   "source": []
  },
  {
   "cell_type": "code",
   "execution_count": null,
   "id": "4609f5bc",
   "metadata": {},
   "outputs": [],
   "source": []
  },
  {
   "cell_type": "code",
   "execution_count": null,
   "id": "b59a98d1",
   "metadata": {},
   "outputs": [],
   "source": []
  },
  {
   "cell_type": "code",
   "execution_count": 6,
   "id": "01ee2b4c",
   "metadata": {},
   "outputs": [],
   "source": [
    "# The FIPS for MA is 25\n"
   ]
  },
  {
   "cell_type": "markdown",
   "id": "310c6fe2",
   "metadata": {},
   "source": [
    "### creating choropleth maps and customization\n",
    "\n",
    "Choropleth maps are a type of thematic map that represent spatial data through color gradients or shading. They use color-coded areas, such as countries, states, or administrative regions, to visualize quantitative data, with darker or lighter shades indicating higher or lower values respectively. "
   ]
  },
  {
   "cell_type": "code",
   "execution_count": null,
   "id": "6da281b7",
   "metadata": {},
   "outputs": [],
   "source": []
  },
  {
   "cell_type": "code",
   "execution_count": 7,
   "id": "0102470c",
   "metadata": {},
   "outputs": [],
   "source": [
    "# https://matplotlib.org/stable/users/explain/colors/colormaps.html\n"
   ]
  },
  {
   "cell_type": "code",
   "execution_count": null,
   "id": "b1510398",
   "metadata": {},
   "outputs": [],
   "source": []
  },
  {
   "cell_type": "markdown",
   "id": "4adbef9a",
   "metadata": {},
   "source": [
    "### Missing values"
   ]
  },
  {
   "cell_type": "code",
   "execution_count": 8,
   "id": "561c3f3b",
   "metadata": {},
   "outputs": [],
   "source": [
    "import numpy as np\n",
    "\n"
   ]
  },
  {
   "cell_type": "code",
   "execution_count": null,
   "id": "f57e54a1",
   "metadata": {},
   "outputs": [],
   "source": []
  },
  {
   "cell_type": "code",
   "execution_count": null,
   "id": "8e86a74e",
   "metadata": {},
   "outputs": [],
   "source": []
  },
  {
   "cell_type": "markdown",
   "id": "635b623b",
   "metadata": {},
   "source": [
    "### Adding multiple layers\n",
    "\n",
    "In order to add multiple layers to the map, we need to make the sure the map has the same coordination system. "
   ]
  },
  {
   "cell_type": "code",
   "execution_count": null,
   "id": "ba9be3fb",
   "metadata": {},
   "outputs": [],
   "source": []
  },
  {
   "cell_type": "code",
   "execution_count": 10,
   "id": "1b683bb4",
   "metadata": {},
   "outputs": [],
   "source": [
    "#Marker choices: https://matplotlib.org/stable/api/markers_api.html\n"
   ]
  },
  {
   "cell_type": "markdown",
   "id": "c3e42067-d7d5-43f3-befc-a1c4f8abc7e5",
   "metadata": {},
   "source": [
    "## Fit models with Geospatial data"
   ]
  },
  {
   "cell_type": "markdown",
   "id": "00fac335-3bf0-441e-8a56-46370ac2ebc5",
   "metadata": {},
   "source": [
    "In most of the cases, you can just extract the coordinates and add it to your model (linear regression, random forest etc. ). \n",
    "\n",
    "However, there are some models that are preferred when involved with geospatial data. \n",
    "\n",
    "- The Generalized Additive Model (GAM) is a flexible modeling approach that extends linear models by allowing non-linear relationships between the predictors and the response variable. It achieves this by using smooth functions for each predictor, which can capture complex patterns in the data without assuming a strict linear relationship. To include the smooth function into GAM model, we use the `s` function to add splines to the features.\n",
    "- Spatial autoregressive models take into account the spatial dependence between observations. These models are particularly useful when the assumption of independence between observations is violated due to spatial autocorrelation.\n",
    "    - Spatial Lag Model (SLM): Incorporates the spatial dependence of the dependent variable.\n",
    "    - Queen Contiguity: Considers observations as neighbors if they share any boundary point (like a chess queen moving on a board)."
   ]
  },
  {
   "cell_type": "code",
   "execution_count": 27,
   "id": "53e27122-e861-43f5-8ad9-4e8961617160",
   "metadata": {},
   "outputs": [],
   "source": [
    "#pip install pygam libpysal spreg"
   ]
  },
  {
   "cell_type": "code",
   "execution_count": 28,
   "id": "844eaa4c-65df-4b5e-96f7-97d2ce60e236",
   "metadata": {},
   "outputs": [
    {
     "name": "stdout",
     "output_type": "stream",
     "text": [
      "         community  NID  POP2010  POP2000  POPCH   POPPERCH  popplus  popneg  \\\n",
      "0          DOUGLAS   35    18238    26470  -8232 -31.099358        0       1   \n",
      "1          OAKLAND   36     5918     6110   -192  -3.142390        0       1   \n",
      "2      FULLER PARK   37     2876     3420   -544 -15.906433        0       1   \n",
      "3  GRAND BOULEVARD   38    21929    28006  -6077 -21.698922        0       1   \n",
      "4          KENWOOD   39    17841    18363   -522  -2.842673        0       1   \n",
      "\n",
      "                                            geometry  \n",
      "0  MULTIPOLYGON (((-87.60914 41.84469, -87.60915 ...  \n",
      "1  MULTIPOLYGON (((-87.59215 41.81693, -87.59231 ...  \n",
      "2  MULTIPOLYGON (((-87.62880 41.80189, -87.62879 ...  \n",
      "3  MULTIPOLYGON (((-87.60671 41.81681, -87.60670 ...  \n",
      "4  MULTIPOLYGON (((-87.59215 41.81693, -87.59215 ...  \n"
     ]
    }
   ],
   "source": [
    "import geopandas as gpd\n",
    "import numpy as np\n",
    "import matplotlib.pyplot as plt\n",
    "from pygam import LinearGAM, s\n",
    "from libpysal.weights import Queen\n",
    "from spreg import ML_Lag\n",
    "from sklearn.metrics import r2_score\n",
    "from sklearn.linear_model import LinearRegression\n",
    "\n",
    "# Load geospatial data\n",
    "chicago = gpd.read_file(geodatasets.get_path(\"geoda.chicago_commpop\"))\n",
    "\n",
    "# Display the first few rows of the dataset\n",
    "print(chicago.head())"
   ]
  },
  {
   "cell_type": "code",
   "execution_count": null,
   "id": "9eef2063-a855-400c-bad2-59b4d683a434",
   "metadata": {},
   "outputs": [],
   "source": []
  },
  {
   "cell_type": "code",
   "execution_count": null,
   "id": "77897db8-0095-419a-bac9-9a4bcc5a6045",
   "metadata": {},
   "outputs": [],
   "source": []
  },
  {
   "cell_type": "code",
   "execution_count": null,
   "id": "19f75e89-c0b2-4f54-82cc-90cf383d8026",
   "metadata": {},
   "outputs": [],
   "source": []
  },
  {
   "cell_type": "code",
   "execution_count": null,
   "id": "f321e777-f4d3-4d66-9c9c-b12e123f2bac",
   "metadata": {},
   "outputs": [],
   "source": []
  },
  {
   "cell_type": "code",
   "execution_count": null,
   "id": "780d7254-2098-491c-8f2e-4574128c21a6",
   "metadata": {},
   "outputs": [],
   "source": []
  },
  {
   "cell_type": "code",
   "execution_count": null,
   "id": "bec68e6a-c864-4896-9098-0a109f3a3954",
   "metadata": {},
   "outputs": [],
   "source": []
  },
  {
   "cell_type": "code",
   "execution_count": null,
   "id": "53dceb3c-98cb-489e-97d9-8dd92e29023c",
   "metadata": {},
   "outputs": [],
   "source": []
  },
  {
   "cell_type": "code",
   "execution_count": null,
   "id": "d5fed201-ffd3-446e-8ce1-a635d3ff3e61",
   "metadata": {},
   "outputs": [],
   "source": []
  },
  {
   "cell_type": "code",
   "execution_count": null,
   "id": "d189c78e-7aa9-4594-9b06-44642b877826",
   "metadata": {},
   "outputs": [],
   "source": []
  }
 ],
 "metadata": {
  "kernelspec": {
   "display_name": "Python 3 (ipykernel)",
   "language": "python",
   "name": "python3"
  },
  "language_info": {
   "codemirror_mode": {
    "name": "ipython",
    "version": 3
   },
   "file_extension": ".py",
   "mimetype": "text/x-python",
   "name": "python",
   "nbconvert_exporter": "python",
   "pygments_lexer": "ipython3",
   "version": "3.11.7"
  }
 },
 "nbformat": 4,
 "nbformat_minor": 5
}
