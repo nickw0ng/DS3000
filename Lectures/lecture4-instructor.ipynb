{
 "cells": [
  {
   "cell_type": "markdown",
   "metadata": {
    "slideshow": {
     "slide_type": "slide"
    }
   },
   "source": [
    "# DS 3000 Lesson 4\n",
    "\n",
    "### Logistic:\n",
    "- Modules needed today (`seaborn, matplotlib, pandas`); if they are not installed, run (in terminal):\n",
    "    - `pip install seaborn matplotlib pandas`\n",
    "- Homework 2 due Friday, Homework 3 to be posted on Thursday\n",
    "- Quiz 1 will be posted on Friday (you may choose any 2 hour chunk to complete it over the weekend)\n",
    "     \n",
    "\n",
    "### Content:\n",
    "* Review: Loading Data and Data processing with `pandas`\n",
    "* Plotting with `matplotlib` and `seaborn`:\n",
    "    * histograms\n",
    "    * scatter plots\n",
    "    * line plots"
   ]
  },
  {
   "cell_type": "code",
   "execution_count": null,
   "metadata": {},
   "outputs": [],
   "source": [
    "import random"
   ]
  },
  {
   "cell_type": "markdown",
   "metadata": {
    "slideshow": {
     "slide_type": "slide"
    }
   },
   "source": [
    "# Loading Data into Pandas\n",
    "\n",
    "Data comes from many places:\n",
    "- Web Scraping\n",
    "- Application Program Interface (API)\n",
    "- SQL\n",
    "- local file:\n",
    "    - csv\n",
    "    - JSON\n",
    "    - fixed width tables (HTML)\n",
    "    \n",
    "### Pandas functions which load data\n",
    "| Mode | Description\n",
    "| ------ | :------\n",
    "| **`read_csv`** | Load comma seperated values data from a file or URL (other delimeters too!)\n",
    "| **`read_xlsx`** | Read data in xls format (Mircosoft Excel)\n",
    "| **`read-fwf`** | Read data in fixed-width column format (i.e., no delimiters such as tab-separated txt files)\n",
    "| **`read_clipboard`** | Version of read_csv that reads data from the clipboard; useful for converting tables from web pages\n",
    "| **`read_html`** | Read all tables contained in the given HTML document.\n",
    "| **`read_json`** | Read data from a JSON (JavaScript Object Notation) string representation\n"
   ]
  },
  {
   "cell_type": "markdown",
   "metadata": {
    "slideshow": {
     "slide_type": "slide"
    }
   },
   "source": [
    "## Reading CSV (comma seperated value) into Pandas\n",
    "\n",
    "A CSV is a spreadsheet.  It is a text file where:\n",
    "- all the values of a row are seperated by commas\n",
    "    - what a great name for the file type, right?\n",
    "- all the rows are seperated by newline characters\n",
    "    - newline `\\n` is a special character which marks the end of a line\n",
    "    - pressing `<enter>` inputs a newline in text editors\n",
    "\n",
    "\n",
    "`pandas` functions:\n",
    "- read_csv\n",
    "    - header\n",
    "    - index_col\n",
    "    - dtype"
   ]
  },
  {
   "cell_type": "code",
   "execution_count": 1,
   "metadata": {},
   "outputs": [
    {
     "data": {
      "text/html": [
       "<div>\n",
       "<style scoped>\n",
       "    .dataframe tbody tr th:only-of-type {\n",
       "        vertical-align: middle;\n",
       "    }\n",
       "\n",
       "    .dataframe tbody tr th {\n",
       "        vertical-align: top;\n",
       "    }\n",
       "\n",
       "    .dataframe thead th {\n",
       "        text-align: right;\n",
       "    }\n",
       "</style>\n",
       "<table border=\"1\" class=\"dataframe\">\n",
       "  <thead>\n",
       "    <tr style=\"text-align: right;\">\n",
       "      <th></th>\n",
       "      <th>fake_student_id</th>\n",
       "      <th>time_stamp</th>\n",
       "      <th>class</th>\n",
       "      <th>co_op</th>\n",
       "      <th>prog_exp</th>\n",
       "      <th>python_exp</th>\n",
       "      <th>java_exp</th>\n",
       "      <th>r_exp</th>\n",
       "      <th>c_exp</th>\n",
       "      <th>age_months</th>\n",
       "      <th>ideal_start_salary_thousands</th>\n",
       "    </tr>\n",
       "  </thead>\n",
       "  <tbody>\n",
       "    <tr>\n",
       "      <th>0</th>\n",
       "      <td>1380</td>\n",
       "      <td>9/9/2022 15:37</td>\n",
       "      <td>Sophomore</td>\n",
       "      <td>No</td>\n",
       "      <td>9</td>\n",
       "      <td>Python</td>\n",
       "      <td>NaN</td>\n",
       "      <td>NaN</td>\n",
       "      <td>NaN</td>\n",
       "      <td>234.0</td>\n",
       "      <td>60.0</td>\n",
       "    </tr>\n",
       "    <tr>\n",
       "      <th>1</th>\n",
       "      <td>3926</td>\n",
       "      <td>9/9/2022 16:01</td>\n",
       "      <td>Sophomore</td>\n",
       "      <td>No</td>\n",
       "      <td>7</td>\n",
       "      <td>Python</td>\n",
       "      <td>NaN</td>\n",
       "      <td>NaN</td>\n",
       "      <td>NaN</td>\n",
       "      <td>233.0</td>\n",
       "      <td>100.0</td>\n",
       "    </tr>\n",
       "    <tr>\n",
       "      <th>2</th>\n",
       "      <td>2394</td>\n",
       "      <td>9/9/2022 14:19</td>\n",
       "      <td>Junior</td>\n",
       "      <td>Yes</td>\n",
       "      <td>7</td>\n",
       "      <td>Python</td>\n",
       "      <td>Java</td>\n",
       "      <td>NaN</td>\n",
       "      <td>NaN</td>\n",
       "      <td>252.0</td>\n",
       "      <td>70.0</td>\n",
       "    </tr>\n",
       "    <tr>\n",
       "      <th>3</th>\n",
       "      <td>4827</td>\n",
       "      <td>9/9/2022 16:07</td>\n",
       "      <td>Junior</td>\n",
       "      <td>No</td>\n",
       "      <td>7</td>\n",
       "      <td>Python</td>\n",
       "      <td>Java</td>\n",
       "      <td>NaN</td>\n",
       "      <td>NaN</td>\n",
       "      <td>243.0</td>\n",
       "      <td>60.0</td>\n",
       "    </tr>\n",
       "    <tr>\n",
       "      <th>4</th>\n",
       "      <td>9977</td>\n",
       "      <td>9/9/2022 16:06</td>\n",
       "      <td>Sophomore</td>\n",
       "      <td>No</td>\n",
       "      <td>5</td>\n",
       "      <td>Python</td>\n",
       "      <td>NaN</td>\n",
       "      <td>R</td>\n",
       "      <td>NaN</td>\n",
       "      <td>231.0</td>\n",
       "      <td>90.0</td>\n",
       "    </tr>\n",
       "    <tr>\n",
       "      <th>...</th>\n",
       "      <td>...</td>\n",
       "      <td>...</td>\n",
       "      <td>...</td>\n",
       "      <td>...</td>\n",
       "      <td>...</td>\n",
       "      <td>...</td>\n",
       "      <td>...</td>\n",
       "      <td>...</td>\n",
       "      <td>...</td>\n",
       "      <td>...</td>\n",
       "      <td>...</td>\n",
       "    </tr>\n",
       "    <tr>\n",
       "      <th>92</th>\n",
       "      <td>3775</td>\n",
       "      <td>9/9/2022 15:50</td>\n",
       "      <td>Junior</td>\n",
       "      <td>Yes</td>\n",
       "      <td>8</td>\n",
       "      <td>Python</td>\n",
       "      <td>NaN</td>\n",
       "      <td>R</td>\n",
       "      <td>NaN</td>\n",
       "      <td>262.0</td>\n",
       "      <td>100.0</td>\n",
       "    </tr>\n",
       "    <tr>\n",
       "      <th>93</th>\n",
       "      <td>1562</td>\n",
       "      <td>9/9/2022 16:06</td>\n",
       "      <td>Sophomore</td>\n",
       "      <td>No</td>\n",
       "      <td>7</td>\n",
       "      <td>Java</td>\n",
       "      <td>NaN</td>\n",
       "      <td>NaN</td>\n",
       "      <td>NaN</td>\n",
       "      <td>230.0</td>\n",
       "      <td>73.0</td>\n",
       "    </tr>\n",
       "    <tr>\n",
       "      <th>94</th>\n",
       "      <td>9610</td>\n",
       "      <td>9/9/2022 14:13</td>\n",
       "      <td>Senior</td>\n",
       "      <td>Yes</td>\n",
       "      <td>10</td>\n",
       "      <td>Python</td>\n",
       "      <td>Java</td>\n",
       "      <td>NaN</td>\n",
       "      <td>NaN</td>\n",
       "      <td>264.0</td>\n",
       "      <td>100.0</td>\n",
       "    </tr>\n",
       "    <tr>\n",
       "      <th>95</th>\n",
       "      <td>2120</td>\n",
       "      <td>9/9/2022 13:46</td>\n",
       "      <td>Junior</td>\n",
       "      <td>Yes</td>\n",
       "      <td>2</td>\n",
       "      <td>Java</td>\n",
       "      <td>NaN</td>\n",
       "      <td>NaN</td>\n",
       "      <td>NaN</td>\n",
       "      <td>246.0</td>\n",
       "      <td>100.0</td>\n",
       "    </tr>\n",
       "    <tr>\n",
       "      <th>96</th>\n",
       "      <td>6664</td>\n",
       "      <td>9/9/2022 13:43</td>\n",
       "      <td>Sophomore</td>\n",
       "      <td>No</td>\n",
       "      <td>10</td>\n",
       "      <td>Python</td>\n",
       "      <td>Java</td>\n",
       "      <td>NaN</td>\n",
       "      <td>NaN</td>\n",
       "      <td>238.0</td>\n",
       "      <td>75.0</td>\n",
       "    </tr>\n",
       "  </tbody>\n",
       "</table>\n",
       "<p>97 rows × 11 columns</p>\n",
       "</div>"
      ],
      "text/plain": [
       "    fake_student_id      time_stamp      class co_op  prog_exp python_exp  \\\n",
       "0              1380  9/9/2022 15:37  Sophomore    No         9     Python   \n",
       "1              3926  9/9/2022 16:01  Sophomore    No         7     Python   \n",
       "2              2394  9/9/2022 14:19     Junior   Yes         7     Python   \n",
       "3              4827  9/9/2022 16:07     Junior    No         7     Python   \n",
       "4              9977  9/9/2022 16:06  Sophomore    No         5     Python   \n",
       "..              ...             ...        ...   ...       ...        ...   \n",
       "92             3775  9/9/2022 15:50     Junior   Yes         8     Python   \n",
       "93             1562  9/9/2022 16:06  Sophomore    No         7       Java   \n",
       "94             9610  9/9/2022 14:13     Senior   Yes        10     Python   \n",
       "95             2120  9/9/2022 13:46     Junior   Yes         2       Java   \n",
       "96             6664  9/9/2022 13:43  Sophomore    No        10     Python   \n",
       "\n",
       "   java_exp r_exp c_exp  age_months  ideal_start_salary_thousands  \n",
       "0       NaN   NaN   NaN       234.0                          60.0  \n",
       "1       NaN   NaN   NaN       233.0                         100.0  \n",
       "2      Java   NaN   NaN       252.0                          70.0  \n",
       "3      Java   NaN   NaN       243.0                          60.0  \n",
       "4       NaN     R   NaN       231.0                          90.0  \n",
       "..      ...   ...   ...         ...                           ...  \n",
       "92      NaN     R   NaN       262.0                         100.0  \n",
       "93      NaN   NaN   NaN       230.0                          73.0  \n",
       "94     Java   NaN   NaN       264.0                         100.0  \n",
       "95      NaN   NaN   NaN       246.0                         100.0  \n",
       "96     Java   NaN   NaN       238.0                          75.0  \n",
       "\n",
       "[97 rows x 11 columns]"
      ]
     },
     "execution_count": 1,
     "metadata": {},
     "output_type": "execute_result"
    }
   ],
   "source": [
    "import pandas as pd\n",
    "\n",
    "pd.read_csv('cleaner_gtky.csv')"
   ]
  },
  {
   "cell_type": "code",
   "execution_count": 2,
   "metadata": {},
   "outputs": [
    {
     "data": {
      "text/html": [
       "<div>\n",
       "<style scoped>\n",
       "    .dataframe tbody tr th:only-of-type {\n",
       "        vertical-align: middle;\n",
       "    }\n",
       "\n",
       "    .dataframe tbody tr th {\n",
       "        vertical-align: top;\n",
       "    }\n",
       "\n",
       "    .dataframe thead th {\n",
       "        text-align: right;\n",
       "    }\n",
       "</style>\n",
       "<table border=\"1\" class=\"dataframe\">\n",
       "  <thead>\n",
       "    <tr style=\"text-align: right;\">\n",
       "      <th></th>\n",
       "      <th>time_stamp</th>\n",
       "      <th>class</th>\n",
       "      <th>co_op</th>\n",
       "      <th>prog_exp</th>\n",
       "      <th>python_exp</th>\n",
       "      <th>java_exp</th>\n",
       "      <th>r_exp</th>\n",
       "      <th>c_exp</th>\n",
       "      <th>age_months</th>\n",
       "      <th>ideal_start_salary_thousands</th>\n",
       "    </tr>\n",
       "    <tr>\n",
       "      <th>fake_student_id</th>\n",
       "      <th></th>\n",
       "      <th></th>\n",
       "      <th></th>\n",
       "      <th></th>\n",
       "      <th></th>\n",
       "      <th></th>\n",
       "      <th></th>\n",
       "      <th></th>\n",
       "      <th></th>\n",
       "      <th></th>\n",
       "    </tr>\n",
       "  </thead>\n",
       "  <tbody>\n",
       "    <tr>\n",
       "      <th>1380</th>\n",
       "      <td>9/9/2022 15:37</td>\n",
       "      <td>Sophomore</td>\n",
       "      <td>No</td>\n",
       "      <td>9</td>\n",
       "      <td>Python</td>\n",
       "      <td>NaN</td>\n",
       "      <td>NaN</td>\n",
       "      <td>NaN</td>\n",
       "      <td>234.0</td>\n",
       "      <td>60.0</td>\n",
       "    </tr>\n",
       "    <tr>\n",
       "      <th>3926</th>\n",
       "      <td>9/9/2022 16:01</td>\n",
       "      <td>Sophomore</td>\n",
       "      <td>No</td>\n",
       "      <td>7</td>\n",
       "      <td>Python</td>\n",
       "      <td>NaN</td>\n",
       "      <td>NaN</td>\n",
       "      <td>NaN</td>\n",
       "      <td>233.0</td>\n",
       "      <td>100.0</td>\n",
       "    </tr>\n",
       "    <tr>\n",
       "      <th>2394</th>\n",
       "      <td>9/9/2022 14:19</td>\n",
       "      <td>Junior</td>\n",
       "      <td>Yes</td>\n",
       "      <td>7</td>\n",
       "      <td>Python</td>\n",
       "      <td>Java</td>\n",
       "      <td>NaN</td>\n",
       "      <td>NaN</td>\n",
       "      <td>252.0</td>\n",
       "      <td>70.0</td>\n",
       "    </tr>\n",
       "    <tr>\n",
       "      <th>4827</th>\n",
       "      <td>9/9/2022 16:07</td>\n",
       "      <td>Junior</td>\n",
       "      <td>No</td>\n",
       "      <td>7</td>\n",
       "      <td>Python</td>\n",
       "      <td>Java</td>\n",
       "      <td>NaN</td>\n",
       "      <td>NaN</td>\n",
       "      <td>243.0</td>\n",
       "      <td>60.0</td>\n",
       "    </tr>\n",
       "    <tr>\n",
       "      <th>9977</th>\n",
       "      <td>9/9/2022 16:06</td>\n",
       "      <td>Sophomore</td>\n",
       "      <td>No</td>\n",
       "      <td>5</td>\n",
       "      <td>Python</td>\n",
       "      <td>NaN</td>\n",
       "      <td>R</td>\n",
       "      <td>NaN</td>\n",
       "      <td>231.0</td>\n",
       "      <td>90.0</td>\n",
       "    </tr>\n",
       "  </tbody>\n",
       "</table>\n",
       "</div>"
      ],
      "text/plain": [
       "                     time_stamp      class co_op  prog_exp python_exp  \\\n",
       "fake_student_id                                                         \n",
       "1380             9/9/2022 15:37  Sophomore    No         9     Python   \n",
       "3926             9/9/2022 16:01  Sophomore    No         7     Python   \n",
       "2394             9/9/2022 14:19     Junior   Yes         7     Python   \n",
       "4827             9/9/2022 16:07     Junior    No         7     Python   \n",
       "9977             9/9/2022 16:06  Sophomore    No         5     Python   \n",
       "\n",
       "                java_exp r_exp c_exp  age_months  ideal_start_salary_thousands  \n",
       "fake_student_id                                                                 \n",
       "1380                 NaN   NaN   NaN       234.0                          60.0  \n",
       "3926                 NaN   NaN   NaN       233.0                         100.0  \n",
       "2394                Java   NaN   NaN       252.0                          70.0  \n",
       "4827                Java   NaN   NaN       243.0                          60.0  \n",
       "9977                 NaN     R   NaN       231.0                          90.0  "
      ]
     },
     "execution_count": 2,
     "metadata": {},
     "output_type": "execute_result"
    }
   ],
   "source": [
    "gtky = pd.read_csv('cleaner_gtky.csv', index_col = 'fake_student_id')\n",
    "gtky.head()"
   ]
  },
  {
   "cell_type": "code",
   "execution_count": 3,
   "metadata": {},
   "outputs": [
    {
     "data": {
      "text/html": [
       "<div>\n",
       "<style scoped>\n",
       "    .dataframe tbody tr th:only-of-type {\n",
       "        vertical-align: middle;\n",
       "    }\n",
       "\n",
       "    .dataframe tbody tr th {\n",
       "        vertical-align: top;\n",
       "    }\n",
       "\n",
       "    .dataframe thead th {\n",
       "        text-align: right;\n",
       "    }\n",
       "</style>\n",
       "<table border=\"1\" class=\"dataframe\">\n",
       "  <thead>\n",
       "    <tr style=\"text-align: right;\">\n",
       "      <th></th>\n",
       "      <th>time_stamp</th>\n",
       "      <th>class</th>\n",
       "      <th>co_op</th>\n",
       "      <th>prog_exp</th>\n",
       "      <th>python_exp</th>\n",
       "      <th>java_exp</th>\n",
       "      <th>r_exp</th>\n",
       "      <th>c_exp</th>\n",
       "      <th>age_months</th>\n",
       "      <th>ideal_start_salary_thousands</th>\n",
       "    </tr>\n",
       "    <tr>\n",
       "      <th>fake_student_id</th>\n",
       "      <th></th>\n",
       "      <th></th>\n",
       "      <th></th>\n",
       "      <th></th>\n",
       "      <th></th>\n",
       "      <th></th>\n",
       "      <th></th>\n",
       "      <th></th>\n",
       "      <th></th>\n",
       "      <th></th>\n",
       "    </tr>\n",
       "  </thead>\n",
       "  <tbody>\n",
       "    <tr>\n",
       "      <th>1380</th>\n",
       "      <td>9/9/2022 15:37</td>\n",
       "      <td>Sophomore</td>\n",
       "      <td>No</td>\n",
       "      <td>9</td>\n",
       "      <td>Python</td>\n",
       "      <td>NaN</td>\n",
       "      <td>NaN</td>\n",
       "      <td>NaN</td>\n",
       "      <td>234.0</td>\n",
       "      <td>60.0</td>\n",
       "    </tr>\n",
       "    <tr>\n",
       "      <th>3926</th>\n",
       "      <td>9/9/2022 16:01</td>\n",
       "      <td>Sophomore</td>\n",
       "      <td>No</td>\n",
       "      <td>7</td>\n",
       "      <td>Python</td>\n",
       "      <td>NaN</td>\n",
       "      <td>NaN</td>\n",
       "      <td>NaN</td>\n",
       "      <td>233.0</td>\n",
       "      <td>100.0</td>\n",
       "    </tr>\n",
       "    <tr>\n",
       "      <th>2394</th>\n",
       "      <td>9/9/2022 14:19</td>\n",
       "      <td>Junior</td>\n",
       "      <td>Yes</td>\n",
       "      <td>7</td>\n",
       "      <td>Python</td>\n",
       "      <td>Java</td>\n",
       "      <td>NaN</td>\n",
       "      <td>NaN</td>\n",
       "      <td>252.0</td>\n",
       "      <td>70.0</td>\n",
       "    </tr>\n",
       "    <tr>\n",
       "      <th>4827</th>\n",
       "      <td>9/9/2022 16:07</td>\n",
       "      <td>Junior</td>\n",
       "      <td>No</td>\n",
       "      <td>7</td>\n",
       "      <td>Python</td>\n",
       "      <td>Java</td>\n",
       "      <td>NaN</td>\n",
       "      <td>NaN</td>\n",
       "      <td>243.0</td>\n",
       "      <td>60.0</td>\n",
       "    </tr>\n",
       "    <tr>\n",
       "      <th>9977</th>\n",
       "      <td>9/9/2022 16:06</td>\n",
       "      <td>Sophomore</td>\n",
       "      <td>No</td>\n",
       "      <td>5</td>\n",
       "      <td>Python</td>\n",
       "      <td>NaN</td>\n",
       "      <td>R</td>\n",
       "      <td>NaN</td>\n",
       "      <td>231.0</td>\n",
       "      <td>90.0</td>\n",
       "    </tr>\n",
       "  </tbody>\n",
       "</table>\n",
       "</div>"
      ],
      "text/plain": [
       "                     time_stamp      class co_op  prog_exp python_exp  \\\n",
       "fake_student_id                                                         \n",
       "1380             9/9/2022 15:37  Sophomore    No         9     Python   \n",
       "3926             9/9/2022 16:01  Sophomore    No         7     Python   \n",
       "2394             9/9/2022 14:19     Junior   Yes         7     Python   \n",
       "4827             9/9/2022 16:07     Junior    No         7     Python   \n",
       "9977             9/9/2022 16:06  Sophomore    No         5     Python   \n",
       "\n",
       "                java_exp r_exp c_exp  age_months  ideal_start_salary_thousands  \n",
       "fake_student_id                                                                 \n",
       "1380                 NaN   NaN   NaN       234.0                          60.0  \n",
       "3926                 NaN   NaN   NaN       233.0                         100.0  \n",
       "2394                Java   NaN   NaN       252.0                          70.0  \n",
       "4827                Java   NaN   NaN       243.0                          60.0  \n",
       "9977                 NaN     R   NaN       231.0                          90.0  "
      ]
     },
     "execution_count": 3,
     "metadata": {},
     "output_type": "execute_result"
    }
   ],
   "source": [
    "gtky = pd.read_csv('cleaner_gtky.csv', index_col = 0)\n",
    "gtky.head()"
   ]
  },
  {
   "cell_type": "code",
   "execution_count": 4,
   "metadata": {},
   "outputs": [
    {
     "data": {
      "text/html": [
       "<div>\n",
       "<style scoped>\n",
       "    .dataframe tbody tr th:only-of-type {\n",
       "        vertical-align: middle;\n",
       "    }\n",
       "\n",
       "    .dataframe tbody tr th {\n",
       "        vertical-align: top;\n",
       "    }\n",
       "\n",
       "    .dataframe thead th {\n",
       "        text-align: right;\n",
       "    }\n",
       "</style>\n",
       "<table border=\"1\" class=\"dataframe\">\n",
       "  <thead>\n",
       "    <tr style=\"text-align: right;\">\n",
       "      <th></th>\n",
       "      <th>fake_student_id</th>\n",
       "      <th>time_stamp</th>\n",
       "      <th>class</th>\n",
       "      <th>co_op</th>\n",
       "      <th>prog_exp</th>\n",
       "      <th>python_exp</th>\n",
       "      <th>java_exp</th>\n",
       "      <th>r_exp</th>\n",
       "      <th>c_exp</th>\n",
       "      <th>age_months</th>\n",
       "      <th>ideal_start_salary_thousands</th>\n",
       "    </tr>\n",
       "  </thead>\n",
       "  <tbody>\n",
       "    <tr>\n",
       "      <th>0</th>\n",
       "      <td>1380</td>\n",
       "      <td>9/9/2022 15:37</td>\n",
       "      <td>Sophomore</td>\n",
       "      <td>No</td>\n",
       "      <td>9</td>\n",
       "      <td>Python</td>\n",
       "      <td>NaN</td>\n",
       "      <td>NaN</td>\n",
       "      <td>NaN</td>\n",
       "      <td>234.0</td>\n",
       "      <td>60.0</td>\n",
       "    </tr>\n",
       "    <tr>\n",
       "      <th>1</th>\n",
       "      <td>3926</td>\n",
       "      <td>9/9/2022 16:01</td>\n",
       "      <td>Sophomore</td>\n",
       "      <td>No</td>\n",
       "      <td>7</td>\n",
       "      <td>Python</td>\n",
       "      <td>NaN</td>\n",
       "      <td>NaN</td>\n",
       "      <td>NaN</td>\n",
       "      <td>233.0</td>\n",
       "      <td>100.0</td>\n",
       "    </tr>\n",
       "    <tr>\n",
       "      <th>2</th>\n",
       "      <td>2394</td>\n",
       "      <td>9/9/2022 14:19</td>\n",
       "      <td>Junior</td>\n",
       "      <td>Yes</td>\n",
       "      <td>7</td>\n",
       "      <td>Python</td>\n",
       "      <td>Java</td>\n",
       "      <td>NaN</td>\n",
       "      <td>NaN</td>\n",
       "      <td>252.0</td>\n",
       "      <td>70.0</td>\n",
       "    </tr>\n",
       "    <tr>\n",
       "      <th>3</th>\n",
       "      <td>4827</td>\n",
       "      <td>9/9/2022 16:07</td>\n",
       "      <td>Junior</td>\n",
       "      <td>No</td>\n",
       "      <td>7</td>\n",
       "      <td>Python</td>\n",
       "      <td>Java</td>\n",
       "      <td>NaN</td>\n",
       "      <td>NaN</td>\n",
       "      <td>243.0</td>\n",
       "      <td>60.0</td>\n",
       "    </tr>\n",
       "    <tr>\n",
       "      <th>4</th>\n",
       "      <td>9977</td>\n",
       "      <td>9/9/2022 16:06</td>\n",
       "      <td>Sophomore</td>\n",
       "      <td>No</td>\n",
       "      <td>5</td>\n",
       "      <td>Python</td>\n",
       "      <td>NaN</td>\n",
       "      <td>R</td>\n",
       "      <td>NaN</td>\n",
       "      <td>231.0</td>\n",
       "      <td>90.0</td>\n",
       "    </tr>\n",
       "  </tbody>\n",
       "</table>\n",
       "</div>"
      ],
      "text/plain": [
       "   fake_student_id      time_stamp      class co_op  prog_exp python_exp  \\\n",
       "0             1380  9/9/2022 15:37  Sophomore    No         9     Python   \n",
       "1             3926  9/9/2022 16:01  Sophomore    No         7     Python   \n",
       "2             2394  9/9/2022 14:19     Junior   Yes         7     Python   \n",
       "3             4827  9/9/2022 16:07     Junior    No         7     Python   \n",
       "4             9977  9/9/2022 16:06  Sophomore    No         5     Python   \n",
       "\n",
       "  java_exp r_exp c_exp  age_months  ideal_start_salary_thousands  \n",
       "0      NaN   NaN   NaN       234.0                          60.0  \n",
       "1      NaN   NaN   NaN       233.0                         100.0  \n",
       "2     Java   NaN   NaN       252.0                          70.0  \n",
       "3     Java   NaN   NaN       243.0                          60.0  \n",
       "4      NaN     R   NaN       231.0                          90.0  "
      ]
     },
     "execution_count": 4,
     "metadata": {},
     "output_type": "execute_result"
    }
   ],
   "source": [
    "gtky = pd.read_csv('cleaner_gtky.csv', index_col = None)\n",
    "gtky.head()"
   ]
  },
  {
   "cell_type": "code",
   "execution_count": 5,
   "metadata": {},
   "outputs": [
    {
     "data": {
      "text/html": [
       "<div>\n",
       "<style scoped>\n",
       "    .dataframe tbody tr th:only-of-type {\n",
       "        vertical-align: middle;\n",
       "    }\n",
       "\n",
       "    .dataframe tbody tr th {\n",
       "        vertical-align: top;\n",
       "    }\n",
       "\n",
       "    .dataframe thead th {\n",
       "        text-align: right;\n",
       "    }\n",
       "</style>\n",
       "<table border=\"1\" class=\"dataframe\">\n",
       "  <thead>\n",
       "    <tr style=\"text-align: right;\">\n",
       "      <th></th>\n",
       "      <th>0</th>\n",
       "      <th>1</th>\n",
       "      <th>2</th>\n",
       "      <th>3</th>\n",
       "      <th>4</th>\n",
       "      <th>5</th>\n",
       "      <th>6</th>\n",
       "      <th>7</th>\n",
       "      <th>8</th>\n",
       "      <th>9</th>\n",
       "      <th>10</th>\n",
       "    </tr>\n",
       "  </thead>\n",
       "  <tbody>\n",
       "    <tr>\n",
       "      <th>0</th>\n",
       "      <td>fake_student_id</td>\n",
       "      <td>time_stamp</td>\n",
       "      <td>class</td>\n",
       "      <td>co_op</td>\n",
       "      <td>prog_exp</td>\n",
       "      <td>python_exp</td>\n",
       "      <td>java_exp</td>\n",
       "      <td>r_exp</td>\n",
       "      <td>c_exp</td>\n",
       "      <td>age_months</td>\n",
       "      <td>ideal_start_salary_thousands</td>\n",
       "    </tr>\n",
       "    <tr>\n",
       "      <th>1</th>\n",
       "      <td>1380</td>\n",
       "      <td>9/9/2022 15:37</td>\n",
       "      <td>Sophomore</td>\n",
       "      <td>No</td>\n",
       "      <td>9</td>\n",
       "      <td>Python</td>\n",
       "      <td>NaN</td>\n",
       "      <td>NaN</td>\n",
       "      <td>NaN</td>\n",
       "      <td>234</td>\n",
       "      <td>60</td>\n",
       "    </tr>\n",
       "    <tr>\n",
       "      <th>2</th>\n",
       "      <td>3926</td>\n",
       "      <td>9/9/2022 16:01</td>\n",
       "      <td>Sophomore</td>\n",
       "      <td>No</td>\n",
       "      <td>7</td>\n",
       "      <td>Python</td>\n",
       "      <td>NaN</td>\n",
       "      <td>NaN</td>\n",
       "      <td>NaN</td>\n",
       "      <td>233</td>\n",
       "      <td>100</td>\n",
       "    </tr>\n",
       "    <tr>\n",
       "      <th>3</th>\n",
       "      <td>2394</td>\n",
       "      <td>9/9/2022 14:19</td>\n",
       "      <td>Junior</td>\n",
       "      <td>Yes</td>\n",
       "      <td>7</td>\n",
       "      <td>Python</td>\n",
       "      <td>Java</td>\n",
       "      <td>NaN</td>\n",
       "      <td>NaN</td>\n",
       "      <td>252</td>\n",
       "      <td>70</td>\n",
       "    </tr>\n",
       "    <tr>\n",
       "      <th>4</th>\n",
       "      <td>4827</td>\n",
       "      <td>9/9/2022 16:07</td>\n",
       "      <td>Junior</td>\n",
       "      <td>No</td>\n",
       "      <td>7</td>\n",
       "      <td>Python</td>\n",
       "      <td>Java</td>\n",
       "      <td>NaN</td>\n",
       "      <td>NaN</td>\n",
       "      <td>243</td>\n",
       "      <td>60</td>\n",
       "    </tr>\n",
       "  </tbody>\n",
       "</table>\n",
       "</div>"
      ],
      "text/plain": [
       "                0               1          2      3         4           5   \\\n",
       "0  fake_student_id      time_stamp      class  co_op  prog_exp  python_exp   \n",
       "1             1380  9/9/2022 15:37  Sophomore     No         9      Python   \n",
       "2             3926  9/9/2022 16:01  Sophomore     No         7      Python   \n",
       "3             2394  9/9/2022 14:19     Junior    Yes         7      Python   \n",
       "4             4827  9/9/2022 16:07     Junior     No         7      Python   \n",
       "\n",
       "         6      7      8           9                             10  \n",
       "0  java_exp  r_exp  c_exp  age_months  ideal_start_salary_thousands  \n",
       "1       NaN    NaN    NaN         234                            60  \n",
       "2       NaN    NaN    NaN         233                           100  \n",
       "3      Java    NaN    NaN         252                            70  \n",
       "4      Java    NaN    NaN         243                            60  "
      ]
     },
     "execution_count": 5,
     "metadata": {},
     "output_type": "execute_result"
    }
   ],
   "source": [
    "gtky = pd.read_csv('cleaner_gtky.csv', header = None)\n",
    "gtky.head()"
   ]
  },
  {
   "cell_type": "markdown",
   "metadata": {
    "slideshow": {
     "slide_type": "slide"
    }
   },
   "source": [
    "## Saving a DataFrame as a csv\n",
    "- `.to_csv()`\n",
    "    - index=False\n",
    "    - header=False\n",
    "    - appending to csv (mode='a', header=None)"
   ]
  },
  {
   "cell_type": "code",
   "execution_count": 6,
   "metadata": {},
   "outputs": [
    {
     "data": {
      "text/html": [
       "<div>\n",
       "<style scoped>\n",
       "    .dataframe tbody tr th:only-of-type {\n",
       "        vertical-align: middle;\n",
       "    }\n",
       "\n",
       "    .dataframe tbody tr th {\n",
       "        vertical-align: top;\n",
       "    }\n",
       "\n",
       "    .dataframe thead th {\n",
       "        text-align: right;\n",
       "    }\n",
       "</style>\n",
       "<table border=\"1\" class=\"dataframe\">\n",
       "  <thead>\n",
       "    <tr style=\"text-align: right;\">\n",
       "      <th></th>\n",
       "      <th>fake_student_id</th>\n",
       "      <th>time_stamp</th>\n",
       "      <th>class</th>\n",
       "      <th>co_op</th>\n",
       "      <th>prog_exp</th>\n",
       "      <th>python_exp</th>\n",
       "      <th>java_exp</th>\n",
       "      <th>r_exp</th>\n",
       "      <th>c_exp</th>\n",
       "      <th>age_months</th>\n",
       "      <th>ideal_start_salary_thousands</th>\n",
       "    </tr>\n",
       "  </thead>\n",
       "  <tbody>\n",
       "    <tr>\n",
       "      <th>0</th>\n",
       "      <td>1380</td>\n",
       "      <td>9/9/2022 15:37</td>\n",
       "      <td>Sophomore</td>\n",
       "      <td>No</td>\n",
       "      <td>9</td>\n",
       "      <td>Python</td>\n",
       "      <td>NaN</td>\n",
       "      <td>NaN</td>\n",
       "      <td>NaN</td>\n",
       "      <td>234.0</td>\n",
       "      <td>60.0</td>\n",
       "    </tr>\n",
       "    <tr>\n",
       "      <th>1</th>\n",
       "      <td>3926</td>\n",
       "      <td>9/9/2022 16:01</td>\n",
       "      <td>Sophomore</td>\n",
       "      <td>No</td>\n",
       "      <td>7</td>\n",
       "      <td>Python</td>\n",
       "      <td>NaN</td>\n",
       "      <td>NaN</td>\n",
       "      <td>NaN</td>\n",
       "      <td>233.0</td>\n",
       "      <td>100.0</td>\n",
       "    </tr>\n",
       "    <tr>\n",
       "      <th>2</th>\n",
       "      <td>2394</td>\n",
       "      <td>9/9/2022 14:19</td>\n",
       "      <td>Junior</td>\n",
       "      <td>Yes</td>\n",
       "      <td>7</td>\n",
       "      <td>Python</td>\n",
       "      <td>Java</td>\n",
       "      <td>NaN</td>\n",
       "      <td>NaN</td>\n",
       "      <td>252.0</td>\n",
       "      <td>70.0</td>\n",
       "    </tr>\n",
       "    <tr>\n",
       "      <th>3</th>\n",
       "      <td>4827</td>\n",
       "      <td>9/9/2022 16:07</td>\n",
       "      <td>Junior</td>\n",
       "      <td>No</td>\n",
       "      <td>7</td>\n",
       "      <td>Python</td>\n",
       "      <td>Java</td>\n",
       "      <td>NaN</td>\n",
       "      <td>NaN</td>\n",
       "      <td>243.0</td>\n",
       "      <td>60.0</td>\n",
       "    </tr>\n",
       "    <tr>\n",
       "      <th>4</th>\n",
       "      <td>9977</td>\n",
       "      <td>9/9/2022 16:06</td>\n",
       "      <td>Sophomore</td>\n",
       "      <td>No</td>\n",
       "      <td>5</td>\n",
       "      <td>Python</td>\n",
       "      <td>NaN</td>\n",
       "      <td>R</td>\n",
       "      <td>NaN</td>\n",
       "      <td>231.0</td>\n",
       "      <td>90.0</td>\n",
       "    </tr>\n",
       "  </tbody>\n",
       "</table>\n",
       "</div>"
      ],
      "text/plain": [
       "   fake_student_id      time_stamp      class co_op  prog_exp python_exp  \\\n",
       "0             1380  9/9/2022 15:37  Sophomore    No         9     Python   \n",
       "1             3926  9/9/2022 16:01  Sophomore    No         7     Python   \n",
       "2             2394  9/9/2022 14:19     Junior   Yes         7     Python   \n",
       "3             4827  9/9/2022 16:07     Junior    No         7     Python   \n",
       "4             9977  9/9/2022 16:06  Sophomore    No         5     Python   \n",
       "\n",
       "  java_exp r_exp c_exp  age_months  ideal_start_salary_thousands  \n",
       "0      NaN   NaN   NaN       234.0                          60.0  \n",
       "1      NaN   NaN   NaN       233.0                         100.0  \n",
       "2     Java   NaN   NaN       252.0                          70.0  \n",
       "3     Java   NaN   NaN       243.0                          60.0  \n",
       "4      NaN     R   NaN       231.0                          90.0  "
      ]
     },
     "execution_count": 6,
     "metadata": {},
     "output_type": "execute_result"
    }
   ],
   "source": [
    "gtky = pd.read_csv('cleaner_gtky.csv')\n",
    "gtky.head()"
   ]
  },
  {
   "cell_type": "code",
   "execution_count": 7,
   "metadata": {},
   "outputs": [],
   "source": [
    "gtky.to_csv('gtky_copy.csv', index = False)"
   ]
  },
  {
   "cell_type": "code",
   "execution_count": 8,
   "metadata": {},
   "outputs": [],
   "source": [
    "gtky.to_csv('gtky_copy_no_head.csv', header = False)"
   ]
  },
  {
   "cell_type": "code",
   "execution_count": 9,
   "metadata": {},
   "outputs": [],
   "source": [
    "gtky.to_csv('gtky_copy2.csv')\n",
    "for _ in range(10):\n",
    "    gtky.to_csv('gtky_copy2.csv', header = False, mode = 'a')"
   ]
  },
  {
   "cell_type": "markdown",
   "metadata": {
    "slideshow": {
     "slide_type": "slide"
    }
   },
   "source": [
    "# How do I explore a new-to-me dataset?\n",
    "\n",
    "## First: View raw data:\n",
    "\n",
    "- `.columns()`\n",
    "- `.head()`\n",
    "- `.shape()`\n",
    "- `.unique()`\n",
    "- `Counter()`\n",
    "\n",
    "## Second: Make some plots ... (next)"
   ]
  },
  {
   "cell_type": "code",
   "execution_count": 14,
   "metadata": {
    "scrolled": true
   },
   "outputs": [
    {
     "data": {
      "text/html": [
       "<div>\n",
       "<style scoped>\n",
       "    .dataframe tbody tr th:only-of-type {\n",
       "        vertical-align: middle;\n",
       "    }\n",
       "\n",
       "    .dataframe tbody tr th {\n",
       "        vertical-align: top;\n",
       "    }\n",
       "\n",
       "    .dataframe thead th {\n",
       "        text-align: right;\n",
       "    }\n",
       "</style>\n",
       "<table border=\"1\" class=\"dataframe\">\n",
       "  <thead>\n",
       "    <tr style=\"text-align: right;\">\n",
       "      <th></th>\n",
       "      <th>Date</th>\n",
       "      <th>Region</th>\n",
       "      <th>Birth</th>\n",
       "      <th>Birth_rate</th>\n",
       "      <th>Death</th>\n",
       "      <th>Death_rate</th>\n",
       "      <th>Divorce</th>\n",
       "      <th>Divorce_rate</th>\n",
       "      <th>Marriage</th>\n",
       "      <th>Marriage_rate</th>\n",
       "      <th>Natural_growth</th>\n",
       "      <th>Natural_growth_rate</th>\n",
       "    </tr>\n",
       "  </thead>\n",
       "  <tbody>\n",
       "    <tr>\n",
       "      <th>0</th>\n",
       "      <td>1/1/2000</td>\n",
       "      <td>Busan</td>\n",
       "      <td>3752.0</td>\n",
       "      <td>11.61</td>\n",
       "      <td>1875.0</td>\n",
       "      <td>5.8</td>\n",
       "      <td>814.0</td>\n",
       "      <td>2.5</td>\n",
       "      <td>2435.0</td>\n",
       "      <td>7.5</td>\n",
       "      <td>1877.0</td>\n",
       "      <td>5.8</td>\n",
       "    </tr>\n",
       "    <tr>\n",
       "      <th>1</th>\n",
       "      <td>1/1/2000</td>\n",
       "      <td>Chungcheongbuk-do</td>\n",
       "      <td>1903.0</td>\n",
       "      <td>15.06</td>\n",
       "      <td>924.0</td>\n",
       "      <td>7.3</td>\n",
       "      <td>220.0</td>\n",
       "      <td>1.7</td>\n",
       "      <td>828.0</td>\n",
       "      <td>6.6</td>\n",
       "      <td>979.0</td>\n",
       "      <td>7.7</td>\n",
       "    </tr>\n",
       "    <tr>\n",
       "      <th>2</th>\n",
       "      <td>1/1/2000</td>\n",
       "      <td>Chungcheongnam-do</td>\n",
       "      <td>2398.0</td>\n",
       "      <td>14.75</td>\n",
       "      <td>1466.0</td>\n",
       "      <td>9.0</td>\n",
       "      <td>321.0</td>\n",
       "      <td>2.0</td>\n",
       "      <td>1055.0</td>\n",
       "      <td>6.5</td>\n",
       "      <td>932.0</td>\n",
       "      <td>5.7</td>\n",
       "    </tr>\n",
       "    <tr>\n",
       "      <th>3</th>\n",
       "      <td>1/1/2000</td>\n",
       "      <td>Daegu</td>\n",
       "      <td>3057.0</td>\n",
       "      <td>14.39</td>\n",
       "      <td>1117.0</td>\n",
       "      <td>5.3</td>\n",
       "      <td>422.0</td>\n",
       "      <td>2.0</td>\n",
       "      <td>1577.0</td>\n",
       "      <td>7.4</td>\n",
       "      <td>1940.0</td>\n",
       "      <td>9.1</td>\n",
       "    </tr>\n",
       "    <tr>\n",
       "      <th>4</th>\n",
       "      <td>1/1/2000</td>\n",
       "      <td>Daejeon</td>\n",
       "      <td>1859.0</td>\n",
       "      <td>16.08</td>\n",
       "      <td>565.0</td>\n",
       "      <td>4.9</td>\n",
       "      <td>280.0</td>\n",
       "      <td>2.4</td>\n",
       "      <td>868.0</td>\n",
       "      <td>7.5</td>\n",
       "      <td>1294.0</td>\n",
       "      <td>11.2</td>\n",
       "    </tr>\n",
       "  </tbody>\n",
       "</table>\n",
       "</div>"
      ],
      "text/plain": [
       "       Date             Region   Birth  Birth_rate   Death  Death_rate  \\\n",
       "0  1/1/2000              Busan  3752.0       11.61  1875.0         5.8   \n",
       "1  1/1/2000  Chungcheongbuk-do  1903.0       15.06   924.0         7.3   \n",
       "2  1/1/2000  Chungcheongnam-do  2398.0       14.75  1466.0         9.0   \n",
       "3  1/1/2000              Daegu  3057.0       14.39  1117.0         5.3   \n",
       "4  1/1/2000            Daejeon  1859.0       16.08   565.0         4.9   \n",
       "\n",
       "   Divorce  Divorce_rate  Marriage  Marriage_rate  Natural_growth  \\\n",
       "0    814.0           2.5    2435.0            7.5          1877.0   \n",
       "1    220.0           1.7     828.0            6.6           979.0   \n",
       "2    321.0           2.0    1055.0            6.5           932.0   \n",
       "3    422.0           2.0    1577.0            7.4          1940.0   \n",
       "4    280.0           2.4     868.0            7.5          1294.0   \n",
       "\n",
       "   Natural_growth_rate  \n",
       "0                  5.8  \n",
       "1                  7.7  \n",
       "2                  5.7  \n",
       "3                  9.1  \n",
       "4                 11.2  "
      ]
     },
     "execution_count": 14,
     "metadata": {},
     "output_type": "execute_result"
    }
   ],
   "source": [
    "df_korea = pd.read_csv('korea_demo.zip')\n",
    "df_korea.head()"
   ]
  },
  {
   "cell_type": "code",
   "execution_count": 15,
   "metadata": {},
   "outputs": [
    {
     "data": {
      "text/plain": [
       "(4860, 12)"
      ]
     },
     "execution_count": 15,
     "metadata": {},
     "output_type": "execute_result"
    }
   ],
   "source": [
    "df_korea.shape"
   ]
  },
  {
   "cell_type": "code",
   "execution_count": 17,
   "metadata": {},
   "outputs": [
    {
     "data": {
      "text/plain": [
       "Index(['Date', 'Region', 'Birth', 'Birth_rate', 'Death', 'Death_rate',\n",
       "       'Divorce', 'Divorce_rate', 'Marriage', 'Marriage_rate',\n",
       "       'Natural_growth', 'Natural_growth_rate'],\n",
       "      dtype='object')"
      ]
     },
     "execution_count": 17,
     "metadata": {},
     "output_type": "execute_result"
    }
   ],
   "source": [
    "df_korea.columns"
   ]
  },
  {
   "cell_type": "code",
   "execution_count": 18,
   "metadata": {},
   "outputs": [
    {
     "data": {
      "text/plain": [
       "array(['Busan', 'Chungcheongbuk-do', 'Chungcheongnam-do', 'Daegu',\n",
       "       'Daejeon', 'Gangwon-do', 'Gwangju', 'Gyeonggi-do',\n",
       "       'Gyeongsangbuk-do', 'Gyeongsangnam-do', 'Incheon', 'Jeju',\n",
       "       'Jeollabuk-do', 'Jeollanam-do', 'Sejong', 'Seoul', 'Ulsan',\n",
       "       'Whole country'], dtype=object)"
      ]
     },
     "execution_count": 18,
     "metadata": {},
     "output_type": "execute_result"
    }
   ],
   "source": [
    "df_korea['Region'].unique()"
   ]
  },
  {
   "cell_type": "code",
   "execution_count": 19,
   "metadata": {
    "scrolled": true
   },
   "outputs": [
    {
     "data": {
      "text/plain": [
       "Counter({'Busan': 270,\n",
       "         'Chungcheongbuk-do': 270,\n",
       "         'Chungcheongnam-do': 270,\n",
       "         'Daegu': 270,\n",
       "         'Daejeon': 270,\n",
       "         'Gangwon-do': 270,\n",
       "         'Gwangju': 270,\n",
       "         'Gyeonggi-do': 270,\n",
       "         'Gyeongsangbuk-do': 270,\n",
       "         'Gyeongsangnam-do': 270,\n",
       "         'Incheon': 270,\n",
       "         'Jeju': 270,\n",
       "         'Jeollabuk-do': 270,\n",
       "         'Jeollanam-do': 270,\n",
       "         'Sejong': 270,\n",
       "         'Seoul': 270,\n",
       "         'Ulsan': 270,\n",
       "         'Whole country': 270})"
      ]
     },
     "execution_count": 19,
     "metadata": {},
     "output_type": "execute_result"
    }
   ],
   "source": [
    "from collections import Counter\n",
    "\n",
    "Counter(df_korea['Region'])"
   ]
  },
  {
   "cell_type": "markdown",
   "metadata": {
    "slideshow": {
     "slide_type": "slide"
    }
   },
   "source": [
    "## Groupby\n",
    "\n",
    "Groupby collects all the rows which have some consistent feature in the data and reports aggregate statistics (often the `.mean()` is helpful).\n",
    "\n",
    "... its best to just dive into an example:"
   ]
  },
  {
   "cell_type": "code",
   "execution_count": 21,
   "metadata": {},
   "outputs": [
    {
     "data": {
      "text/html": [
       "<div>\n",
       "<style scoped>\n",
       "    .dataframe tbody tr th:only-of-type {\n",
       "        vertical-align: middle;\n",
       "    }\n",
       "\n",
       "    .dataframe tbody tr th {\n",
       "        vertical-align: top;\n",
       "    }\n",
       "\n",
       "    .dataframe thead th {\n",
       "        text-align: right;\n",
       "    }\n",
       "</style>\n",
       "<table border=\"1\" class=\"dataframe\">\n",
       "  <thead>\n",
       "    <tr style=\"text-align: right;\">\n",
       "      <th></th>\n",
       "      <th>Birth</th>\n",
       "    </tr>\n",
       "    <tr>\n",
       "      <th>Region</th>\n",
       "      <th></th>\n",
       "    </tr>\n",
       "  </thead>\n",
       "  <tbody>\n",
       "    <tr>\n",
       "      <th>Busan</th>\n",
       "      <td>2148.022222</td>\n",
       "    </tr>\n",
       "    <tr>\n",
       "      <th>Chungcheongbuk-do</th>\n",
       "      <td>1113.507407</td>\n",
       "    </tr>\n",
       "    <tr>\n",
       "      <th>Chungcheongnam-do</th>\n",
       "      <td>1496.451852</td>\n",
       "    </tr>\n",
       "    <tr>\n",
       "      <th>Daegu</th>\n",
       "      <td>1651.677778</td>\n",
       "    </tr>\n",
       "    <tr>\n",
       "      <th>Daejeon</th>\n",
       "      <td>1119.266667</td>\n",
       "    </tr>\n",
       "    <tr>\n",
       "      <th>Gangwon-do</th>\n",
       "      <td>990.740741</td>\n",
       "    </tr>\n",
       "    <tr>\n",
       "      <th>Gwangju</th>\n",
       "      <td>1086.440741</td>\n",
       "    </tr>\n",
       "    <tr>\n",
       "      <th>Gyeonggi-do</th>\n",
       "      <td>9175.785185</td>\n",
       "    </tr>\n",
       "    <tr>\n",
       "      <th>Gyeongsangbuk-do</th>\n",
       "      <td>1835.751852</td>\n",
       "    </tr>\n",
       "    <tr>\n",
       "      <th>Gyeongsangnam-do</th>\n",
       "      <td>2386.322222</td>\n",
       "    </tr>\n",
       "    <tr>\n",
       "      <th>Incheon</th>\n",
       "      <td>2016.196296</td>\n",
       "    </tr>\n",
       "    <tr>\n",
       "      <th>Jeju</th>\n",
       "      <td>471.059259</td>\n",
       "    </tr>\n",
       "    <tr>\n",
       "      <th>Jeollabuk-do</th>\n",
       "      <td>1242.911111</td>\n",
       "    </tr>\n",
       "    <tr>\n",
       "      <th>Jeollanam-do</th>\n",
       "      <td>1301.962963</td>\n",
       "    </tr>\n",
       "    <tr>\n",
       "      <th>Sejong</th>\n",
       "      <td>232.452381</td>\n",
       "    </tr>\n",
       "    <tr>\n",
       "      <th>Seoul</th>\n",
       "      <td>7103.470370</td>\n",
       "    </tr>\n",
       "    <tr>\n",
       "      <th>Ulsan</th>\n",
       "      <td>891.977778</td>\n",
       "    </tr>\n",
       "    <tr>\n",
       "      <th>Whole country</th>\n",
       "      <td>36140.007407</td>\n",
       "    </tr>\n",
       "  </tbody>\n",
       "</table>\n",
       "</div>"
      ],
      "text/plain": [
       "                          Birth\n",
       "Region                         \n",
       "Busan               2148.022222\n",
       "Chungcheongbuk-do   1113.507407\n",
       "Chungcheongnam-do   1496.451852\n",
       "Daegu               1651.677778\n",
       "Daejeon             1119.266667\n",
       "Gangwon-do           990.740741\n",
       "Gwangju             1086.440741\n",
       "Gyeonggi-do         9175.785185\n",
       "Gyeongsangbuk-do    1835.751852\n",
       "Gyeongsangnam-do    2386.322222\n",
       "Incheon             2016.196296\n",
       "Jeju                 471.059259\n",
       "Jeollabuk-do        1242.911111\n",
       "Jeollanam-do        1301.962963\n",
       "Sejong               232.452381\n",
       "Seoul               7103.470370\n",
       "Ulsan                891.977778\n",
       "Whole country      36140.007407"
      ]
     },
     "execution_count": 21,
     "metadata": {},
     "output_type": "execute_result"
    }
   ],
   "source": [
    "df_korea.iloc[:, 1:3].groupby('Region').mean()"
   ]
  },
  {
   "cell_type": "code",
   "execution_count": 22,
   "metadata": {},
   "outputs": [
    {
     "data": {
      "text/html": [
       "<div>\n",
       "<style scoped>\n",
       "    .dataframe tbody tr th:only-of-type {\n",
       "        vertical-align: middle;\n",
       "    }\n",
       "\n",
       "    .dataframe tbody tr th {\n",
       "        vertical-align: top;\n",
       "    }\n",
       "\n",
       "    .dataframe thead th {\n",
       "        text-align: right;\n",
       "    }\n",
       "</style>\n",
       "<table border=\"1\" class=\"dataframe\">\n",
       "  <thead>\n",
       "    <tr style=\"text-align: right;\">\n",
       "      <th></th>\n",
       "      <th>Date</th>\n",
       "      <th>Birth</th>\n",
       "      <th>Birth_rate</th>\n",
       "      <th>Death</th>\n",
       "      <th>Death_rate</th>\n",
       "      <th>Divorce</th>\n",
       "      <th>Divorce_rate</th>\n",
       "      <th>Marriage</th>\n",
       "      <th>Marriage_rate</th>\n",
       "      <th>Natural_growth</th>\n",
       "      <th>Natural_growth_rate</th>\n",
       "    </tr>\n",
       "    <tr>\n",
       "      <th>Region</th>\n",
       "      <th></th>\n",
       "      <th></th>\n",
       "      <th></th>\n",
       "      <th></th>\n",
       "      <th></th>\n",
       "      <th></th>\n",
       "      <th></th>\n",
       "      <th></th>\n",
       "      <th></th>\n",
       "      <th></th>\n",
       "      <th></th>\n",
       "    </tr>\n",
       "  </thead>\n",
       "  <tbody>\n",
       "    <tr>\n",
       "      <th>Busan</th>\n",
       "      <td>9/1/2021</td>\n",
       "      <td>3935.0</td>\n",
       "      <td>12.19</td>\n",
       "      <td>3629.0</td>\n",
       "      <td>12.8</td>\n",
       "      <td>1263.0</td>\n",
       "      <td>4.4</td>\n",
       "      <td>2919.0</td>\n",
       "      <td>9.4</td>\n",
       "      <td>2328.0</td>\n",
       "      <td>7.2</td>\n",
       "    </tr>\n",
       "    <tr>\n",
       "      <th>Chungcheongbuk-do</th>\n",
       "      <td>9/1/2021</td>\n",
       "      <td>1903.0</td>\n",
       "      <td>15.06</td>\n",
       "      <td>1617.0</td>\n",
       "      <td>12.0</td>\n",
       "      <td>436.0</td>\n",
       "      <td>3.8</td>\n",
       "      <td>1322.0</td>\n",
       "      <td>10.4</td>\n",
       "      <td>993.0</td>\n",
       "      <td>7.8</td>\n",
       "    </tr>\n",
       "    <tr>\n",
       "      <th>Chungcheongnam-do</th>\n",
       "      <td>9/1/2021</td>\n",
       "      <td>2398.0</td>\n",
       "      <td>14.95</td>\n",
       "      <td>2239.0</td>\n",
       "      <td>12.5</td>\n",
       "      <td>550.0</td>\n",
       "      <td>3.7</td>\n",
       "      <td>1918.0</td>\n",
       "      <td>11.4</td>\n",
       "      <td>1153.0</td>\n",
       "      <td>7.6</td>\n",
       "    </tr>\n",
       "    <tr>\n",
       "      <th>Daegu</th>\n",
       "      <td>9/1/2021</td>\n",
       "      <td>3057.0</td>\n",
       "      <td>14.39</td>\n",
       "      <td>2332.0</td>\n",
       "      <td>11.6</td>\n",
       "      <td>802.0</td>\n",
       "      <td>4.0</td>\n",
       "      <td>1983.0</td>\n",
       "      <td>9.3</td>\n",
       "      <td>2033.0</td>\n",
       "      <td>9.6</td>\n",
       "    </tr>\n",
       "    <tr>\n",
       "      <th>Daejeon</th>\n",
       "      <td>9/1/2021</td>\n",
       "      <td>1859.0</td>\n",
       "      <td>16.17</td>\n",
       "      <td>1084.0</td>\n",
       "      <td>8.8</td>\n",
       "      <td>495.0</td>\n",
       "      <td>4.5</td>\n",
       "      <td>1406.0</td>\n",
       "      <td>11.3</td>\n",
       "      <td>1319.0</td>\n",
       "      <td>11.9</td>\n",
       "    </tr>\n",
       "    <tr>\n",
       "      <th>Gangwon-do</th>\n",
       "      <td>9/1/2021</td>\n",
       "      <td>1966.0</td>\n",
       "      <td>14.91</td>\n",
       "      <td>1717.0</td>\n",
       "      <td>13.2</td>\n",
       "      <td>522.0</td>\n",
       "      <td>4.0</td>\n",
       "      <td>1210.0</td>\n",
       "      <td>9.5</td>\n",
       "      <td>928.0</td>\n",
       "      <td>7.2</td>\n",
       "    </tr>\n",
       "    <tr>\n",
       "      <th>Gwangju</th>\n",
       "      <td>9/1/2021</td>\n",
       "      <td>2159.0</td>\n",
       "      <td>18.77</td>\n",
       "      <td>1156.0</td>\n",
       "      <td>9.5</td>\n",
       "      <td>443.0</td>\n",
       "      <td>3.9</td>\n",
       "      <td>1212.0</td>\n",
       "      <td>10.1</td>\n",
       "      <td>1553.0</td>\n",
       "      <td>13.5</td>\n",
       "    </tr>\n",
       "    <tr>\n",
       "      <th>Gyeonggi-do</th>\n",
       "      <td>9/1/2021</td>\n",
       "      <td>13527.0</td>\n",
       "      <td>17.85</td>\n",
       "      <td>9137.0</td>\n",
       "      <td>8.0</td>\n",
       "      <td>3353.0</td>\n",
       "      <td>4.0</td>\n",
       "      <td>10840.0</td>\n",
       "      <td>11.7</td>\n",
       "      <td>9832.0</td>\n",
       "      <td>13.2</td>\n",
       "    </tr>\n",
       "    <tr>\n",
       "      <th>Gyeongsangbuk-do</th>\n",
       "      <td>9/1/2021</td>\n",
       "      <td>3362.0</td>\n",
       "      <td>14.50</td>\n",
       "      <td>3262.0</td>\n",
       "      <td>14.7</td>\n",
       "      <td>703.0</td>\n",
       "      <td>3.2</td>\n",
       "      <td>2331.0</td>\n",
       "      <td>10.2</td>\n",
       "      <td>1405.0</td>\n",
       "      <td>6.0</td>\n",
       "    </tr>\n",
       "    <tr>\n",
       "      <th>Gyeongsangnam-do</th>\n",
       "      <td>9/1/2021</td>\n",
       "      <td>3972.0</td>\n",
       "      <td>15.21</td>\n",
       "      <td>3311.0</td>\n",
       "      <td>11.8</td>\n",
       "      <td>991.0</td>\n",
       "      <td>3.7</td>\n",
       "      <td>2970.0</td>\n",
       "      <td>11.0</td>\n",
       "      <td>2228.0</td>\n",
       "      <td>8.5</td>\n",
       "    </tr>\n",
       "    <tr>\n",
       "      <th>Incheon</th>\n",
       "      <td>9/1/2021</td>\n",
       "      <td>3320.0</td>\n",
       "      <td>15.61</td>\n",
       "      <td>2326.0</td>\n",
       "      <td>9.3</td>\n",
       "      <td>1102.0</td>\n",
       "      <td>5.0</td>\n",
       "      <td>2442.0</td>\n",
       "      <td>11.0</td>\n",
       "      <td>2363.0</td>\n",
       "      <td>11.1</td>\n",
       "    </tr>\n",
       "    <tr>\n",
       "      <th>Jeju</th>\n",
       "      <td>9/1/2021</td>\n",
       "      <td>842.0</td>\n",
       "      <td>18.45</td>\n",
       "      <td>539.0</td>\n",
       "      <td>9.4</td>\n",
       "      <td>225.0</td>\n",
       "      <td>4.9</td>\n",
       "      <td>441.0</td>\n",
       "      <td>10.3</td>\n",
       "      <td>554.0</td>\n",
       "      <td>12.1</td>\n",
       "    </tr>\n",
       "    <tr>\n",
       "      <th>Jeollabuk-do</th>\n",
       "      <td>9/1/2021</td>\n",
       "      <td>2547.0</td>\n",
       "      <td>14.97</td>\n",
       "      <td>2177.0</td>\n",
       "      <td>14.4</td>\n",
       "      <td>649.0</td>\n",
       "      <td>3.9</td>\n",
       "      <td>1418.0</td>\n",
       "      <td>8.9</td>\n",
       "      <td>1215.0</td>\n",
       "      <td>7.2</td>\n",
       "    </tr>\n",
       "    <tr>\n",
       "      <th>Jeollanam-do</th>\n",
       "      <td>9/1/2021</td>\n",
       "      <td>2679.0</td>\n",
       "      <td>14.69</td>\n",
       "      <td>2429.0</td>\n",
       "      <td>15.7</td>\n",
       "      <td>641.0</td>\n",
       "      <td>3.7</td>\n",
       "      <td>1350.0</td>\n",
       "      <td>8.2</td>\n",
       "      <td>908.0</td>\n",
       "      <td>5.0</td>\n",
       "    </tr>\n",
       "    <tr>\n",
       "      <th>Sejong</th>\n",
       "      <td>9/1/2021</td>\n",
       "      <td>392.0</td>\n",
       "      <td>16.23</td>\n",
       "      <td>207.0</td>\n",
       "      <td>9.3</td>\n",
       "      <td>68.0</td>\n",
       "      <td>3.0</td>\n",
       "      <td>235.0</td>\n",
       "      <td>12.4</td>\n",
       "      <td>273.0</td>\n",
       "      <td>11.5</td>\n",
       "    </tr>\n",
       "    <tr>\n",
       "      <th>Seoul</th>\n",
       "      <td>9/1/2021</td>\n",
       "      <td>12866.0</td>\n",
       "      <td>14.79</td>\n",
       "      <td>6529.0</td>\n",
       "      <td>8.2</td>\n",
       "      <td>2944.0</td>\n",
       "      <td>3.5</td>\n",
       "      <td>10566.0</td>\n",
       "      <td>12.3</td>\n",
       "      <td>9085.0</td>\n",
       "      <td>10.5</td>\n",
       "    </tr>\n",
       "    <tr>\n",
       "      <th>Ulsan</th>\n",
       "      <td>9/1/2021</td>\n",
       "      <td>1524.0</td>\n",
       "      <td>17.51</td>\n",
       "      <td>796.0</td>\n",
       "      <td>8.4</td>\n",
       "      <td>370.0</td>\n",
       "      <td>4.2</td>\n",
       "      <td>1108.0</td>\n",
       "      <td>11.9</td>\n",
       "      <td>1194.0</td>\n",
       "      <td>13.7</td>\n",
       "    </tr>\n",
       "    <tr>\n",
       "      <th>Whole country</th>\n",
       "      <td>9/1/2021</td>\n",
       "      <td>61644.0</td>\n",
       "      <td>15.37</td>\n",
       "      <td>44487.0</td>\n",
       "      <td>10.2</td>\n",
       "      <td>15517.0</td>\n",
       "      <td>3.9</td>\n",
       "      <td>46099.0</td>\n",
       "      <td>11.1</td>\n",
       "      <td>38286.0</td>\n",
       "      <td>9.7</td>\n",
       "    </tr>\n",
       "  </tbody>\n",
       "</table>\n",
       "</div>"
      ],
      "text/plain": [
       "                       Date    Birth  Birth_rate    Death  Death_rate  \\\n",
       "Region                                                                  \n",
       "Busan              9/1/2021   3935.0       12.19   3629.0        12.8   \n",
       "Chungcheongbuk-do  9/1/2021   1903.0       15.06   1617.0        12.0   \n",
       "Chungcheongnam-do  9/1/2021   2398.0       14.95   2239.0        12.5   \n",
       "Daegu              9/1/2021   3057.0       14.39   2332.0        11.6   \n",
       "Daejeon            9/1/2021   1859.0       16.17   1084.0         8.8   \n",
       "Gangwon-do         9/1/2021   1966.0       14.91   1717.0        13.2   \n",
       "Gwangju            9/1/2021   2159.0       18.77   1156.0         9.5   \n",
       "Gyeonggi-do        9/1/2021  13527.0       17.85   9137.0         8.0   \n",
       "Gyeongsangbuk-do   9/1/2021   3362.0       14.50   3262.0        14.7   \n",
       "Gyeongsangnam-do   9/1/2021   3972.0       15.21   3311.0        11.8   \n",
       "Incheon            9/1/2021   3320.0       15.61   2326.0         9.3   \n",
       "Jeju               9/1/2021    842.0       18.45    539.0         9.4   \n",
       "Jeollabuk-do       9/1/2021   2547.0       14.97   2177.0        14.4   \n",
       "Jeollanam-do       9/1/2021   2679.0       14.69   2429.0        15.7   \n",
       "Sejong             9/1/2021    392.0       16.23    207.0         9.3   \n",
       "Seoul              9/1/2021  12866.0       14.79   6529.0         8.2   \n",
       "Ulsan              9/1/2021   1524.0       17.51    796.0         8.4   \n",
       "Whole country      9/1/2021  61644.0       15.37  44487.0        10.2   \n",
       "\n",
       "                   Divorce  Divorce_rate  Marriage  Marriage_rate  \\\n",
       "Region                                                              \n",
       "Busan               1263.0           4.4    2919.0            9.4   \n",
       "Chungcheongbuk-do    436.0           3.8    1322.0           10.4   \n",
       "Chungcheongnam-do    550.0           3.7    1918.0           11.4   \n",
       "Daegu                802.0           4.0    1983.0            9.3   \n",
       "Daejeon              495.0           4.5    1406.0           11.3   \n",
       "Gangwon-do           522.0           4.0    1210.0            9.5   \n",
       "Gwangju              443.0           3.9    1212.0           10.1   \n",
       "Gyeonggi-do         3353.0           4.0   10840.0           11.7   \n",
       "Gyeongsangbuk-do     703.0           3.2    2331.0           10.2   \n",
       "Gyeongsangnam-do     991.0           3.7    2970.0           11.0   \n",
       "Incheon             1102.0           5.0    2442.0           11.0   \n",
       "Jeju                 225.0           4.9     441.0           10.3   \n",
       "Jeollabuk-do         649.0           3.9    1418.0            8.9   \n",
       "Jeollanam-do         641.0           3.7    1350.0            8.2   \n",
       "Sejong                68.0           3.0     235.0           12.4   \n",
       "Seoul               2944.0           3.5   10566.0           12.3   \n",
       "Ulsan                370.0           4.2    1108.0           11.9   \n",
       "Whole country      15517.0           3.9   46099.0           11.1   \n",
       "\n",
       "                   Natural_growth  Natural_growth_rate  \n",
       "Region                                                  \n",
       "Busan                      2328.0                  7.2  \n",
       "Chungcheongbuk-do           993.0                  7.8  \n",
       "Chungcheongnam-do          1153.0                  7.6  \n",
       "Daegu                      2033.0                  9.6  \n",
       "Daejeon                    1319.0                 11.9  \n",
       "Gangwon-do                  928.0                  7.2  \n",
       "Gwangju                    1553.0                 13.5  \n",
       "Gyeonggi-do                9832.0                 13.2  \n",
       "Gyeongsangbuk-do           1405.0                  6.0  \n",
       "Gyeongsangnam-do           2228.0                  8.5  \n",
       "Incheon                    2363.0                 11.1  \n",
       "Jeju                        554.0                 12.1  \n",
       "Jeollabuk-do               1215.0                  7.2  \n",
       "Jeollanam-do                908.0                  5.0  \n",
       "Sejong                      273.0                 11.5  \n",
       "Seoul                      9085.0                 10.5  \n",
       "Ulsan                      1194.0                 13.7  \n",
       "Whole country             38286.0                  9.7  "
      ]
     },
     "execution_count": 22,
     "metadata": {},
     "output_type": "execute_result"
    }
   ],
   "source": [
    "df_korea.groupby('Region').max()"
   ]
  },
  {
   "cell_type": "markdown",
   "metadata": {},
   "source": [
    "`df.groupby()` to remember:\n",
    "- `df.groupby(feature)` collects all the rows whose feature is matching\n",
    "    - example 0 above: we take the mean of all rows with matching `Region`\n",
    "    - example 1 above: we take the max of all rows with matching `Region`\n",
    "- `df.groupby(feature)` is not a dataframe, but a pandas `groupby` object\n",
    "- it is often helpful to take some relevant method (`.min() .max() .mean()`...) of the groupby object\n",
    "\n",
    "(++) you can `groupby()` more than 1 feature"
   ]
  },
  {
   "cell_type": "markdown",
   "metadata": {
    "slideshow": {
     "slide_type": "slide"
    }
   },
   "source": [
    "## Plotting\n",
    "\n",
    "A plot (visualization) is one of data's ways of speaking to us:\n",
    " - we plot to help ourselves understand data\n",
    "     - get in the habit of quickly plotting some \"quick and ugly\" graphs to get a sense of your data\n",
    " - we plot to help others understand data\n",
    "     - we build beautiful graphs because a picture can be worth a thousand words ...\n",
    "         - check out [https://www.reddit.com/r/dataisbeautiful](https://www.reddit.com/r/dataisbeautiful)\n",
    "         - check out [https://informationisbeautiful.net/](https://informationisbeautiful.net/)"
   ]
  },
  {
   "cell_type": "markdown",
   "metadata": {},
   "source": [
    "- Any data analysis need to have data visualization\n",
    "- For student project, 3-4 data visualizaiton is enough\n",
    "- data visualization needs to be in different form\n",
    "- You will at least include one data visualization for your reponse variable/target\n",
    "- You will also need to have at least one data visualization between your target and other other features"
   ]
  },
  {
   "cell_type": "markdown",
   "metadata": {
    "slideshow": {
     "slide_type": "slide"
    }
   },
   "source": [
    "## Plotting Tips:\n",
    "- always save source code which generated your graph (you'll often need to change something later)\n",
    "- don't make a pie chart\n",
    "- dense charts, packed with lots of information, are great to explore\n",
    "    - [dense chart example](https://www.reddit.com/r/dataisbeautiful/comments/xkvnk1/oc_saw_a_post_of_gender_balance_and_average/)\n",
    "- sparse charts, with little information in them, are great to communicate\n",
    "    - [sparse chart example](https://www.reddit.com/r/dataisbeautiful/comments/xiy4fc/oc_nights_when_the_temperature_never_dropped/)\n",
    "\n",
    "plotting is an iterative process:\n",
    "\n",
    "```python\n",
    "question = 'I wonder how ...'\n",
    "while understanding < understanding_needed:\n",
    "    # you make a plot which answers your first \n",
    "    # question ... but raises another question!\n",
    "    new_question = make_plot(question)\n",
    "    \n",
    "    # now you're satisfied with old question\n",
    "    # but you're interested in the new one\n",
    "    question = new_question\n",
    "\n",
    "```"
   ]
  },
  {
   "cell_type": "markdown",
   "metadata": {
    "slideshow": {
     "slide_type": "slide"
    }
   },
   "source": [
    "# Histograms\n",
    "We use histograms to investigate how often certain values appear in the data. \n",
    "- The x-axis is (almost) always the values which occur\n",
    "- the y-axis is how often they occur\n",
    "\n",
    "- [a delicious example](https://i.redd.it/x42zrm4hi4x51.jpg)\n",
    "    - they have two columns for s ... easier to read but not proper for Data Science\n",
    "\n",
    "\n",
    "Todo list:\n",
    "\n",
    "- `plt.hist()` on `Marriage_rate`\n",
    "- resizing figure\n",
    "- `density` keyword\n",
    "- labelling axes\n",
    "- `bin` argument\n",
    "- seaborn makes it look nice\n",
    "- exporting to pdf:\n",
    "\n",
    "```python\n",
    "from matplotlib.backends.backend_pdf import PdfPages\n",
    "\n",
    "# code which plots goes here\n",
    "\n",
    "f = 'korea_marriage_hist.pdf'\n",
    "with PdfPages(f) as pdf:\n",
    "    pdf.savefig(bbox_inches='tight')\n",
    "    \n",
    "```"
   ]
  },
  {
   "cell_type": "code",
   "execution_count": 23,
   "metadata": {},
   "outputs": [
    {
     "data": {
      "text/html": [
       "<div>\n",
       "<style scoped>\n",
       "    .dataframe tbody tr th:only-of-type {\n",
       "        vertical-align: middle;\n",
       "    }\n",
       "\n",
       "    .dataframe tbody tr th {\n",
       "        vertical-align: top;\n",
       "    }\n",
       "\n",
       "    .dataframe thead th {\n",
       "        text-align: right;\n",
       "    }\n",
       "</style>\n",
       "<table border=\"1\" class=\"dataframe\">\n",
       "  <thead>\n",
       "    <tr style=\"text-align: right;\">\n",
       "      <th></th>\n",
       "      <th>Date</th>\n",
       "      <th>Region</th>\n",
       "      <th>Birth</th>\n",
       "      <th>Birth_rate</th>\n",
       "      <th>Death</th>\n",
       "      <th>Death_rate</th>\n",
       "      <th>Divorce</th>\n",
       "      <th>Divorce_rate</th>\n",
       "      <th>Marriage</th>\n",
       "      <th>Marriage_rate</th>\n",
       "      <th>Natural_growth</th>\n",
       "      <th>Natural_growth_rate</th>\n",
       "    </tr>\n",
       "  </thead>\n",
       "  <tbody>\n",
       "    <tr>\n",
       "      <th>0</th>\n",
       "      <td>1/1/2000</td>\n",
       "      <td>Busan</td>\n",
       "      <td>3752.0</td>\n",
       "      <td>11.61</td>\n",
       "      <td>1875.0</td>\n",
       "      <td>5.8</td>\n",
       "      <td>814.0</td>\n",
       "      <td>2.5</td>\n",
       "      <td>2435.0</td>\n",
       "      <td>7.5</td>\n",
       "      <td>1877.0</td>\n",
       "      <td>5.8</td>\n",
       "    </tr>\n",
       "    <tr>\n",
       "      <th>1</th>\n",
       "      <td>1/1/2000</td>\n",
       "      <td>Chungcheongbuk-do</td>\n",
       "      <td>1903.0</td>\n",
       "      <td>15.06</td>\n",
       "      <td>924.0</td>\n",
       "      <td>7.3</td>\n",
       "      <td>220.0</td>\n",
       "      <td>1.7</td>\n",
       "      <td>828.0</td>\n",
       "      <td>6.6</td>\n",
       "      <td>979.0</td>\n",
       "      <td>7.7</td>\n",
       "    </tr>\n",
       "    <tr>\n",
       "      <th>2</th>\n",
       "      <td>1/1/2000</td>\n",
       "      <td>Chungcheongnam-do</td>\n",
       "      <td>2398.0</td>\n",
       "      <td>14.75</td>\n",
       "      <td>1466.0</td>\n",
       "      <td>9.0</td>\n",
       "      <td>321.0</td>\n",
       "      <td>2.0</td>\n",
       "      <td>1055.0</td>\n",
       "      <td>6.5</td>\n",
       "      <td>932.0</td>\n",
       "      <td>5.7</td>\n",
       "    </tr>\n",
       "    <tr>\n",
       "      <th>3</th>\n",
       "      <td>1/1/2000</td>\n",
       "      <td>Daegu</td>\n",
       "      <td>3057.0</td>\n",
       "      <td>14.39</td>\n",
       "      <td>1117.0</td>\n",
       "      <td>5.3</td>\n",
       "      <td>422.0</td>\n",
       "      <td>2.0</td>\n",
       "      <td>1577.0</td>\n",
       "      <td>7.4</td>\n",
       "      <td>1940.0</td>\n",
       "      <td>9.1</td>\n",
       "    </tr>\n",
       "    <tr>\n",
       "      <th>4</th>\n",
       "      <td>1/1/2000</td>\n",
       "      <td>Daejeon</td>\n",
       "      <td>1859.0</td>\n",
       "      <td>16.08</td>\n",
       "      <td>565.0</td>\n",
       "      <td>4.9</td>\n",
       "      <td>280.0</td>\n",
       "      <td>2.4</td>\n",
       "      <td>868.0</td>\n",
       "      <td>7.5</td>\n",
       "      <td>1294.0</td>\n",
       "      <td>11.2</td>\n",
       "    </tr>\n",
       "  </tbody>\n",
       "</table>\n",
       "</div>"
      ],
      "text/plain": [
       "       Date             Region   Birth  Birth_rate   Death  Death_rate  \\\n",
       "0  1/1/2000              Busan  3752.0       11.61  1875.0         5.8   \n",
       "1  1/1/2000  Chungcheongbuk-do  1903.0       15.06   924.0         7.3   \n",
       "2  1/1/2000  Chungcheongnam-do  2398.0       14.75  1466.0         9.0   \n",
       "3  1/1/2000              Daegu  3057.0       14.39  1117.0         5.3   \n",
       "4  1/1/2000            Daejeon  1859.0       16.08   565.0         4.9   \n",
       "\n",
       "   Divorce  Divorce_rate  Marriage  Marriage_rate  Natural_growth  \\\n",
       "0    814.0           2.5    2435.0            7.5          1877.0   \n",
       "1    220.0           1.7     828.0            6.6           979.0   \n",
       "2    321.0           2.0    1055.0            6.5           932.0   \n",
       "3    422.0           2.0    1577.0            7.4          1940.0   \n",
       "4    280.0           2.4     868.0            7.5          1294.0   \n",
       "\n",
       "   Natural_growth_rate  \n",
       "0                  5.8  \n",
       "1                  7.7  \n",
       "2                  5.7  \n",
       "3                  9.1  \n",
       "4                 11.2  "
      ]
     },
     "execution_count": 23,
     "metadata": {},
     "output_type": "execute_result"
    }
   ],
   "source": [
    "df_korea.head()"
   ]
  },
  {
   "cell_type": "code",
   "execution_count": 24,
   "metadata": {},
   "outputs": [
    {
     "data": {
      "text/plain": [
       "2.4"
      ]
     },
     "execution_count": 24,
     "metadata": {},
     "output_type": "execute_result"
    }
   ],
   "source": [
    "df_korea.loc[:,'Marriage_rate'].min()"
   ]
  },
  {
   "cell_type": "code",
   "execution_count": 25,
   "metadata": {},
   "outputs": [
    {
     "data": {
      "text/plain": [
       "12.4"
      ]
     },
     "execution_count": 25,
     "metadata": {},
     "output_type": "execute_result"
    }
   ],
   "source": [
    "df_korea.loc[:,'Marriage_rate'].max()"
   ]
  },
  {
   "cell_type": "code",
   "execution_count": 26,
   "metadata": {
    "scrolled": true
   },
   "outputs": [],
   "source": [
    "import matplotlib.pyplot as plt\n",
    "import numpy as np\n",
    "from matplotlib.backends.backend_pdf import PdfPages\n",
    "import seaborn as sns"
   ]
  },
  {
   "cell_type": "code",
   "execution_count": 29,
   "metadata": {},
   "outputs": [
    {
     "data": {
      "image/png": "[encoded data removed]",
      "text/plain": [
       "<Figure size 640x480 with 1 Axes>"
      ]
     },
     "metadata": {},
     "output_type": "display_data"
    }
   ],
   "source": [
    "bins = np.linspace(0, 13, 14)\n",
    "\n",
    "plt.hist(df_korea['Marriage_rate'], bins = bins)\n",
    "plt.xlabel('marriage rate')\n",
    "plt.ylabel('count')\n",
    "\n",
    "f = 'korea_marriage_hist.pdf'\n",
    "with PdfPages(f) as pdf:\n",
    "    pdf.savefig(bbox_inches='tight')"
   ]
  },
  {
   "cell_type": "code",
   "execution_count": 31,
   "metadata": {},
   "outputs": [
    {
     "data": {
      "text/plain": [
       "Text(0, 0.5, 'density')"
      ]
     },
     "execution_count": 31,
     "metadata": {},
     "output_type": "execute_result"
    },
    {
     "data": {
      "image/png": "[encoded data removed]",
      "text/plain": [
       "<Figure size 640x480 with 1 Axes>"
      ]
     },
     "metadata": {},
     "output_type": "display_data"
    }
   ],
   "source": [
    "plt.hist(df_korea['Marriage_rate'], bins = bins, density = True)\n",
    "plt.xlabel('marriage rate')\n",
    "plt.ylabel('density')"
   ]
  },
  {
   "cell_type": "markdown",
   "metadata": {
    "slideshow": {
     "slide_type": "slide"
    }
   },
   "source": [
    "# Subplots\n",
    "Subplots are useful for showing multiple views of the data side by side.\n",
    "\n",
    "goal: show relationship between `Marriage_rate` as `Region` varies.\n",
    "\n",
    "- `plt.subplot(n_rows, n_cols, desired_subplot)`\n",
    "- figure vs axis (`plt.gcf()` and `plt.gca()`)\n",
    "- labelling subplot title\n",
    "- making a bigger figure\n",
    "    - `plt.figure(figsize=(10, 5))`\n",
    "        - make a new figure and specify its size\n",
    "    - `plt.gcf().set_size_inches(15, 7)`\n",
    "        - get the current figure `gcf()` and set its size\n",
    "- `plt.ylim()`"
   ]
  },
  {
   "cell_type": "code",
   "execution_count": 36,
   "metadata": {},
   "outputs": [
    {
     "data": {
      "image/png": "[encoded data removed]",
      "text/plain": [
       "<Figure size 640x480 with 1 Axes>"
      ]
     },
     "metadata": {},
     "output_type": "display_data"
    }
   ],
   "source": [
    "# start with Busan\n",
    "bool_busan = df_korea['Region'] == 'Busan'\n",
    "df_busan = df_korea.loc[bool_busan, :]\n",
    "\n",
    "plt.hist(df_busan['Marriage_rate'], bins = bins)\n",
    "plt.xlabel('Marriage rate')\n",
    "plt.ylabel('Count')\n",
    "plt.gca().title.set_text('Busan')"
   ]
  },
  {
   "cell_type": "code",
   "execution_count": 39,
   "metadata": {
    "scrolled": true
   },
   "outputs": [
    {
     "data": {
      "image/png": "[encoded data removed]",
      "text/plain": [
       "<Figure size 1800x600 with 18 Axes>"
      ]
     },
     "metadata": {},
     "output_type": "display_data"
    }
   ],
   "source": [
    "# now all of the regions\n",
    "# a useful function to convert an array to a list is .tolist()\n",
    "\n",
    "region_list = df_korea['Region'].unique().tolist()\n",
    "\n",
    "for region in region_list:\n",
    "    region_index = region_list.index(region)\n",
    "    plt.subplot(3,6, region_index+1)\n",
    "\n",
    "    bool_region = df_korea['Region'] == region\n",
    "    df_region = df_korea.loc[bool_region, :]\n",
    "\n",
    "    plt.hist(df_region['Marriage_rate'], bins = bins)\n",
    "    plt.xlabel('Marriage rate')\n",
    "    if region_index in (0, 6, 12):\n",
    "        plt.ylabel('Count')\n",
    "    plt.gca().title.set_text(region_list[region_index])\n",
    "    plt.ylim = (0, 100)\n",
    "\n",
    "plt.gcf().set_size_inches(18, 6)\n",
    "plt.subplots_adjust(wspace = 0.5, hspace = 1)\n"
   ]
  },
  {
   "cell_type": "code",
   "execution_count": 40,
   "metadata": {},
   "outputs": [
    {
     "data": {
      "image/png": "[encoded data removed]",
      "text/plain": [
       "<Figure size 1200x200 with 5 Axes>"
      ]
     },
     "metadata": {},
     "output_type": "display_data"
    }
   ],
   "source": [
    "# another example with our gtky data\n",
    "# how does programming experience vary based on class?\n",
    "\n",
    "grade_list = gtky['class'].unique().tolist()\n",
    "\n",
    "bins = np.linspace(-0.5, 10.5, 12)\n",
    "\n",
    "for grade in grade_list:\n",
    "    grade_index = grade_list.index(grade)\n",
    "    plt.subplot(1,5, grade_index+1)\n",
    "\n",
    "    bool_grade = gtky['class'] == grade\n",
    "    df_grade = gtky.loc[bool_grade, :]\n",
    "\n",
    "    plt.hist(df_grade['prog_exp'], bins = bins)\n",
    "    plt.xlabel('program experience')\n",
    "    if grade_index == 0:\n",
    "        plt.ylabel('Count')\n",
    "    plt.gca().title.set_text(grade_list[grade_index])\n",
    "    plt.ylim = (0, 15)\n",
    "\n",
    "plt.gcf().set_size_inches(12, 2)\n",
    "plt.subplots_adjust(wspace = 0.5, hspace = 1)"
   ]
  },
  {
   "cell_type": "markdown",
   "metadata": {
    "slideshow": {
     "slide_type": "slide"
    }
   },
   "source": [
    "## Scatter plots\n",
    "\n",
    "What is the relationship between `Marriage_rate` and `National_growth_rate` in:\n",
    "1. `Seoul`\n",
    "1. `Busan`\n",
    "\n",
    "skills:\n",
    "- `plt.scatter`\n",
    "- `alpha`\n",
    "- multiple scatters on same plot\n",
    "- legend\n",
    "- log scale"
   ]
  },
  {
   "cell_type": "code",
   "execution_count": 41,
   "metadata": {},
   "outputs": [
    {
     "data": {
      "text/plain": [
       "<matplotlib.collections.PathCollection at 0x24f1e7bdf90>"
      ]
     },
     "execution_count": 41,
     "metadata": {},
     "output_type": "execute_result"
    },
    {
     "data": {
      "image/png": "[encoded data removed]",
      "text/plain": [
       "<Figure size 640x480 with 1 Axes>"
      ]
     },
     "metadata": {},
     "output_type": "display_data"
    }
   ],
   "source": [
    "x = [1,2,3]\n",
    "y = [1,4,9]\n",
    "plt.scatter(x,y)"
   ]
  },
  {
   "cell_type": "code",
   "execution_count": 44,
   "metadata": {},
   "outputs": [
    {
     "data": {
      "text/plain": [
       "Text(0.5, 0.98, 'marriage and growth rate in Seoul')"
      ]
     },
     "execution_count": 44,
     "metadata": {},
     "output_type": "execute_result"
    },
    {
     "data": {
      "image/png": "[encoded data removed]",
      "text/plain": [
       "<Figure size 640x480 with 1 Axes>"
      ]
     },
     "metadata": {},
     "output_type": "display_data"
    }
   ],
   "source": [
    "bool_seoul = df_korea['Region'] == 'Seoul'\n",
    "df_seoul = df_korea.loc[bool_seoul, :]\n",
    "\n",
    "plt.scatter(df_seoul['Marriage_rate'], \n",
    "           df_seoul['Natural_growth_rate'], alpha = 0.5)\n",
    "plt.xlabel('marriage rate')\n",
    "plt.ylabel('natural growth rate')\n",
    "plt.suptitle('marriage and growth rate in Seoul')"
   ]
  },
  {
   "cell_type": "code",
   "execution_count": 47,
   "metadata": {
    "scrolled": true
   },
   "outputs": [
    {
     "data": {
      "text/plain": [
       "Text(0, 0.5, 'Natural growth rate')"
      ]
     },
     "execution_count": 47,
     "metadata": {},
     "output_type": "execute_result"
    },
    {
     "data": {
      "image/png": "[encoded data removed]",
      "text/plain": [
       "<Figure size 640x480 with 1 Axes>"
      ]
     },
     "metadata": {},
     "output_type": "display_data"
    }
   ],
   "source": [
    "two_regions = ['Seoul', 'Busan']\n",
    "\n",
    "for region in two_regions:\n",
    "\n",
    "    bool_region = df_korea['Region'] == region\n",
    "    df_region = df_korea.loc[bool_region, :]\n",
    "\n",
    "    plt.scatter(df_region['Marriage_rate'], \n",
    "                df_region['Natural_growth_rate'], alpha = 0.5, label = region)\n",
    "\n",
    "plt.legend()\n",
    "plt.xlabel('Marriage rate')\n",
    "plt.ylabel('Natural growth rate')"
   ]
  },
  {
   "cell_type": "code",
   "execution_count": 48,
   "metadata": {},
   "outputs": [
    {
     "data": {
      "text/plain": [
       "<matplotlib.legend.Legend at 0x24f23958a90>"
      ]
     },
     "execution_count": 48,
     "metadata": {},
     "output_type": "execute_result"
    },
    {
     "data": {
      "image/png": "[encoded data removed]",
      "text/plain": [
       "<Figure size 640x480 with 1 Axes>"
      ]
     },
     "metadata": {},
     "output_type": "display_data"
    }
   ],
   "source": [
    "# what about seeing if there is a relationship between programming \n",
    "# experience and age in months for Sophomores and everyone else?\n",
    "\n",
    "for is_soph in range(2):\n",
    "    if is_soph == 0:\n",
    "        bool_soph = gtky['class'] == \"Sophomore\"\n",
    "        label = \"Sophomore\"\n",
    "        df_soph = gtky.loc[bool_soph, :]\n",
    "    else:\n",
    "        bool_soph = gtky['class'] != \"Sophomore\"\n",
    "        label = \"Not Sophomore\"\n",
    "        df_soph = gtky.loc[bool_soph, :]\n",
    "\n",
    "    plt.scatter(df_soph['age_months'],\n",
    "               df_soph['prog_exp'], alpha = 0.5, label = label)\n",
    "plt.legend()\n",
    "    "
   ]
  },
  {
   "cell_type": "markdown",
   "metadata": {
    "slideshow": {
     "slide_type": "slide"
    }
   },
   "source": [
    "# Line Plots\n",
    "\n",
    "What was the change in mean `marriage_rate` over time in the dataset?\n",
    "\n",
    "- `plt.plot()` (line plot)\n",
    "- cleaning data to answer the question\n",
    "- `groupby`\n",
    "- line style (width, color, dot/dash)"
   ]
  },
  {
   "cell_type": "code",
   "execution_count": 49,
   "metadata": {},
   "outputs": [
    {
     "data": {
      "text/plain": [
       "[<matplotlib.lines.Line2D at 0x24f236a48d0>]"
      ]
     },
     "execution_count": 49,
     "metadata": {},
     "output_type": "execute_result"
    },
    {
     "data": {
      "image/png": "[encoded data removed]",
      "text/plain": [
       "<Figure size 640x480 with 1 Axes>"
      ]
     },
     "metadata": {},
     "output_type": "display_data"
    }
   ],
   "source": [
    "x = [1,2,3]\n",
    "y = [1,4,9]\n",
    "plt.plot(x,y)"
   ]
  },
  {
   "cell_type": "code",
   "execution_count": 52,
   "metadata": {},
   "outputs": [
    {
     "data": {
      "text/plain": [
       "0   2000-01-01\n",
       "1   2000-01-01\n",
       "2   2000-01-01\n",
       "3   2000-01-01\n",
       "4   2000-01-01\n",
       "Name: Date, dtype: datetime64[ns]"
      ]
     },
     "execution_count": 52,
     "metadata": {},
     "output_type": "execute_result"
    }
   ],
   "source": [
    "# can look at the unique dates in the data set\n",
    "df_korea['Date'].unique()\n",
    "df_korea['Date'] = pd.to_datetime(df_korea['Date'], format = '%m/%d/%Y')\n",
    "df_korea['Date'].head()"
   ]
  },
  {
   "cell_type": "code",
   "execution_count": 53,
   "metadata": {},
   "outputs": [
    {
     "data": {
      "text/plain": [
       "array(['Busan', 'Chungcheongbuk-do', 'Chungcheongnam-do', 'Daegu',\n",
       "       'Daejeon', 'Gangwon-do', 'Gwangju', 'Gyeonggi-do',\n",
       "       'Gyeongsangbuk-do', 'Gyeongsangnam-do', 'Incheon', 'Jeju',\n",
       "       'Jeollabuk-do', 'Jeollanam-do', 'Sejong', 'Seoul', 'Ulsan'],\n",
       "      dtype=object)"
      ]
     },
     "execution_count": 53,
     "metadata": {},
     "output_type": "execute_result"
    }
   ],
   "source": [
    "bool_nocountry = df_korea['Region'] != 'Whole country'\n",
    "df_korea_new = df_korea.loc[bool_nocountry, :]\n",
    "df_korea_new['Region'].unique()"
   ]
  },
  {
   "cell_type": "code",
   "execution_count": 54,
   "metadata": {
    "scrolled": true
   },
   "outputs": [
    {
     "data": {
      "text/plain": [
       "Date\n",
       "2000-01-01    7.306250\n",
       "2000-02-01    6.956250\n",
       "2000-03-01    7.437500\n",
       "2000-04-01    6.912500\n",
       "2000-05-01    8.356250\n",
       "                ...   \n",
       "2022-02-01    3.870588\n",
       "2022-03-01    3.447059\n",
       "2022-04-01    3.658824\n",
       "2022-05-01    3.805882\n",
       "2022-06-01    3.452941\n",
       "Name: Marriage_rate, Length: 270, dtype: float64"
      ]
     },
     "execution_count": 54,
     "metadata": {},
     "output_type": "execute_result"
    }
   ],
   "source": [
    "mean_marriage_by_date = df_korea_new.groupby(\"Date\")['Marriage_rate'].mean()\n",
    "mean_marriage_by_date"
   ]
  },
  {
   "cell_type": "code",
   "execution_count": 60,
   "metadata": {},
   "outputs": [
    {
     "data": {
      "text/plain": [
       "[<matplotlib.lines.Line2D at 0x24f291cb610>]"
      ]
     },
     "execution_count": 60,
     "metadata": {},
     "output_type": "execute_result"
    },
    {
     "data": {
      "image/png": "[encoded data removed]",
      "text/plain": [
       "<Figure size 640x480 with 1 Axes>"
      ]
     },
     "metadata": {},
     "output_type": "display_data"
    }
   ],
   "source": [
    "# : dotted line, -- dashed, -. mixed, - solid\n",
    "date = range(mean_marriage_by_date.size)\n",
    "plt.plot(date, mean_marriage_by_date, color = 'g', linestyle = '-.', linewidth = 2)"
   ]
  },
  {
   "cell_type": "markdown",
   "metadata": {},
   "source": [
    "# Rest of Class Exercise (if time)\n",
    "\n",
    "Download the `pokedata.csv` file from the Homeworks Module in Canvas and make sure it is stored in the same directory as this `day4.ipynb` lecture file. In the time we have left make **at least one** (more if you have more time) plot that demonstrates the answer to some question(s) you might be interested in concerning the original 151 Pokémon. If you are struggling to come up with a question, below are some *suggestions*. When you are done, share your findings with your neighbor(s), making sure to explain what the plot you made means/how it helps answer your question.\n",
    "\n",
    "Some possible questions to address with your plot(s):\n",
    "- How does Pokémon height differ across types?\n",
    "- Do Pokémon with higher Pokédex values generally have better (higher) damage?\n",
    "- What is the relationship between a Pokémon's weight and their speed?"
   ]
  }
 ],
 "metadata": {
  "celltoolbar": "Slideshow",
  "kernelspec": {
   "display_name": "Python 3 (ipykernel)",
   "language": "python",
   "name": "python3"
  },
  "language_info": {
   "codemirror_mode": {
    "name": "ipython",
    "version": 3
   },
   "file_extension": ".py",
   "mimetype": "text/x-python",
   "name": "python",
   "nbconvert_exporter": "python",
   "pygments_lexer": "ipython3",
   "version": "3.11.7"
  }
 },
 "nbformat": 4,
 "nbformat_minor": 4
}
