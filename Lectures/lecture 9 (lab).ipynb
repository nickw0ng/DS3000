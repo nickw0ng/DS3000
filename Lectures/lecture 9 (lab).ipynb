{
 "cells": [
  {
   "cell_type": "markdown",
   "id": "f3fbf055",
   "metadata": {},
   "source": [
    "# Lab: Wed scraping and ploting \n",
    "\n",
    "WikiHow is a unique and extensive online community that offers a vast array of how-to guides covering a wide range of topics. Launched in 2005, this website has grown to become a go-to resource for people seeking step-by-step instructions and advice on virtually anything. From everyday tasks like cooking and cleaning to more complex projects like home repairs or learning new skills, WikiHow provides clear, concise, and easy-to-follow guidance. The articles are often accompanied by helpful illustrations and videos, enhancing the learning experience. \n",
    "\n",
    "https://www.wikihow.com/"
   ]
  },
  {
   "cell_type": "code",
   "execution_count": 154,
   "id": "161d4a7b",
   "metadata": {},
   "outputs": [],
   "source": [
    "import warnings\n",
    "warnings.simplefilter(action='ignore', category=FutureWarning)\n",
    "\n",
    "import requests\n",
    "from datetime import datetime\n",
    "import pandas as pd\n",
    "import numpy as np\n",
    "import matplotlib.pyplot as plt\n",
    "from bs4 import BeautifulSoup\n",
    "import re\n",
    "import math"
   ]
  },
  {
   "cell_type": "markdown",
   "id": "df3aba1e",
   "metadata": {},
   "source": [
    "## Part 1\n",
    "\n",
    "Complete the function `get_howto_html()` below (including docstring) which visits the url of a given topic and grabs the html. Visit [https://www.wikihow.com/](https://www.wikihow.com/) and type in a few topics (e.g. sing, dance, cook) and notice the pattern in the url so that you can pass any topic to the function as a string. To make things easier, let's start with only one word in the search. **Make sure to remove the `pass` statement when you are finished**. I have written the code you should run once the function is completed."
   ]
  },
  {
   "cell_type": "code",
   "execution_count": 88,
   "id": "e106bfa7",
   "metadata": {},
   "outputs": [],
   "source": [
    "def get_howto_html(topic)\n",
    "\n",
    "#url\n",
    "#requests\n",
    "\n",
    "pass"
   ]
  },
  {
   "cell_type": "markdown",
   "id": "dd906955",
   "metadata": {},
   "source": [
    "## Part 2\n",
    "\n",
    "Complete the function `get_howto_table_soup()` below (including docstring) which takes the html from the previous function and outputs a table, containing the information of each post, including, title, then number of views, updated time and href link. The function should take one argument: the html object and output a panda data frame. "
   ]
  },
  {
   "cell_type": "code",
   "execution_count": null,
   "id": "b9f59822",
   "metadata": {},
   "outputs": [],
   "source": [
    "def get_howto_table(html)\n",
    "\n",
    "# soup for full html\n",
    "# search for the class_ = 'result_link'\n",
    "\n",
    "# create a dict to store information: title, views, time, href\n",
    "\n",
    "# for post in the soup\n",
    "# post.text \n",
    "# title, views, times part of the post.text string\n",
    "# href: attrs['href']\n",
    "\n",
    "pass"
   ]
  },
  {
   "cell_type": "code",
   "execution_count": null,
   "id": "e4d03089",
   "metadata": {},
   "outputs": [],
   "source": []
  },
  {
   "cell_type": "markdown",
   "id": "182f4188",
   "metadata": {},
   "source": [
    "## Part 3\n",
    "\n",
    "Notice that each page only shows 15 search research (14 for the first page). Now, modify your part 1 and part 2 code, so that now the function `get_many_soup()` now takes two inputs, the topic and the number of searches and returns a table with certain number of rows about the topic on wikihow. "
   ]
  },
  {
   "cell_type": "code",
   "execution_count": null,
   "id": "4f3685e3",
   "metadata": {},
   "outputs": [],
   "source": [
    "def get_many_soup(topic, N = 50)\n",
    "\n",
    "#pageNum = N // 15 + 1\n",
    "\n",
    "# run the code in part 2 to get the data frame in page 1\n",
    "\n",
    "#if pageNum > 1 \n",
    "# for page in np.arange(1, pageNum)\n",
    "    # current = page*15\n",
    "    # url\n",
    "    # requests\n",
    "    # part 2 code \n",
    "    # append with the previous data"
   ]
  },
  {
   "cell_type": "code",
   "execution_count": null,
   "id": "9bbf4303",
   "metadata": {},
   "outputs": [],
   "source": [
    "# run the function and to see whether the tail matches "
   ]
  },
  {
   "cell_type": "markdown",
   "id": "0f2364e9",
   "metadata": {},
   "source": [
    "## Part 4\n",
    "\n",
    "Now let's click into the website, to see what else information we can extract. It seems that now we have a exact last updated date we can use. Also, on the right hand side, we have the number of people vote for the post and the percentage of them belive this post is helpful. Another thing we can extract is the main part titles in the post. Write a function `get_web_info()` so that it takes an url and return the exact date of the post, the number of votes, the percentage number and the list of part titles. The date is in the datetime format. "
   ]
  },
  {
   "cell_type": "code",
   "execution_count": null,
   "id": "b8d8f5e3",
   "metadata": {},
   "outputs": [],
   "source": []
  },
  {
   "cell_type": "code",
   "execution_count": null,
   "id": "c3f1c4ad",
   "metadata": {},
   "outputs": [],
   "source": []
  },
  {
   "cell_type": "markdown",
   "id": "86f602b0",
   "metadata": {},
   "source": [
    "## Part 5\n",
    "\n",
    "Now, modify your part 2 function, so that now when I run the part 3 function, I will receive a data frame with the information on the main page as well as the detailed information in part 4. "
   ]
  },
  {
   "cell_type": "code",
   "execution_count": null,
   "id": "e3c55250",
   "metadata": {},
   "outputs": [],
   "source": [
    "# in part 2, we have a data frame with title, view, time and href.\n",
    "# once you have the href, run the part 4 function, which return, each pages' information\n",
    "# combine everything into a data frame"
   ]
  },
  {
   "cell_type": "code",
   "execution_count": null,
   "id": "afcd0aa5",
   "metadata": {},
   "outputs": [],
   "source": []
  },
  {
   "cell_type": "markdown",
   "id": "0db0737e",
   "metadata": {},
   "source": [
    "## Part 6\n",
    "\n",
    "Now we have the data and we can do a quick data analysis through the visualization. Let's define a new variable `ratio`, which is the ratio between the number of people who vote over the number of people who view. Then make a scatter plot between `ratio` and `rate`. "
   ]
  },
  {
   "cell_type": "code",
   "execution_count": null,
   "id": "677b1484",
   "metadata": {},
   "outputs": [],
   "source": []
  }
 ],
 "metadata": {
  "kernelspec": {
   "display_name": "Python 3 (ipykernel)",
   "language": "python",
   "name": "python3"
  },
  "language_info": {
   "codemirror_mode": {
    "name": "ipython",
    "version": 3
   },
   "file_extension": ".py",
   "mimetype": "text/x-python",
   "name": "python",
   "nbconvert_exporter": "python",
   "pygments_lexer": "ipython3",
   "version": "3.9.13"
  }
 },
 "nbformat": 4,
 "nbformat_minor": 5
}
