{
 "cells": [
  {
   "cell_type": "markdown",
   "id": "93a5a479",
   "metadata": {},
   "source": [
    "# DS3000 lecture 17\n",
    "\n",
    "### Admin: \n",
    "- Homework 8 and 9 for this week.\n",
    "- Lecture 18 (Thursday) will be an optional theoretical lecture on linear algebra. It is not required for this course but if you are interested in the advanced courses, like DS4400 Machine learning, it is highly recommended to take the lecture.\n",
    "- Project template is posted for this week, let us know if you have any questions about the projects. \n",
    "\n",
    "### Content:\n",
    "- More Regression (GLM)"
   ]
  },
  {
   "cell_type": "code",
   "execution_count": 1,
   "id": "fe4f14c2",
   "metadata": {},
   "outputs": [],
   "source": [
    "import warnings\n",
    "warnings.simplefilter(action='ignore', category=FutureWarning)\n",
    "import pandas as pd\n",
    "import seaborn as sns\n",
    "import matplotlib.pyplot as plt\n",
    "import numpy as np\n",
    "import pylab as py\n",
    "import scipy.stats as stats\n",
    "\n",
    "from sklearn.linear_model import LinearRegression\n",
    "from sklearn.metrics import r2_score\n",
    "from sklearn.model_selection import KFold"
   ]
  },
  {
   "cell_type": "markdown",
   "id": "109a35e8-0ca3-4000-b9ee-6fdc796f07f5",
   "metadata": {},
   "source": [
    "# Generalized Linear regression\n",
    "\n",
    "One of the assumptions for the linear regression is that the errors follow a normal distribution. However, if the response variable does not follow the normal distribution, this assumption does not satisfied. In that case, we may need to consider a \"transformation\" on the response variable so that after the transformation, the data can be fit with a linear model. \n",
    "\n",
    "In a GLM, the canonical link $b(\\theta)$ is a function that relates the linear predictor to the mean of the response variable and it can be modeled as a linear combination of the explanatory variables. \n",
    "$$b(\\theta) = \\beta_0 + \\beta_1 X_{1i} + \\beta_2 X_{2i} + ... + \\beta_kX_{ki} + \\epsilon_i$$"
   ]
  },
  {
   "cell_type": "markdown",
   "id": "05b35f38-8862-4504-9513-3dd71dd36954",
   "metadata": {},
   "source": [
    "For example, the most famous GLM: logistics regression."
   ]
  },
  {
   "cell_type": "markdown",
   "id": "308c2b44-3412-4fc2-a8f9-6cfbb08d2744",
   "metadata": {},
   "source": [
    "### Logistics regression \n",
    "\n",
    "**It is called regression model, but it is for classification...**"
   ]
  },
  {
   "cell_type": "markdown",
   "id": "ee5be010-0b92-44dc-8915-a90f3fbcbe1f",
   "metadata": {},
   "source": [
    "### Crab data\n",
    "\n",
    "Brockmann (1996) carried out a study of nesting female horseshoe crabs. Female horseshoe crabs often have male crabs attached to a female's nest known as satellites. One objective of the study was to determine which characteristics of the female were associated with the number of satellites. Of particular interest is the relationship between the width of the female carapace and satellites. It includes:\n",
    "\n",
    "-   `Satellites` = number of satellites\n",
    "-   `Width` = carapace width (cm)\n",
    "-   `Dark` = a binary factor indicating whether the female has dark coloring\n",
    "-   `GoodSpine` = a binary factor indicating whether the female has good spine condition"
   ]
  },
  {
   "cell_type": "code",
   "execution_count": 2,
   "id": "7fe2e0da-2496-4efc-b348-0518ac5a7bfa",
   "metadata": {},
   "outputs": [
    {
     "name": "stdout",
     "output_type": "stream",
     "text": [
      "   Satellites  Width Dark GoodSpine\n",
      "0           8   28.3   no        no\n",
      "1           0   22.5  yes        no\n",
      "2           9   26.0   no       yes\n",
      "3           0   24.8  yes        no\n",
      "4           4   26.0  yes        no\n"
     ]
    }
   ],
   "source": [
    "import pandas as pd\n",
    "\n",
    "crabs = pd.read_csv('crabs.csv')\n",
    "print(crabs.head())"
   ]
  },
  {
   "cell_type": "markdown",
   "id": "cf308691-6496-4e1c-99a5-e0cdfb7ced84",
   "metadata": {},
   "source": [
    "#### Fit Logistics model\n",
    "\n",
    "Suppose now our target value is Goodspine. We want to use the other three variables to predict whether the carb has good spine. "
   ]
  },
  {
   "cell_type": "markdown",
   "id": "093ccaea-6c2e-4e54-893f-a9f8990cbb40",
   "metadata": {},
   "source": [
    "Question 1: what is my target value $y$? \n",
    "If I use the `Goodspine`, clearly it does not follow a normal distribution. \n",
    "\n",
    "Let's take another approach here: instead of estimating whether it is a `Goodspine`, let's estimate the probability of being a `Goodspine` and let this probability to be $p$. \n",
    "\n",
    "Now, $p$ is a probability which will be a numerical value from 0 to 1. However, the a normal distributed value should varies from $-\\infty$ to $\\infty$...\n",
    "\n",
    "Let's introduce a new term called **odds** such that\n",
    "$$\\text{odds} = \\dfrac{p}{1-p}$$\n",
    "\n",
    "With some algebra, we also have: \n",
    "$$p = \\frac{\\text{odds}}{1 + \\text{odds}}$$\n",
    "\n",
    "What is the difference?\n",
    "\n",
    "<img src=\"https://i.ibb.co/26FP6NV/Screenshot-2024-07-29-151543.png\" alt=\"Screenshot-2024-07-29-151543\" border=\"0\" width = 400px>"
   ]
  },
  {
   "cell_type": "markdown",
   "id": "1927d293-3fce-41a0-bd16-7093f10d1c50",
   "metadata": {},
   "source": [
    "Now instead of fitting a model like\n",
    "$$y = \\beta_0 + \\beta_1 x $$\n",
    "We let $p(x) = P(y = Yes |x)$ and then fit\n",
    "$$ \\log\\left[\\frac{p(x)}{1 - p(x)}\\right] = \\beta_0 + \\beta_1x $$"
   ]
  },
  {
   "cell_type": "markdown",
   "id": "af357922-edcd-489d-a007-37d16bb3aeb3",
   "metadata": {},
   "source": [
    "OK... but how to get the $\\hat{y}$ after fitting this model?"
   ]
  },
  {
   "cell_type": "code",
   "execution_count": 5,
   "id": "2a7c9665-f874-435f-b516-42cc9aea0cdf",
   "metadata": {},
   "outputs": [
    {
     "name": "stdout",
     "output_type": "stream",
     "text": [
      "                 Generalized Linear Model Regression Results                  \n",
      "==============================================================================\n",
      "Dep. Variable:              GoodSpine   No. Observations:                  173\n",
      "Model:                            GLM   Df Residuals:                      169\n",
      "Model Family:                Binomial   Df Model:                            3\n",
      "Link Function:                  Logit   Scale:                          1.0000\n",
      "Method:                          IRLS   Log-Likelihood:                -98.246\n",
      "Date:                Wed, 31 Jul 2024   Deviance:                       196.49\n",
      "Time:                        12:50:51   Pearson chi2:                     174.\n",
      "No. Iterations:                     4   Pseudo R-squ. (CS):            0.08325\n",
      "Covariance Type:            nonrobust                                         \n",
      "==============================================================================\n",
      "                 coef    std err          z      P>|z|      [0.025      0.975]\n",
      "------------------------------------------------------------------------------\n",
      "const          0.0361      1.519      0.024      0.981      -2.940       3.013\n",
      "Satellites     0.0091      0.058      0.157      0.875      -0.104       0.123\n",
      "Width         -0.0460      0.089     -0.519      0.604      -0.220       0.128\n",
      "Dark_no        0.7636      0.822      0.929      0.353      -0.847       2.374\n",
      "Dark_yes      -0.7275      0.754     -0.965      0.334      -2.205       0.750\n",
      "==============================================================================\n"
     ]
    }
   ],
   "source": [
    "import statsmodels.api as sm\n",
    "\n",
    "y = crabs.GoodSpine\n",
    "y = (y == 'yes').astype(int)\n",
    "\n",
    "X = crabs.drop(columns = 'GoodSpine')\n",
    "X = pd.get_dummies(X, columns = ['Dark'], dtype = int)\n",
    "X = sm.add_constant(X)\n",
    "\n",
    "model = sm.GLM(y, X, family = sm.families.Binomial())\n",
    "results = model.fit()\n",
    "\n",
    "print(results.summary())"
   ]
  },
  {
   "cell_type": "code",
   "execution_count": 10,
   "id": "327d0830-f0ca-4f89-a93d-d05aeaeacc47",
   "metadata": {},
   "outputs": [
    {
     "name": "stdout",
     "output_type": "stream",
     "text": [
      "0      0.394496\n",
      "1      0.151121\n",
      "2      0.422239\n",
      "3      0.138051\n",
      "4      0.135842\n",
      "         ...   \n",
      "168    0.134240\n",
      "169    0.120449\n",
      "170    0.380454\n",
      "171    0.126450\n",
      "172    0.419041\n",
      "Length: 173, dtype: float64\n",
      "[[86 35]\n",
      " [26 26]]\n"
     ]
    }
   ],
   "source": [
    "from sklearn.metrics import confusion_matrix\n",
    "\n",
    "y_pred = results.predict(X)\n",
    "print(y_pred)\n",
    "\n",
    "pred_class = [1 if prob > 0.4 else 0 for prob in y_pred]\n",
    "\n",
    "conf_matrix = confusion_matrix(y, pred_class)\n",
    "print(conf_matrix)"
   ]
  },
  {
   "cell_type": "markdown",
   "id": "d3197e8c-6a65-4a41-b846-b47f1e3183e5",
   "metadata": {},
   "source": [
    "Note: GLM only works for the distribution in [Exponential family](https://en.wikipedia.org/wiki/Exponential_family). \n",
    "\n",
    "#### Summary on GLM options\n",
    "\n",
    "Discrete cases: \n",
    " \n",
    "- Bernoulli\n",
    "  - target value only have two outcomes\n",
    "  - GLM: logistics regression\n",
    "\n",
    "- Binomial: \n",
    "  - target value is count data\n",
    "  - Variance is smaller than the Expectation\n",
    "  - Not commonly used\n",
    "\n",
    "- Negative Binomial: \n",
    "  - target value is count data\n",
    "  - Variance is larger than the Expectation (overdisperison)\n",
    "\n",
    "- Poisson: \n",
    "  - target value is count data\n",
    "  - Variance is approximately equal to the Expectation\n",
    "\n",
    "Continous cases\n",
    "\n",
    "- Gaussian (Normal):\n",
    "  - Most popular choice\n",
    "  - Target value is continous\n",
    "  - Target values are approximately symmetry distributed\n",
    "  - Expectation and Variance are independent\n",
    "  - Support on R\n",
    "  \n",
    "- Gamma: \n",
    "  - Target value is continous\n",
    "  - Support on non-negative \n",
    "  - Right-skew\n",
    "\n",
    "- Beta\n",
    "  - Target values are continuous\n",
    "  - Target values are within the range 0 to 1 (proportion or percentage)\n",
    "  - Variance is larger than the Expectation (Overdispersion)\n"
   ]
  },
  {
   "cell_type": "markdown",
   "id": "f4172ecf-7f87-419e-a62a-7d16837d028b",
   "metadata": {},
   "source": [
    "#### Fit Poisson and Negative Binomial\n",
    "\n",
    "Suppose now we want to understand how Satellites are related to the other three variables and becuase satellites is a discrete random variable (count data), we consider two choices here: Poisson and Negative Binomial models. We can also make a histogram first to show why linear may not be a good choice: "
   ]
  },
  {
   "cell_type": "code",
   "execution_count": 11,
   "id": "005cf94f-79e1-404c-bd7c-75ee2ae826d2",
   "metadata": {},
   "outputs": [
    {
     "data": {
      "image/png": "[encoded data removed]",
      "text/plain": [
       "<Figure size 640x480 with 1 Axes>"
      ]
     },
     "metadata": {},
     "output_type": "display_data"
    }
   ],
   "source": [
    "import matplotlib.pyplot as plt\n",
    "plt.hist(crabs[\"Satellites\"], bins=10, edgecolor=\"k\")\n",
    "plt.xlabel(\"Satellites\")\n",
    "plt.ylabel(\"Frequency\")\n",
    "plt.title(\"Histogram of Satellites in the 'Crabs' Dataset\")\n",
    "plt.show()"
   ]
  },
  {
   "cell_type": "markdown",
   "id": "e8b63d33-b6b8-45cb-a9c7-81e5673df28c",
   "metadata": {},
   "source": [
    "We first try to fit a Possion regression model. We need to factorize the categrical variables. "
   ]
  },
  {
   "cell_type": "code",
   "execution_count": 12,
   "id": "1edc8abe-697c-4225-b0ca-3f88234f8c61",
   "metadata": {},
   "outputs": [
    {
     "name": "stdout",
     "output_type": "stream",
     "text": [
      "8.802038936688186\n"
     ]
    }
   ],
   "source": [
    "import statsmodels.api as sm\n",
    "from sklearn.model_selection import train_test_split\n",
    "from sklearn.metrics import mean_squared_error\n",
    "\n",
    "y = crabs.Satellites\n",
    "\n",
    "X = crabs.drop(columns = 'Satellites')\n",
    "X = pd.get_dummies(X, columns = ['Dark', 'GoodSpine'], dtype = int)\n",
    "X = sm.add_constant(X)\n",
    "\n",
    "model = sm.GLM(y, X, family = sm.families.Poisson())\n",
    "results = model.fit()\n",
    "\n",
    "y_pred = results.predict(X)\n",
    "MSE = mean_squared_error(y, y_pred)\n",
    "print(MSE)"
   ]
  },
  {
   "cell_type": "markdown",
   "id": "771faabc-50fd-4952-9452-009e92e7b4b6",
   "metadata": {},
   "source": [
    "How I do know whether my fit is good or bad, besides of comparing the MSE? We can also plot the residual plots and calculate the overdispersion."
   ]
  },
  {
   "cell_type": "code",
   "execution_count": 13,
   "id": "a0ba591c-0090-4cee-9c00-cc9158ccd9cf",
   "metadata": {},
   "outputs": [
    {
     "data": {
      "text/plain": [
       "<matplotlib.collections.PathCollection at 0x15d1e9dcd50>"
      ]
     },
     "execution_count": 13,
     "metadata": {},
     "output_type": "execute_result"
    },
    {
     "data": {
      "image/png": "[encoded data removed]",
      "text/plain": [
       "<Figure size 640x480 with 1 Axes>"
      ]
     },
     "metadata": {},
     "output_type": "display_data"
    }
   ],
   "source": [
    "errors = y_pred - y\n",
    "plt.scatter(y_pred, errors)"
   ]
  },
  {
   "cell_type": "code",
   "execution_count": 14,
   "id": "8bcfa4b0-8280-4cf8-a571-29e10b4be68a",
   "metadata": {},
   "outputs": [
    {
     "data": {
      "text/plain": [
       "3.221323825512474"
      ]
     },
     "execution_count": 14,
     "metadata": {},
     "output_type": "execute_result"
    }
   ],
   "source": [
    "# Check for overdispersion using the Pearson chi-squared test\n",
    "test_value = results.pearson_chi2/results.df_resid\n",
    "test_value"
   ]
  },
  {
   "cell_type": "markdown",
   "id": "062cf8d0",
   "metadata": {},
   "source": []
  },
  {
   "cell_type": "markdown",
   "id": "5bb5df7c-0bba-41ee-a2b0-4d26fe399f53",
   "metadata": {},
   "source": [
    "You can consider the overdispersion value we calculate here is the indicates whether there is residuals in the model that cannot be explained by the model. The general steps is:\n",
    "\n",
    "1. Fit the count data model (e.g., Poisson regression) to the data.\n",
    "2. Calculate the Pearson chi-squared statistic, which measures the difference between the observed and expected frequencies based on the fitted model.\n",
    "3. Compare the chi-squared statistic to a chi-squared distribution with an appropriate degree of freedom (usually the residual degrees of freedom from the model) to determine if the discrepancy between observed and expected frequencies is statistically significant.\n",
    "\n",
    "If the value is larger than 1, it means overdispersion and it is not a good fit. If the value is approximate equal to 1 or less than 1, it can be considered as a good fit. "
   ]
  },
  {
   "cell_type": "code",
   "execution_count": 15,
   "id": "de075578-8d51-4ba5-83d0-46156c5c4560",
   "metadata": {},
   "outputs": [
    {
     "name": "stdout",
     "output_type": "stream",
     "text": [
      "9.007325370832818\n"
     ]
    },
    {
     "name": "stderr",
     "output_type": "stream",
     "text": [
      "C:\\Users\\yangx\\anaconda3\\Lib\\site-packages\\statsmodels\\genmod\\families\\family.py:1367: ValueWarning: Negative binomial dispersion parameter alpha not set. Using default value alpha=1.0.\n",
      "  warnings.warn(\"Negative binomial dispersion parameter alpha not \"\n"
     ]
    }
   ],
   "source": [
    "# Fit a negative binomial regression model\n",
    "model = sm.GLM(y, X, family = sm.families.NegativeBinomial())\n",
    "results = model.fit()\n",
    "\n",
    "y_pred = results.predict(X)\n",
    "MSE = mean_squared_error(y, y_pred)\n",
    "print(MSE)"
   ]
  },
  {
   "cell_type": "code",
   "execution_count": 16,
   "id": "bcfe3ead-0843-4322-83b6-2a8e68111d1f",
   "metadata": {},
   "outputs": [
    {
     "data": {
      "text/plain": [
       "0.9464810047590325"
      ]
     },
     "execution_count": 16,
     "metadata": {},
     "output_type": "execute_result"
    }
   ],
   "source": [
    "test_value = results.pearson_chi2/results.df_resid\n",
    "test_value"
   ]
  },
  {
   "cell_type": "markdown",
   "id": "da806369-99d9-4f68-9094-e6c9d1d22867",
   "metadata": {},
   "source": [
    "#### Fit Gamma model\n",
    "\n",
    "Now suppose out target value is the width, which is a continous value. Again, first observe the histogram:"
   ]
  },
  {
   "cell_type": "code",
   "execution_count": 22,
   "id": "00078010-338e-4250-b0c1-5ece36c2c66f",
   "metadata": {},
   "outputs": [
    {
     "data": {
      "image/png": "[encoded data removed]",
      "text/plain": [
       "<Figure size 640x480 with 1 Axes>"
      ]
     },
     "metadata": {},
     "output_type": "display_data"
    }
   ],
   "source": [
    "plt.hist(crabs[\"Width\"], bins=10, edgecolor=\"k\")\n",
    "plt.xlabel(\"Width\")\n",
    "plt.ylabel(\"Frequency\")\n",
    "plt.title(\"Histogram of Satellites in the 'Crabs' Dataset\")\n",
    "plt.show()"
   ]
  },
  {
   "cell_type": "code",
   "execution_count": 19,
   "id": "dc8c5913-be40-4bf5-b83e-3bd549b1b725",
   "metadata": {},
   "outputs": [
    {
     "name": "stdout",
     "output_type": "stream",
     "text": [
      "3.7308669012693354\n"
     ]
    }
   ],
   "source": [
    "y = crabs.Width\n",
    "\n",
    "X = crabs.drop(columns = 'Width')\n",
    "X = pd.get_dummies(X, columns = ['Dark', 'GoodSpine'], dtype = int)\n",
    "X = sm.add_constant(X)\n",
    "\n",
    "model = sm.GLM(y, X, family = sm.families.Gamma(link = sm.families.links.log()))\n",
    "results = model.fit()\n",
    "\n",
    "y_pred = results.predict(X)\n",
    "MSE = mean_squared_error(y, y_pred)\n",
    "print(MSE)"
   ]
  },
  {
   "cell_type": "markdown",
   "id": "a3ba43d8-8eb3-4416-b1aa-a67b6b406163",
   "metadata": {},
   "source": [
    "If you are interested in what link options you can have, see the help page: https://www.statsmodels.org/stable/glm.html"
   ]
  }
 ],
 "metadata": {
  "kernelspec": {
   "display_name": "Python 3 (ipykernel)",
   "language": "python",
   "name": "python3"
  },
  "language_info": {
   "codemirror_mode": {
    "name": "ipython",
    "version": 3
   },
   "file_extension": ".py",
   "mimetype": "text/x-python",
   "name": "python",
   "nbconvert_exporter": "python",
   "pygments_lexer": "ipython3",
   "version": "3.11.7"
  }
 },
 "nbformat": 4,
 "nbformat_minor": 5
}
