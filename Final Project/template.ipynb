{
 "cells": [
  {
   "cell_type": "markdown",
   "metadata": {},
   "source": [
    "This is the template for DS3000 Final data analysis project. Once you finish, please remove all my instructions. You do not need to exactly follow the structure in the template but please make sure you have all the components. Write your report in paragraphs. Only use bullet points when list something (eg: functions) "
   ]
  },
  {
   "cell_type": "markdown",
   "metadata": {},
   "source": [
    "# Title \n",
    "#### Team number\n",
    "- List your group members' name here"
   ]
  },
  {
   "cell_type": "code",
   "execution_count": 1,
   "metadata": {},
   "outputs": [],
   "source": [
    "# Put all the module import in this code chunk\n",
    "import matplotlib.pyplot as plt\n",
    "\n",
    "\n",
    "def create_scatter_plots(data):\n",
    "    \"\"\"\n",
    "    Creates scatter plots for comparing rarity with HP, defense, and price of Pals.\n",
    "    \n",
    "    Args:\n",
    "    data (DataFrame): The DataFrame containing Pal data with columns for rarity, hp, defense, and price.\n",
    "    \n",
    "    Returns:\n",
    "        Three scatter plots:\n",
    "            1. Rarity vs HP\n",
    "            2. Rarity vs Defense\n",
    "            3. Rarity vs Price\n",
    "    \"\"\"\n",
    "    # Sort the data by hp, defense, and price to ensure correct order\n",
    "    data_sorted_hp = data.sort_values(by='hp', ascending=True)\n",
    "    data_sorted_level = data.sort_values(by='rarity level', ascending=True)\n",
    "    data_sorted_defense = data.sort_values(by='defense', ascending=True)\n",
    "    data_sorted_price = data.sort_values(by='price', ascending=True)\n",
    "\n",
    "    # Create a scatter plot for rarity vs HP\n",
    "    plt.scatter(data_sorted_level['rarity level'], data_sorted_hp['hp'])\n",
    "    plt.title('Rarity vs HP')\n",
    "    plt.xlabel('Rarity')\n",
    "    plt.ylabel('HP')\n",
    "    plt.show()\n",
    "    \n",
    "     # Create a scatter plot for rarity vs HP\n",
    "    plt.scatter(data_sorted_level['rarity level'], data_sorted_hp['hp'])\n",
    "    plt.title('Rarity vs HP')\n",
    "    plt.xlabel('Rarity')\n",
    "    plt.ylabel('HP')\n",
    "    plt.show()\n",
    "    \n",
    "\n"
   ]
  },
  {
   "cell_type": "markdown",
   "metadata": {},
   "source": [
    "## Introdunction\n",
    "\n",
    "- One or two paragraphs about the background of the project. eg: the backgound of PalWorld and why your analysis can be interesting\n",
    "- State your research questions. Limit the number of research questions to be one or two. "
   ]
  },
  {
   "cell_type": "markdown",
   "metadata": {},
   "source": [
    "## Data \n",
    "\n",
    "### Data Source\n",
    "\n",
    "- List the website you have scraped the data from.\n",
    "- List which information you have scraped\n",
    "- Describe what kind of cleaning you have done to the data\n",
    "\n",
    "### Webscraping and cleaning functions overview\n",
    "\n",
    "List all the functions you have written for webscraping and data cleaning. For each one, write one sentence to describe it. \n",
    "- `extract_soup()`\n",
    "    - build url and return soup object\n",
    "\n",
    "### Data overview\n",
    "\n",
    "- Show a couple of rows of the cleaned data you are going to use for the analysis\n",
    "- Which is your target value (if exists)\n",
    "- Give a general summary about the other features\n",
    "- Discuss if there is any potential problems about the data (eg: missing values, any features that you did not collect but may be important, any other concerns)"
   ]
  },
  {
   "cell_type": "markdown",
   "metadata": {},
   "source": [
    "## Webscraping and cleaning"
   ]
  },
  {
   "cell_type": "code",
   "execution_count": 2,
   "metadata": {},
   "outputs": [],
   "source": [
    "# list all the functions you have for webscraping and cleaning. Make sure write full \n",
    "# docstrings for each function\n",
    "def extract_soup():\n",
    "\n",
    "    pass"
   ]
  },
  {
   "cell_type": "code",
   "execution_count": 3,
   "metadata": {},
   "outputs": [],
   "source": [
    "# Write the code to load the data with the functions. You don't need to run the code every time. \n",
    "# You can run the code once and save the scrapped data into a csv file. Then load the csv file \n",
    "# for the rest of the analysis"
   ]
  },
  {
   "cell_type": "markdown",
   "metadata": {},
   "source": [
    "## Visualizations\n",
    "\n",
    "### Visualization functions overview\n",
    "List all the functions you have written for visualization. For each one, write one sentence to describe it. \n",
    "- `make_hist()`\n",
    "    - Generate a histogram with given data and feature\n",
    " \n",
    "### Visualization results\n",
    "- Present 3-4 data visualizations.\n",
    "- For each visualization, you need to include title, xlabel, ylabel, legend (if necessary)\n",
    "- For each visualization, explain why you make this data visualization (how it related to your research question) and explain what you have learned from this visualization"
   ]
  },
  {
   "cell_type": "code",
   "execution_count": 4,
   "metadata": {},
   "outputs": [],
   "source": [
    "# list all the functions you have for visualization. Make sure write full \n",
    "# docstrings for each function\n",
    "def make_hist(df, y_feat):\n",
    "\n",
    "    pass"
   ]
  },
  {
   "cell_type": "markdown",
   "metadata": {},
   "source": [
    "#### visualization 1"
   ]
  },
  {
   "cell_type": "code",
   "execution_count": 5,
   "metadata": {},
   "outputs": [],
   "source": [
    "# Write the code to run functions to get each data visualization in separate code chunks. \n",
    "# Interpret the figures. "
   ]
  },
  {
   "cell_type": "markdown",
   "metadata": {},
   "source": [
    "#### visualization 2"
   ]
  },
  {
   "cell_type": "code",
   "execution_count": 6,
   "metadata": {},
   "outputs": [],
   "source": [
    "def plot_element_distribution_by_rarity(df):\n",
    "    \"\"\" Plots pie charts showing the percentage of Pals of each element for each rarity.\n",
    "    Args:\n",
    "        df (pd.DataFrame): DataFrame that contains a column called 'elements' that contains the PAL's elements and 'rarity' that contains the PAL's rarety\n",
    "    Returns:\n",
    "        4 pie charts what shows the Element Distribution for each rarity for all the PALs\n",
    "    \"\"\"\n",
    "\n",
    "    # Define all the rarety levels possible for a PAL\n",
    "    rarity_levels = ['common', 'rare', 'epic', 'legendary']\n",
    "\n",
    "    # Define a the colors for each availble element \n",
    "    element_colors = {\n",
    "        'normal': 'lightgrey',\n",
    "        'water': 'aqua',\n",
    "        'fire': 'darkorange',\n",
    "        'leaf': 'forestgreen',\n",
    "        'dark': 'dimgray',\n",
    "        'dragon': 'mediumblue',\n",
    "        'earth': 'lime',\n",
    "        'ice': 'skyblue',\n",
    "        'electricity': 'yellow'\n",
    "    }\n",
    "\n",
    "# craetes the plot size \n",
    "    plt.figure(figsize=(15, 15))\n",
    "\n",
    "    # iterates over each rarety level of the PALS\n",
    "    for _, rarity in enumerate(rarity_levels):\n",
    "        elements_list = []\n",
    "\n",
    "        # iterates over each row in the given Data frame\n",
    "        for index, row in df.iterrows():\n",
    "\n",
    "            # checks if the rarety of the row mataches the first rarety level loop then adds to the list if true\n",
    "            if row['rarity'].lower() == rarity:\n",
    "                elements_list.extend(row['elements'])\n",
    "\n",
    "        #Calculates the percent of the element per rarety\n",
    "        element_counts = pd.Series(elements_list).value_counts(normalize=True) * 100\n",
    "\n",
    "    # loops each element in the dictionary and gets the color and adds it to the list\n",
    "        colors = []\n",
    "        for element in element_counts.index:\n",
    "            colors.append(element_colors[element])\n",
    "\n",
    "        # creates the subplots and the pie chart\n",
    "        plt.subplot(2, 2, _ + 1)\n",
    "        plt.pie(element_counts, labels=element_counts.index, autopct='%1.1f%%', colors=colors)\n",
    "        plt.title(f'Element Distribution for {rarity} Pals')\n",
    "\n",
    "    plt.show()\n",
    "\n",
    "# Runs the function based on our PALs dataframe\n",
    "plot_element_distribution_by_rarity(df)"
   ]
  },
  {
   "cell_type": "markdown",
   "metadata": {},
   "source": [
    "#### visualization 3"
   ]
  },
  {
   "cell_type": "code",
   "execution_count": 7,
   "metadata": {},
   "outputs": [],
   "source": [
    "# Write the code to run functions to get each data visualization in separate code chunks. \n",
    "# Interpret the figures. "
   ]
  },
  {
   "cell_type": "markdown",
   "metadata": {},
   "source": [
    "## Models\n",
    "\n",
    "### Modeling functions overview\n",
    "List all the functions you have written for modeling. For each one, write one sentence to describe it. \n",
    "- `fit_linear()`\n",
    "    - fit a linear model to the data and output the r2, slope and intercept\n",
    "\n",
    "### Model results\n",
    "\n",
    "- Present 2-3 models for the analysis.\n",
    "- Explain any pre-processing steps you have done (eg: scaling, polynomial, dummy features)\n",
    "- For each model, explain why you think this model is suitable and what metrics you want to use to evaluate the model\n",
    "    - If it is a classification model, you need to present the confusion matrix, calculate the accuracy, sensitivity and specificity with cross-validation\n",
    "    - If it is a regression model, you need to present the r2 and MSE with cross-validation\n",
    "    - If it is a linear regression model/multiple linear regression model, you need to interpret the meaning of the coefficient with the full data\n",
    "    - If it is a decision tree model, you need to plot the tree with the full data\n",
    "    - If it is a random forest model, you need to present the feature importance plot with the full data\n",
    "    - If it is a PCA, you need to explain how to select the number of components and interpret the key features in the first two components\n",
    "    - If it is a clustering, you need explain how to select the number of clustering and summarize the clustering. "
   ]
  },
  {
   "cell_type": "code",
   "execution_count": 8,
   "metadata": {},
   "outputs": [],
   "source": [
    "# list all the functions you have for modeling. Make sure write full \n",
    "# docstrings for each function\n",
    "def fit_linear(df, y_feat, x_feat):\n",
    "\n",
    "    pass"
   ]
  },
  {
   "cell_type": "markdown",
   "metadata": {},
   "source": [
    "#### Model 1"
   ]
  },
  {
   "cell_type": "code",
   "execution_count": 9,
   "metadata": {},
   "outputs": [],
   "source": [
    "# Write the code to run functions to fit each model in separate code chunks. \n",
    "# Interpret the model results. "
   ]
  },
  {
   "cell_type": "markdown",
   "metadata": {},
   "source": [
    "#### Model 2"
   ]
  },
  {
   "cell_type": "code",
   "execution_count": 10,
   "metadata": {},
   "outputs": [],
   "source": [
    "# Write the code to run functions to fit each model in separate code chunks. \n",
    "# Interpret the model results. "
   ]
  },
  {
   "cell_type": "markdown",
   "metadata": {},
   "source": [
    "#### Model 3"
   ]
  },
  {
   "cell_type": "code",
   "execution_count": 11,
   "metadata": {},
   "outputs": [],
   "source": [
    "# Write the code to run functions to fit each model in separate code chunks. \n",
    "# Interpret the model results. "
   ]
  },
  {
   "cell_type": "markdown",
   "metadata": {},
   "source": [
    "## Discussion\n",
    "\n",
    "- One or two paragraphs to summarize your findings in the modeling sections and do the models answer your research question?\n",
    "- Any other potential thing you can do with the analysis (eg: include more features, get more data, try some other models etc.)\n",
    "- List the contribution for each group member."
   ]
  }
 ],
 "metadata": {
  "kernelspec": {
   "display_name": "Python 3 (ipykernel)",
   "language": "python",
   "name": "python3"
  },
  "language_info": {
   "codemirror_mode": {
    "name": "ipython",
    "version": 3
   },
   "file_extension": ".py",
   "mimetype": "text/x-python",
   "name": "python",
   "nbconvert_exporter": "python",
   "pygments_lexer": "ipython3",
   "version": "3.12.4"
  }
 },
 "nbformat": 4,
 "nbformat_minor": 4
}
