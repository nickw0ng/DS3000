{
 "cells": [
  {
   "cell_type": "markdown",
   "metadata": {},
   "source": [
    "# DS 3000 HW 4\n",
    "\n",
    "Due: Friday July 19th @ 11:59 PM EST\n",
    "\n",
    "### Submission Instructions\n",
    "Submit this `ipynb` file to Gradescope (this can also be done via the assignment on Canvas).  To ensure that your submitted files represent your latest code, make sure to give a fresh `Kernel > Restart & Run All` just before uploading the files to gradescope.\n",
    "\n",
    "### Tips for success\n",
    "- Start early\n",
    "- Make use of Piazza\n",
    "- Make use of Office hour\n",
    "- Remember to use cells and headings to make the notebook easy to read (if a grader cannot find the answer to a problem, you will receive no points for it)\n",
    "- Under no circumstances may one student view or share their ungraded homework or quiz with another student [(see also)](http://www.northeastern.edu/osccr/academic-integrity), though you are welcome to **talk about** (not show each other) the problems."
   ]
  },
  {
   "cell_type": "markdown",
   "metadata": {},
   "source": [
    "## Part 1: AZ Quotes"
   ]
  },
  {
   "cell_type": "markdown",
   "metadata": {},
   "source": [
    "### Part 1.1 (15 points)\n",
    "\n",
    "AZ Quotes is one of the websites to provide multiple quotes and sorted by different ways. A quote usually has a text and an author name. \n",
    "\n",
    "<img src=\"https://i.ibb.co/wht5NB0/Screenshot-from-2022-02-23-05-14-26.png\" alt=\"Drawing\" style=\"width: 600px;\"/>\n",
    "\n",
    "Write a function, `clean_quote()` which scrapes all the quotes from https://www.azquotes.com/quotes/topics/positive.html:\n",
    "\n",
    "```python\n",
    "url = 'https://www.azquotes.com/quotes/topics/positive.html'\n",
    "html = get_url(url)\n",
    "df_quote = clean_quote(html)\n",
    "df_quote.head()\n",
    "```\n",
    "\n",
    "gives:\n",
    "\n",
    "|   |          author    |                                              text |\n",
    "|--:|-------------------:|--------------------------------------------------:|\n",
    "| 0 | Mahatma Gandhi     | Keep your thoughts positive because your thoug... |\n",
    "| 1 | Alice Morse Earle  | Every day may not be good... but there's somet... |\n",
    "| 2 | Nicky Gumbel       | You can't change how people treat you or what ... |\n",
    "| 3 | Winston Churchill  | The POSITIVE THINKER sees the INVISIBLE, feels... |\n",
    "| 4 |Paramahansa Yogananda| If you want to be sad, no one in the world can... |\n",
    "\n",
    "After writing the function, run the above code to verify it works.\n",
    "\n",
    "Hint: There are 25 quotes after you scrape the page. However, you may get more items when you scrape the quotes. Feel free to select only the 1:26 to get rid of some other items. "
   ]
  },
  {
   "cell_type": "code",
   "execution_count": 1,
   "metadata": {},
   "outputs": [],
   "source": [
    "import warnings\n",
    "warnings.simplefilter(action='ignore', category=FutureWarning)\n",
    "\n",
    "import pandas as pd\n",
    "from bs4 import BeautifulSoup\n",
    "import requests\n",
    "  \n",
    "def get_url(url):\n",
    "    \"\"\" gets html from url\n",
    "    \n",
    "    Args:\n",
    "        url (str): a url\n",
    "        \n",
    "    Returns:\n",
    "        html (str): the html from the url\n",
    "    \"\"\"\n",
    "    response = requests.get(url)\n",
    "    return response.text\n",
    "    \n",
    "\n",
    "def clean_quote(html):\n",
    "    \"\"\" scrapes quotes from azquote and creates a dataframe with author and text\n",
    "    \n",
    "    Args:\n",
    "        html (str): html text object from brainyquote\n",
    "        \n",
    "    Returns:\n",
    "        clean_df (DataFrame): DataFrame with columns\n",
    "                                author (str): name of the author\n",
    "                                text (str): text of the quote\n",
    "    \"\"\"\n",
    "    \n",
    "    # This parses the HTML content and find all div elements with the class 'wrap-block'\n",
    "    soup = BeautifulSoup(html, 'html.parser')\n",
    "    quotes = soup.find_all('div', class_='wrap-block')\n",
    "    \n",
    "    # Initializes a list to be used to store the authors and quotes in the link html code\n",
    "    authors = []\n",
    "    texts = []\n",
    "\n",
    "    # This loop iterated through the 25 quotes and finds the text and authors of each of them\n",
    "    for quote in quotes[:25]:\n",
    "        text_tag = quote.find('a', class_='title')\n",
    "        author_tag = quote.find('div', class_='author')\n",
    "        \n",
    "        # This checks to make sure there is an author and quote and then it extracts the information \n",
    "        if text_tag and author_tag:\n",
    "            text = text_tag.text.strip()\n",
    "            author = author_tag.text.strip()\n",
    "            texts.append(text)\n",
    "            authors.append(author)\n",
    "\n",
    "    # Last part creates a dataframe for the authors and quotes and returns it \n",
    "    clean_df = pd.DataFrame({'author': authors, 'text': texts})\n",
    "    return clean_df\n",
    "    "
   ]
  },
  {
   "cell_type": "code",
   "execution_count": 2,
   "metadata": {},
   "outputs": [
    {
     "data": {
      "text/html": [
       "<div>\n",
       "<style scoped>\n",
       "    .dataframe tbody tr th:only-of-type {\n",
       "        vertical-align: middle;\n",
       "    }\n",
       "\n",
       "    .dataframe tbody tr th {\n",
       "        vertical-align: top;\n",
       "    }\n",
       "\n",
       "    .dataframe thead th {\n",
       "        text-align: right;\n",
       "    }\n",
       "</style>\n",
       "<table border=\"1\" class=\"dataframe\">\n",
       "  <thead>\n",
       "    <tr style=\"text-align: right;\">\n",
       "      <th></th>\n",
       "      <th>author</th>\n",
       "      <th>text</th>\n",
       "    </tr>\n",
       "  </thead>\n",
       "  <tbody>\n",
       "    <tr>\n",
       "      <th>0</th>\n",
       "      <td>Mahatma Gandhi</td>\n",
       "      <td>Keep your thoughts positive because your thoug...</td>\n",
       "    </tr>\n",
       "    <tr>\n",
       "      <th>1</th>\n",
       "      <td>Alice Morse Earle</td>\n",
       "      <td>Every day may not be good... but there's somet...</td>\n",
       "    </tr>\n",
       "    <tr>\n",
       "      <th>2</th>\n",
       "      <td>Winston Churchill</td>\n",
       "      <td>The POSITIVE THINKER sees the INVISIBLE, feels...</td>\n",
       "    </tr>\n",
       "    <tr>\n",
       "      <th>3</th>\n",
       "      <td>Nicky Gumbel</td>\n",
       "      <td>You can't change how people treat you or what ...</td>\n",
       "    </tr>\n",
       "    <tr>\n",
       "      <th>4</th>\n",
       "      <td>Horace</td>\n",
       "      <td>Carpe diem! Rejoice while you are alive; enjoy...</td>\n",
       "    </tr>\n",
       "  </tbody>\n",
       "</table>\n",
       "</div>"
      ],
      "text/plain": [
       "              author                                               text\n",
       "0     Mahatma Gandhi  Keep your thoughts positive because your thoug...\n",
       "1  Alice Morse Earle  Every day may not be good... but there's somet...\n",
       "2  Winston Churchill  The POSITIVE THINKER sees the INVISIBLE, feels...\n",
       "3       Nicky Gumbel  You can't change how people treat you or what ...\n",
       "4             Horace  Carpe diem! Rejoice while you are alive; enjoy..."
      ]
     },
     "execution_count": 2,
     "metadata": {},
     "output_type": "execute_result"
    }
   ],
   "source": [
    "url = 'https://www.azquotes.com/quotes/topics/positive.html'\n",
    "html = get_url(url)\n",
    "df_quote = clean_quote(html)\n",
    "df_quote.head()"
   ]
  },
  {
   "cell_type": "markdown",
   "metadata": {},
   "source": [
    "### Part 1.2 (20 points)\n",
    "\n",
    "Navigate to each quote's own webpage and you'll find more information about the tags for each quotes: https://www.azquotes.com/quote/361010?ref=positive\n",
    "\n",
    "Store the tags associated with each quote too.  For example, the quote above has tags: `Hope`, `Positive`, `Inspirational`, `Happiness` and a lot of others.  Think carefully about how you store the tags so that one may easily understand how many times each tag (e.g. `Positive`) appears in your dataframe with simple pandas manipulations.\n",
    "\n",
    "You can update the functions in part 1.1. Run your function in the end and show the head of the data frame. "
   ]
  },
  {
   "cell_type": "code",
   "execution_count": 3,
   "metadata": {},
   "outputs": [],
   "source": [
    "# note that there may be multiple classes, tags, id, etc. that  could lead to the correct data frame\n",
    "\n",
    "def get_quote_tags(html):\n",
    "    \"\"\" grabs the tags from each of the quotes from the html of azquote\n",
    "    \n",
    "    Args:\n",
    "        html (str): html text object from brainyquote\n",
    "        \n",
    "    Returns:\n",
    "        clean_df (DataFrame): DataFrame with columns\n",
    "                                author (str): name of the author\n",
    "                                text (str): text of the quote\n",
    "                                tags (str): string with tags from quote\n",
    "    \n",
    "    \"\"\"\n",
    "    _ = BeautifulSoup(html, 'html.parser')\n",
    "    quotes = _.find_all('div', class_='wrap-block')[:25]\n",
    "    \n",
    "    authors = []\n",
    "    texts = []\n",
    "    tags_list = []\n",
    "    \n",
    "    for quote in quotes:\n",
    "        author_tag = quote.find('div', class_='author')\n",
    "        text_tag = quote.find('a', class_='title')\n",
    "        \n",
    "        author = author_tag.text.strip()\n",
    "        text = text_tag.text.strip()\n",
    "        quote_url = 'https://www.azquotes.com' + text_tag.get('href')\n",
    "            \n",
    "\n",
    "        quote_html = get_url(quote_url)\n",
    "        quote_soup = BeautifulSoup(quote_html, 'html.parser')\n",
    "        tags = [tag.text for tag in quote_soup.find_all('a', class_='tag')]\n",
    "        tags_str = ', '.join(tags)\n",
    "            \n",
    "        authors.append(author)\n",
    "        texts.append(text)\n",
    "        tags_list.append(tags_str)\n",
    "    \n",
    "    \n",
    "    clean_df = pd.DataFrame({\n",
    "        'author': authors,\n",
    "        'text': texts,\n",
    "        'tags': tags_list\n",
    "    })\n",
    "    return clean_df\n",
    "    "
   ]
  },
  {
   "cell_type": "code",
   "execution_count": 4,
   "metadata": {},
   "outputs": [
    {
     "name": "stdout",
     "output_type": "stream",
     "text": [
      "              author                                               text tags\n",
      "0     Mahatma Gandhi  Keep your thoughts positive because your thoug...     \n",
      "1  Alice Morse Earle  Every day may not be good... but there's somet...     \n",
      "2  Winston Churchill  The POSITIVE THINKER sees the INVISIBLE, feels...     \n",
      "3       Nicky Gumbel  You can't change how people treat you or what ...     \n",
      "4             Horace  Carpe diem! Rejoice while you are alive; enjoy...     \n"
     ]
    }
   ],
   "source": [
    "url = 'https://www.azquotes.com/quotes/topics/positive.html'\n",
    "html = get_url(url)\n",
    "if html:\n",
    "    df_quote = get_quote_tags(html)\n",
    "    print(df_quote.head())"
   ]
  },
  {
   "cell_type": "markdown",
   "metadata": {},
   "source": [
    "## Part 2: Fantasy Football"
   ]
  },
  {
   "cell_type": "markdown",
   "metadata": {},
   "source": [
    "### Part 2.1 (10 points)\n",
    "\n",
    "In Fantasy Football, real NFL players gain points for fans at home based on some scoring criteria (which differs based on the website, but in all cases more points is better). Use the following link https://fantasydata.com/nfl/fantasy-football-leaders?scope=season&scoring=fpts_ppr&order_by=fpts_ppr&sort_dir=desc&sp=2023_REG and `pd.read_html` to extract 2023 fantasy football regular season data. Notice that this data has double layers of column names. You can re-name the columns for the easier plotting later. "
   ]
  },
  {
   "cell_type": "code",
   "execution_count": 5,
   "metadata": {},
   "outputs": [
    {
     "name": "stdout",
     "output_type": "stream",
     "text": [
      "  Unnamed: 0_level_0   Unnamed: 1_level_0 Unnamed: 2_level_0  \\\n",
      "                  RK                 NAME               TEAM   \n",
      "0                  1          CeeDee Lamb                DAL   \n",
      "1                  2           Josh Allen                BUF   \n",
      "2                  3  Christian McCaffrey                 SF   \n",
      "3                  4          Tyreek Hill                MIA   \n",
      "4                  5          Jalen Hurts                PHI   \n",
      "\n",
      "  Unnamed: 3_level_0 Unnamed: 4_level_0 PASSING         RUSHING     RECEIVING  \\\n",
      "                 POS                 GP     YDS  TD INT     YDS  TD       REC   \n",
      "0                 WR                 17       0   0   0     113   2       135   \n",
      "1                 QB                 17    4306  29  18     524  15         0   \n",
      "2                 RB                 16       0   0   0    1459  14        67   \n",
      "3                 WR                 16       0   0   0      15   0       119   \n",
      "4                 QB                 17    3858  23  15     605  15         0   \n",
      "\n",
      "            DEFENSE           Unnamed: 17_level_0 Unnamed: 18_level_0  \n",
      "    YDS  TD     SCK INT FF FR              FPTS/G                FPTS  \n",
      "0  1749  12       0   0  0  0                23.7               403.2  \n",
      "1     0   0       0   0  0  0                23.1               392.6  \n",
      "2   564   7       0   0  0  0                24.5               391.3  \n",
      "3  1799  13       0   0  0  0                23.5               376.4  \n",
      "4     0   0       0   0  0  0                21.0               356.8  \n"
     ]
    }
   ],
   "source": [
    "import pandas as pd\n",
    "\n",
    "\n",
    "url = 'https://fantasydata.com/nfl/fantasy-football-leaders?scope=season&scoring=fpts_ppr&order_by=fpts_ppr&sort_dir=desc&sp=2023_REG'\n",
    "\n",
    "dfs = pd.read_html(url)\n",
    "\n",
    "df = dfs[0]\n",
    "\n",
    "print(df.head())\n"
   ]
  },
  {
   "cell_type": "markdown",
   "metadata": {},
   "source": [
    "### Part 2.2 (10 points)\n",
    "\n",
    "Filter the data for QB and then make a graph which plots `PASSING_YDS` on the x-axis against `FPTS` on the y-axis, and colors the points based on `PASSING_TD`. Use `plotly` and include the `Name` and `Team` as `hover_data`. Make sure the graph is well labeled, titled, and includes a legend. Then, in a Markdown cell, discuss in **at least 3** sentences your interpretation of the graph.\n",
    "\n",
    "- **Note**: if you are not an american football fan, in brief the Quarterback's role is to throw the ball to other players in the hopes of scoring a touchdown (if you want a much more technical description, you may also read a bit [here](https://en.wikipedia.org/wiki/Quarterback))."
   ]
  },
  {
   "cell_type": "code",
   "execution_count": 6,
   "metadata": {},
   "outputs": [
    {
     "data": {
      "application/vnd.plotly.v1+json": {
       "config": {
        "plotlyServerURL": "https://plot.ly"
       },
       "data": [
        {
         "customdata": [
          [
           "Josh Allen",
           "BUF"
          ],
          [
           "Jalen Hurts",
           "PHI"
          ],
          [
           "Dak Prescott",
           "DAL"
          ],
          [
           "Lamar Jackson",
           "BAL"
          ],
          [
           "Jordan Love",
           "GB"
          ],
          [
           "Brock Purdy",
           "SF"
          ],
          [
           "Jared Goff",
           "DET"
          ],
          [
           "Patrick Mahomes",
           "KC"
          ],
          [
           "C.J. Stroud",
           "HOU"
          ],
          [
           "Baker Mayfield",
           "TB"
          ],
          [
           "Tua Tagovailoa",
           "MIA"
          ],
          [
           "Trevor Lawrence",
           "JAX"
          ],
          [
           "Sam Howell",
           "WAS"
          ],
          [
           "Russell Wilson",
           "DEN"
          ],
          [
           "Matthew Stafford",
           "LAR"
          ],
          [
           "Derek Carr",
           "NO"
          ],
          [
           "Justin Herbert",
           "LAC"
          ],
          [
           "Justin Fields",
           "CHI"
          ],
          [
           "Geno Smith",
           "SEA"
          ],
          [
           "Joshua Dobbs",
           "MIN"
          ],
          [
           "Gardner Minshew II",
           "IND"
          ],
          [
           "Desmond Ridder",
           "ATL"
          ]
         ],
         "hovertemplate": "Total Fantasy Points=%{x}<br>Passing Yards=%{y}<br>Player=%{customdata[0]}<br>Team=%{customdata[1]}<br>Passing TDs=%{marker.color}<extra></extra>",
         "legendgroup": "",
         "marker": {
          "color": [
           29,
           23,
           36,
           24,
           32,
           31,
           30,
           27,
           23,
           28,
           29,
           21,
           21,
           26,
           24,
           25,
           20,
           16,
           20,
           13,
           15,
           12
          ],
          "coloraxis": "coloraxis",
          "symbol": "circle"
         },
         "mode": "markers",
         "name": "",
         "orientation": "v",
         "showlegend": false,
         "type": "scatter",
         "x": [
          392.6,
          356.8,
          342.8,
          331.2,
          319.1,
          295.6,
          289.1,
          280.2,
          276,
          274.1,
          270.4,
          262.5,
          257.5,
          256.9,
          243.1,
          241.1,
          234.2,
          230.2,
          227.3,
          200.7,
          196.2,
          177.1
         ],
         "xaxis": "x",
         "y": [
          4306,
          3858,
          4516,
          3678,
          4159,
          4280,
          4575,
          4183,
          4108,
          4044,
          4624,
          4016,
          3946,
          3070,
          3965,
          3878,
          3134,
          2562,
          3624,
          2464,
          3305,
          2836
         ],
         "yaxis": "y"
        }
       ],
       "layout": {
        "coloraxis": {
         "colorbar": {
          "title": {
           "text": "Passing TDs"
          }
         },
         "colorscale": [
          [
           0,
           "#0d0887"
          ],
          [
           0.1111111111111111,
           "#46039f"
          ],
          [
           0.2222222222222222,
           "#7201a8"
          ],
          [
           0.3333333333333333,
           "#9c179e"
          ],
          [
           0.4444444444444444,
           "#bd3786"
          ],
          [
           0.5555555555555556,
           "#d8576b"
          ],
          [
           0.6666666666666666,
           "#ed7953"
          ],
          [
           0.7777777777777778,
           "#fb9f3a"
          ],
          [
           0.8888888888888888,
           "#fdca26"
          ],
          [
           1,
           "#f0f921"
          ]
         ]
        },
        "legend": {
         "tracegroupgap": 0
        },
        "margin": {
         "t": 60
        },
        "template": {
         "data": {
          "bar": [
           {
            "error_x": {
             "color": "#2a3f5f"
            },
            "error_y": {
             "color": "#2a3f5f"
            },
            "marker": {
             "line": {
              "color": "#E5ECF6",
              "width": 0.5
             },
             "pattern": {
              "fillmode": "overlay",
              "size": 10,
              "solidity": 0.2
             }
            },
            "type": "bar"
           }
          ],
          "barpolar": [
           {
            "marker": {
             "line": {
              "color": "#E5ECF6",
              "width": 0.5
             },
             "pattern": {
              "fillmode": "overlay",
              "size": 10,
              "solidity": 0.2
             }
            },
            "type": "barpolar"
           }
          ],
          "carpet": [
           {
            "aaxis": {
             "endlinecolor": "#2a3f5f",
             "gridcolor": "white",
             "linecolor": "white",
             "minorgridcolor": "white",
             "startlinecolor": "#2a3f5f"
            },
            "baxis": {
             "endlinecolor": "#2a3f5f",
             "gridcolor": "white",
             "linecolor": "white",
             "minorgridcolor": "white",
             "startlinecolor": "#2a3f5f"
            },
            "type": "carpet"
           }
          ],
          "choropleth": [
           {
            "colorbar": {
             "outlinewidth": 0,
             "ticks": ""
            },
            "type": "choropleth"
           }
          ],
          "contour": [
           {
            "colorbar": {
             "outlinewidth": 0,
             "ticks": ""
            },
            "colorscale": [
             [
              0,
              "#0d0887"
             ],
             [
              0.1111111111111111,
              "#46039f"
             ],
             [
              0.2222222222222222,
              "#7201a8"
             ],
             [
              0.3333333333333333,
              "#9c179e"
             ],
             [
              0.4444444444444444,
              "#bd3786"
             ],
             [
              0.5555555555555556,
              "#d8576b"
             ],
             [
              0.6666666666666666,
              "#ed7953"
             ],
             [
              0.7777777777777778,
              "#fb9f3a"
             ],
             [
              0.8888888888888888,
              "#fdca26"
             ],
             [
              1,
              "#f0f921"
             ]
            ],
            "type": "contour"
           }
          ],
          "contourcarpet": [
           {
            "colorbar": {
             "outlinewidth": 0,
             "ticks": ""
            },
            "type": "contourcarpet"
           }
          ],
          "heatmap": [
           {
            "colorbar": {
             "outlinewidth": 0,
             "ticks": ""
            },
            "colorscale": [
             [
              0,
              "#0d0887"
             ],
             [
              0.1111111111111111,
              "#46039f"
             ],
             [
              0.2222222222222222,
              "#7201a8"
             ],
             [
              0.3333333333333333,
              "#9c179e"
             ],
             [
              0.4444444444444444,
              "#bd3786"
             ],
             [
              0.5555555555555556,
              "#d8576b"
             ],
             [
              0.6666666666666666,
              "#ed7953"
             ],
             [
              0.7777777777777778,
              "#fb9f3a"
             ],
             [
              0.8888888888888888,
              "#fdca26"
             ],
             [
              1,
              "#f0f921"
             ]
            ],
            "type": "heatmap"
           }
          ],
          "heatmapgl": [
           {
            "colorbar": {
             "outlinewidth": 0,
             "ticks": ""
            },
            "colorscale": [
             [
              0,
              "#0d0887"
             ],
             [
              0.1111111111111111,
              "#46039f"
             ],
             [
              0.2222222222222222,
              "#7201a8"
             ],
             [
              0.3333333333333333,
              "#9c179e"
             ],
             [
              0.4444444444444444,
              "#bd3786"
             ],
             [
              0.5555555555555556,
              "#d8576b"
             ],
             [
              0.6666666666666666,
              "#ed7953"
             ],
             [
              0.7777777777777778,
              "#fb9f3a"
             ],
             [
              0.8888888888888888,
              "#fdca26"
             ],
             [
              1,
              "#f0f921"
             ]
            ],
            "type": "heatmapgl"
           }
          ],
          "histogram": [
           {
            "marker": {
             "pattern": {
              "fillmode": "overlay",
              "size": 10,
              "solidity": 0.2
             }
            },
            "type": "histogram"
           }
          ],
          "histogram2d": [
           {
            "colorbar": {
             "outlinewidth": 0,
             "ticks": ""
            },
            "colorscale": [
             [
              0,
              "#0d0887"
             ],
             [
              0.1111111111111111,
              "#46039f"
             ],
             [
              0.2222222222222222,
              "#7201a8"
             ],
             [
              0.3333333333333333,
              "#9c179e"
             ],
             [
              0.4444444444444444,
              "#bd3786"
             ],
             [
              0.5555555555555556,
              "#d8576b"
             ],
             [
              0.6666666666666666,
              "#ed7953"
             ],
             [
              0.7777777777777778,
              "#fb9f3a"
             ],
             [
              0.8888888888888888,
              "#fdca26"
             ],
             [
              1,
              "#f0f921"
             ]
            ],
            "type": "histogram2d"
           }
          ],
          "histogram2dcontour": [
           {
            "colorbar": {
             "outlinewidth": 0,
             "ticks": ""
            },
            "colorscale": [
             [
              0,
              "#0d0887"
             ],
             [
              0.1111111111111111,
              "#46039f"
             ],
             [
              0.2222222222222222,
              "#7201a8"
             ],
             [
              0.3333333333333333,
              "#9c179e"
             ],
             [
              0.4444444444444444,
              "#bd3786"
             ],
             [
              0.5555555555555556,
              "#d8576b"
             ],
             [
              0.6666666666666666,
              "#ed7953"
             ],
             [
              0.7777777777777778,
              "#fb9f3a"
             ],
             [
              0.8888888888888888,
              "#fdca26"
             ],
             [
              1,
              "#f0f921"
             ]
            ],
            "type": "histogram2dcontour"
           }
          ],
          "mesh3d": [
           {
            "colorbar": {
             "outlinewidth": 0,
             "ticks": ""
            },
            "type": "mesh3d"
           }
          ],
          "parcoords": [
           {
            "line": {
             "colorbar": {
              "outlinewidth": 0,
              "ticks": ""
             }
            },
            "type": "parcoords"
           }
          ],
          "pie": [
           {
            "automargin": true,
            "type": "pie"
           }
          ],
          "scatter": [
           {
            "fillpattern": {
             "fillmode": "overlay",
             "size": 10,
             "solidity": 0.2
            },
            "type": "scatter"
           }
          ],
          "scatter3d": [
           {
            "line": {
             "colorbar": {
              "outlinewidth": 0,
              "ticks": ""
             }
            },
            "marker": {
             "colorbar": {
              "outlinewidth": 0,
              "ticks": ""
             }
            },
            "type": "scatter3d"
           }
          ],
          "scattercarpet": [
           {
            "marker": {
             "colorbar": {
              "outlinewidth": 0,
              "ticks": ""
             }
            },
            "type": "scattercarpet"
           }
          ],
          "scattergeo": [
           {
            "marker": {
             "colorbar": {
              "outlinewidth": 0,
              "ticks": ""
             }
            },
            "type": "scattergeo"
           }
          ],
          "scattergl": [
           {
            "marker": {
             "colorbar": {
              "outlinewidth": 0,
              "ticks": ""
             }
            },
            "type": "scattergl"
           }
          ],
          "scattermapbox": [
           {
            "marker": {
             "colorbar": {
              "outlinewidth": 0,
              "ticks": ""
             }
            },
            "type": "scattermapbox"
           }
          ],
          "scatterpolar": [
           {
            "marker": {
             "colorbar": {
              "outlinewidth": 0,
              "ticks": ""
             }
            },
            "type": "scatterpolar"
           }
          ],
          "scatterpolargl": [
           {
            "marker": {
             "colorbar": {
              "outlinewidth": 0,
              "ticks": ""
             }
            },
            "type": "scatterpolargl"
           }
          ],
          "scatterternary": [
           {
            "marker": {
             "colorbar": {
              "outlinewidth": 0,
              "ticks": ""
             }
            },
            "type": "scatterternary"
           }
          ],
          "surface": [
           {
            "colorbar": {
             "outlinewidth": 0,
             "ticks": ""
            },
            "colorscale": [
             [
              0,
              "#0d0887"
             ],
             [
              0.1111111111111111,
              "#46039f"
             ],
             [
              0.2222222222222222,
              "#7201a8"
             ],
             [
              0.3333333333333333,
              "#9c179e"
             ],
             [
              0.4444444444444444,
              "#bd3786"
             ],
             [
              0.5555555555555556,
              "#d8576b"
             ],
             [
              0.6666666666666666,
              "#ed7953"
             ],
             [
              0.7777777777777778,
              "#fb9f3a"
             ],
             [
              0.8888888888888888,
              "#fdca26"
             ],
             [
              1,
              "#f0f921"
             ]
            ],
            "type": "surface"
           }
          ],
          "table": [
           {
            "cells": {
             "fill": {
              "color": "#EBF0F8"
             },
             "line": {
              "color": "white"
             }
            },
            "header": {
             "fill": {
              "color": "#C8D4E3"
             },
             "line": {
              "color": "white"
             }
            },
            "type": "table"
           }
          ]
         },
         "layout": {
          "annotationdefaults": {
           "arrowcolor": "#2a3f5f",
           "arrowhead": 0,
           "arrowwidth": 1
          },
          "autotypenumbers": "strict",
          "coloraxis": {
           "colorbar": {
            "outlinewidth": 0,
            "ticks": ""
           }
          },
          "colorscale": {
           "diverging": [
            [
             0,
             "#8e0152"
            ],
            [
             0.1,
             "#c51b7d"
            ],
            [
             0.2,
             "#de77ae"
            ],
            [
             0.3,
             "#f1b6da"
            ],
            [
             0.4,
             "#fde0ef"
            ],
            [
             0.5,
             "#f7f7f7"
            ],
            [
             0.6,
             "#e6f5d0"
            ],
            [
             0.7,
             "#b8e186"
            ],
            [
             0.8,
             "#7fbc41"
            ],
            [
             0.9,
             "#4d9221"
            ],
            [
             1,
             "#276419"
            ]
           ],
           "sequential": [
            [
             0,
             "#0d0887"
            ],
            [
             0.1111111111111111,
             "#46039f"
            ],
            [
             0.2222222222222222,
             "#7201a8"
            ],
            [
             0.3333333333333333,
             "#9c179e"
            ],
            [
             0.4444444444444444,
             "#bd3786"
            ],
            [
             0.5555555555555556,
             "#d8576b"
            ],
            [
             0.6666666666666666,
             "#ed7953"
            ],
            [
             0.7777777777777778,
             "#fb9f3a"
            ],
            [
             0.8888888888888888,
             "#fdca26"
            ],
            [
             1,
             "#f0f921"
            ]
           ],
           "sequentialminus": [
            [
             0,
             "#0d0887"
            ],
            [
             0.1111111111111111,
             "#46039f"
            ],
            [
             0.2222222222222222,
             "#7201a8"
            ],
            [
             0.3333333333333333,
             "#9c179e"
            ],
            [
             0.4444444444444444,
             "#bd3786"
            ],
            [
             0.5555555555555556,
             "#d8576b"
            ],
            [
             0.6666666666666666,
             "#ed7953"
            ],
            [
             0.7777777777777778,
             "#fb9f3a"
            ],
            [
             0.8888888888888888,
             "#fdca26"
            ],
            [
             1,
             "#f0f921"
            ]
           ]
          },
          "colorway": [
           "#636efa",
           "#EF553B",
           "#00cc96",
           "#ab63fa",
           "#FFA15A",
           "#19d3f3",
           "#FF6692",
           "#B6E880",
           "#FF97FF",
           "#FECB52"
          ],
          "font": {
           "color": "#2a3f5f"
          },
          "geo": {
           "bgcolor": "white",
           "lakecolor": "white",
           "landcolor": "#E5ECF6",
           "showlakes": true,
           "showland": true,
           "subunitcolor": "white"
          },
          "hoverlabel": {
           "align": "left"
          },
          "hovermode": "closest",
          "mapbox": {
           "style": "light"
          },
          "paper_bgcolor": "white",
          "plot_bgcolor": "#E5ECF6",
          "polar": {
           "angularaxis": {
            "gridcolor": "white",
            "linecolor": "white",
            "ticks": ""
           },
           "bgcolor": "#E5ECF6",
           "radialaxis": {
            "gridcolor": "white",
            "linecolor": "white",
            "ticks": ""
           }
          },
          "scene": {
           "xaxis": {
            "backgroundcolor": "#E5ECF6",
            "gridcolor": "white",
            "gridwidth": 2,
            "linecolor": "white",
            "showbackground": true,
            "ticks": "",
            "zerolinecolor": "white"
           },
           "yaxis": {
            "backgroundcolor": "#E5ECF6",
            "gridcolor": "white",
            "gridwidth": 2,
            "linecolor": "white",
            "showbackground": true,
            "ticks": "",
            "zerolinecolor": "white"
           },
           "zaxis": {
            "backgroundcolor": "#E5ECF6",
            "gridcolor": "white",
            "gridwidth": 2,
            "linecolor": "white",
            "showbackground": true,
            "ticks": "",
            "zerolinecolor": "white"
           }
          },
          "shapedefaults": {
           "line": {
            "color": "#2a3f5f"
           }
          },
          "ternary": {
           "aaxis": {
            "gridcolor": "white",
            "linecolor": "white",
            "ticks": ""
           },
           "baxis": {
            "gridcolor": "white",
            "linecolor": "white",
            "ticks": ""
           },
           "bgcolor": "#E5ECF6",
           "caxis": {
            "gridcolor": "white",
            "linecolor": "white",
            "ticks": ""
           }
          },
          "title": {
           "x": 0.05
          },
          "xaxis": {
           "automargin": true,
           "gridcolor": "white",
           "linecolor": "white",
           "ticks": "",
           "title": {
            "standoff": 15
           },
           "zerolinecolor": "white",
           "zerolinewidth": 2
          },
          "yaxis": {
           "automargin": true,
           "gridcolor": "white",
           "linecolor": "white",
           "ticks": "",
           "title": {
            "standoff": 15
           },
           "zerolinecolor": "white",
           "zerolinewidth": 2
          }
         }
        },
        "title": {
         "text": "Passing Yards vs. Fantasy Points for Quarterbacks"
        },
        "xaxis": {
         "anchor": "y",
         "domain": [
          0,
          1
         ],
         "title": {
          "text": "Passing Yards"
         }
        },
        "yaxis": {
         "anchor": "x",
         "domain": [
          0,
          1
         ],
         "title": {
          "text": "Total Fantasy Points"
         }
        }
       }
      }
     },
     "metadata": {},
     "output_type": "display_data"
    }
   ],
   "source": [
    "import plotly.express as px\n",
    "import pandas as pd\n",
    "\n",
    "url = 'https://fantasydata.com/nfl/fantasy-football-leaders?scope=season&scoring=fpts_ppr&order_by=fpts_ppr&sort_dir=desc&sp=2023_REG'\n",
    "\n",
    "dfs = pd.read_html(url)\n",
    "\n",
    "# Gets first table\n",
    "df = dfs[0]\n",
    "\n",
    "# Renaming the columns for better clarity and understanding\n",
    "df.columns = ['Rank', 'Player', 'Team', 'Position', 'Games Played', 'Passing Yards', 'Passing TDs', 'Passing INTs', 'Rushing Yards', 'Rushing Tds', 'Receptions', 'Receiving Yards', 'Receiving TDs', 'Sacks', 'INTs', 'Fumbles Forced', 'Fumbles Recovered', 'Fantasy Points Per Game','Total Fantasy Points']\n",
    "\n",
    "# Get only Quarterback info\n",
    "df_qb = df[df['Position'] == 'QB']\n",
    "\n",
    "# Making Scatterplot\n",
    "graph = px.scatter(df_qb, x='Total Fantasy Points', y='Passing Yards', color='Passing TDs', hover_data=['Player', 'Team'])\n",
    "\n",
    "graph.update_layout(\n",
    "    title='Passing Yards vs. Fantasy Points for Quarterbacks',\n",
    "    xaxis_title='Passing Yards',\n",
    "    yaxis_title='Total Fantasy Points'\n",
    ")\n"
   ]
  },
  {
   "cell_type": "markdown",
   "metadata": {},
   "source": []
  },
  {
   "cell_type": "markdown",
   "metadata": {},
   "source": [
    "### Part 2.3 (10 points)\n",
    "\n",
    "It seems that right now the data size is small thus hard to achieve any conclusion. There are multiple ways we can extend the data. One of the easier way is to get data from different season. Complete the following functions `multiple_year_df()` such that it takes a starting year and an end year then return all the data for each regular season within the range (inclusive both start and end). "
   ]
  },
  {
   "cell_type": "code",
   "execution_count": 8,
   "metadata": {},
   "outputs": [
    {
     "name": "stdout",
     "output_type": "stream",
     "text": [
      "   Rank           Player Team Position  Games Played  Passing Yards  \\\n",
      "0     1       Josh Allen  BUF       QB            16           4544   \n",
      "1     2    Aaron Rodgers   GB       QB            16           4299   \n",
      "2     3     Kyler Murray  ARI       QB            16           3971   \n",
      "3     4     Alvin Kamara   NO       RB            15              0   \n",
      "4     5  Patrick Mahomes   KC       QB            15           4740   \n",
      "\n",
      "   Passing TDs  Passing INTs  Rushing Yards  Rushing TDs  Receptions  \\\n",
      "0           37            10            421            8           1   \n",
      "1           48             5            149            3           1   \n",
      "2           26            12            819           11           0   \n",
      "3            0             0            932           16          83   \n",
      "4           38             6            308            2           0   \n",
      "\n",
      "   Receiving Yards  Receiving TDs  Sacks  INTs  Fumbles Forced  \\\n",
      "0               12              1      0     0               0   \n",
      "1               -6              0      0     0               0   \n",
      "2                0              0      0     0               0   \n",
      "3              756              5      0     0               0   \n",
      "4                0              0      0     0               0   \n",
      "\n",
      "   Fumbles Recovered  Fantasy Points Per Game  Total Fantasy Points  Year  \n",
      "0                  0                     24.8                 396.1  2020  \n",
      "1                  0                     24.0                 383.3  2020  \n",
      "2                  0                     23.7                 378.7  2020  \n",
      "3                  0                     25.2                 377.8  2020  \n",
      "4                  0                     25.0                 374.4  2020  \n"
     ]
    }
   ],
   "source": [
    "import pandas as pd\n",
    "import requests\n",
    "\n",
    "# Helper that gets the data for a specific year\n",
    "def data_for_year(year):\n",
    "    url1 = f'https://fantasydata.com/nfl/fantasy-football-leaders?scope=season&scoring=fpts_ppr&order_by=fpts_ppr&sort_dir=desc&sp={year}_REG'\n",
    "    dfs = pd.read_html(url1)\n",
    "    df = dfs[0]\n",
    "    df.columns = ['_'.join(col).strip() for col in df.columns.values]\n",
    "    df['Year'] = year\n",
    "    return df\n",
    "\n",
    "# Renaming the columns for clearer and better understanding\n",
    "def rename_columns(df):\n",
    "    df.columns = ['Rank', 'Player', 'Team', 'Position', 'Games Played', 'Passing Yards', 'Passing TDs', 'Passing INTs', \n",
    "                  'Rushing Yards', 'Rushing TDs', 'Receptions', 'Receiving Yards', 'Receiving TDs', 'Sacks', 'INTs', \n",
    "                  'Fumbles Forced', 'Fumbles Recovered', 'Fantasy Points Per Game', 'Total Fantasy Points', 'Year']\n",
    "    return df\n",
    "\n",
    "def multiple_year_df(start, end):\n",
    "    \"\"\"gives the leaderboard during the regular season from start year and end year.\n",
    "\n",
    "    Args:\n",
    "        start (int): the first year to be included in the data\n",
    "        end (int): the last year to be included in the data\n",
    "\n",
    "    Returns:\n",
    "        fantasy_full (DataFrame): a large data frame for all the regular season data from year `start` to year `end`.\n",
    "    \"\"\"\n",
    "    all_years = []\n",
    "    \n",
    "    for year in range(start, end + 1):\n",
    "        year_data = data_for_year(year)\n",
    "        renamed = rename_columns(year_data)\n",
    "        all_years.append(renamed)\n",
    "    \n",
    "    fantasy_full = pd.concat(all_years, ignore_index=True)\n",
    "    return fantasy_full\n",
    "\n",
    "# Usage\n",
    "df = multiple_year_df(2020, 2023)\n",
    "print(df.head())"
   ]
  },
  {
   "cell_type": "markdown",
   "metadata": {},
   "source": [
    "### Part 2.4 (15 points)\n",
    "\n",
    "Use the `multiple_year_df()` function to create data frames from year 2014 to 2023. Filter for  the four main offensive positions (QB, WR, RB, TE) and then create, using subplots in a single plot, histograms for each positions' `FPTS`. Make sure the subplots are on the same scale, well labeled, and titled. You can use `plt.ylim(0, 70)` to set the y range. "
   ]
  },
  {
   "cell_type": "code",
   "execution_count": 9,
   "metadata": {},
   "outputs": [
    {
     "data": {
      "image/png": "[encoded data removed]",
      "text/plain": [
       "<Figure size 1400x1000 with 4 Axes>"
      ]
     },
     "metadata": {},
     "output_type": "display_data"
    }
   ],
   "source": [
    "import matplotlib.pyplot as plt\n",
    "\n",
    "df = multiple_year_df(2014, 2023)\n",
    "\n",
    "# Picks only the wanted postitions\n",
    "positions = ['QB', 'WR', 'RB', 'TE']\n",
    "df_filtered = df[df['Position'].isin(positions)]\n",
    "\n",
    "# Making subplots per positions\n",
    "fig, axs = plt.subplots(2, 2, figsize=(14, 10))\n",
    "fig.suptitle('Position Fantasy Points frm 2014-2023', fontsize=16)\n",
    "\n",
    "# initializes the positions\n",
    "position_order = {\n",
    "    'QB': (0, 0),\n",
    "    'WR': (0, 1),\n",
    "    'RB': (1, 0),\n",
    "    'TE': (1, 1)\n",
    "}\n",
    "\n",
    "# histograms for each postition\n",
    "for pos in positions:\n",
    "    graph = axs[position_order[pos]]\n",
    "    graph.hist(df_filtered[df_filtered['Position'] == pos]['Total Fantasy Points'], bins=30, color='red', alpha=0.7)\n",
    "    graph.set_title(pos)\n",
    "    graph.set_xlim(0, df_filtered['Total Fantasy Points'].max())\n",
    "    graph.set_ylim(0, 70)\n",
    "    graph.set_xlabel('Total Fantasy Points')\n",
    "    graph.set_ylabel('# of Ocurances')\n",
    "\n",
    "plt.tight_layout(rect=[0, 0.03, 1, 0.95])\n",
    "plt.show()"
   ]
  },
  {
   "cell_type": "markdown",
   "metadata": {},
   "source": [
    "### Part 2.5 (20 points)\n",
    "\n",
    "Another way to extend the data to access each QB's web page and extract their own data across different years. However, by extracting the table directly, we cannot access the herf link directly. Therefore we need to manully crawl the web page. Notice that we only extract the information for each QB instead of other players. In the end, you can re-create the figure in part 2.2. Here is a general approach for you to start with: (no need to write in functions)\n",
    "\n",
    "1. get `soup` for the 2023 regular season leading board data (code provided)\n",
    "2. Look for which class represents the player's corresponding webpage. You need to save two things here: `href_list` to save the information for each QB's webpage and `name_list` to save each QB's name. We can go through every line in the leading board data, if it is a QB, we save the herf and name, otherwise, just skip it. \n",
    "3. For each herf link in the `href_list`, extract the data on the page. Notice that there are mutiple tables in players'own webpage. We need the one with stats and FTPS. You may also want to remove the last row in the table since it is a summary data and add a column for the player's name. Merge (concat) all the data. You can rename the column and index. \n",
    "4. Re-create the plot in part 2.2. "
   ]
  },
  {
   "cell_type": "code",
   "execution_count": 18,
   "metadata": {},
   "outputs": [],
   "source": [
    "from bs4 import BeautifulSoup\n",
    "url = 'https://fantasydata.com/nfl/fantasy-football-leaders?scope=season&scoring=fpts_ppr&order_by=fpts_ppr&sort_dir=desc&sp=2023_REG'\n",
    "html_text = requests.get(url).text\n",
    "soup = BeautifulSoup(html_text)\n",
    "herf_list = []\n",
    "name_list = []\n",
    "player_data = []\n",
    "\n",
    "# Finding quarterback player profiles\n",
    "for player in soup.find_all('a', class_='player-link'):\n",
    "    if player.find_next('td', class_='player-position').text == 'QB':\n",
    "        herf_list.append(player['href'])\n",
    "        name_list.append(player.text)\n",
    "\n",
    "# Gets the stats for the QBs\n",
    "for name, href in zip(name_list, herf_list):\n",
    "    player_url = f'https://fantasydata.com{href}'\n",
    "    player_html_text = requests.get(player_url).text\n",
    "    player_soup = BeautifulSoup(player_html_text, 'html.parser')\n",
    "    \n",
    "    # Finding the players stats\n",
    "    stats_table = player_soup.find('table')\n",
    "    if stats_table:\n",
    "        df = pd.read_html(str(stats_table))[0].iloc[:-1]\n",
    "        df['Player'] = name\n",
    "        player_data.append(df)\n",
    "\n",
    "# Combines all the players Dataframe into one collective Dataframe\n",
    "all_data = pd.concat(player_data, ignore_index=True) if player_data else pd.DataFrame()"
   ]
  },
  {
   "cell_type": "code",
   "execution_count": 22,
   "metadata": {},
   "outputs": [
    {
     "ename": "KeyError",
     "evalue": "'Year'",
     "output_type": "error",
     "traceback": [
      "\u001b[1;31m---------------------------------------------------------------------------\u001b[0m",
      "\u001b[1;31mKeyError\u001b[0m                                  Traceback (most recent call last)",
      "Cell \u001b[1;32mIn[22], line 9\u001b[0m\n\u001b[0;32m      6\u001b[0m \u001b[38;5;28;01mif\u001b[39;00m \u001b[38;5;28mlen\u001b[39m(all_data\u001b[38;5;241m.\u001b[39mcolumns) \u001b[38;5;241m==\u001b[39m \u001b[38;5;28mlen\u001b[39m(expected_columns):\n\u001b[0;32m      7\u001b[0m     all_data\u001b[38;5;241m.\u001b[39mcolumns \u001b[38;5;241m=\u001b[39m expected_columns\n\u001b[1;32m----> 9\u001b[0m df_qb \u001b[38;5;241m=\u001b[39m all_data[\u001b[43mall_data\u001b[49m\u001b[43m[\u001b[49m\u001b[38;5;124;43m'\u001b[39;49m\u001b[38;5;124;43mYear\u001b[39;49m\u001b[38;5;124;43m'\u001b[39;49m\u001b[43m]\u001b[49m \u001b[38;5;241m==\u001b[39m \u001b[38;5;124m'\u001b[39m\u001b[38;5;124m2023\u001b[39m\u001b[38;5;124m'\u001b[39m]\n\u001b[0;32m     11\u001b[0m \u001b[38;5;66;03m# Making Scatterplot\u001b[39;00m\n\u001b[0;32m     12\u001b[0m graph \u001b[38;5;241m=\u001b[39m px\u001b[38;5;241m.\u001b[39mscatter(df_qb, x\u001b[38;5;241m=\u001b[39m\u001b[38;5;124m'\u001b[39m\u001b[38;5;124mPassing Yards\u001b[39m\u001b[38;5;124m'\u001b[39m, y\u001b[38;5;241m=\u001b[39m\u001b[38;5;124m'\u001b[39m\u001b[38;5;124mTotal Fantasy Points\u001b[39m\u001b[38;5;124m'\u001b[39m, color\u001b[38;5;241m=\u001b[39m\u001b[38;5;124m'\u001b[39m\u001b[38;5;124mPassing TDs\u001b[39m\u001b[38;5;124m'\u001b[39m, \n\u001b[0;32m     13\u001b[0m                    hover_data\u001b[38;5;241m=\u001b[39m[\u001b[38;5;124m'\u001b[39m\u001b[38;5;124mPlayer\u001b[39m\u001b[38;5;124m'\u001b[39m, \u001b[38;5;124m'\u001b[39m\u001b[38;5;124mTeam\u001b[39m\u001b[38;5;124m'\u001b[39m])\n",
      "File \u001b[1;32m~\\AppData\\Local\\Packages\\PythonSoftwareFoundation.Python.3.11_qbz5n2kfra8p0\\LocalCache\\local-packages\\Python311\\site-packages\\pandas\\core\\frame.py:4102\u001b[0m, in \u001b[0;36mDataFrame.__getitem__\u001b[1;34m(self, key)\u001b[0m\n\u001b[0;32m   4100\u001b[0m \u001b[38;5;28;01mif\u001b[39;00m \u001b[38;5;28mself\u001b[39m\u001b[38;5;241m.\u001b[39mcolumns\u001b[38;5;241m.\u001b[39mnlevels \u001b[38;5;241m>\u001b[39m \u001b[38;5;241m1\u001b[39m:\n\u001b[0;32m   4101\u001b[0m     \u001b[38;5;28;01mreturn\u001b[39;00m \u001b[38;5;28mself\u001b[39m\u001b[38;5;241m.\u001b[39m_getitem_multilevel(key)\n\u001b[1;32m-> 4102\u001b[0m indexer \u001b[38;5;241m=\u001b[39m \u001b[38;5;28;43mself\u001b[39;49m\u001b[38;5;241;43m.\u001b[39;49m\u001b[43mcolumns\u001b[49m\u001b[38;5;241;43m.\u001b[39;49m\u001b[43mget_loc\u001b[49m\u001b[43m(\u001b[49m\u001b[43mkey\u001b[49m\u001b[43m)\u001b[49m\n\u001b[0;32m   4103\u001b[0m \u001b[38;5;28;01mif\u001b[39;00m is_integer(indexer):\n\u001b[0;32m   4104\u001b[0m     indexer \u001b[38;5;241m=\u001b[39m [indexer]\n",
      "File \u001b[1;32m~\\AppData\\Local\\Packages\\PythonSoftwareFoundation.Python.3.11_qbz5n2kfra8p0\\LocalCache\\local-packages\\Python311\\site-packages\\pandas\\core\\indexes\\range.py:417\u001b[0m, in \u001b[0;36mRangeIndex.get_loc\u001b[1;34m(self, key)\u001b[0m\n\u001b[0;32m    415\u001b[0m         \u001b[38;5;28;01mraise\u001b[39;00m \u001b[38;5;167;01mKeyError\u001b[39;00m(key) \u001b[38;5;28;01mfrom\u001b[39;00m \u001b[38;5;21;01merr\u001b[39;00m\n\u001b[0;32m    416\u001b[0m \u001b[38;5;28;01mif\u001b[39;00m \u001b[38;5;28misinstance\u001b[39m(key, Hashable):\n\u001b[1;32m--> 417\u001b[0m     \u001b[38;5;28;01mraise\u001b[39;00m \u001b[38;5;167;01mKeyError\u001b[39;00m(key)\n\u001b[0;32m    418\u001b[0m \u001b[38;5;28mself\u001b[39m\u001b[38;5;241m.\u001b[39m_check_indexing_error(key)\n\u001b[0;32m    419\u001b[0m \u001b[38;5;28;01mraise\u001b[39;00m \u001b[38;5;167;01mKeyError\u001b[39;00m(key)\n",
      "\u001b[1;31mKeyError\u001b[0m: 'Year'"
     ]
    }
   ],
   "source": [
    "expected_columns = ['Year', 'Team', 'Games Played', 'Passing Completions', 'Passing Attempts', \n",
    "                    'Completion %', 'Passing Yards', 'Passing TDs', 'Passing INTs', \n",
    "                    'Rushing Attempts', 'Rushing Yards', 'Rushing TDs', 'Total Fantasy Points', 'Player']\n",
    "\n",
    "# Rename columns if necessary\n",
    "if len(all_data.columns) == len(expected_columns):\n",
    "    all_data.columns = expected_columns\n",
    "    \n",
    "df_qb = all_data[all_data['Year'] == '2023']\n",
    "\n",
    "# Making Scatterplot\n",
    "graph = px.scatter(df_qb, x='Passing Yards', y='Total Fantasy Points', color='Passing TDs', \n",
    "                   hover_data=['Player', 'Team'])\n",
    "\n",
    "graph.update_layout(\n",
    "    title='Passing Yards vs. Fantasy Points (QB)',\n",
    "    xaxis_title='Passing Yards',\n",
    "    yaxis_title='Total Fantasy Points'\n",
    ")\n",
    "\n",
    "graph.show()"
   ]
  }
 ],
 "metadata": {
  "kernelspec": {
   "display_name": "Python 3 (ipykernel)",
   "language": "python",
   "name": "python3"
  },
  "language_info": {
   "codemirror_mode": {
    "name": "ipython",
    "version": 3
   },
   "file_extension": ".py",
   "mimetype": "text/x-python",
   "name": "python",
   "nbconvert_exporter": "python",
   "pygments_lexer": "ipython3",
   "version": "3.12.4"
  }
 },
 "nbformat": 4,
 "nbformat_minor": 4
}
