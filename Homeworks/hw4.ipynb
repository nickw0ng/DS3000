{
 "cells": [
  {
   "cell_type": "markdown",
   "metadata": {},
   "source": [
    "# DS 3000 HW 4\n",
    "\n",
    "Due: Friday July 19th @ 11:59 PM EST\n",
    "\n",
    "### Submission Instructions\n",
    "Submit this `ipynb` file to Gradescope (this can also be done via the assignment on Canvas).  To ensure that your submitted files represent your latest code, make sure to give a fresh `Kernel > Restart & Run All` just before uploading the files to gradescope.\n",
    "\n",
    "### Tips for success\n",
    "- Start early\n",
    "- Make use of Piazza\n",
    "- Make use of Office hour\n",
    "- Remember to use cells and headings to make the notebook easy to read (if a grader cannot find the answer to a problem, you will receive no points for it)\n",
    "- Under no circumstances may one student view or share their ungraded homework or quiz with another student [(see also)](http://www.northeastern.edu/osccr/academic-integrity), though you are welcome to **talk about** (not show each other) the problems."
   ]
  },
  {
   "cell_type": "markdown",
   "metadata": {},
   "source": [
    "## Part 1: AZ Quotes"
   ]
  },
  {
   "cell_type": "markdown",
   "metadata": {},
   "source": [
    "### Part 1.1 (15 points)\n",
    "\n",
    "AZ Quotes is one of the websites to provide multiple quotes and sorted by different ways. A quote usually has a text and an author name. \n",
    "\n",
    "<img src=\"https://i.ibb.co/wht5NB0/Screenshot-from-2022-02-23-05-14-26.png\" alt=\"Drawing\" style=\"width: 600px;\"/>\n",
    "\n",
    "Write a function, `clean_quote()` which scrapes all the quotes from https://www.azquotes.com/quotes/topics/positive.html:\n",
    "\n",
    "```python\n",
    "url = 'https://www.azquotes.com/quotes/topics/positive.html'\n",
    "html = get_url(url)\n",
    "df_quote = clean_quote(html)\n",
    "df_quote.head()\n",
    "```\n",
    "\n",
    "gives:\n",
    "\n",
    "|   |          author    |                                              text |\n",
    "|--:|-------------------:|--------------------------------------------------:|\n",
    "| 0 | Mahatma Gandhi     | Keep your thoughts positive because your thoug... |\n",
    "| 1 | Alice Morse Earle  | Every day may not be good... but there's somet... |\n",
    "| 2 | Nicky Gumbel       | You can't change how people treat you or what ... |\n",
    "| 3 | Winston Churchill  | The POSITIVE THINKER sees the INVISIBLE, feels... |\n",
    "| 4 |Paramahansa Yogananda| If you want to be sad, no one in the world can... |\n",
    "\n",
    "After writing the function, run the above code to verify it works.\n",
    "\n",
    "Hint: There are 25 quotes after you scrape the page. However, you may get more items when you scrape the quotes. Feel free to select only the 1:26 to get rid of some other items. "
   ]
  },
  {
   "cell_type": "code",
   "execution_count": 1,
   "metadata": {},
   "outputs": [],
   "source": [
    "import warnings\n",
    "warnings.simplefilter(action='ignore', category=FutureWarning)\n",
    "\n",
    "import pandas as pd\n",
    "from bs4 import BeautifulSoup\n",
    "import requests\n",
    "  \n",
    "def get_url(url):\n",
    "    \"\"\" gets html from url\n",
    "    \n",
    "    Args:\n",
    "        url (str): a url\n",
    "        \n",
    "    Returns:\n",
    "        html (str): the html from the url\n",
    "    \"\"\"\n",
    "    pass\n",
    "\n",
    "def clean_quote(html):\n",
    "    \"\"\" scrapes quotes from azquote and creates a dataframe with author and text\n",
    "    \n",
    "    Args:\n",
    "        html (str): html text object from brainyquote\n",
    "        \n",
    "    Returns:\n",
    "        clean_df (DataFrame): DataFrame with columns\n",
    "                                author (str): name of the author\n",
    "                                text (str): text of the quote\n",
    "    \"\"\"\n",
    "    pass\n",
    "    "
   ]
  },
  {
   "cell_type": "code",
   "execution_count": null,
   "metadata": {},
   "outputs": [],
   "source": []
  },
  {
   "cell_type": "markdown",
   "metadata": {},
   "source": [
    "### Part 1.2 (20 points)\n",
    "\n",
    "Navigate to each quote's own webpage and you'll find more information about the tags for each quotes: https://www.azquotes.com/quote/361010?ref=positive\n",
    "\n",
    "Store the tags associated with each quote too.  For example, the quote above has tags: `Hope`, `Positive`, `Inspirational`, `Happiness` and a lot of others.  Think carefully about how you store the tags so that one may easily understand how many times each tag (e.g. `Positive`) appears in your dataframe with simple pandas manipulations.\n",
    "\n",
    "You can update the functions in part 1.1. Run your function in the end and show the head of the data frame. "
   ]
  },
  {
   "cell_type": "code",
   "execution_count": 3,
   "metadata": {},
   "outputs": [],
   "source": [
    "# note that there may be multiple classes, tags, id, etc. that  could lead to the correct data frame\n",
    "\n",
    "def get_quote_tags(html):\n",
    "    \"\"\" grabs the tags from each of the quotes from the html of azquote\n",
    "    \n",
    "    Args:\n",
    "        html (str): html text object from brainyquote\n",
    "        \n",
    "    Returns:\n",
    "        clean_df (DataFrame): DataFrame with columns\n",
    "                                author (str): name of the author\n",
    "                                text (str): text of the quote\n",
    "                                tags (str): string with tags from quote\n",
    "    \n",
    "    \"\"\"\n",
    "    pass\n",
    "    "
   ]
  },
  {
   "cell_type": "code",
   "execution_count": null,
   "metadata": {},
   "outputs": [],
   "source": []
  },
  {
   "cell_type": "markdown",
   "metadata": {},
   "source": [
    "## Part 2: Fantasy Football"
   ]
  },
  {
   "cell_type": "markdown",
   "metadata": {},
   "source": [
    "### Part 2.1 (10 points)\n",
    "\n",
    "In Fantasy Football, real NFL players gain points for fans at home based on some scoring criteria (which differs based on the website, but in all cases more points is better). Use the following link https://fantasydata.com/nfl/fantasy-football-leaders?scope=season&scoring=fpts_ppr&order_by=fpts_ppr&sort_dir=desc&sp=2023_REG and `pd.read_html` to extract 2023 fantasy football regular season data. Notice that this data has double layers of column names. You can re-name the columns for the easier plotting later. "
   ]
  },
  {
   "cell_type": "code",
   "execution_count": 1,
   "metadata": {},
   "outputs": [],
   "source": [
    "url = 'https://fantasydata.com/nfl/fantasy-football-leaders?scope=season&scoring=fpts_ppr&order_by=fpts_ppr&sort_dir=desc&sp=2023_REG'"
   ]
  },
  {
   "cell_type": "markdown",
   "metadata": {},
   "source": [
    "### Part 2.2 (10 points)\n",
    "\n",
    "Filter the data for QB and then make a graph which plots `PASSING_YDS` on the x-axis against `FPTS` on the y-axis, and colors the points based on `PASSING_TD`. Use `plotly` and include the `Name` and `Team` as `hover_data`. Make sure the graph is well labeled, titled, and includes a legend. Then, in a Markdown cell, discuss in **at least 3** sentences your interpretation of the graph.\n",
    "\n",
    "- **Note**: if you are not an american football fan, in brief the Quarterback's role is to throw the ball to other players in the hopes of scoring a touchdown (if you want a much more technical description, you may also read a bit [here](https://en.wikipedia.org/wiki/Quarterback))."
   ]
  },
  {
   "cell_type": "code",
   "execution_count": 2,
   "metadata": {},
   "outputs": [],
   "source": [
    "import plotly.express as px"
   ]
  },
  {
   "cell_type": "markdown",
   "metadata": {},
   "source": []
  },
  {
   "cell_type": "markdown",
   "metadata": {},
   "source": [
    "### Part 2.3 (10 points)\n",
    "\n",
    "It seems that right now the data size is small thus hard to achieve any conclusion. There are multiple ways we can extend the data. One of the easier way is to get data from different season. Complete the following functions `multiple_year_df()` such that it takes a starting year and an end year then return all the data for each regular season within the range (inclusive both start and end). "
   ]
  },
  {
   "cell_type": "code",
   "execution_count": 3,
   "metadata": {},
   "outputs": [],
   "source": [
    "def multiple_year_df(start, end):\n",
    "    \"\"\" gives the leaderboard during the regular season from start year and end year\n",
    "    \n",
    "    Args:\n",
    "        start (int): the first year has been included in the data\n",
    "        end (int): the last year has been included in the data\n",
    "        \n",
    "    Returns:\n",
    "        fantasy_full (DataFrame): a large data frame for all the regular season data from year `start` to year `end`. \n",
    "    \n",
    "    \"\"\"\n",
    "    pass"
   ]
  },
  {
   "cell_type": "markdown",
   "metadata": {},
   "source": [
    "### Part 2.4 (15 points)\n",
    "\n",
    "Use the `multiple_year_df()` function to create data frames from year 2014 to 2023. Filter for  the four main offensive positions (QB, WR, RB, TE) and then create, using subplots in a single plot, histograms for each positions' `FPTS`. Make sure the subplots are on the same scale, well labeled, and titled. You can use `plt.ylim(0, 70)` to set the y range. "
   ]
  },
  {
   "cell_type": "code",
   "execution_count": null,
   "metadata": {},
   "outputs": [],
   "source": []
  },
  {
   "cell_type": "markdown",
   "metadata": {},
   "source": [
    "### Part 2.5 (20 points)\n",
    "\n",
    "Another way to extend the data to access each QB's web page and extract their own data across different years. However, by extracting the table directly, we cannot access the herf link directly. Therefore we need to manully crawl the web page. Notice that we only extract the information for each QB instead of other players. In the end, you can re-create the figure in part 2.2. Here is a general approach for you to start with: (no need to write in functions)\n",
    "\n",
    "1. get `soup` for the 2023 regular season leading board data (code provided)\n",
    "2. Look for which class represents the player's corresponding webpage. You need to save two things here: `href_list` to save the information for each QB's webpage and `name_list` to save each QB's name. We can go through every line in the leading board data, if it is a QB, we save the herf and name, otherwise, just skip it. \n",
    "3. For each herf link in the `href_list`, extract the data on the page. Notice that there are mutiple tables in players'own webpage. We need the one with stats and FTPS. You may also want to remove the last row in the table since it is a summary data and add a column for the player's name. Merge (concat) all the data. You can rename the column and index. \n",
    "4. Re-create the plot in part 2.2. "
   ]
  },
  {
   "cell_type": "code",
   "execution_count": 126,
   "metadata": {},
   "outputs": [],
   "source": [
    "url = 'https://fantasydata.com/nfl/fantasy-football-leaders?scope=season&scoring=fpts_ppr&order_by=fpts_ppr&sort_dir=desc&sp=2023_REG'\n",
    "html_text = requests.get(url).text\n",
    "soup = BeautifulSoup(html_text)\n",
    "herf_list = []\n",
    "name_list = []"
   ]
  },
  {
   "cell_type": "code",
   "execution_count": null,
   "metadata": {},
   "outputs": [],
   "source": []
  }
 ],
 "metadata": {
  "kernelspec": {
   "display_name": "Python 3 (ipykernel)",
   "language": "python",
   "name": "python3"
  },
  "language_info": {
   "codemirror_mode": {
    "name": "ipython",
    "version": 3
   },
   "file_extension": ".py",
   "mimetype": "text/x-python",
   "name": "python",
   "nbconvert_exporter": "python",
   "pygments_lexer": "ipython3",
   "version": "3.11.7"
  }
 },
 "nbformat": 4,
 "nbformat_minor": 4
}
