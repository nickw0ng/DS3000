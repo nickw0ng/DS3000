{
 "cells": [
  {
   "cell_type": "markdown",
   "metadata": {},
   "source": [
    "# DS 3000 HW 2\n",
    "\n",
    "Due: Friday July 12th @ 11:59 PM EST\n",
    "\n",
    "### Submission Instructions\n",
    "Submit this `ipynb` file to Gradescope (this can also be done via the assignment on Canvas).  To ensure that your submitted files represent your latest code, make sure to give a fresh `Kernel > Restart & Run All` just before uploading the files to gradescope.\n",
    "\n",
    "### Tips for success\n",
    "- Start early\n",
    "- Make use of Piazza\n",
    "- Make use of Office hour\n",
    "- Remember to use cells and headings to make the notebook easy to read (if a grader cannot find the answer to a problem, you will receive no points for it)\n",
    "- Under no circumstances may one student view or share their ungraded homework or quiz with another student [(see also)](http://www.northeastern.edu/osccr/academic-integrity), though you are welcome to **talk about** (not show each other) the problems."
   ]
  },
  {
   "cell_type": "markdown",
   "metadata": {},
   "source": [
    "# Part 1: Arrays\n",
    "\n",
    "## Part 1.1: (10 points: 5 pts each)\n",
    "\n",
    "Create the following two arrays using the NumPy library. Call the first array `array_a` and the second array `array_b`. Use .linspace and .reshape to create `array_b`:\n",
    "\n",
    "$$\\text{array_a} = \\begin{bmatrix}3 & -8 & -2 & 3\\\\\n",
    ".5 & 2 & 6 & 14\\\\\n",
    "9 & 7 & 69 & 2\n",
    "\\end{bmatrix}$$\n",
    "\n",
    "$$\\text{array_b} = \\begin{bmatrix}42 & 38 & 34 & 30 & 26 \\\\\n",
    "22 & 18 & 14 & 10 & 6 \\\\\n",
    "2 & -2 & -6 & -10 & -14\n",
    "\\end{bmatrix}$$\n",
    "\n"
   ]
  },
  {
   "cell_type": "code",
   "execution_count": 69,
   "metadata": {},
   "outputs": [
    {
     "name": "stdout",
     "output_type": "stream",
     "text": [
      "array a:\n",
      "[[ 3.  -8.  -2.   3. ]\n",
      " [ 0.5  2.   6.  14. ]\n",
      " [ 9.   7.  69.   2. ]]\n",
      "array b:\n",
      "[[ 42.  38.  34.  30.  26.]\n",
      " [ 22.  18.  14.  10.   6.]\n",
      " [  2.  -2.  -6. -10. -14.]]\n"
     ]
    }
   ],
   "source": [
    "import numpy as np\n",
    "\n",
    "\n",
    "array_a = np.array([[3, -8, -2, 3],\n",
    "                    [0.5, 2, 6, 14],\n",
    "                    [9, 7, 69, 2]])\n",
    "\n",
    "array_b = np.linspace(42, -14, 15).reshape(3, 5)\n",
    "\n",
    "print('array a:')\n",
    "print(array_a)\n",
    "print('array b:')\n",
    "print(array_b)"
   ]
  },
  {
   "cell_type": "markdown",
   "metadata": {},
   "source": [
    "## Part 1.2: (15 points: 5 pts each)\n",
    "\n",
    "1. Give the shape, size, ndim, and nbytes for each of the two arrays.\n",
    "1. Take the transpose of both arrays. Call these `t_array_a` and `t_array_b`.\n",
    "1. Try to add `array_a` and `array_b`, then remove the last column of `array_b` and try to add them again. In a markdown cell, explain what happened."
   ]
  },
  {
   "cell_type": "code",
   "execution_count": 70,
   "metadata": {},
   "outputs": [
    {
     "name": "stdout",
     "output_type": "stream",
     "text": [
      "1.\n",
      "ARRAY A DETAILS\n",
      "Shape of array_a: (3, 4)\n",
      "Size of array_a: 12\n",
      "Number of dimensions of array_a (ndim): 2\n",
      "Number of bytes of array_a (nbytes): 96\n",
      " \n",
      "ARRAY B DETAILS\n",
      "Shape of array_b: (3, 5)\n",
      "Size of array_b: 15\n",
      "Number of dimensions of array_b (ndim): 2\n",
      "Number of bytes of array_b (nbytes): 120\n",
      "\n",
      "2.\n",
      "array_a transposed\n",
      "[[ 3.   0.5  9. ]\n",
      " [-8.   2.   7. ]\n",
      " [-2.   6.  69. ]\n",
      " [ 3.  14.   2. ]]\n",
      "\n",
      "array_b transposed\n",
      "[[ 42.  22.   2.]\n",
      " [ 38.  18.  -2.]\n",
      " [ 34.  14.  -6.]\n",
      " [ 30.  10. -10.]\n",
      " [ 26.   6. -14.]]\n"
     ]
    }
   ],
   "source": [
    "print('1.')\n",
    "print('ARRAY A DETAILS')\n",
    "print(\"Shape of array_a:\", array_a.shape)\n",
    "print(\"Size of array_a:\", array_a.size)\n",
    "print(\"Number of dimensions of array_a (ndim):\", array_a.ndim)\n",
    "print(\"Number of bytes of array_a (nbytes):\", array_a.nbytes)\n",
    "\n",
    "print(' ')\n",
    "\n",
    "print('ARRAY B DETAILS')\n",
    "print(\"Shape of array_b:\", array_b.shape)\n",
    "print(\"Size of array_b:\", array_b.size)\n",
    "print(\"Number of dimensions of array_b:\", array_b.ndim)\n",
    "print(\"Number of bytes of array_b:\", array_b.nbytes)\n",
    "\n",
    "print('')\n",
    "\n",
    "print('2.')\n",
    "t_array_a = array_a.T\n",
    "t_array_b = array_b.T\n",
    "print('array_a transposed')\n",
    "print(t_array_a)\n",
    "print('')\n",
    "print('array_b transposed')\n",
    "print(t_array_b)"
   ]
  },
  {
   "cell_type": "code",
   "execution_count": 13,
   "metadata": {},
   "outputs": [
    {
     "name": "stdout",
     "output_type": "stream",
     "text": [
      "[[ 42.  38.  34.  30.]\n",
      " [ 22.  18.  14.  10.]\n",
      " [  2.  -2.  -6. -10.]]\n",
      "\n",
      "Combining array_a and array_b:\n",
      "[[45.  30.  32.  33. ]\n",
      " [22.5 20.  20.  24. ]\n",
      " [11.   5.  63.  -8. ]]\n"
     ]
    }
   ],
   "source": [
    "'''\n",
    "print('3.')\n",
    "array_ab = array_a + array_b\n",
    "print(\"Combining array_a and array_b:\")\n",
    "print(array_ab)\n",
    "'''\n",
    "# The code above produces an error and does not run\n",
    "\n",
    "\n",
    "array_b_edited = array_b[:, :-1]\n",
    "print(array_b_edited)\n",
    "\n",
    "print('')\n",
    "\n",
    "array_ab = array_a + array_b_edited\n",
    "print(\"Combining array_a and array_b:\")\n",
    "print(array_ab)\n"
   ]
  },
  {
   "cell_type": "markdown",
   "metadata": {},
   "source": [
    "### 1.2 Explaination\n",
    "The first chunk of code did not work and produced an error because in order to add two arrays they must have the same dimentions, which they didn't. After removing the last column in array_b, then both arrays had the same dimentions and were able to be combined using '+'."
   ]
  },
  {
   "cell_type": "markdown",
   "metadata": {},
   "source": [
    "# Part 2: Bike Data\n",
    "\n",
    "## Part 2.1: DataFrame Construction (10 points)\n",
    "Recreate the following table of bicycle race data as a dataframe (do not write a csv and read it in to accomplish this; use pandas and dictionary).  Use the `Bike ID` as the index column and save the resulting dataframe as a csv (you need not submit this csv, but be sure to include the `DataFrame.to_csv()` command in your submission).\n",
    "\n",
    "| Bike ID | Rider ID | Make      | Color      | Bike Type  | Weight (g) | Time Trial 1 (s) | Time Trial 2 (s) |\n",
    "|---------|----------|-----------|------------|------------|------------|------------------|------------------|\n",
    "| 037     | 3        | Bianchi   | Celeste    | Road       | 8200       | 450              | 205              |\n",
    "| 379     | 1        | Duratec   | \\<no paint>| Cyclocross | 9500       | 510              | 222              |\n",
    "| 398     | 7        | Trek      | Red        | Road       | 9000       | 432              | 211              |\n",
    "| 37B     | 3        | Trek      | Black      | Mountain   | 13607      | 561              | 301              |\n",
    "| BRG     | 7        | Canondale | Black      | Mountain   | 15005      | 524              | 299              |"
   ]
  },
  {
   "cell_type": "code",
   "execution_count": 71,
   "metadata": {},
   "outputs": [
    {
     "name": "stdout",
     "output_type": "stream",
     "text": [
      "         Rider ID       Make       Color   Bike Type  Weight (g)  \\\n",
      "Bike ID                                                            \n",
      "037             3    Bianchi     Celeste        Road        8200   \n",
      "379             1    Duratec  <no paint>  Cyclocross        9500   \n",
      "398             7       Trek         Red        Road        9000   \n",
      "37B             3       Trek       Black    Mountain       13607   \n",
      "BRG             7  Canondale       Black    Mountain       15005   \n",
      "\n",
      "         Time Trial 1 (s)  Time Trial 2 (s)  \n",
      "Bike ID                                      \n",
      "037                   450               205  \n",
      "379                   510               222  \n",
      "398                   432               211  \n",
      "37B                   561               301  \n",
      "BRG                   524               299  \n"
     ]
    }
   ],
   "source": [
    "import pandas as pd\n",
    "\n",
    "bikes = {\n",
    "    'Bike ID': ['037', '379', '398', '37B', 'BRG'],\n",
    "    'Rider ID': [3, 1, 7, 3, 7],\n",
    "    'Make': ['Bianchi', 'Duratec', 'Trek', 'Trek', 'Canondale'],\n",
    "    'Color': ['Celeste', '<no paint>', 'Red', 'Black', 'Black'],\n",
    "    'Bike Type': ['Road', 'Cyclocross', 'Road', 'Mountain', 'Mountain'],\n",
    "    'Weight (g)': [8200, 9500, 9000, 13607, 15005],\n",
    "    'Time Trial 1 (s)': [450, 510, 432, 561, 524],\n",
    "    'Time Trial 2 (s)': [205, 222, 211, 301, 299]\n",
    "}\n",
    "df = pd.DataFrame(bikes).set_index('Bike ID')\n",
    "df.to_csv('bicycle_data.csv')\n",
    "print(df)"
   ]
  },
  {
   "cell_type": "markdown",
   "metadata": {},
   "source": [
    "# Part 2.2: Manipulating DataFrames (30 points: 10 pts each)\n",
    "For each of the questions below:\n",
    "- Provide a few (1 to 3) code cells which construct a series or dataframe object which is sufficient to answer each question\n",
    "    - one shouldn't have to look at the full dataframe or otherwise as reference\n",
    "        - we practice this way as real datasets are too big for this to be easily done!\n",
    "- Provide a markdown cell which contains a one sentence response to each question\n",
    "    - In effect, you're interpretting the code cell(s) so one who knows no python can understand how your code answers the question\n",
    "\n",
    "### Questions:\n",
    "1. Which `Bike ID` has the greatest weight?\n",
    "1. Which `Bike ID` has the fastest average time trial?\n",
    "1. What is the average weight of each bike, per `Bike Type `?  \n",
    "    - Hint: `groupby()` and/or `.unique()` might be helpful\n",
    "\n",
    "Note that:\n",
    "- each time trial records the time taken to complete a given track under similar conditions. \n",
    "- some riders (3 and 7) completed the time trials on two distinct bikes, the data is stored in distinct rows"
   ]
  },
  {
   "cell_type": "markdown",
   "metadata": {},
   "source": [
    "### Question 1 Markdown Answer\n",
    "The 'Bike ID' with the greatest weight is 'BRG', which weighs 15005 grams.\n",
    "\n",
    "Question 1 code below ↓"
   ]
  },
  {
   "cell_type": "code",
   "execution_count": 30,
   "metadata": {},
   "outputs": [
    {
     "name": "stdout",
     "output_type": "stream",
     "text": [
      "Question 1\n",
      "The heaviest bike is: BRG\n"
     ]
    }
   ],
   "source": [
    "print('Question 1')\n",
    "heaviest_bike = df['Weight (g)'].idxmax()\n",
    "print(\"The heaviest bike is:\", heaviest_bike)\n",
    "\n",
    "\n",
    "\n"
   ]
  },
  {
   "cell_type": "markdown",
   "metadata": {},
   "source": [
    "### Question 2 Markdown Answer\n",
    "The Bike ID with the fastest average time trial is 398.\n",
    "\n",
    "Question 2 code below ↓"
   ]
  },
  {
   "cell_type": "code",
   "execution_count": 31,
   "metadata": {},
   "outputs": [
    {
     "name": "stdout",
     "output_type": "stream",
     "text": [
      "Question 2\n",
      "The fasted bike is: 398\n"
     ]
    }
   ],
   "source": [
    "print('Question 2')\n",
    "df['Average Time Trial'] = df[['Time Trial 1 (s)', 'Time Trial 2 (s)']].mean(axis=1)\n",
    "\n",
    "fastest_bike = df['Average Time Trial'].idxmin()\n",
    "print('The fasted bike is:',fastest_bike)\n",
    "\n",
    "\n"
   ]
  },
  {
   "cell_type": "markdown",
   "metadata": {},
   "source": [
    "### Question 3 Markdown Answer\n",
    "The average weight of each bike, per Bike Type, is as follows: Road bikes have an average weight of 8600 grams, Cyclocross bikes 9500 grams, and Mountain bikes 14356 grams.\n",
    "\n",
    "Question 3 code below ↓"
   ]
  },
  {
   "cell_type": "code",
   "execution_count": 34,
   "metadata": {},
   "outputs": [
    {
     "name": "stdout",
     "output_type": "stream",
     "text": [
      "Question 3\n"
     ]
    },
    {
     "data": {
      "text/plain": [
       "{'Road': 8600.0, 'Cyclocross': 9500.0, 'Mountain': 14306.0}"
      ]
     },
     "execution_count": 34,
     "metadata": {},
     "output_type": "execute_result"
    }
   ],
   "source": [
    "print('Question 3')\n",
    "bike_types = df['Bike Type'].unique()\n",
    "\n",
    "average_weight = {}\n",
    "\n",
    "for bike_type in bike_types:\n",
    "    bikes = df[df['Bike Type'] == bike_type]\n",
    "    avg_weight = bikes['Weight (g)'].mean()\n",
    "    avg_weight = float(avg_weight)\n",
    "    average_weight[bike_type] = avg_weight\n",
    "\n",
    "average_weight"
   ]
  },
  {
   "cell_type": "markdown",
   "metadata": {},
   "source": [
    "# Part 3: Pokémon Data\n",
    "\n",
    "## Part 3.1: Reading in Data (5 points)\n",
    "\n",
    "On Canvas is the `pokedata.csv` file. Read this data set in, using the `Pokedex` as the index column, and print the first few rows of the data."
   ]
  },
  {
   "cell_type": "code",
   "execution_count": 42,
   "metadata": {},
   "outputs": [
    {
     "name": "stdout",
     "output_type": "stream",
     "text": [
      "            Pokemon MainType SecondaryType  Height  Weight  Damage  BaseSpeed  \\\n",
      "Pokedex                                                                         \n",
      "1         Bulbasaur    Grass        Poison      24    25.2      45         45   \n",
      "2           Ivysaur    Grass        Poison      39    28.7      60         60   \n",
      "3          Venusaur    Grass        Poison      79   220.5      80         80   \n",
      "4        Charmander     Fire           NaN      24    18.7      39         65   \n",
      "5        Charmeleon     Fire           NaN      43    41.9      58         80   \n",
      "\n",
      "         Attack  Defense  \n",
      "Pokedex                   \n",
      "1            49       49  \n",
      "2            62       63  \n",
      "3            82       83  \n",
      "4            52       43  \n",
      "5            64       58  \n"
     ]
    }
   ],
   "source": [
    "import pandas as pd\n",
    "df = pd.read_csv('pokedata.csv', index_col='Pokedex')\n",
    "print(df.head())"
   ]
  },
  {
   "cell_type": "markdown",
   "metadata": {},
   "source": [
    "## Part 3.2: More Manipulation (30 points: 10 pts each)\n",
    "\n",
    "1. Add a new column to the data set that calculates the BMI of the Pokémon. The formula for BMI using Imperial Units (such as these data contain) is = $703 \\times \\frac{Weight}{Height^2}$. Print the first few rows.\n",
    "    - Find out which Pokémon have (a) the highest BMI and (b) the lowest BMI.\n",
    "1. Create a subset of the Pokémon Data that you created in (1) which (a) includes only Pokémon that have `BaseSpeed >= 60` and (b) excludes all Pokémon with `MainType == Fire`. Make sure to save this subset as a new data frame and print the first few rows of the data.\n",
    "1. Use the `.describe()` function to produce summary statistics for the Pokémon Data from the data from (1). Create a markdown cell and explain:\n",
    "    - What Series did the `.describe()` function run on? What Series did it not run on? What is the difference, and what does this mean the `.describe()` function is used for?"
   ]
  },
  {
   "cell_type": "code",
   "execution_count": 68,
   "metadata": {},
   "outputs": [
    {
     "name": "stdout",
     "output_type": "stream",
     "text": [
      "Part 1\n",
      "            Pokemon MainType SecondaryType  Height  Weight  Damage  BaseSpeed  \\\n",
      "Pokedex                                                                         \n",
      "1         Bulbasaur    Grass        Poison      24    25.2      45         45   \n",
      "2           Ivysaur    Grass        Poison      39    28.7      60         60   \n",
      "3          Venusaur    Grass        Poison      79   220.5      80         80   \n",
      "4        Charmander     Fire           NaN      24    18.7      39         65   \n",
      "5        Charmeleon     Fire           NaN      43    41.9      58         80   \n",
      "\n",
      "         Attack  Defense        BMI  \n",
      "Pokedex                              \n",
      "1            49       49  30.756250  \n",
      "2            62       63  13.265023  \n",
      "3            82       83  24.837606  \n",
      "4            52       43  22.823090  \n",
      "5            64       58  15.930611  \n",
      "\n",
      "Pokémon with the highest BMI: Golem with a BMI of 153.707173553719 \n",
      "Pokémon with the lowest BMI: Haunter with a BMI of 0.03542454018644495\n",
      "\n",
      "Part2\n",
      "\n",
      "Subset of Pokémon Data:\n",
      "            Pokemon MainType SecondaryType  Height  Weight  Damage  BaseSpeed  \\\n",
      "Pokedex                                                                         \n",
      "2           Ivysaur    Grass        Poison      39    28.7      60         60   \n",
      "3          Venusaur    Grass        Poison      79   220.5      80         80   \n",
      "9         Blastoise    Water           NaN      63   188.5      79         78   \n",
      "12       Butterfree      Bug        Flying      43    70.5      60         70   \n",
      "15         Beedrill      Bug        Poison      39    65.0      65         75   \n",
      "\n",
      "         Attack  Defense        BMI  \n",
      "Pokedex                              \n",
      "2            62       63  13.265023  \n",
      "3            82       83  24.837606  \n",
      "9            83      100  33.387629  \n",
      "12           45       50  26.804489  \n",
      "15           90       40  30.042735  \n",
      "\n",
      "Part 3\n",
      "Summary Statistics:\n",
      "           Height       Weight      Damage   BaseSpeed      Attack  \\\n",
      "count  151.000000   151.000000  151.000000  151.000000  151.000000   \n",
      "mean    46.894040   100.766954   64.218543   68.933775   72.913907   \n",
      "std     37.880717   131.299070   28.585519   26.746880   26.755421   \n",
      "min      8.000000     0.200000   10.000000   15.000000    5.000000   \n",
      "25%     28.000000    21.800000   45.000000   46.500000   51.000000   \n",
      "50%     39.000000    66.100000   60.000000   70.000000   70.000000   \n",
      "75%     59.000000   124.250000   80.000000   90.000000   92.000000   \n",
      "max    346.000000  1014.100000  250.000000  140.000000  134.000000   \n",
      "\n",
      "          Defense         BMI  \n",
      "count  151.000000  151.000000  \n",
      "mean    68.225166   32.764506  \n",
      "std     26.916704   23.189403  \n",
      "min      5.000000    0.035425  \n",
      "25%     50.000000   20.856877  \n",
      "50%     65.000000   30.042735  \n",
      "75%     84.000000   38.245600  \n",
      "max    180.000000  153.707174  \n"
     ]
    }
   ],
   "source": [
    "print('Part 1')\n",
    "df['BMI'] = 703 * df['Weight'] / (df['Height'] ** 2)\n",
    "print(df.head())\n",
    "\n",
    "highest_bmi = df.loc[df['BMI'].idxmax()]\n",
    "lowest_bmi = df.loc[df['BMI'].idxmin()]\n",
    "\n",
    "print('')\n",
    "print(f\"Pokémon with the highest BMI: {highest_bmi['Pokemon']} with a BMI of {highest_bmi['BMI']} \")\n",
    "print(f\"Pokémon with the lowest BMI: {lowest_bmi['Pokemon']} with a BMI of {lowest_bmi['BMI']}\")\n",
    "\n",
    "print('')\n",
    "\n",
    "print('Part2')\n",
    "subset = df[(df['BaseSpeed'] >= 60) & (df['MainType'] != 'Fire')]\n",
    "\n",
    "print('')\n",
    "print(\"Subset of Pokémon Data:\")\n",
    "print(subset.head())\n",
    "\n",
    "print('')\n",
    "\n",
    "print('Part 3')\n",
    "\n",
    "summary_stats = df.describe()\n",
    "\n",
    "print(\"Summary Statistics:\")\n",
    "print(summary_stats)\n"
   ]
  },
  {
   "cell_type": "markdown",
   "metadata": {},
   "source": [
    "# .describe() Analysis\n",
    "\n",
    "When I used the .describe function, it ran on Height, Weight, Damage, BaseSpeed, Attack, Defense and BMI. In addition, the function found the count, mean, std, min , max, and the 1st, 2nd, and 3rd quartiles. The function however, did not run on the pokemon names or types because it is not included in the summary. All in all, the function calculates basic numerical statistics which can be used when doing quick data analysis on numerical data sources. It is an easy was to understand a dataset "
   ]
  }
 ],
 "metadata": {
  "kernelspec": {
   "display_name": "Python 3 (ipykernel)",
   "language": "python",
   "name": "python3"
  },
  "language_info": {
   "codemirror_mode": {
    "name": "ipython",
    "version": 3
   },
   "file_extension": ".py",
   "mimetype": "text/x-python",
   "name": "python",
   "nbconvert_exporter": "python",
   "pygments_lexer": "ipython3",
   "version": "3.11.9"
  }
 },
 "nbformat": 4,
 "nbformat_minor": 4
}
