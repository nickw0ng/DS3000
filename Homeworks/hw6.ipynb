{
 "cells": [
  {
   "cell_type": "markdown",
   "id": "2742929d",
   "metadata": {},
   "source": [
    "# DS 3000 HW 6\n",
    "\n",
    "Due: Friday July 26th @ 11:59 PM EST\n",
    "\n",
    "### Submission Instructions\n",
    "Submit this `ipynb` file to Gradescope (this can also be done via the assignment on Canvas).  To ensure that your submitted files represent your latest code, make sure to give a fresh `Kernel > Restart & Run All` just before uploading the files to gradescope.\n",
    "\n",
    "### Tips for success\n",
    "- Start early\n",
    "- Make use of Piazza\n",
    "- Make use of Office hour\n",
    "- Remember to use cells and headings to make the notebook easy to read (if a grader cannot find the answer to a problem, you will receive no points for it)\n",
    "- Under no circumstances may one student view or share their ungraded homework or quiz with another student [(see also)](http://www.northeastern.edu/osccr/academic-integrity), though you are welcome to **talk about** (not show each other) the problems."
   ]
  },
  {
   "cell_type": "markdown",
   "id": "f7d4d090",
   "metadata": {},
   "source": [
    "# Get to Know You\n",
    "\n",
    "This HW deals with a Get-to-Know-You pseudo results. Please download the `unclean_gtky.csv` file for use on this homework. **NOTE: this is not the same `cleaner_gtky.csv` that we used in class, it is a new, less clean version!**.\n",
    "\n",
    "## Pseudonymizing data\n",
    "\n",
    "It's often the case that we 'Pseudonymize' (use random fake pseudonyms instead of personally identifiable information) a dataset by storing a code which maps some sensitive information to a consistent tag.\n",
    "\n",
    "| Timestamp      | Fake Student ID | What year/class are you in? | Have you done a co-op during your time at Northeastern? | How would you rate your experience programming on a scale of 0-10, where 0 is (No Experience) and 10 is (Proficient in at least one language) | Which language(s) have you had at least some experience programming in? (Choose all that apply) | What is your age (in months)? For example, if you turned 20 in July of this year, you would be (20\\*12 + 2) = 242 months old. | What is your ideal starting salary (in thousands of USD)? (Try to be reasonable!) |\n",
    "| -------------- | --------------- | --------------------------- | ------------------------------------------------------- | --------------------------------------------------------------------------------------------------------------------------------------------- | ----------------------------------------------------------------------------------------------- | ----------------------------------------------------------------------------------------------------------------------------- | --------------------------------------------------------------------------------- |\n",
    "| 09-09-22 15:37 | 7289            | Sophomore                   | No                                                      | 9                                                                                                                                             | Python, Other(s)                                                                                | 234                                                                                                                           | 60                                                                                |\n",
    "| 09-09-22 16:01 | 36              | Sophomore                   | No                                                      | 7                                                                                                                                             | Python                                                                                          | 233                                                                                                                           | 100                                                                               |\n",
    "| 09-09-22 14:19 | 2676            | Junior                      | Yes                                                     | 7                                                                                                                                             | Python, Java, C/C++                                                                             | 252                                                                                                                           | 70                                                                                |\n",
    "| 09-09-22 16:07 | 3848            | Junior                      | No                                                      | 7                                                                                                                                             | Python, Java                                                                                    | 243                                                                                                                           | 50                                                                                |\n",
    "| 09-09-22 16:06 | 2755            | Sophomore                   | No                                                      | 5                                                                                                                                             | Python, R                                                                                       | 231                                                                                                                           | 90                                                                                |\n",
    "| 09-09-22 15:27 | 3724            | Junior                      | No                                                      | 8                                                                                                                                             | Python, Java                                                                                    | 245                                                                                                                           | 70                                                                                |\n",
    "| 09-09-22 14:16 | 9619            | Senior                      | Yes                                                     | 7                                                                                                                                             | Python                                                                                          | 258                                                                                                                           | 90                                                                                |\n",
    "| 09-09-22 16:06 | 9935            | Fifth year                  | Yes                                                     | 3                                                                                                                                             | Java, Other(s)                                                                                  | 264                                                                                                                           |                                                                                   |\n",
    "\n",
    "To protect student privacy, this data has already been pseudonymized by creating a `Fake Student ID` column with random numbers.\n",
    "\n",
    "Note that there is a difference between:\n",
    "- **pseudonymization** (changing everyone's name to a pseudonym)\n",
    "- **anonymization**  (ensuring no individual can be uniquely identified within the data)\n",
    "\n",
    "### Generating a pseudonym\n",
    "\n",
    "[Universally Unique Identifiers](https://en.wikipedia.org/wiki/Universally_unique_identifier) is a CS term for a unique name:"
   ]
  },
  {
   "cell_type": "code",
   "execution_count": 1,
   "id": "b4beb122",
   "metadata": {},
   "outputs": [
    {
     "data": {
      "text/plain": [
       "'256b8b49-da18-4a98-8dad-2f4309c02a98'"
      ]
     },
     "execution_count": 1,
     "metadata": {},
     "output_type": "execute_result"
    }
   ],
   "source": [
    "from uuid import uuid4\n",
    "\n",
    "# a good random pseudonym/alias\n",
    "str(uuid4())"
   ]
  },
  {
   "cell_type": "code",
   "execution_count": 4,
   "id": "40a1c794",
   "metadata": {},
   "outputs": [
    {
     "data": {
      "text/plain": [
       "'cb9752'"
      ]
     },
     "execution_count": 4,
     "metadata": {},
     "output_type": "execute_result"
    }
   ],
   "source": [
    "# a good enough random alias for us (doesn't need to be as long to be unique)\n",
    "str(uuid4())[:6]"
   ]
  },
  {
   "cell_type": "markdown",
   "id": "7d8c5b20",
   "metadata": {},
   "source": [
    "You can read more about the process in the [python docs for uuid4()](https://docs.python.org/3/library/uuid.html#uuid.uuid4) but its sufficient to know that there are so many unique output strings of `uuid4()` that we can assume no two calls return the same id."
   ]
  },
  {
   "cell_type": "markdown",
   "id": "0a267592",
   "metadata": {},
   "source": [
    "## Part 1: 20 points\n",
    "\n",
    "Pseudonymize `df_gtky` (again; since I already did it once) by completing the tasks below:\n",
    "\n",
    "1. Load `unclean_gtky.csv` to a DataFrame\n",
    "1. Write a `pseudonymize_col()` function which:\n",
    "    * accepts a DataFrame and the name of one of its columns\n",
    "    * returns `pseudo_map_dict`\n",
    "        - keys are the unique items observed in original column of dataframe\n",
    "        - values are the new pseudonyms\n",
    "    * operates `inplace` by modifying the input DataFrame to replacing each item in the given column with its corresponding pseudonym\n",
    "    \n",
    "Note that the pseudonymization must be consistent: all observations of a particular student ID in the original DataFrame are replaced with an identical pseudonym.\n",
    "\n",
    "1. call `pseudonymize_col()` and save the resulting `df_gtky` as `cleaner_gtky_anon.csv`\n",
    "\n",
    "[This example](https://colab.research.google.com/drive/1VdikAnXZEBx3tGxclDG-BC-psr_D_DBN?usp=sharing) may help clarify the expected behavior of `pseudonymize_col()`.\n",
    "\n",
    "Notice that we save `pseudo_map_dict` to ensure the pseudonymiazation can be undone.  What if some medical study uncovers a health problem with a participant and must contact them?  A study should be able to \"undo\" the pseudonymization to recover the original participants identity."
   ]
  },
  {
   "cell_type": "code",
   "execution_count": 5,
   "id": "f84dc9d7",
   "metadata": {},
   "outputs": [],
   "source": [
    "import pandas as pd\n",
    "\n",
    "df_gtky = pd.read_csv('unclean_gtky.csv')\n",
    "\n",
    "\n",
    "def pseudonymize_col(df, col):\n",
    "    '''\n",
    "    '''"
   ]
  },
  {
   "cell_type": "markdown",
   "id": "b4e10719",
   "metadata": {},
   "source": [
    "## Part 2: Data cleaning\n",
    "\n",
    "The dataframe, so far, looks something like (note your `Fake Student ID` column will look different because of randomness):\n",
    "\n",
    "| Timestamp      | Fake Student ID | What year/class are you in? | Have you done a co-op during your time at Northeastern? | How would you rate your experience programming on a scale of 0-10, where 0 is (No Experience) and 10 is (Proficient in at least one language) | Which language(s) have you had at least some experience programming in? (Choose all that apply) | What is your age (in months)? For example, if you turned 20 in July of this year, you would be (20\\*12 + 2) = 242 months old. | What is your ideal starting salary (in thousands of USD)? (Try to be reasonable!) |\n",
    "| -------------- | --------------- | --------------------------- | ------------------------------------------------------- | --------------------------------------------------------------------------------------------------------------------------------------------- | ----------------------------------------------------------------------------------------------- | ----------------------------------------------------------------------------------------------------------------------------- | --------------------------------------------------------------------------------- |\n",
    "| 09-09-22 15:37 | b35601          | Sophomore                   | No                                                      | 9                                                                                                                                             | Python, Other(s)                                                                                | 234                                                                                                                           | 60                                                                                |\n",
    "| 09-09-22 16:01 | ea9cad          | Sophomore                   | No                                                      | 7                                                                                                                                             | Python                                                                                          | 233                                                                                                                           | 100                                                                               |\n",
    "| 09-09-22 14:19 | 98924b          | Junior                      | Yes                                                     | 7                                                                                                                                             | Python, Java, C/C++                                                                             | 252                                                                                                                           | 70                                                                                |\n",
    "| 09-09-22 16:07 | b3a188          | Junior                      | No                                                      | 7                                                                                                                                             | Python, Java                                                                                    | 243                                                                                                                           | 50                                                                                |\n",
    "| 09-09-22 16:06 | e723a1          | Sophomore                   | No                                                      | 5                                                                                                                                             | Python, R                                                                                       | 231                                                                                                                           | 90                                                                                |\n",
    "\n",
    "There are a few data cleaning steps we need to take in order to make it more readable and easier to use. When we are done, we should have a clean data set which looks like this:\n",
    "\n",
    "|   | student\\_id | class     | co-op | prog\\_exp | age | start\\_sal | datetimestamp  | python | java  | r     | c/c++ | other(s) |\n",
    "| - | ----------- | --------- | ----- | --------- | --- | ---------- | -------------- | ------ | ----- | ----- | ----- | -------- |\n",
    "| 0 | 9bef30      | Sophomore | FALSE | 9         | 234 | 60         | 09-09-22 15:37 | TRUE   | FALSE | FALSE | FALSE | TRUE     |\n",
    "| 1 | 03447c      | Sophomore | FALSE | 7         | 233 | 100        | 09-09-22 16:01 | TRUE   | FALSE | FALSE | FALSE | FALSE    |\n",
    "| 2 | 8fe0cf      | Junior    | TRUE  | 7         | 252 | 70         | 09-09-22 14:19 | TRUE   | TRUE  | FALSE | TRUE  | FALSE    |\n",
    "| 3 | 5d8693      | Junior    | FALSE | 7         | 243 | 50         | 09-09-22 16:07 | TRUE   | TRUE  | FALSE | FALSE | FALSE    |\n",
    "| 4 | 5e28fe      | Sophomore | FALSE | 5         | 231 | 90         | 09-09-22 16:06 | TRUE   | FALSE | TRUE  | FALSE | FALSE    |"
   ]
  },
  {
   "cell_type": "markdown",
   "id": "8294fc86",
   "metadata": {},
   "source": [
    "### Part 2.1 (8 points)\n",
    "\n",
    "Rename the columns so that they are:\n",
    "- timestamp\n",
    "- student_id\n",
    "- class\n",
    "- co-op\n",
    "- prog_exp\n",
    "- lang_exp\n",
    "- age\n",
    "- start_sal"
   ]
  },
  {
   "cell_type": "code",
   "execution_count": null,
   "id": "56f5a988",
   "metadata": {},
   "outputs": [],
   "source": []
  },
  {
   "cell_type": "markdown",
   "id": "d2896d22",
   "metadata": {},
   "source": [
    "### Part 2.2.1 (5 points)\n",
    "\n",
    "The `co-op` column contains strings 'Yes' and 'No'.  `.replace()` these entries with boolens ('Yes'-> `True`, 'No' -> `False`)."
   ]
  },
  {
   "cell_type": "code",
   "execution_count": null,
   "id": "6ccb45e8",
   "metadata": {},
   "outputs": [],
   "source": []
  },
  {
   "cell_type": "markdown",
   "id": "6de66862",
   "metadata": {},
   "source": [
    "### Part 2.2.2 (5 points)\n",
    "\n",
    "The `start_sal` column contains missing values. Let's assume that those who forgot to put in an ideal starting salary would like to at least make enough to live as a single adult in Massachussetts (\\$45517 according to [this website](https://livingwage.mit.edu/states/25)). Replace all missing values in the `start_sal` column with `45.517`. Check `df_gtky.tail()` to check (as the last observation has a missing `start_sal` value)."
   ]
  },
  {
   "cell_type": "code",
   "execution_count": null,
   "id": "d20403b8",
   "metadata": {},
   "outputs": [],
   "source": []
  },
  {
   "cell_type": "markdown",
   "id": "a7d777c4",
   "metadata": {},
   "source": [
    "### Part 2.3 (15 points)\n",
    "`.map()` the `timestamp` column (containing strings) to a new `datetimestamp` column which contains `datetime` objects corresponding to the date and time given in `timestamp`.\n",
    "- for example, the string `'09-09-22 15:37'` should be mapped to `datetime(year=2022, month=9, day=9, hour=15, minute=37)`\n",
    "    - **be careful**: take a look at the `df_gtky.tail()` and notice that some of the `timestamp` strings are formatted differently. Make sure these are converted into the same type of datetime objects as the rest (i.e. remove the seconds from the ones that have them).\n",
    "- use `DataFrame.map()` with a `convert_date()` function you implement and document\n",
    "\n",
    "Be sure that your `convert_date()` function:\n",
    "- is properly documented\n",
    "    - docstring\n",
    "    - comments\n",
    "    - code \"chunking\" with whitespace\n",
    "- is tested with two `assert` statements you write\n",
    "    - you need two because there are two different formats for the date!\n",
    "    "
   ]
  },
  {
   "cell_type": "code",
   "execution_count": null,
   "id": "9c3fd37d",
   "metadata": {},
   "outputs": [],
   "source": []
  },
  {
   "cell_type": "markdown",
   "id": "c9d81df9",
   "metadata": {},
   "source": [
    "### Part 2.4 (20 points)\n",
    "\n",
    "The data encoding in columns `lang_exp` is not convenient. We would like the column:\n",
    "\n",
    "| lang_exp            |\n",
    "|---------------------|\n",
    "| Python, Other(s)    |\n",
    "| Python              |\n",
    "| Python, Java, C/C++ |\n",
    "| Python, Java        |\n",
    "| Python, R           |\n",
    "\n",
    "To be turned into five columns (`python`, `java`, `r`, `c/c++`, `other(s)`) that are all boolean values of `True` or `False` depending on if a student has any experience in that programming language:\n",
    "\n",
    "| python | java  | r     | c/c++ | other(s) |\n",
    "|--------|-------|-------|-------|----------|\n",
    "| True   | False | False | False | True     |\n",
    "| True   | False | False | False | False    |\n",
    "| True   | True  | False | True  | False    |\n",
    "| True   | True  | False | False | False    |\n",
    "| True   | False | True  | False | False    |\n",
    "\n",
    "Write two functions:\n",
    "- `clean_lang()`: which takes a single observation (string) and outputs a series with keys equal to the column names of your desired new columns, and appropriate boolean values. \n",
    "- `get_lang_df()`: which uses `.map` to create the new columns and add them to the data frame. \n",
    "\n",
    "For both of the functions you create:\n",
    "- be sure it is properly documented:\n",
    "    - docstring\n",
    "    - commenets\n",
    "    - code \"chunking\" with whitespace\n",
    "- (for at least `clean_lang()`) be sure it is properly tested\n",
    "    - `assert` a few strings as in the rows above to ensure the function(s) work\n",
    "    \n",
    "**Hint:** We did something not too dissimilar on HW 4, but note that you may want to begin by capitalizing certain letters of the keys in your dictionary; you can convert them to lowercase at the end of your `get_lang_df()` function."
   ]
  },
  {
   "cell_type": "code",
   "execution_count": null,
   "id": "72e0d13c",
   "metadata": {},
   "outputs": [],
   "source": []
  },
  {
   "cell_type": "markdown",
   "id": "ab928072",
   "metadata": {},
   "source": [
    "### Part 2.5 (10 points)\n",
    "\n",
    "Finally, \n",
    "- delete the two columns which are redundant with our cleaner format: 'timestamp' and 'lang_exp'\n",
    "    - You can delete a DataFrame column (inplace) with:\n",
    "``` python\n",
    "   del data_frame[col]\n",
    "```\n",
    "- add the five new columns\n",
    "    - You can add two DataFrame objects together using `pd.concat`:\n",
    "```python\n",
    "    new_df = pd.concat([old_df, new_cols], axis = 1)\n",
    "```\n",
    "\n",
    "Then, save this final cleaned data frame as `final_gtky.csv` **and attach it with your Gradescop submission**."
   ]
  },
  {
   "cell_type": "code",
   "execution_count": null,
   "id": "ebf84bb4",
   "metadata": {},
   "outputs": [],
   "source": []
  },
  {
   "cell_type": "markdown",
   "id": "ea3b0853",
   "metadata": {},
   "source": [
    "# Part 3: Summarize and Visualize Data\n",
    "\n",
    "With our new clean data set, let us ask some questions that we may be able to answer with some basic data summaries or plots."
   ]
  },
  {
   "cell_type": "code",
   "execution_count": 30,
   "id": "2da177b0",
   "metadata": {},
   "outputs": [
    {
     "data": {
      "text/html": [
       "<div>\n",
       "<style scoped>\n",
       "    .dataframe tbody tr th:only-of-type {\n",
       "        vertical-align: middle;\n",
       "    }\n",
       "\n",
       "    .dataframe tbody tr th {\n",
       "        vertical-align: top;\n",
       "    }\n",
       "\n",
       "    .dataframe thead th {\n",
       "        text-align: right;\n",
       "    }\n",
       "</style>\n",
       "<table border=\"1\" class=\"dataframe\">\n",
       "  <thead>\n",
       "    <tr style=\"text-align: right;\">\n",
       "      <th></th>\n",
       "      <th>student_id</th>\n",
       "      <th>class</th>\n",
       "      <th>co-op</th>\n",
       "      <th>prog_exp</th>\n",
       "      <th>age</th>\n",
       "      <th>start_sal</th>\n",
       "      <th>datetimestamp</th>\n",
       "      <th>python</th>\n",
       "      <th>java</th>\n",
       "      <th>r</th>\n",
       "      <th>c/c++</th>\n",
       "      <th>other(s)</th>\n",
       "    </tr>\n",
       "  </thead>\n",
       "  <tbody>\n",
       "    <tr>\n",
       "      <th>0</th>\n",
       "      <td>1e418b</td>\n",
       "      <td>Sophomore</td>\n",
       "      <td>False</td>\n",
       "      <td>9</td>\n",
       "      <td>234.0</td>\n",
       "      <td>60.0</td>\n",
       "      <td>2022-09-09 15:37:00</td>\n",
       "      <td>True</td>\n",
       "      <td>False</td>\n",
       "      <td>False</td>\n",
       "      <td>False</td>\n",
       "      <td>True</td>\n",
       "    </tr>\n",
       "    <tr>\n",
       "      <th>1</th>\n",
       "      <td>171e6c</td>\n",
       "      <td>Sophomore</td>\n",
       "      <td>False</td>\n",
       "      <td>7</td>\n",
       "      <td>233.0</td>\n",
       "      <td>100.0</td>\n",
       "      <td>2022-09-09 16:01:00</td>\n",
       "      <td>True</td>\n",
       "      <td>False</td>\n",
       "      <td>False</td>\n",
       "      <td>False</td>\n",
       "      <td>False</td>\n",
       "    </tr>\n",
       "    <tr>\n",
       "      <th>2</th>\n",
       "      <td>5e3f54</td>\n",
       "      <td>Junior</td>\n",
       "      <td>True</td>\n",
       "      <td>7</td>\n",
       "      <td>252.0</td>\n",
       "      <td>70.0</td>\n",
       "      <td>2022-09-09 14:19:00</td>\n",
       "      <td>True</td>\n",
       "      <td>True</td>\n",
       "      <td>False</td>\n",
       "      <td>True</td>\n",
       "      <td>False</td>\n",
       "    </tr>\n",
       "    <tr>\n",
       "      <th>3</th>\n",
       "      <td>ae665f</td>\n",
       "      <td>Junior</td>\n",
       "      <td>False</td>\n",
       "      <td>7</td>\n",
       "      <td>243.0</td>\n",
       "      <td>50.0</td>\n",
       "      <td>2022-09-09 16:07:00</td>\n",
       "      <td>True</td>\n",
       "      <td>True</td>\n",
       "      <td>False</td>\n",
       "      <td>False</td>\n",
       "      <td>False</td>\n",
       "    </tr>\n",
       "    <tr>\n",
       "      <th>4</th>\n",
       "      <td>f7402c</td>\n",
       "      <td>Sophomore</td>\n",
       "      <td>False</td>\n",
       "      <td>5</td>\n",
       "      <td>231.0</td>\n",
       "      <td>90.0</td>\n",
       "      <td>2022-09-09 16:06:00</td>\n",
       "      <td>True</td>\n",
       "      <td>False</td>\n",
       "      <td>True</td>\n",
       "      <td>False</td>\n",
       "      <td>False</td>\n",
       "    </tr>\n",
       "  </tbody>\n",
       "</table>\n",
       "</div>"
      ],
      "text/plain": [
       "  student_id      class  co-op  prog_exp    age  start_sal  \\\n",
       "0     1e418b  Sophomore  False         9  234.0       60.0   \n",
       "1     171e6c  Sophomore  False         7  233.0      100.0   \n",
       "2     5e3f54     Junior   True         7  252.0       70.0   \n",
       "3     ae665f     Junior  False         7  243.0       50.0   \n",
       "4     f7402c  Sophomore  False         5  231.0       90.0   \n",
       "\n",
       "        datetimestamp  python   java      r  c/c++  other(s)  \n",
       "0 2022-09-09 15:37:00    True  False  False  False      True  \n",
       "1 2022-09-09 16:01:00    True  False  False  False     False  \n",
       "2 2022-09-09 14:19:00    True   True  False   True     False  \n",
       "3 2022-09-09 16:07:00    True   True  False  False     False  \n",
       "4 2022-09-09 16:06:00    True  False   True  False     False  "
      ]
     },
     "execution_count": 30,
     "metadata": {},
     "output_type": "execute_result"
    }
   ],
   "source": [
    "#df_gtky.head()"
   ]
  },
  {
   "cell_type": "markdown",
   "id": "74f8cf9c",
   "metadata": {},
   "source": [
    "### Part 3.1 (12 points)\n",
    "\n",
    "Calculate and compare for `'co-op' = True` vs. `'co-op' = False`:\n",
    "    - the mean, median, and variance of `prog_exp`\n",
    "    - the mean, median, and variance of `age`\n",
    "Calculate and compare for `'python' = True` vs. `'python' = False`:\n",
    "    - the mean, median, and variance of `prog_exp`\n",
    "    - the mean, median, and variance of `age`\n",
    "\n",
    "Note that this means you are going to be calculating **eight** means, medians and variances. Keep track of which numbers represent which statistics. Then **in a markdown cell** provide *at least* 3-4 sentences discussing what conclusions you may be able to draw from these statistics."
   ]
  },
  {
   "cell_type": "code",
   "execution_count": null,
   "id": "81e9f02b",
   "metadata": {},
   "outputs": [],
   "source": []
  },
  {
   "cell_type": "markdown",
   "id": "6368056c",
   "metadata": {},
   "source": [
    "### Part 3.2 (5 points)\n",
    "\n",
    "Use matplotlib (**not plotly**) to create a scatter plot of `age` versus `prog_exp`, and color the points based on whether a student had any experience in Python. Make sure you use `sns.set()` to help the aesthetics of your plot. Do not forget labels, title, legend, and to set alpha. Under the plot, **in a markdown cell** discuss in 2-3 sentences your major takeaways from the plot.\n",
    "\n",
    "**Note:** there should definitely be something off about the plot after you make it. Discuss what the issue is, and what you would need to do to fix it."
   ]
  },
  {
   "cell_type": "code",
   "execution_count": null,
   "id": "0856dd24",
   "metadata": {},
   "outputs": [],
   "source": []
  }
 ],
 "metadata": {
  "kernelspec": {
   "display_name": "Python 3 (ipykernel)",
   "language": "python",
   "name": "python3"
  },
  "language_info": {
   "codemirror_mode": {
    "name": "ipython",
    "version": 3
   },
   "file_extension": ".py",
   "mimetype": "text/x-python",
   "name": "python",
   "nbconvert_exporter": "python",
   "pygments_lexer": "ipython3",
   "version": "3.12.4"
  }
 },
 "nbformat": 4,
 "nbformat_minor": 5
}
