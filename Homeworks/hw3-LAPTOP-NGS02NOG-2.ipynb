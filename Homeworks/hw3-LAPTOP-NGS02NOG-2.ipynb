{
 "cells": [
  {
   "cell_type": "markdown",
   "metadata": {},
   "source": [
    "# DS 3000 HW 3 \n",
    "\n",
    "Due: Monday July 15th @ 11:59 PM EST\n",
    "\n",
    "### Submission Instructions\n",
    "Submit this `ipynb` file to Gradescope (this can also be done via the assignment on Canvas).  To ensure that your submitted files represent your latest code, make sure to give a fresh `Kernel > Restart & Run All` just before uploading the files to gradescope.\n",
    "\n",
    "### Tips for success\n",
    "- Start early\n",
    "- Make use of Piazza\n",
    "- Make use of Office hour\n",
    "- Remember to use cells and headings to make the notebook easy to read (if a grader cannot find the answer to a problem, you will receive no points for it)\n",
    "- Under no circumstances may one student view or share their ungraded homework or quiz with another student [(see also)](http://www.northeastern.edu/osccr/academic-integrity), though you are welcome to **talk about** (not show each other) the problems."
   ]
  },
  {
   "cell_type": "markdown",
   "metadata": {},
   "source": [
    "# Part 1: FIFA Players (30 points)\n",
    "\n",
    "Create a plotly scatter plot which shows the mean `Overall` rating for all soccer players (rows) of a particular `Age`. Color your scatter plot per `Nationality` of the player, focusing on three countries (`England`, `Germany`, `Spain`). Download the `players_fifa23.csv` from Canvas and make sure it is in the same directory as this notebook file.\n",
    "\n",
    "Export your graph as an html file `age_ratings_nationality.html` and submit it with your completed homework `ipynb` to gradescope.\n",
    "\n",
    "Hints:\n",
    "- There may be multiple ways/approaches to accomplish this task.\n",
    "- One approach: you may use `groupby()` and boolean indexing to build these values in a loop which runs per each `Nationality`.\n",
    "- `px.scatter()` will only graph data from columns (not the index).  Some approaches may need to graph data from the index.  You can use [df.reset_index()](https://pandas.pydata.org/pandas-docs/stable/reference/api/pandas.DataFrame.reset_index.html) to make your index a new column as shown [in this example](https://colab.research.google.com/drive/1d9JDphmpSTg9NtFMyfFnMQ6RmIx6zChK?usp=sharing)\n",
    "- In some approaches you may need to pass multiple rows to [df.append()](https://pandas.pydata.org/pandas-docs/stable/reference/api/pandas.DataFrame.append.html) if need be as shown [in this example](https://colab.research.google.com/drive/1XbBHMcYq_2Q225nkKs3j06iigCQGmM4H?usp=sharing)\n",
    "- In some approaches you may need to go from \"wide\" data to \"long\" data by using [df.melt()](https://pandas.pydata.org/pandas-docs/stable/reference/api/pandas.DataFrame.melt.html) as discussed [here](https://towardsdatascience.com/reshaping-a-pandas-dataframe-long-to-wide-and-vice-versa-517c7f0995ad)\n",
    "- The first few code cells below get you started with looking at the data set."
   ]
  },
  {
   "cell_type": "code",
   "execution_count": null,
   "metadata": {},
   "outputs": [],
   "source": [
    "import warnings\n",
    "warnings.simplefilter(action='ignore', category=FutureWarning)\n",
    "\n",
    "# use pandas to read in the data\n",
    "import pandas as pd\n",
    "\n",
    "df_fifa = pd.read_csv('players_fifa23.csv', index_col = 'ID')\n",
    "df_fifa.head()\n",
    "test\n"
   ]
  },
  {
   "cell_type": "code",
   "execution_count": null,
   "metadata": {},
   "outputs": [],
   "source": []
  },
  {
   "cell_type": "markdown",
   "metadata": {},
   "source": [
    "# Part 2: Daylight through the year\n",
    "\n",
    "The remainder of the homework asks you to complete the pipeline which, given the lattitude / longitude and timezone of some cities:\n",
    "\n",
    "``` python\n",
    "loc_dict = {'Boston': (42.3601, -71.0589, 'US/Eastern'),\n",
    "            'Lusaka': (-15.3875, 28.3228, 'Africa/Lusaka'),\n",
    "            'Sydney': (-33.8688, 151.2093, 'Australia/Sydney')}\n",
    "```\n",
    "\n",
    "the keys are the `name` of the city and the values are tuples of `lat, lon, timezone_name\n",
    "\n",
    "is able to:\n",
    "- query a sunrise / sunset API\n",
    "- clean and process data (timezone management & building `datetime` objects)"
   ]
  },
  {
   "cell_type": "markdown",
   "metadata": {},
   "source": [
    "## Part 2.1: Getting Sunrise Sunset via API (20 points)\n",
    "Write the `get_sunrise_sunset()` function below so that it uses [this sunrise sunset API](https://sunrise-sunset.org/api) to produce the result in the test case:\n",
    "\n",
    "It may be helpful to know that this particular API...\n",
    "- requires no api key\n",
    "- returns about 2.5 queries per second\n",
    "- did not block me when I tried to make 100 consecutive calls as quickly as possible"
   ]
  },
  {
   "cell_type": "code",
   "execution_count": null,
   "metadata": {},
   "outputs": [],
   "source": [
    "# you will need to run pip install requests in the terminal\n",
    "# no need to install json, it is built into python\n",
    "import requests\n",
    "import json\n",
    "\n",
    "# make sure to write a good docstring! I will do this for you for the other functions in this homework, but you should practice here!\n",
    "def get_sunrise_sunset(lat, lng, date):\n",
    "    \"\"\" fetches the sunrise sunset API information on a particular date for a given latitude-longitude\n",
    "    \n",
    "    Args:\n",
    "        lat (float): latitude of interest\n",
    "        lng (float): longitude of interest\n",
    "        date (str): date of interest\n",
    "        \n",
    "    Returns:\n",
    "        gss_dict (dictionary): a dictionary that contains the API information, as well as the arguments\n",
    "    \"\"\"   \n",
    "    \n",
    "    url = f'https://api.sunrise-sunset.org/json?lat={lat}&lng={lng}&date={date}'\n",
    "    \n",
    "    return "
   ]
  },
  {
   "cell_type": "code",
   "execution_count": null,
   "metadata": {},
   "outputs": [],
   "source": [
    "sun_dict = get_sunrise_sunset(lat=42.3601, lng=-71.0589, date='2022-02-15')\n",
    "sun_dict_expected = \\\n",
    "{'results': {'sunrise': '11:38:48 AM',\n",
    "            'sunset': '10:17:50 PM',\n",
    "            'solar_noon': '4:58:19 PM',\n",
    "            'day_length': '10:39:02',\n",
    "            'civil_twilight_begin': '11:11:30 AM',\n",
    "            'civil_twilight_end': '10:45:08 PM',\n",
    "            'nautical_twilight_begin': '10:38:37 AM',\n",
    "            'nautical_twilight_end': '11:18:00 PM',\n",
    "            'astronomical_twilight_begin': '10:06:05 AM',\n",
    "            'astronomical_twilight_end': '11:50:33 PM'},\n",
    " 'status': 'OK',\n",
    " 'tzid': 'UTC',\n",
    " 'lat-lng': (42.3601, -71.0589),\n",
    " 'date': '2022-02-15'}\n",
    "\n",
    "assert sun_dict == sun_dict_expected, 'get_sunrise_sunset() error'"
   ]
  },
  {
   "cell_type": "markdown",
   "metadata": {},
   "source": [
    "## Part 2.2: (10 points)\n",
    "\n",
    "A look at the API's documentation reminds us: \n",
    "    \n",
    "    \"NOTE: All times are in UTC and summer time adjustments are not included in the returned data.\"\n",
    "    \n",
    "Complete the `change_tz()` below so that it passes the given test case. "
   ]
  },
  {
   "cell_type": "code",
   "execution_count": null,
   "metadata": {},
   "outputs": [],
   "source": [
    "import pytz\n",
    "from datetime import datetime\n",
    "\n",
    "def change_tz(dt, timezone_from, timezone_to):\n",
    "    \"\"\" converts timezone of a timezone naive datetime object\n",
    "    \n",
    "    Args:\n",
    "        dt (datetime): datetime (or time) object without timezone\n",
    "        timezone_from (str): timezone of input\n",
    "        timezone_to (str): timezone of output datetime\n",
    "        \n",
    "    Returns:\n",
    "        dt (datetime): datetime object corresponding to \n",
    "            unix_time\n",
    "    \"\"\"\n",
    "    \n",
    "    return "
   ]
  },
  {
   "cell_type": "code",
   "execution_count": null,
   "metadata": {},
   "outputs": [],
   "source": [
    "# If things work, you should not get an error in this block\n",
    "# build test case input / output\n",
    "dt_no_tz = datetime(2021, 2, 13, 9, 54, 4, 270088)\n",
    "dt_expect = datetime(2021, 2, 13, 14, 54, 4, 270088, tzinfo=pytz.timezone('GMT'))\n",
    "\n",
    "# compute actual output\n",
    "dt = change_tz(dt_no_tz, timezone_from='US/Eastern', timezone_to='GMT')\n",
    "\n",
    "assert dt == dt_expect, 'change_tz() error'"
   ]
  },
  {
   "cell_type": "markdown",
   "metadata": {},
   "source": [
    "## Part 2.3: (25 points)\n",
    "Build `clean_sun_dict()` to pass each of the two test cases below.  Note that:\n",
    "- sunrise and sunset are `time` objects which account for daylight's saving:\n",
    "    - include the date when building these objects\n",
    "    - use `change_tz()` above to cast them to the proper timezone\n",
    "    - build `time` objects by calling `datetime.time()` to discard the date of a `datetime`\n",
    "    - importing `pandas as pd` and using `pd.to_datetime` may also be helpful\n",
    "- `sunrise_hr` and `sunset_hr` are the hours since the day began in local timezone (more easily graphed)\n",
    "    - you may use `.strftime()` and `int()` to cast time objects to strings and then integers (which may be helpful) \n",
    "    \n",
    "**NOTE:** There may be more than one way to accomplish writing this function; as long as the function passes both `assert` test cases, you may continue. Just do be sure to comment and present your code as cleanly as possible."
   ]
  },
  {
   "cell_type": "code",
   "execution_count": 30,
   "metadata": {},
   "outputs": [],
   "source": [
    "from datetime import datetime, time\n",
    "import pandas as pd\n",
    "\n",
    "def clean_sun_dict(sun_dict, timezone_to):\n",
    "    \"\"\" builds pandas series and cleans output of API\n",
    "    \n",
    "    Args:\n",
    "        sun_dict (dict): dict of json (see ex below)\n",
    "        timezone_to (str): timezone of outputs (API returns\n",
    "            UTC times)\n",
    "            \n",
    "    Returns:\n",
    "        sun_series (pd.Series): all times converted to\n",
    "            time objects\n",
    "    \n",
    "    example sun_series:\n",
    "    \n",
    "    date            2021-02-13 00:00:00\n",
    "    lat-lng        (36.72016, -4.42034)\n",
    "    sunrise                    02:11:06\n",
    "    sunrise_hr                    2.185\n",
    "    sunset                     13:00:34\n",
    "    sunset_hr                   13.0094\n",
    "    dtype: object\n",
    "    \"\"\"\n",
    "    \n",
    "    return "
   ]
  },
  {
   "cell_type": "code",
   "execution_count": 31,
   "metadata": {},
   "outputs": [],
   "source": [
    "sun_dict = {'results': {'sunrise': '11:38:48 AM',\n",
    "                        'sunset': '10:17:50 PM',\n",
    "                        'solar_noon': '4:58:19 PM',\n",
    "                        'day_length': '10:39:02',\n",
    "                        'civil_twilight_begin': '11:11:30 AM',\n",
    "                        'civil_twilight_end': '10:45:08 PM',\n",
    "                        'nautical_twilight_begin': '10:38:37 AM',\n",
    "                        'nautical_twilight_end': '11:18:00 PM',\n",
    "                        'astronomical_twilight_begin': '10:06:05 AM',\n",
    "                        'astronomical_twilight_end': '11:50:33 PM'},\n",
    "             'status': 'OK',\n",
    "             'lat-lng': (42.3601, -71.0589),\n",
    "             'date': '2022-02-15'}\n",
    "\n",
    "# test without timezone conversion\n",
    "sun_series = clean_sun_dict(sun_dict, timezone_to='GMT')\n",
    "\n",
    "sun_series_exp = pd.Series(\n",
    "{'date': datetime(year=2022, month=2, day=15),\n",
    "'lat-lng': (42.3601, -71.0589),\n",
    "'sunrise': time(hour=11, minute=38, second=48),\n",
    "'sunrise_hr': 11.646666666666667,\n",
    "'sunset': time(hour=22, minute=17, second=50),\n",
    "'sunset_hr': 22.297222222222224})\n",
    "\n",
    "assert sun_series.eq(sun_series_exp).all(), 'clean_sun_dict() error (GMT)'"
   ]
  },
  {
   "cell_type": "code",
   "execution_count": 32,
   "metadata": {},
   "outputs": [],
   "source": [
    "# test with timezone conversion\n",
    "sun_series = clean_sun_dict(sun_dict, timezone_to='US/Eastern',)\n",
    "\n",
    "sun_series_exp = pd.Series(\n",
    "{'date': datetime(year=2022, month=2, day=15),\n",
    "'lat-lng': (42.3601, -71.0589),\n",
    "'sunrise': time(hour=6, minute=38, second=48),\n",
    "'sunrise_hr': 6.6466666666666665,\n",
    "'sunset': time(hour=17, minute=17, second=50),\n",
    "'sunset_hr': 17.297222222222224})\n",
    "\n",
    "assert sun_series.eq(sun_series_exp).all(), 'clean_sun_dict() error (EST)'"
   ]
  },
  {
   "cell_type": "markdown",
   "metadata": {},
   "source": [
    "## Part 2.4: (15 points)\n",
    "\n",
    "Write the `get_annual_sun_data()` function so that it produces the outputs shown below.  This function should make use of:\n",
    " - `get_sunrise_sunset()`\n",
    " - `clean_sun_dict()`\n",
    "   \n",
    "as built above."
   ]
  },
  {
   "cell_type": "markdown",
   "metadata": {},
   "source": [
    "The following snippet:\n",
    "\n",
    "```python\n",
    "loc_dict = {'Boston': (42.3601, -71.0589, 'US/Eastern'),\n",
    "            'Lusaka': (-15.3875, 28.3228, 'Africa/Lusaka'),\n",
    "            'Sydney': (-33.8688, 151.2093, 'Australia/Sydney')}\n",
    "df_annual_sun = get_annual_sun_data(loc_dict, year=2021, period_day=30)\n",
    "df_annual_sun.head(15)\n",
    "```\n",
    "\n",
    "should generate:\n",
    "\n",
    "|    |   city |       date |              lat-lng |  sunrise | sunrise_hr |   sunset | sunset_hr |\n",
    "|---:|-------:|-----------:|---------------------:|---------:|-----------:|---------:|----------:|\n",
    "|  0 | Boston | 2021-01-01 |  (42.3601, -71.0589) | 07:11:49 |   7.196944 | 16:24:12 | 16.403333 |\n",
    "|  1 | Lusaka | 2021-01-01 |  (-15.3875, 28.3228) | 05:38:33 |   5.642500 | 18:42:09 | 18.702500 |\n",
    "|  2 | Sydney | 2021-01-01 | (-33.8688, 151.2093) | 05:46:24 |   5.773333 | 20:10:53 | 20.181389 |\n",
    "|  3 | Boston | 2021-01-31 |  (42.3601, -71.0589) | 06:56:43 |   6.945278 | 16:58:42 | 16.978333 |\n",
    "|  4 | Lusaka | 2021-01-31 |  (-15.3875, 28.3228) | 05:55:43 |   5.928611 | 18:44:35 | 18.743056 |\n",
    "|  5 | Sydney | 2021-01-31 | (-33.8688, 151.2093) | 06:14:24 |   6.240000 | 20:02:42 | 20.045000 |\n",
    "|  6 | Boston | 2021-03-02 |  (42.3601, -71.0589) | 06:15:41 |   6.261389 | 17:36:50 | 17.613889 |\n",
    "|  7 | Lusaka | 2021-03-02 |  (-15.3875, 28.3228) | 06:06:23 |   6.106389 | 18:31:11 | 18.519722 |\n",
    "|  8 | Sydney | 2021-03-02 | (-33.8688, 151.2093) | 06:42:34 |   6.709444 | 19:32:04 | 19.534444 |\n",
    "|  9 | Boston | 2021-04-01 |  (42.3601, -71.0589) | 06:24:21 |   6.405833 | 19:11:35 | 19.193056 |\n",
    "| 10 | Lusaka | 2021-04-01 |  (-15.3875, 28.3228) | 06:11:08 |   6.185556 | 18:09:54 | 18.165000 |\n",
    "| 11 | Sydney | 2021-04-01 | (-33.8688, 151.2093) | 07:06:04 |   7.101111 | 18:52:05 | 18.868056 |\n",
    "| 12 | Boston | 2021-05-01 |  (42.3601, -71.0589) | 05:37:09 |   5.619167 | 19:45:25 | 19.756944 |\n",
    "| 13 | Lusaka | 2021-05-01 |  (-15.3875, 28.3228) | 06:16:13 |   6.270278 | 17:51:21 | 17.855833 |\n",
    "| 14 | Sydney | 2021-05-01 | (-33.8688, 151.2093) | 06:28:28 |   6.474444 | 17:16:05 | 17.268056 |"
   ]
  },
  {
   "cell_type": "code",
   "execution_count": 33,
   "metadata": {},
   "outputs": [],
   "source": [
    "from datetime import timedelta\n",
    "\n",
    "def get_annual_sun_data(loc_dict, year=2021, period_day=30): \n",
    "    \"\"\" pulls evenly spaced sunrise / sunsets from API over year per city\n",
    "    \n",
    "    Args:\n",
    "        loc_dict (dict): keys are cities, values are tuples of \n",
    "            (lat, lon, tz_str) where tz_str is a timezone\n",
    "            string included in pytz.all_timezones\n",
    "        year (int): year to query\n",
    "        period_day (int): how many days between data queries\n",
    "            (i.e. period_day=1 will get every day for the year)\n",
    "            \n",
    "    Returns:\n",
    "        df_annual_sun (DataFrame): each row represents a \n",
    "            sunrise / sunset datapoint, see get_sunrise_sunset()\n",
    "    \"\"\"\n",
    "    \n",
    "    return "
   ]
  },
  {
   "cell_type": "markdown",
   "metadata": {},
   "source": [
    "Once you have finished the function, you should be able to run the following codes to get the result. "
   ]
  },
  {
   "cell_type": "code",
   "execution_count": null,
   "metadata": {},
   "outputs": [],
   "source": [
    "loc_dict = {'Boston': (42.3601, -71.0589, 'US/Eastern'),\n",
    "            'Lusaka': (-15.3875, 28.3228, 'Africa/Lusaka'),\n",
    "            'Sydney': (-33.8688, 151.2093, 'Australia/Sydney')}\n",
    "\n",
    "# you may find that setting period_day to a larger value is quicker for debug\n",
    "# period_day=5 takes about a minute or so given the API does 2-3 requests / sec\n",
    "df_annual_sun = get_annual_sun_data(loc_dict, year=2021, period_day=30)"
   ]
  },
  {
   "cell_type": "code",
   "execution_count": null,
   "metadata": {},
   "outputs": [],
   "source": [
    "df_annual_sun.head(15)"
   ]
  }
 ],
 "metadata": {
  "kernelspec": {
   "display_name": "Python 3 (ipykernel)",
   "language": "python",
   "name": "python3"
  },
  "language_info": {
   "codemirror_mode": {
    "name": "ipython",
    "version": 3
   },
   "file_extension": ".py",
   "mimetype": "text/x-python",
   "name": "python",
   "nbconvert_exporter": "python",
   "pygments_lexer": "ipython3",
   "version": "3.12.4"
  }
 },
 "nbformat": 4,
 "nbformat_minor": 4
}
