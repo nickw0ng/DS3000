{
 "cells": [
  {
   "cell_type": "markdown",
   "metadata": {},
   "source": [
    "# DS 3000 HW 1 \n",
    "Due: Friday Jan 19th @ 11:59 PM EST\n",
    "\n",
    "### Submission Instructions\n",
    "Submit this `ipynb` file and the a `PDF` file included with the coding results to Gradescope (this can also be done via the assignment on Canvas).  To ensure that your submitted files represent your latest code, make sure to give a fresh `Kernel > Restart & Run All` just before uploading the files to gradescope.\n",
    "\n",
    "### Tips for success\n",
    "- Start early\n",
    "- Make use of Piazza\n",
    "- Make use of Office hour\n",
    "- Remember to use cells and headings to make the notebook easy to read (if a grader cannot find the answer to a problem, you will receive no points for it)\n",
    "- Under no circumstances may one student view or share their ungraded homework or quiz with another student [(see also)](http://www.northeastern.edu/osccr/academic-integrity), though you are welcome to **talk about** (not show each other) the problems."
   ]
  },
  {
   "cell_type": "markdown",
   "metadata": {},
   "source": [
    "## Part 1 (20 points): \n",
    "Use the markdown language below to create your own brief wikipedia-esque description of any subject of interest. \n",
    "\n",
    "Your mini-wiki page must include:\n",
    "- three headers: a title, subtitle and subsubtitle (the #, ##, ### syntax)\n",
    "- an embedded image from a web address (use an [image hosting site](https://makeawebsitehub.com/free-photo-hosting/) if you'd like to upload your own)\n",
    "- a table of size at least 3 rows x 3 columns (needn't be correct, but must make sense)\n",
    "- a list\n",
    "- a link to another website\n",
    "\n",
    "Please be brief in your text.  Aim for roughly 3 sentences total of text.  We won't grade based on content, but keep it appropriate for class.  If you make the grader smile, no extra credit will be awarded beyond the satisfaction of having made somebody's day better :)\n",
    "\n",
    "# Nicholas Wong\n",
    "\n",
    "## Computer Science Student @ Northeastern University\n",
    "\n",
    "### Mini-wiki\n",
    "\n",
    "My name is Nicholas Wong, I am a junior at Northeastern University Studying computer science with a concentration in Artificial Intelligence. I enjoy play sports, watching sports as well as playing board games. I also enjoy coding in my free time, Click here to view my projects on [Github](https://github.com/nickw0ng).\n",
    "\n",
    "### Times Table\n",
    "\n",
    "|  x | 1  |  2 |  3 |  4 |\n",
    "|---|---|---|---|---|\n",
    "|  1 |  1 |  2 | 3  |  4 |\n",
    "|  2 |  2 |  4 | 6  |  8 |\n",
    "|  3 |  3 | 6  |  9 | 12  |\n",
    "\n",
    "### Embedded Image from the Web\n",
    "[Image](https://images.pexels.com/photos/1108099/pexels-photo-1108099.jpeg)\n",
    "\n",
    "### To-Do List\n",
    "\n",
    "1. Download Python\n",
    "2. Download Anaconda\n",
    "3. Open hw1 file into Vscode\n",
    "4. Complete hw1\n",
    "5. Save hw1 file as a pdf\n",
    "6. subit hw1 on gradescope\n",
    "\n"
   ]
  },
  {
   "cell_type": "markdown",
   "metadata": {},
   "source": [
    "## Part 2.1 (25 points)\n",
    "\n",
    "In [blackjack](https://en.wikipedia.org/wiki/Blackjack), players are given two cards from a [standard deck](https://en.wikipedia.org/wiki/Standard_52-card_deck#Composition) of cards and add their values together.  Values are assigned to cards as:\n",
    "- number cards use their own value\n",
    "- Jack, Queen, King cards all have a value of 10\n",
    "- aces, **in this problem** will always have a value of 1\n",
    "\n",
    "Players may then choose to take as many cards as they'd like, one at a time, to increase the sum of their hand's value.  The goal is to produce a value as high as possible without exceeding 21.  When a player's hand sum increases beyond 21 they are said to 'bust' and they lose the game.\n",
    "\n",
    "The key to playing well is knowing when to stop taking cards.  We'll explore this issue by writing a program to have the computer play many hands of blackjack and count how often they bust."
   ]
  },
  {
   "cell_type": "markdown",
   "metadata": {},
   "source": [
    "Examine the function `draw_value()` below which accepts no inputs and returns the value of some card drawn from a standard deck of cards.  Pay attention to what `random.choices()`, and its `weights` parameter are doing here, as they **may not be used correctly, and you may have to correct them**.\n",
    "\n",
    "\n",
    "Assume that you can use this function to simulate playing blackjack. This would mean you draw cards with replacement, so that its possible to draw the same card many times.  (In practice, this isn't far from the truth as real casinos often draw from a pile of cards containing multiple, shuffled decks to mitigate the effectiveness of [card counting](https://en.wikipedia.org/wiki/Card_counting))."
   ]
  },
  {
   "cell_type": "code",
   "execution_count": 2,
   "metadata": {},
   "outputs": [
    {
     "name": "stdout",
     "output_type": "stream",
     "text": [
      "defaultdict(<class 'int'>, {9: 3997, 3: 3964, 6: 4002, 10: 16073, 8: 4050, 2: 3963, 1: 3866, 4: 4040, 5: 4039, 7: 4006})\n",
      "The result show that draw_value() works because the results atfer running it 52000 times show that the card is directly porportional to the weight given in the funciton\n"
     ]
    }
   ],
   "source": [
    "# first import the random module to use choices\n",
    "import random\n",
    "from collections import defaultdict\n",
    "\n",
    "# create the function\n",
    "def draw_value():\n",
    "    '''draws a single card value\n",
    "    \n",
    "    Args:\n",
    "        none\n",
    "        \n",
    "    Returns:\n",
    "        draw (int): choices(values, weights) #the weights are the number of each amount of values in a deck\n",
    "    '''\n",
    "    values = [1,2,3,4,5,6,7,8,9,10,10,10,10] # include 10 for J, Q, K\n",
    "    weights = [4,4,4,4,4,4,4,4,4,4,4,4,4]\n",
    "    \n",
    "    draw = random.choices(values, weights=weights)[0]\n",
    "\n",
    "    return draw\n",
    "\n",
    "card_count = defaultdict(int)\n",
    "\n",
    "for idx in range(52000):\n",
    "    card = draw_value()\n",
    "    card_count[card] += 1\n",
    "    \n",
    "\n",
    "print(card_count)\n",
    "\n",
    "print('The result show that draw_value() works because the results atfer running it 52000 times show that the card is directly porportional to the weight given in the funciton')\n",
    "\n"
   ]
  },
  {
   "cell_type": "markdown",
   "metadata": {},
   "source": [
    "Its challenging to test a function which returns a random value, by design it gives different values!  If we sample many cards from `draw_value()`, we'd expect to see that the total number of cards drawn are distributed, roughly, to our expectation.\n",
    "\n",
    "- First, correct the issue(s) with the `draw_value()` function from the first part of this problem (5 points)\n",
    "- Sample 52000 values from `draw_value()` (10 points)\n",
    "- record how many times you observe each card in a `defaultdict` named `card_count` (5 points)\n",
    "- print `card_count` (2 points)\n",
    "- write one sentence which explains why your results validate that `draw_value()` works (3 points)"
   ]
  },
  {
   "cell_type": "markdown",
   "metadata": {},
   "source": [
    "## Part 2.2 (25 pts)\n",
    "\n",
    "One of the big questions facing blackjack players is, \"Given that my hand already has a value of X, what's the probability that the next card will bust my hand?\".  For every starting hand, we'll estimate this probability by simulating how often a hand goes bust on the next card among many randomly drawn hands.\n",
    "\n",
    "Note: Please make sure the docstring and/or comments are given in proper format\n",
    "and variable names are informative and in proper style. \n",
    "\n",
    "- initialize `bust_given_start` as a defaultdict\n",
    "    - keys are the starting hands\n",
    "    - values will count how many hands went bust\n",
    "    - e.g. `bust_given_start = {19: 100, 15: 42}` indicates that, among all the simulations:\n",
    "        - 100 hands starting at 19 went bust\n",
    "        - 42 hands starting at 15 went bust\n",
    "- for every `start_hand` from 2 to 20:\n",
    "    - draw a single card via `draw_value()`\n",
    "    - record the hand as a bust if the `start_hand` + `card_val` exceeds 21\n",
    "    - repeat the above two steps so that you simulate 10,000 total hands\n",
    "- divide all the values in `bust_given_start` by 10,000\n",
    "    - this normalization allows us to interpret the values of the dictionary as probabilities of going bust\n",
    "- print `bust_given_start` so it may be observed\n",
    "    - print in increasing order of `start_hand`\n",
    "    - Notice that even though we tested `start_hand<=11` many times, none of them appear in `bust_given_start` (no need to change this)\n",
    "        - Explain why in one or two complete sentences\n",
    "    "
   ]
  },
  {
   "cell_type": "code",
   "execution_count": 5,
   "metadata": {},
   "outputs": [
    {
     "name": "stdout",
     "output_type": "stream",
     "text": [
      "defaultdict(<class 'int'>, {12: 0.2943, 13: 0.3877, 14: 0.4614, 15: 0.535, 16: 0.6135, 17: 0.7009, 18: 0.7678, 19: 0.8485, 20: 0.9278})\n",
      "When printing bust_given_start, there is no value less than 12 because it is impossible to bust after drawing a card with a starting hand of less than 12. For instance, the largest value of a card you can draw is 11 so if you draw a card with the maximum value you would be at 21 which means you did not bust. \n"
     ]
    }
   ],
   "source": [
    "import random\n",
    "from collections import defaultdict\n",
    "\n",
    "#initialize\n",
    "bust_given_start = defaultdict(int)\n",
    "\n",
    "times = 10000\n",
    "\n",
    "for start_hand in range(2, 21):\n",
    "    for _ in range(times):\n",
    "        card_val = draw_value()\n",
    "        if start_hand + card_val > 21:\n",
    "            bust_given_start[start_hand] += 1\n",
    "\n",
    "for hand in bust_given_start:\n",
    "    bust_given_start[hand] /= times\n",
    "\n",
    "'''\n",
    "#create start_hand\n",
    "start_hand = range(2,21)\n",
    "\n",
    "\n",
    "for player_hand in start_hand:\n",
    "    times_bust = 0\n",
    "    for i in range(10000):\n",
    "        card_val = draw_value()\n",
    "        if player_hand + card_val >= 21:\n",
    "            times_bust += 1 \n",
    "    bust_given_start[start_hand] = times_bust\n",
    "'''\n",
    "\n",
    "print(bust_given_start)\n",
    "print('When printing bust_given_start, there is no value less than 12 because it is impossible to bust after drawing a card with a starting hand of less than 12. For instance, the largest value of a card you can draw is 11 so if you draw a card with the maximum value you would be at 21 which means you did not bust. ')"
   ]
  },
  {
   "cell_type": "markdown",
   "metadata": {},
   "source": [
    "## Part 3 (30 pts)\n",
    "\n",
    "You are tasked with creating a program that calculates the final grade of a student based on their scores in different subjects. The program should follow these rules:\n",
    "\n",
    "- Ask the user for the student's name.(2 points)\n",
    "- Ask the user for the number of subjects the student has taken. (2 points)\n",
    "- For each subject, ask the user to input the subject name and the student's score (out of 100). (10 points)\n",
    "- Calculate the average score for all subjects. (3 points)\n",
    "- Based on the average score, assign a letter grade to the student using the following grading scale: (10 points)\n",
    "    - A: 90-100\n",
    "    - B: 80-89\n",
    "    - C: 70-79\n",
    "    - D: 60-69\n",
    "    - F: 0-59\n",
    "- Display the student's name, average score, and letter grade. (3 points)"
   ]
  },
  {
   "cell_type": "code",
   "execution_count": 6,
   "metadata": {},
   "outputs": [
    {
     "name": "stdout",
     "output_type": "stream",
     "text": [
      "Student Name: nick\n",
      "Average Score: 92.5\n",
      "Letter Grade: A\n"
     ]
    }
   ],
   "source": [
    "student_name = input('What is your name')\n",
    "number_subjects = int(input('How many subjects have you taken?'))\n",
    "\n",
    "subjects = {}\n",
    "\n",
    "for i in range(number_subjects):\n",
    "    subject_name = input(\"What is the name of the subject: \")\n",
    "    subject_score = float(input(\"What is your score in {subject_name} (out of 100): \"))\n",
    "    subjects[subject_name] = subject_score\n",
    "    \n",
    "total_score = sum(subjects.values())\n",
    "average_score = total_score / len(subjects)\n",
    "\n",
    "if 90 <= average_score <= 100:\n",
    "    letter_grade = 'A'\n",
    "elif 80 <= average_score < 90:\n",
    "    letter_grade = 'B'\n",
    "elif 70 <= average_score < 80:\n",
    "    letter_grade = 'C'\n",
    "elif 60 <= average_score < 70:\n",
    "    letter_grade = 'D'\n",
    "else:\n",
    "    letter_grade = 'F'\n",
    "\n",
    "\n",
    "print(\"Student Name:\", student_name)\n",
    "print(\"Average Score:\", average_score)\n",
    "print(\"Letter Grade:\", letter_grade)\n"
   ]
  }
 ],
 "metadata": {
  "kernelspec": {
   "display_name": "Python 3 (ipykernel)",
   "language": "python",
   "name": "python3"
  },
  "language_info": {
   "codemirror_mode": {
    "name": "ipython",
    "version": 3
   },
   "file_extension": ".py",
   "mimetype": "text/x-python",
   "name": "python",
   "nbconvert_exporter": "python",
   "pygments_lexer": "ipython3",
   "version": "3.11.9"
  }
 },
 "nbformat": 4,
 "nbformat_minor": 4
}
