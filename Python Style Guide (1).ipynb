{
 "cells": [
  {
   "cell_type": "markdown",
   "id": "3a8996c8",
   "metadata": {},
   "source": [
    "# Python Style Guide\n",
    "\n",
    "Documentation is even more valuable in Data Science as compared to CS in general as your jupyter notebook is expected to be a self-guided presentation of your analysis. Don’t forget, it’s not sufficient to have a strong analysis, you must also be persuasive!\n",
    "\n",
    "Python comes with its own style recommendations [PEP 8](https://www.python.org/dev/peps/pep-0008/), we prune down this guide to those relevant themes for the course. It’s also influenced by [google’s style guide](https://sphinxcontrib-napoleon.readthedocs.io/en/latest/example_google.html).\n",
    "\n",
    "### Warning\n",
    "\n",
    "Deviations from following the format in this guide may yield penalties on any submitted Python code.\n"
   ]
  },
  {
   "cell_type": "markdown",
   "id": "54df14d7",
   "metadata": {},
   "source": [
    "# Functions and Variable Names\n",
    "\n",
    "Function and variables names should be all lowercase. Separate distinct words with underscores to improve readability. Use brief, simple language to name the variables. The names of the variables are themselves documentation. Pro tip: give corresponding variables names of identical length for extra readability:"
   ]
  },
  {
   "cell_type": "markdown",
   "id": "d8547026",
   "metadata": {},
   "source": [
    "```python\n",
    "# poor form\n",
    "FirstGuysScoreInTooLongVariableName += 1\n",
    "y += 1\n",
    "\n",
    "# same functionality, but documented properly:\n",
    "score_player0 += 1\n",
    "score_player1 += 1\n",
    "```"
   ]
  },
  {
   "cell_type": "markdown",
   "id": "dea67848",
   "metadata": {},
   "source": [
    "# Function Docstrings\n",
    "\n",
    "Your functions should contain a single line (typically less than 79 chars wide, though we won’t be counting for this course) which describes what the function does. Additionally, include the name, expected type (and shape for arrays) of all inputs/outputs as shown below:"
   ]
  },
  {
   "cell_type": "markdown",
   "id": "a4b4ce11",
   "metadata": {},
   "source": [
    "```python\n",
    "def get_gcd(x, y):\n",
    "    \"\"\" computes the greatest common divisor of two ints\n",
    "    Args:\n",
    "        x (int): input integer\n",
    "        y (int): input integer\n",
    "\n",
    "    Returns:\n",
    "        gcd (int): gcd of x, y\n",
    "    \"\"\"\n",
    "```"
   ]
  },
  {
   "cell_type": "markdown",
   "id": "151a5d6e",
   "metadata": {},
   "source": [
    "# Comments and whitespace (within Python code)\n",
    "\n",
    "Separate your code into “chunks” which perform similar functions separated by a line of whitespace between them. Label each chunk with a short message which describes its function. The ideal comment tells a reader what they need to know but would not have understood from reading the code chunk itself and (if you still have space) serves as an introduction to prime their understanding for the following few lines. Add a few comments to describe important variables along the way too.\n",
    "\n",
    "Consider the following function. Taken out of context, we expect reader’s to have a tough time understanding why it does what it does but the chunking and comments (hopefully) help provide an easy on-ramp for reader’s to begin learning about it. Notice how critical the documentation becomes when you’re tossed into this function without proper context:"
   ]
  },
  {
   "cell_type": "markdown",
   "id": "0c9c62a0",
   "metadata": {},
   "source": [
    "```python\n",
    "def snip_trial(df_mode, trial_len, feat_list, start_stamp=None, start_idx=None):\n",
    "   \"\"\" extracts a single trial from a dataframe\n",
    "\n",
    "   Args:\n",
    "       df_mode (pd.DataFrame): dataframe, contains timestamp and trial data\n",
    "       trial_len (int): number of samples in trial\n",
    "       feat_list (list): columns of dataframe which make up trial data\n",
    "       start_stamp (float): timestamp @ start of trial (inclusive)\n",
    "       start_idx (int): index of start of trial (inclusive) in df_mode\n",
    "\n",
    "   Returns:\n",
    "       trial (np.array): (trial_len, len(feat_list)) trial data\n",
    "   \"\"\"\n",
    "   # check that only start_stamp xor start_idx is passed\n",
    "   assert (start_stamp is None) != (start_idx is None)\n",
    "\n",
    "   # get start_idx from start_stamp\n",
    "   if start_idx is None:\n",
    "       timestamp = df_mode['timestamp'].to_numpy()\n",
    "       start_idx = np.searchsorted(timestamp, v=start_stamp, side='left')\n",
    "   assert start_idx.size == 1, 'non unique start'\n",
    "\n",
    "   # extract trial (in time)\n",
    "   stop_idx = int(start_idx + trial_len)\n",
    "   trial = df_mode.iloc[start_idx: stop_idx, :]\n",
    "\n",
    "   # extract trial (just relevant features) and cast to array\n",
    "   trial = trial.loc[:, feat_list].to_numpy()\n",
    "\n",
    "   # check that trial has proper shape\n",
    "   if trial.shape[0] != trial_len:\n",
    "       raise IOError('data stream ends before trial')\n",
    "\n",
    "   return trial\n",
    "```"
   ]
  },
  {
   "cell_type": "markdown",
   "id": "4310a006",
   "metadata": {},
   "source": [
    "# Jupyter Notebook Style Notes\n",
    "\n",
    "- Your Jupyter Notebook should be shared empty or with results which are consistent with a fresh “Kernel -> Restart & Run All Cells”. To do otherwise is clumsy and could be considered misleading in professional contexts.\n",
    "- Use cells to chunk your program into pieces which perform a similar function.\n",
    "- Suppress all output which you do not want to draw the reader’s attention to. (A semicolon on the last line will prevent the Out[] block from appearing).\n",
    "- Markdown provides you a chance to talk to your reader as they move through your analysis. Use it. Having clear language (and crisp visuals) goes a long way towards teaching the reader just what you’ve accomplished. Be as clear and brief as possible."
   ]
  },
  {
   "cell_type": "markdown",
   "id": "52204a6f",
   "metadata": {},
   "source": [
    "# Odds and ends\n",
    "\n",
    "- Only use one import per line:\n",
    "\n",
    "```python\n",
    "import numpy as np\n",
    "import sklearn as skl\n",
    "```\n",
    "\n",
    "- Use single or double quotes for all strings, but don’t mix them in the same file:\n",
    "\n",
    "```python\n",
    "# preferred (if used consistently throughout)\n",
    "String0 = 'this is how Prof Higger does it'\n",
    "\n",
    "# acceptable (if used consistently throughout code)\n",
    "String1 = \"I feel like such a rebel\"\n",
    "\n",
    "# don't mix and match\n",
    "String2 = 'sometimes you feel like a nut'\n",
    "String3 = \"sometimes you dont\"\n",
    "```"
   ]
  },
  {
   "cell_type": "code",
   "execution_count": null,
   "id": "7ec6180c",
   "metadata": {},
   "outputs": [],
   "source": []
  }
 ],
 "metadata": {
  "kernelspec": {
   "display_name": "Python 3 (ipykernel)",
   "language": "python",
   "name": "python3"
  },
  "language_info": {
   "codemirror_mode": {
    "name": "ipython",
    "version": 3
   },
   "file_extension": ".py",
   "mimetype": "text/x-python",
   "name": "python",
   "nbconvert_exporter": "python",
   "pygments_lexer": "ipython3",
   "version": "3.10.2"
  }
 },
 "nbformat": 4,
 "nbformat_minor": 5
}
