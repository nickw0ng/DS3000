{
 "cells": [
  {
   "cell_type": "code",
   "execution_count": 23,
   "metadata": {},
   "outputs": [],
   "source": [
    "import random\n",
    "\n",
    "def magic_8_ball(question, shakes):\n",
    " \n",
    "    possible_answers = [\n",
    "        \"Yes\",\n",
    "        \"Maybe not \",\n",
    "        \"Not sure\",\n",
    "        \"I'm busy right now, try again in 5 minutes\",\n",
    "        \"Not the best idea\",\n",
    "        \"No\",\n",
    "        \"100%\",\n",
    "        \"0%\"\n",
    "    ]\n",
    "    \n",
    "    ball_answer = random.choices(possible_answers)\n",
    " \n",
    "    print(f\"{question}\")\n",
    "    print(f\"After {shakes} shakes the magic 8 ball says: {ball_answer[-1]}\")\n",
    "    \n"
   ]
  },
  {
   "cell_type": "code",
   "execution_count": 1,
   "metadata": {},
   "outputs": [
    {
     "name": "stdout",
     "output_type": "stream",
     "text": [
      "Correlation between alcohol and ins_premium: -0.1706119736858755\n",
      "Because the correlation coefficient is -0.1706, means there is a weak negative correlation. In other words, the dataset suggets a weak link of between alcohol and insurance premium so another factor could make the correlation stronger \n"
     ]
    }
   ],
   "source": [
    "import seaborn as sns\n",
    "\n",
    "\n",
    "df_crash = sns.load_dataset('car_crashes')\n",
    "'''\n",
    "print(df_crash.head(6))\n",
    "\n",
    "df_selected_columns = df_crash[['total', 'ins_premium', 'ins_losses', 'abbrev']]\n",
    "\n",
    "print(df_selected_columns) \n",
    "df_ins_premium = df_crash[df_crash['ins_premium'] >= 1000]\n",
    "\n",
    "print(df_ins_premium)\n",
    "\n",
    "average_speed = df_crash['speeding'].mean()\n",
    "\n",
    "df_speed = df_crash[df_crash['speeding'] > average_speed]\n",
    "\n",
    "print(df_speed)\n",
    "\n",
    "\n",
    "numerical_columns = df_crash.drop(columns=['abbrev'])\n",
    "                                           \n",
    "medians = numerical_columns.median()\n",
    "\n",
    "print(medians)'''\n",
    "\n",
    "correlation = df_crash['alcohol'].corr(df_crash['ins_premium'])\n",
    "\n",
    "\n",
    "print(f\"Correlation between alcohol and ins_premium: {correlation}\")\n",
    "print('Because the correlation coefficient is -0.1706, means there is a weak negative correlation. In other words, the dataset suggets a weak link of between alcohol and insurance premium so another factor could make the correlation stronger ')\n"
   ]
  }
 ],
 "metadata": {
  "kernelspec": {
   "display_name": "Python 3",
   "language": "python",
   "name": "python3"
  },
  "language_info": {
   "codemirror_mode": {
    "name": "ipython",
    "version": 3
   },
   "file_extension": ".py",
   "mimetype": "text/x-python",
   "name": "python",
   "nbconvert_exporter": "python",
   "pygments_lexer": "ipython3",
   "version": "3.12.4"
  }
 },
 "nbformat": 4,
 "nbformat_minor": 2
}
